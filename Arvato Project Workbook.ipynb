{
 "cells": [
  {
   "cell_type": "markdown",
   "metadata": {},
   "source": [
    "# Project Overview: Create a Customer Segmentation Report for Arvato Financial Services\n",
    "\n",
    "This project will analyze demographics data for customers of a mail-order sales company in Germany, comparing it against demographics information for the general population. Unsupervised learning techniques will be used to perform customer segmentation, identifying the parts of the population that best describe the core customer base of the company. What was learned in the previous steps will be applied on a third dataset with demographics information for targets of a marketing campaign for the company. In the last step a machine learning model will predict which individuals are most likely to convert into becoming customers for the company. The data for this project has been provided by Bertelsmann Arvato Analytics, and represents a real-life data science task."
   ]
  },
  {
   "cell_type": "code",
   "execution_count": 1,
   "metadata": {},
   "outputs": [],
   "source": [
    "# import libraries here; add more as necessary\n",
    "import numpy as np\n",
    "import pandas as pd\n",
    "import matplotlib.pyplot as plt\n",
    "import seaborn as sns\n",
    "import os\n",
    "import pickle\n",
    "from sklearn.cluster import KMeans\n",
    "import ast\n",
    "from sklearn.decomposition import PCA\n",
    "from sklearn.preprocessing import StandardScaler\n",
    "from sklearn.model_selection import GridSearchCV\n",
    "from sklearn.linear_model import LogisticRegression\n",
    "from sklearn.ensemble import RandomForestClassifier\n",
    "from sklearn.ensemble import AdaBoostClassifier\n",
    "from sklearn.ensemble import GradientBoostingClassifier\n",
    "from sklearn.ensemble import BaggingClassifier\n",
    "from sklearn.pipeline import Pipeline\n",
    "\n",
    "# magic word for producing visualizations in notebook\n",
    "%matplotlib inline"
   ]
  },
  {
   "cell_type": "markdown",
   "metadata": {},
   "source": [
    "## Getting to Know the Data\n",
    "\n",
    "There are four data files associated with this project:\n",
    "\n",
    "- `Udacity_AZDIAS_052018.csv`: Demographics data for the general population of Germany; 891 211 persons (rows) x 366 features (columns).\n",
    "- `Udacity_CUSTOMERS_052018.csv`: Demographics data for customers of a mail-order company; 191 652 persons (rows) x 369 features (columns).\n",
    "- `Udacity_MAILOUT_052018_TRAIN.csv`: Demographics data for individuals who were targets of a marketing campaign; 42 982 persons (rows) x 367 (columns).\n",
    "- `Udacity_MAILOUT_052018_TEST.csv`: Demographics data for individuals who were targets of a marketing campaign; 42 833 persons (rows) x 366 (columns).\n",
    "\n",
    "Each row of the demographics files represents a single person, but also includes information outside of individuals, including information about their household, building, and neighborhood. Information from the first two files will be used to figure out how customers (\"CUSTOMERS\") are similar to or differ from the general population at large (\"AZDIAS\"), then in the analysis predictions will be made on the other two files (\"MAILOUT\"), predicting which recipients are most likely to become a customer for the mail-order company.\n",
    "\n",
    "The \"CUSTOMERS\" file contains three extra columns ('CUSTOMER_GROUP', 'ONLINE_PURCHASE', and 'PRODUCT_GROUP'), which provide broad information about the customers depicted in the file. The original \"MAILOUT\" file included one additional column, \"RESPONSE\", which indicated whether or not each recipient became a customer of the company. For the \"TRAIN\" subset, this column has been retained, but in the \"TEST\" subset it has been removed; it is against that withheld column that your final predictions will be assessed in the Kaggle competition.\n",
    "\n",
    "Otherwise, all of the remaining columns are the same between the three data files. For more information about the columns depicted in the files, you can refer to two Excel spreadsheets provided in the workspace. [One of them](./DIAS Information Levels - Attributes 2017.xlsx) is a top-level list of attributes and descriptions, organized by informational category. [The other](./DIAS Attributes - Values 2017.xlsx) is a detailed mapping of data values for each feature in alphabetical order.\n",
    "\n",
    "Note for all of the `.csv` data files in this project that they're semicolon (`;`) delimited, so an additional argument in the [`read_csv()`](https://pandas.pydata.org/pandas-docs/stable/generated/pandas.read_csv.html) call has been included to read in the data properly. Also, considering the size of the datasets, it may take some time for them to load completely."
   ]
  },
  {
   "cell_type": "code",
   "execution_count": 2,
   "metadata": {},
   "outputs": [
    {
     "name": "stderr",
     "output_type": "stream",
     "text": [
      "/opt/conda/lib/python3.6/site-packages/IPython/core/interactiveshell.py:2785: DtypeWarning: Columns (18,19) have mixed types. Specify dtype option on import or set low_memory=False.\n",
      "  interactivity=interactivity, compiler=compiler, result=result)\n"
     ]
    }
   ],
   "source": [
    "# load in the data\n",
    "azdias = pd.read_csv('../../data/Term2/capstone/arvato_data/Udacity_AZDIAS_052018.csv', sep=';')"
   ]
  },
  {
   "cell_type": "code",
   "execution_count": 3,
   "metadata": {},
   "outputs": [
    {
     "name": "stderr",
     "output_type": "stream",
     "text": [
      "/opt/conda/lib/python3.6/site-packages/IPython/core/interactiveshell.py:2785: DtypeWarning: Columns (18,19) have mixed types. Specify dtype option on import or set low_memory=False.\n",
      "  interactivity=interactivity, compiler=compiler, result=result)\n"
     ]
    }
   ],
   "source": [
    "customers = pd.read_csv('../../data/Term2/capstone/arvato_data/Udacity_CUSTOMERS_052018.csv', sep=';')"
   ]
  },
  {
   "cell_type": "code",
   "execution_count": 2,
   "metadata": {},
   "outputs": [
    {
     "name": "stderr",
     "output_type": "stream",
     "text": [
      "/opt/conda/lib/python3.6/site-packages/IPython/core/interactiveshell.py:2785: DtypeWarning: Columns (18,19) have mixed types. Specify dtype option on import or set low_memory=False.\n",
      "  interactivity=interactivity, compiler=compiler, result=result)\n"
     ]
    }
   ],
   "source": [
    "train = pd.read_csv('../../data/Term2/capstone/arvato_data/Udacity_MAILOUT_052018_TRAIN.csv', sep=';')\n",
    "test = pd.read_csv('../../data/Term2/capstone/arvato_data/Udacity_MAILOUT_052018_TEST.csv', sep=';')"
   ]
  },
  {
   "cell_type": "code",
   "execution_count": 2,
   "metadata": {},
   "outputs": [],
   "source": [
    "feature_values = pd.read_excel('/home/workspace/DIAS Attributes - Values 2017.xlsx', header = 1, usecols = [1,2,3,4]).fillna(method = 'ffill')"
   ]
  },
  {
   "cell_type": "code",
   "execution_count": 3,
   "metadata": {},
   "outputs": [],
   "source": [
    "feature_attributes = pd.read_excel('/home/workspace/DIAS Information Levels - Attributes 2017.xlsx', header = 1, usecols = [1,2,3,4]).fillna(method = 'ffill')"
   ]
  },
  {
   "cell_type": "markdown",
   "metadata": {},
   "source": [
    "Take a look at the data sets to see what they reveal."
   ]
  },
  {
   "cell_type": "code",
   "execution_count": 10,
   "metadata": {},
   "outputs": [
    {
     "data": {
      "text/html": [
       "<div>\n",
       "<style scoped>\n",
       "    .dataframe tbody tr th:only-of-type {\n",
       "        vertical-align: middle;\n",
       "    }\n",
       "\n",
       "    .dataframe tbody tr th {\n",
       "        vertical-align: top;\n",
       "    }\n",
       "\n",
       "    .dataframe thead th {\n",
       "        text-align: right;\n",
       "    }\n",
       "</style>\n",
       "<table border=\"1\" class=\"dataframe\">\n",
       "  <thead>\n",
       "    <tr style=\"text-align: right;\">\n",
       "      <th></th>\n",
       "      <th>LNR</th>\n",
       "      <th>AGER_TYP</th>\n",
       "      <th>AKT_DAT_KL</th>\n",
       "      <th>ALTER_HH</th>\n",
       "      <th>ALTER_KIND1</th>\n",
       "      <th>ALTER_KIND2</th>\n",
       "      <th>ALTER_KIND3</th>\n",
       "      <th>ALTER_KIND4</th>\n",
       "      <th>ALTERSKATEGORIE_FEIN</th>\n",
       "      <th>ANZ_HAUSHALTE_AKTIV</th>\n",
       "      <th>...</th>\n",
       "      <th>VHN</th>\n",
       "      <th>VK_DHT4A</th>\n",
       "      <th>VK_DISTANZ</th>\n",
       "      <th>VK_ZG11</th>\n",
       "      <th>W_KEIT_KIND_HH</th>\n",
       "      <th>WOHNDAUER_2008</th>\n",
       "      <th>WOHNLAGE</th>\n",
       "      <th>ZABEOTYP</th>\n",
       "      <th>ANREDE_KZ</th>\n",
       "      <th>ALTERSKATEGORIE_GROB</th>\n",
       "    </tr>\n",
       "  </thead>\n",
       "  <tbody>\n",
       "    <tr>\n",
       "      <th>0</th>\n",
       "      <td>910215</td>\n",
       "      <td>-1</td>\n",
       "      <td>NaN</td>\n",
       "      <td>NaN</td>\n",
       "      <td>NaN</td>\n",
       "      <td>NaN</td>\n",
       "      <td>NaN</td>\n",
       "      <td>NaN</td>\n",
       "      <td>NaN</td>\n",
       "      <td>NaN</td>\n",
       "      <td>...</td>\n",
       "      <td>NaN</td>\n",
       "      <td>NaN</td>\n",
       "      <td>NaN</td>\n",
       "      <td>NaN</td>\n",
       "      <td>NaN</td>\n",
       "      <td>NaN</td>\n",
       "      <td>NaN</td>\n",
       "      <td>3</td>\n",
       "      <td>1</td>\n",
       "      <td>2</td>\n",
       "    </tr>\n",
       "    <tr>\n",
       "      <th>1</th>\n",
       "      <td>910220</td>\n",
       "      <td>-1</td>\n",
       "      <td>9.0</td>\n",
       "      <td>0.0</td>\n",
       "      <td>NaN</td>\n",
       "      <td>NaN</td>\n",
       "      <td>NaN</td>\n",
       "      <td>NaN</td>\n",
       "      <td>21.0</td>\n",
       "      <td>11.0</td>\n",
       "      <td>...</td>\n",
       "      <td>4.0</td>\n",
       "      <td>8.0</td>\n",
       "      <td>11.0</td>\n",
       "      <td>10.0</td>\n",
       "      <td>3.0</td>\n",
       "      <td>9.0</td>\n",
       "      <td>4.0</td>\n",
       "      <td>5</td>\n",
       "      <td>2</td>\n",
       "      <td>1</td>\n",
       "    </tr>\n",
       "    <tr>\n",
       "      <th>2</th>\n",
       "      <td>910225</td>\n",
       "      <td>-1</td>\n",
       "      <td>9.0</td>\n",
       "      <td>17.0</td>\n",
       "      <td>NaN</td>\n",
       "      <td>NaN</td>\n",
       "      <td>NaN</td>\n",
       "      <td>NaN</td>\n",
       "      <td>17.0</td>\n",
       "      <td>10.0</td>\n",
       "      <td>...</td>\n",
       "      <td>2.0</td>\n",
       "      <td>9.0</td>\n",
       "      <td>9.0</td>\n",
       "      <td>6.0</td>\n",
       "      <td>3.0</td>\n",
       "      <td>9.0</td>\n",
       "      <td>2.0</td>\n",
       "      <td>5</td>\n",
       "      <td>2</td>\n",
       "      <td>3</td>\n",
       "    </tr>\n",
       "    <tr>\n",
       "      <th>3</th>\n",
       "      <td>910226</td>\n",
       "      <td>2</td>\n",
       "      <td>1.0</td>\n",
       "      <td>13.0</td>\n",
       "      <td>NaN</td>\n",
       "      <td>NaN</td>\n",
       "      <td>NaN</td>\n",
       "      <td>NaN</td>\n",
       "      <td>13.0</td>\n",
       "      <td>1.0</td>\n",
       "      <td>...</td>\n",
       "      <td>0.0</td>\n",
       "      <td>7.0</td>\n",
       "      <td>10.0</td>\n",
       "      <td>11.0</td>\n",
       "      <td>NaN</td>\n",
       "      <td>9.0</td>\n",
       "      <td>7.0</td>\n",
       "      <td>3</td>\n",
       "      <td>2</td>\n",
       "      <td>4</td>\n",
       "    </tr>\n",
       "    <tr>\n",
       "      <th>4</th>\n",
       "      <td>910241</td>\n",
       "      <td>-1</td>\n",
       "      <td>1.0</td>\n",
       "      <td>20.0</td>\n",
       "      <td>NaN</td>\n",
       "      <td>NaN</td>\n",
       "      <td>NaN</td>\n",
       "      <td>NaN</td>\n",
       "      <td>14.0</td>\n",
       "      <td>3.0</td>\n",
       "      <td>...</td>\n",
       "      <td>2.0</td>\n",
       "      <td>3.0</td>\n",
       "      <td>5.0</td>\n",
       "      <td>4.0</td>\n",
       "      <td>2.0</td>\n",
       "      <td>9.0</td>\n",
       "      <td>3.0</td>\n",
       "      <td>4</td>\n",
       "      <td>1</td>\n",
       "      <td>3</td>\n",
       "    </tr>\n",
       "  </tbody>\n",
       "</table>\n",
       "<p>5 rows × 366 columns</p>\n",
       "</div>"
      ],
      "text/plain": [
       "      LNR  AGER_TYP  AKT_DAT_KL  ALTER_HH  ALTER_KIND1  ALTER_KIND2  \\\n",
       "0  910215        -1         NaN       NaN          NaN          NaN   \n",
       "1  910220        -1         9.0       0.0          NaN          NaN   \n",
       "2  910225        -1         9.0      17.0          NaN          NaN   \n",
       "3  910226         2         1.0      13.0          NaN          NaN   \n",
       "4  910241        -1         1.0      20.0          NaN          NaN   \n",
       "\n",
       "   ALTER_KIND3  ALTER_KIND4  ALTERSKATEGORIE_FEIN  ANZ_HAUSHALTE_AKTIV  \\\n",
       "0          NaN          NaN                   NaN                  NaN   \n",
       "1          NaN          NaN                  21.0                 11.0   \n",
       "2          NaN          NaN                  17.0                 10.0   \n",
       "3          NaN          NaN                  13.0                  1.0   \n",
       "4          NaN          NaN                  14.0                  3.0   \n",
       "\n",
       "          ...           VHN  VK_DHT4A  VK_DISTANZ  VK_ZG11  W_KEIT_KIND_HH  \\\n",
       "0         ...           NaN       NaN         NaN      NaN             NaN   \n",
       "1         ...           4.0       8.0        11.0     10.0             3.0   \n",
       "2         ...           2.0       9.0         9.0      6.0             3.0   \n",
       "3         ...           0.0       7.0        10.0     11.0             NaN   \n",
       "4         ...           2.0       3.0         5.0      4.0             2.0   \n",
       "\n",
       "   WOHNDAUER_2008  WOHNLAGE ZABEOTYP ANREDE_KZ ALTERSKATEGORIE_GROB  \n",
       "0             NaN       NaN        3         1                    2  \n",
       "1             9.0       4.0        5         2                    1  \n",
       "2             9.0       2.0        5         2                    3  \n",
       "3             9.0       7.0        3         2                    4  \n",
       "4             9.0       3.0        4         1                    3  \n",
       "\n",
       "[5 rows x 366 columns]"
      ]
     },
     "execution_count": 10,
     "metadata": {},
     "output_type": "execute_result"
    }
   ],
   "source": [
    "azdias.head()"
   ]
  },
  {
   "cell_type": "code",
   "execution_count": 11,
   "metadata": {},
   "outputs": [
    {
     "data": {
      "text/html": [
       "<div>\n",
       "<style scoped>\n",
       "    .dataframe tbody tr th:only-of-type {\n",
       "        vertical-align: middle;\n",
       "    }\n",
       "\n",
       "    .dataframe tbody tr th {\n",
       "        vertical-align: top;\n",
       "    }\n",
       "\n",
       "    .dataframe thead th {\n",
       "        text-align: right;\n",
       "    }\n",
       "</style>\n",
       "<table border=\"1\" class=\"dataframe\">\n",
       "  <thead>\n",
       "    <tr style=\"text-align: right;\">\n",
       "      <th></th>\n",
       "      <th>LNR</th>\n",
       "      <th>AGER_TYP</th>\n",
       "      <th>AKT_DAT_KL</th>\n",
       "      <th>ALTER_HH</th>\n",
       "      <th>ALTER_KIND1</th>\n",
       "      <th>ALTER_KIND2</th>\n",
       "      <th>ALTER_KIND3</th>\n",
       "      <th>ALTER_KIND4</th>\n",
       "      <th>ALTERSKATEGORIE_FEIN</th>\n",
       "      <th>ANZ_HAUSHALTE_AKTIV</th>\n",
       "      <th>...</th>\n",
       "      <th>VK_ZG11</th>\n",
       "      <th>W_KEIT_KIND_HH</th>\n",
       "      <th>WOHNDAUER_2008</th>\n",
       "      <th>WOHNLAGE</th>\n",
       "      <th>ZABEOTYP</th>\n",
       "      <th>PRODUCT_GROUP</th>\n",
       "      <th>CUSTOMER_GROUP</th>\n",
       "      <th>ONLINE_PURCHASE</th>\n",
       "      <th>ANREDE_KZ</th>\n",
       "      <th>ALTERSKATEGORIE_GROB</th>\n",
       "    </tr>\n",
       "  </thead>\n",
       "  <tbody>\n",
       "    <tr>\n",
       "      <th>0</th>\n",
       "      <td>9626</td>\n",
       "      <td>2</td>\n",
       "      <td>1.0</td>\n",
       "      <td>10.0</td>\n",
       "      <td>NaN</td>\n",
       "      <td>NaN</td>\n",
       "      <td>NaN</td>\n",
       "      <td>NaN</td>\n",
       "      <td>10.0</td>\n",
       "      <td>1.0</td>\n",
       "      <td>...</td>\n",
       "      <td>2.0</td>\n",
       "      <td>6.0</td>\n",
       "      <td>9.0</td>\n",
       "      <td>7.0</td>\n",
       "      <td>3</td>\n",
       "      <td>COSMETIC_AND_FOOD</td>\n",
       "      <td>MULTI_BUYER</td>\n",
       "      <td>0</td>\n",
       "      <td>1</td>\n",
       "      <td>4</td>\n",
       "    </tr>\n",
       "    <tr>\n",
       "      <th>1</th>\n",
       "      <td>9628</td>\n",
       "      <td>-1</td>\n",
       "      <td>9.0</td>\n",
       "      <td>11.0</td>\n",
       "      <td>NaN</td>\n",
       "      <td>NaN</td>\n",
       "      <td>NaN</td>\n",
       "      <td>NaN</td>\n",
       "      <td>NaN</td>\n",
       "      <td>NaN</td>\n",
       "      <td>...</td>\n",
       "      <td>3.0</td>\n",
       "      <td>0.0</td>\n",
       "      <td>9.0</td>\n",
       "      <td>NaN</td>\n",
       "      <td>3</td>\n",
       "      <td>FOOD</td>\n",
       "      <td>SINGLE_BUYER</td>\n",
       "      <td>0</td>\n",
       "      <td>1</td>\n",
       "      <td>4</td>\n",
       "    </tr>\n",
       "    <tr>\n",
       "      <th>2</th>\n",
       "      <td>143872</td>\n",
       "      <td>-1</td>\n",
       "      <td>1.0</td>\n",
       "      <td>6.0</td>\n",
       "      <td>NaN</td>\n",
       "      <td>NaN</td>\n",
       "      <td>NaN</td>\n",
       "      <td>NaN</td>\n",
       "      <td>0.0</td>\n",
       "      <td>1.0</td>\n",
       "      <td>...</td>\n",
       "      <td>11.0</td>\n",
       "      <td>6.0</td>\n",
       "      <td>9.0</td>\n",
       "      <td>2.0</td>\n",
       "      <td>3</td>\n",
       "      <td>COSMETIC_AND_FOOD</td>\n",
       "      <td>MULTI_BUYER</td>\n",
       "      <td>0</td>\n",
       "      <td>2</td>\n",
       "      <td>4</td>\n",
       "    </tr>\n",
       "    <tr>\n",
       "      <th>3</th>\n",
       "      <td>143873</td>\n",
       "      <td>1</td>\n",
       "      <td>1.0</td>\n",
       "      <td>8.0</td>\n",
       "      <td>NaN</td>\n",
       "      <td>NaN</td>\n",
       "      <td>NaN</td>\n",
       "      <td>NaN</td>\n",
       "      <td>8.0</td>\n",
       "      <td>0.0</td>\n",
       "      <td>...</td>\n",
       "      <td>2.0</td>\n",
       "      <td>NaN</td>\n",
       "      <td>9.0</td>\n",
       "      <td>7.0</td>\n",
       "      <td>1</td>\n",
       "      <td>COSMETIC</td>\n",
       "      <td>MULTI_BUYER</td>\n",
       "      <td>0</td>\n",
       "      <td>1</td>\n",
       "      <td>4</td>\n",
       "    </tr>\n",
       "    <tr>\n",
       "      <th>4</th>\n",
       "      <td>143874</td>\n",
       "      <td>-1</td>\n",
       "      <td>1.0</td>\n",
       "      <td>20.0</td>\n",
       "      <td>NaN</td>\n",
       "      <td>NaN</td>\n",
       "      <td>NaN</td>\n",
       "      <td>NaN</td>\n",
       "      <td>14.0</td>\n",
       "      <td>7.0</td>\n",
       "      <td>...</td>\n",
       "      <td>4.0</td>\n",
       "      <td>2.0</td>\n",
       "      <td>9.0</td>\n",
       "      <td>3.0</td>\n",
       "      <td>1</td>\n",
       "      <td>FOOD</td>\n",
       "      <td>MULTI_BUYER</td>\n",
       "      <td>0</td>\n",
       "      <td>1</td>\n",
       "      <td>3</td>\n",
       "    </tr>\n",
       "  </tbody>\n",
       "</table>\n",
       "<p>5 rows × 369 columns</p>\n",
       "</div>"
      ],
      "text/plain": [
       "      LNR  AGER_TYP  AKT_DAT_KL  ALTER_HH  ALTER_KIND1  ALTER_KIND2  \\\n",
       "0    9626         2         1.0      10.0          NaN          NaN   \n",
       "1    9628        -1         9.0      11.0          NaN          NaN   \n",
       "2  143872        -1         1.0       6.0          NaN          NaN   \n",
       "3  143873         1         1.0       8.0          NaN          NaN   \n",
       "4  143874        -1         1.0      20.0          NaN          NaN   \n",
       "\n",
       "   ALTER_KIND3  ALTER_KIND4  ALTERSKATEGORIE_FEIN  ANZ_HAUSHALTE_AKTIV  \\\n",
       "0          NaN          NaN                  10.0                  1.0   \n",
       "1          NaN          NaN                   NaN                  NaN   \n",
       "2          NaN          NaN                   0.0                  1.0   \n",
       "3          NaN          NaN                   8.0                  0.0   \n",
       "4          NaN          NaN                  14.0                  7.0   \n",
       "\n",
       "          ...           VK_ZG11  W_KEIT_KIND_HH  WOHNDAUER_2008  WOHNLAGE  \\\n",
       "0         ...               2.0             6.0             9.0       7.0   \n",
       "1         ...               3.0             0.0             9.0       NaN   \n",
       "2         ...              11.0             6.0             9.0       2.0   \n",
       "3         ...               2.0             NaN             9.0       7.0   \n",
       "4         ...               4.0             2.0             9.0       3.0   \n",
       "\n",
       "   ZABEOTYP      PRODUCT_GROUP  CUSTOMER_GROUP ONLINE_PURCHASE ANREDE_KZ  \\\n",
       "0         3  COSMETIC_AND_FOOD     MULTI_BUYER               0         1   \n",
       "1         3               FOOD    SINGLE_BUYER               0         1   \n",
       "2         3  COSMETIC_AND_FOOD     MULTI_BUYER               0         2   \n",
       "3         1           COSMETIC     MULTI_BUYER               0         1   \n",
       "4         1               FOOD     MULTI_BUYER               0         1   \n",
       "\n",
       "  ALTERSKATEGORIE_GROB  \n",
       "0                    4  \n",
       "1                    4  \n",
       "2                    4  \n",
       "3                    4  \n",
       "4                    3  \n",
       "\n",
       "[5 rows x 369 columns]"
      ]
     },
     "execution_count": 11,
     "metadata": {},
     "output_type": "execute_result"
    }
   ],
   "source": [
    "customers.head()"
   ]
  },
  {
   "cell_type": "code",
   "execution_count": 12,
   "metadata": {},
   "outputs": [
    {
     "data": {
      "text/html": [
       "<div>\n",
       "<style scoped>\n",
       "    .dataframe tbody tr th:only-of-type {\n",
       "        vertical-align: middle;\n",
       "    }\n",
       "\n",
       "    .dataframe tbody tr th {\n",
       "        vertical-align: top;\n",
       "    }\n",
       "\n",
       "    .dataframe thead th {\n",
       "        text-align: right;\n",
       "    }\n",
       "</style>\n",
       "<table border=\"1\" class=\"dataframe\">\n",
       "  <thead>\n",
       "    <tr style=\"text-align: right;\">\n",
       "      <th></th>\n",
       "      <th>Attribute</th>\n",
       "      <th>Description</th>\n",
       "      <th>Value</th>\n",
       "      <th>Meaning</th>\n",
       "    </tr>\n",
       "  </thead>\n",
       "  <tbody>\n",
       "    <tr>\n",
       "      <th>0</th>\n",
       "      <td>AGER_TYP</td>\n",
       "      <td>best-ager typology</td>\n",
       "      <td>-1</td>\n",
       "      <td>unknown</td>\n",
       "    </tr>\n",
       "    <tr>\n",
       "      <th>1</th>\n",
       "      <td>AGER_TYP</td>\n",
       "      <td>best-ager typology</td>\n",
       "      <td>0</td>\n",
       "      <td>no classification possible</td>\n",
       "    </tr>\n",
       "    <tr>\n",
       "      <th>2</th>\n",
       "      <td>AGER_TYP</td>\n",
       "      <td>best-ager typology</td>\n",
       "      <td>1</td>\n",
       "      <td>passive elderly</td>\n",
       "    </tr>\n",
       "    <tr>\n",
       "      <th>3</th>\n",
       "      <td>AGER_TYP</td>\n",
       "      <td>best-ager typology</td>\n",
       "      <td>2</td>\n",
       "      <td>cultural elderly</td>\n",
       "    </tr>\n",
       "    <tr>\n",
       "      <th>4</th>\n",
       "      <td>AGER_TYP</td>\n",
       "      <td>best-ager typology</td>\n",
       "      <td>3</td>\n",
       "      <td>experience-driven elderly</td>\n",
       "    </tr>\n",
       "  </tbody>\n",
       "</table>\n",
       "</div>"
      ],
      "text/plain": [
       "  Attribute         Description Value                     Meaning\n",
       "0  AGER_TYP  best-ager typology    -1                     unknown\n",
       "1  AGER_TYP  best-ager typology     0  no classification possible\n",
       "2  AGER_TYP  best-ager typology     1             passive elderly\n",
       "3  AGER_TYP  best-ager typology     2            cultural elderly\n",
       "4  AGER_TYP  best-ager typology     3   experience-driven elderly"
      ]
     },
     "execution_count": 12,
     "metadata": {},
     "output_type": "execute_result"
    }
   ],
   "source": [
    "feature_values.head()"
   ]
  },
  {
   "cell_type": "code",
   "execution_count": 13,
   "metadata": {},
   "outputs": [
    {
     "data": {
      "text/html": [
       "<div>\n",
       "<style scoped>\n",
       "    .dataframe tbody tr th:only-of-type {\n",
       "        vertical-align: middle;\n",
       "    }\n",
       "\n",
       "    .dataframe tbody tr th {\n",
       "        vertical-align: top;\n",
       "    }\n",
       "\n",
       "    .dataframe thead th {\n",
       "        text-align: right;\n",
       "    }\n",
       "</style>\n",
       "<table border=\"1\" class=\"dataframe\">\n",
       "  <thead>\n",
       "    <tr style=\"text-align: right;\">\n",
       "      <th></th>\n",
       "      <th>Information level</th>\n",
       "      <th>Attribute</th>\n",
       "      <th>Description</th>\n",
       "      <th>Additional notes</th>\n",
       "    </tr>\n",
       "  </thead>\n",
       "  <tbody>\n",
       "    <tr>\n",
       "      <th>0</th>\n",
       "      <td>NaN</td>\n",
       "      <td>AGER_TYP</td>\n",
       "      <td>best-ager typology</td>\n",
       "      <td>in cooperation with Kantar TNS; the informatio...</td>\n",
       "    </tr>\n",
       "    <tr>\n",
       "      <th>1</th>\n",
       "      <td>Person</td>\n",
       "      <td>ALTERSKATEGORIE_GROB</td>\n",
       "      <td>age through prename analysis</td>\n",
       "      <td>modelled on millions of first name-age-referen...</td>\n",
       "    </tr>\n",
       "    <tr>\n",
       "      <th>2</th>\n",
       "      <td>Person</td>\n",
       "      <td>ANREDE_KZ</td>\n",
       "      <td>gender</td>\n",
       "      <td>modelled on millions of first name-age-referen...</td>\n",
       "    </tr>\n",
       "    <tr>\n",
       "      <th>3</th>\n",
       "      <td>Person</td>\n",
       "      <td>CJT_GESAMTTYP</td>\n",
       "      <td>Customer-Journey-Typology relating to the pref...</td>\n",
       "      <td>relating to the preferred information, marketi...</td>\n",
       "    </tr>\n",
       "    <tr>\n",
       "      <th>4</th>\n",
       "      <td>Person</td>\n",
       "      <td>FINANZ_MINIMALIST</td>\n",
       "      <td>financial typology: low financial interest</td>\n",
       "      <td>Gfk-Typology based on a representative househo...</td>\n",
       "    </tr>\n",
       "  </tbody>\n",
       "</table>\n",
       "</div>"
      ],
      "text/plain": [
       "  Information level             Attribute  \\\n",
       "0               NaN              AGER_TYP   \n",
       "1            Person  ALTERSKATEGORIE_GROB   \n",
       "2            Person             ANREDE_KZ   \n",
       "3            Person         CJT_GESAMTTYP   \n",
       "4            Person     FINANZ_MINIMALIST   \n",
       "\n",
       "                                         Description  \\\n",
       "0                                 best-ager typology   \n",
       "1                      age through prename analysis    \n",
       "2                                             gender   \n",
       "3  Customer-Journey-Typology relating to the pref...   \n",
       "4         financial typology: low financial interest   \n",
       "\n",
       "                                    Additional notes  \n",
       "0  in cooperation with Kantar TNS; the informatio...  \n",
       "1  modelled on millions of first name-age-referen...  \n",
       "2  modelled on millions of first name-age-referen...  \n",
       "3  relating to the preferred information, marketi...  \n",
       "4  Gfk-Typology based on a representative househo...  "
      ]
     },
     "execution_count": 13,
     "metadata": {},
     "output_type": "execute_result"
    }
   ],
   "source": [
    "feature_attributes.head()"
   ]
  },
  {
   "cell_type": "markdown",
   "metadata": {},
   "source": [
    "Next, examine the data set to see if there are columns that are categorical"
   ]
  },
  {
   "cell_type": "code",
   "execution_count": 7,
   "metadata": {},
   "outputs": [
    {
     "data": {
      "text/plain": [
       "Index(['CAMEO_DEU_2015', 'CAMEO_DEUG_2015', 'CAMEO_INTL_2015',\n",
       "       'D19_LETZTER_KAUF_BRANCHE', 'EINGEFUEGT_AM', 'OST_WEST_KZ',\n",
       "       'PRODUCT_GROUP', 'CUSTOMER_GROUP'],\n",
       "      dtype='object')"
      ]
     },
     "execution_count": 7,
     "metadata": {},
     "output_type": "execute_result"
    }
   ],
   "source": [
    "customers.select_dtypes(include=['object']).columns"
   ]
  },
  {
   "cell_type": "code",
   "execution_count": 8,
   "metadata": {},
   "outputs": [
    {
     "data": {
      "text/plain": [
       "array([dtype('int64'), dtype('float64'), dtype('O')], dtype=object)"
      ]
     },
     "execution_count": 8,
     "metadata": {},
     "output_type": "execute_result"
    }
   ],
   "source": [
    "customers.dtypes.unique()"
   ]
  },
  {
   "cell_type": "markdown",
   "metadata": {},
   "source": [
    "So, there are a handful of categorical columns. There may be more if they have mixed data types or they have a non linear distribution. This will need to be considered moving forward. "
   ]
  },
  {
   "cell_type": "markdown",
   "metadata": {},
   "source": [
    "This data set is very large, 366 columns and 891,221 rows. Working with it can create a lot of data traffic and require large amounts of time sitting and waiting, etc. Therefore it will be reduced in size by 80% so it can be worked with in a more expeditious fashion. There should still be plenty of data to get good unsupervised and supervised models with and that is the goal. "
   ]
  },
  {
   "cell_type": "code",
   "execution_count": 9,
   "metadata": {},
   "outputs": [],
   "source": [
    "azdias = azdias.sample(frac = 0.2)"
   ]
  },
  {
   "cell_type": "code",
   "execution_count": 17,
   "metadata": {},
   "outputs": [
    {
     "data": {
      "text/plain": [
       "(191652, 369)"
      ]
     },
     "execution_count": 17,
     "metadata": {},
     "output_type": "execute_result"
    }
   ],
   "source": [
    "customers.shape"
   ]
  },
  {
   "cell_type": "markdown",
   "metadata": {},
   "source": [
    "The customers_data frame will also be reduced by 60%"
   ]
  },
  {
   "cell_type": "code",
   "execution_count": 10,
   "metadata": {},
   "outputs": [],
   "source": [
    "customers = customers.sample(frac = 0.5)"
   ]
  },
  {
   "cell_type": "code",
   "execution_count": 19,
   "metadata": {},
   "outputs": [
    {
     "data": {
      "text/plain": [
       "(178244, 366)"
      ]
     },
     "execution_count": 19,
     "metadata": {},
     "output_type": "execute_result"
    }
   ],
   "source": [
    "azdias.shape"
   ]
  },
  {
   "cell_type": "code",
   "execution_count": 20,
   "metadata": {},
   "outputs": [
    {
     "data": {
      "text/plain": [
       "(95826, 369)"
      ]
     },
     "execution_count": 20,
     "metadata": {},
     "output_type": "execute_result"
    }
   ],
   "source": [
    "customers.shape"
   ]
  },
  {
   "cell_type": "markdown",
   "metadata": {},
   "source": [
    "There are some columns in the Azdias data frame that don't have a description in the 'feature_values' csv file. "
   ]
  },
  {
   "cell_type": "code",
   "execution_count": 13,
   "metadata": {
    "scrolled": false
   },
   "outputs": [
    {
     "data": {
      "text/plain": [
       "['ALTERSKATEGORIE_GROB',\n",
       " 'ALTER_HH',\n",
       " 'ANREDE_KZ',\n",
       " 'ANZ_HAUSHALTE_AKTIV',\n",
       " 'ANZ_HH_TITEL',\n",
       " 'ANZ_PERSONEN',\n",
       " 'ANZ_TITEL',\n",
       " 'BALLRAUM',\n",
       " 'BIP_FLAG',\n",
       " 'CAMEO_DEUG_2015',\n",
       " 'CAMEO_DEU_2015',\n",
       " 'CAMEO_DEUINTL_2015',\n",
       " 'CJT_GESAMTTYP',\n",
       " 'D19_BANKEN_ANZ_12']"
      ]
     },
     "execution_count": 13,
     "metadata": {},
     "output_type": "execute_result"
    }
   ],
   "source": [
    "attributes_described = list(feature_values[\"Attribute\"].unique())\n",
    "attributes_described[1:15]"
   ]
  },
  {
   "cell_type": "code",
   "execution_count": 22,
   "metadata": {},
   "outputs": [
    {
     "data": {
      "text/plain": [
       "314"
      ]
     },
     "execution_count": 22,
     "metadata": {},
     "output_type": "execute_result"
    }
   ],
   "source": [
    "len(attributes_described)"
   ]
  },
  {
   "cell_type": "code",
   "execution_count": 23,
   "metadata": {},
   "outputs": [
    {
     "data": {
      "text/plain": [
       "366"
      ]
     },
     "execution_count": 23,
     "metadata": {},
     "output_type": "execute_result"
    }
   ],
   "source": [
    "azdias_columns = list(azdias.columns)\n",
    "azdias_columns[1:20]\n",
    "len(azdias_columns)"
   ]
  },
  {
   "cell_type": "code",
   "execution_count": 12,
   "metadata": {},
   "outputs": [],
   "source": [
    "customers_columns = customers.columns"
   ]
  },
  {
   "cell_type": "markdown",
   "metadata": {},
   "source": [
    "Now, find the columns in the 'azdias' frame that don't have a description!"
   ]
  },
  {
   "cell_type": "code",
   "execution_count": 13,
   "metadata": {},
   "outputs": [],
   "source": [
    "undescribed_columns_azdias = [col for col in customers_columns if col not in attributes_described]"
   ]
  },
  {
   "cell_type": "code",
   "execution_count": 14,
   "metadata": {},
   "outputs": [
    {
     "data": {
      "text/plain": [
       "['AKT_DAT_KL',\n",
       " 'ALTER_KIND1',\n",
       " 'ALTER_KIND2',\n",
       " 'ALTER_KIND3',\n",
       " 'ALTER_KIND4',\n",
       " 'ALTERSKATEGORIE_FEIN',\n",
       " 'ANZ_KINDER',\n",
       " 'ANZ_STATISTISCHE_HAUSHALTE',\n",
       " 'ARBEIT',\n",
       " 'CAMEO_INTL_2015',\n",
       " 'CJT_KATALOGNUTZER',\n",
       " 'CJT_TYP_1',\n",
       " 'CJT_TYP_2',\n",
       " 'CJT_TYP_3']"
      ]
     },
     "execution_count": 14,
     "metadata": {},
     "output_type": "execute_result"
    }
   ],
   "source": [
    "undescribed_columns_azdias[1:15]"
   ]
  },
  {
   "cell_type": "code",
   "execution_count": 15,
   "metadata": {},
   "outputs": [
    {
     "data": {
      "text/plain": [
       "97"
      ]
     },
     "execution_count": 15,
     "metadata": {},
     "output_type": "execute_result"
    }
   ],
   "source": [
    "len(undescribed_columns_azdias)"
   ]
  },
  {
   "cell_type": "markdown",
   "metadata": {},
   "source": [
    "So, it appears there are 100 columns in the Azdias data frame that don't have a description for what they mean. For now the columns will be kept regardless of this deficiency. Next, find if there are columns in the 'customers' dataframe that are not in the 'azdias' one. "
   ]
  },
  {
   "cell_type": "code",
   "execution_count": 16,
   "metadata": {},
   "outputs": [],
   "source": [
    "extra_columns_customers = [col for col in customers.columns if col not in azdias.columns]"
   ]
  },
  {
   "cell_type": "code",
   "execution_count": 17,
   "metadata": {},
   "outputs": [
    {
     "data": {
      "text/plain": [
       "['PRODUCT_GROUP', 'CUSTOMER_GROUP', 'ONLINE_PURCHASE']"
      ]
     },
     "execution_count": 17,
     "metadata": {},
     "output_type": "execute_result"
    }
   ],
   "source": [
    "extra_columns_customers"
   ]
  },
  {
   "cell_type": "markdown",
   "metadata": {},
   "source": [
    "The \"CUSTOMERS\" file contains three extra columns ('CUSTOMER_GROUP', 'ONLINE_PURCHASE', and 'PRODUCT_GROUP'). In order to keep the data consistent for comparison matching these 3 columns should be removed from the 'CUSTOMERS' data set. "
   ]
  },
  {
   "cell_type": "code",
   "execution_count": 18,
   "metadata": {},
   "outputs": [],
   "source": [
    "customers = customers.drop(['CUSTOMER_GROUP', 'ONLINE_PURCHASE','PRODUCT_GROUP'], axis=1)"
   ]
  },
  {
   "cell_type": "markdown",
   "metadata": {},
   "source": [
    "Next, find out if there are columns in the feature_values dataframe that are not in 'customers' or 'Azdias' dataframe. First, get the unique columns in the feature_values frame!"
   ]
  },
  {
   "cell_type": "code",
   "execution_count": 20,
   "metadata": {
    "scrolled": false
   },
   "outputs": [
    {
     "data": {
      "text/plain": [
       "['ALTERSKATEGORIE_GROB',\n",
       " 'ALTER_HH',\n",
       " 'ANREDE_KZ',\n",
       " 'ANZ_HAUSHALTE_AKTIV',\n",
       " 'ANZ_HH_TITEL',\n",
       " 'ANZ_PERSONEN',\n",
       " 'ANZ_TITEL',\n",
       " 'BALLRAUM',\n",
       " 'BIP_FLAG',\n",
       " 'CAMEO_DEUG_2015',\n",
       " 'CAMEO_DEU_2015',\n",
       " 'CAMEO_DEUINTL_2015',\n",
       " 'CJT_GESAMTTYP',\n",
       " 'D19_BANKEN_ANZ_12',\n",
       " 'D19_BANKEN_ANZ_24',\n",
       " 'D19_BANKEN_DATUM',\n",
       " 'D19_BANKEN_DIREKT_RZ',\n",
       " 'D19_BANKEN_GROSS_RZ',\n",
       " 'D19_BANKEN_LOKAL_RZ']"
      ]
     },
     "execution_count": 20,
     "metadata": {},
     "output_type": "execute_result"
    }
   ],
   "source": [
    "features_list = list(feature_values['Attribute'].unique())\n",
    "features_list[1:20]"
   ]
  },
  {
   "cell_type": "code",
   "execution_count": 35,
   "metadata": {},
   "outputs": [],
   "source": [
    "feature_columns_to_drop = [col for col in features_list if col not in azdias.columns]"
   ]
  },
  {
   "cell_type": "code",
   "execution_count": 36,
   "metadata": {},
   "outputs": [],
   "source": [
    "feature_columns_to_drop"
   ]
  },
  {
   "cell_type": "markdown",
   "metadata": {},
   "source": [
    "Since these features are not actually going to used in the analysis they need to be dropped in order to avoid problems. "
   ]
  },
  {
   "cell_type": "code",
   "execution_count": 22,
   "metadata": {},
   "outputs": [],
   "source": [
    "rows_to_drop = feature_values[feature_values['Attribute'].isin(feature_columns_to_drop)]"
   ]
  },
  {
   "cell_type": "code",
   "execution_count": 23,
   "metadata": {},
   "outputs": [
    {
     "data": {
      "text/plain": [
       "(342, 4)"
      ]
     },
     "execution_count": 23,
     "metadata": {},
     "output_type": "execute_result"
    }
   ],
   "source": [
    "rows_to_drop.shape"
   ]
  },
  {
   "cell_type": "code",
   "execution_count": 24,
   "metadata": {},
   "outputs": [
    {
     "data": {
      "text/html": [
       "<div>\n",
       "<style scoped>\n",
       "    .dataframe tbody tr th:only-of-type {\n",
       "        vertical-align: middle;\n",
       "    }\n",
       "\n",
       "    .dataframe tbody tr th {\n",
       "        vertical-align: top;\n",
       "    }\n",
       "\n",
       "    .dataframe thead th {\n",
       "        text-align: right;\n",
       "    }\n",
       "</style>\n",
       "<table border=\"1\" class=\"dataframe\">\n",
       "  <thead>\n",
       "    <tr style=\"text-align: right;\">\n",
       "      <th></th>\n",
       "      <th>Attribute</th>\n",
       "      <th>Description</th>\n",
       "      <th>Value</th>\n",
       "      <th>Meaning</th>\n",
       "    </tr>\n",
       "  </thead>\n",
       "  <tbody>\n",
       "    <tr>\n",
       "      <th>48</th>\n",
       "      <td>BIP_FLAG</td>\n",
       "      <td>business-flag indicating companies in the buil...</td>\n",
       "      <td>-1</td>\n",
       "      <td>unknown</td>\n",
       "    </tr>\n",
       "    <tr>\n",
       "      <th>49</th>\n",
       "      <td>BIP_FLAG</td>\n",
       "      <td>business-flag indicating companies in the buil...</td>\n",
       "      <td>0</td>\n",
       "      <td>no company in the building</td>\n",
       "    </tr>\n",
       "    <tr>\n",
       "      <th>50</th>\n",
       "      <td>BIP_FLAG</td>\n",
       "      <td>business-flag indicating companies in the buil...</td>\n",
       "      <td>1</td>\n",
       "      <td>company in the building</td>\n",
       "    </tr>\n",
       "    <tr>\n",
       "      <th>105</th>\n",
       "      <td>CAMEO_DEUINTL_2015</td>\n",
       "      <td>CAMEO classification 2015 - international typo...</td>\n",
       "      <td>-1</td>\n",
       "      <td>unknown</td>\n",
       "    </tr>\n",
       "    <tr>\n",
       "      <th>106</th>\n",
       "      <td>CAMEO_DEUINTL_2015</td>\n",
       "      <td>(each German CAMEO code belongs to one interna...</td>\n",
       "      <td>11</td>\n",
       "      <td>Wealthy Households-Pre-Family Couples &amp; Singles</td>\n",
       "    </tr>\n",
       "    <tr>\n",
       "      <th>107</th>\n",
       "      <td>CAMEO_DEUINTL_2015</td>\n",
       "      <td>(each German CAMEO code belongs to one interna...</td>\n",
       "      <td>12</td>\n",
       "      <td>Wealthy Households-Young Couples With Children</td>\n",
       "    </tr>\n",
       "    <tr>\n",
       "      <th>108</th>\n",
       "      <td>CAMEO_DEUINTL_2015</td>\n",
       "      <td>(each German CAMEO code belongs to one interna...</td>\n",
       "      <td>13</td>\n",
       "      <td>Wealthy Households-Families With School Age Ch...</td>\n",
       "    </tr>\n",
       "    <tr>\n",
       "      <th>109</th>\n",
       "      <td>CAMEO_DEUINTL_2015</td>\n",
       "      <td>(each German CAMEO code belongs to one interna...</td>\n",
       "      <td>14</td>\n",
       "      <td>Wealthy Households-Older Families &amp;  Mature Co...</td>\n",
       "    </tr>\n",
       "    <tr>\n",
       "      <th>110</th>\n",
       "      <td>CAMEO_DEUINTL_2015</td>\n",
       "      <td>(each German CAMEO code belongs to one interna...</td>\n",
       "      <td>15</td>\n",
       "      <td>Wealthy Households-Elders In Retirement</td>\n",
       "    </tr>\n",
       "    <tr>\n",
       "      <th>111</th>\n",
       "      <td>CAMEO_DEUINTL_2015</td>\n",
       "      <td>(each German CAMEO code belongs to one interna...</td>\n",
       "      <td>21</td>\n",
       "      <td>Prosperous Households-Pre-Family Couples &amp; Sin...</td>\n",
       "    </tr>\n",
       "  </tbody>\n",
       "</table>\n",
       "</div>"
      ],
      "text/plain": [
       "              Attribute                                        Description  \\\n",
       "48             BIP_FLAG  business-flag indicating companies in the buil...   \n",
       "49             BIP_FLAG  business-flag indicating companies in the buil...   \n",
       "50             BIP_FLAG  business-flag indicating companies in the buil...   \n",
       "105  CAMEO_DEUINTL_2015  CAMEO classification 2015 - international typo...   \n",
       "106  CAMEO_DEUINTL_2015  (each German CAMEO code belongs to one interna...   \n",
       "107  CAMEO_DEUINTL_2015  (each German CAMEO code belongs to one interna...   \n",
       "108  CAMEO_DEUINTL_2015  (each German CAMEO code belongs to one interna...   \n",
       "109  CAMEO_DEUINTL_2015  (each German CAMEO code belongs to one interna...   \n",
       "110  CAMEO_DEUINTL_2015  (each German CAMEO code belongs to one interna...   \n",
       "111  CAMEO_DEUINTL_2015  (each German CAMEO code belongs to one interna...   \n",
       "\n",
       "    Value                                            Meaning  \n",
       "48     -1                                            unknown  \n",
       "49      0                         no company in the building  \n",
       "50      1                            company in the building  \n",
       "105    -1                                            unknown  \n",
       "106    11    Wealthy Households-Pre-Family Couples & Singles  \n",
       "107    12     Wealthy Households-Young Couples With Children  \n",
       "108    13  Wealthy Households-Families With School Age Ch...  \n",
       "109    14  Wealthy Households-Older Families &  Mature Co...  \n",
       "110    15            Wealthy Households-Elders In Retirement  \n",
       "111    21  Prosperous Households-Pre-Family Couples & Sin...  "
      ]
     },
     "execution_count": 24,
     "metadata": {},
     "output_type": "execute_result"
    }
   ],
   "source": [
    "rows_to_drop[0:10]"
   ]
  },
  {
   "cell_type": "code",
   "execution_count": 25,
   "metadata": {},
   "outputs": [
    {
     "data": {
      "text/plain": [
       "Int64Index([  48,   49,   50,  105,  106,  107,  108,  109,  110,  111,\n",
       "            ...\n",
       "            1272, 2207, 2208, 2209, 2238, 2239, 2240, 2241, 2242, 2243],\n",
       "           dtype='int64', length=342)"
      ]
     },
     "execution_count": 25,
     "metadata": {},
     "output_type": "execute_result"
    }
   ],
   "source": [
    "rows_to_drop.index"
   ]
  },
  {
   "cell_type": "markdown",
   "metadata": {},
   "source": [
    "Now that the row indices of all useless rows are found they will be dropped from the 'feature_values' frame. "
   ]
  },
  {
   "cell_type": "code",
   "execution_count": 26,
   "metadata": {},
   "outputs": [],
   "source": [
    "feature_values.drop(rows_to_drop.index, inplace = True)"
   ]
  },
  {
   "cell_type": "code",
   "execution_count": 27,
   "metadata": {},
   "outputs": [
    {
     "data": {
      "text/html": [
       "<div>\n",
       "<style scoped>\n",
       "    .dataframe tbody tr th:only-of-type {\n",
       "        vertical-align: middle;\n",
       "    }\n",
       "\n",
       "    .dataframe tbody tr th {\n",
       "        vertical-align: top;\n",
       "    }\n",
       "\n",
       "    .dataframe thead th {\n",
       "        text-align: right;\n",
       "    }\n",
       "</style>\n",
       "<table border=\"1\" class=\"dataframe\">\n",
       "  <thead>\n",
       "    <tr style=\"text-align: right;\">\n",
       "      <th></th>\n",
       "      <th>Attribute</th>\n",
       "      <th>Description</th>\n",
       "      <th>Value</th>\n",
       "      <th>Meaning</th>\n",
       "    </tr>\n",
       "  </thead>\n",
       "  <tbody>\n",
       "    <tr>\n",
       "      <th>0</th>\n",
       "      <td>AGER_TYP</td>\n",
       "      <td>best-ager typology</td>\n",
       "      <td>-1</td>\n",
       "      <td>unknown</td>\n",
       "    </tr>\n",
       "    <tr>\n",
       "      <th>1</th>\n",
       "      <td>AGER_TYP</td>\n",
       "      <td>best-ager typology</td>\n",
       "      <td>0</td>\n",
       "      <td>no classification possible</td>\n",
       "    </tr>\n",
       "    <tr>\n",
       "      <th>2</th>\n",
       "      <td>AGER_TYP</td>\n",
       "      <td>best-ager typology</td>\n",
       "      <td>1</td>\n",
       "      <td>passive elderly</td>\n",
       "    </tr>\n",
       "    <tr>\n",
       "      <th>3</th>\n",
       "      <td>AGER_TYP</td>\n",
       "      <td>best-ager typology</td>\n",
       "      <td>2</td>\n",
       "      <td>cultural elderly</td>\n",
       "    </tr>\n",
       "    <tr>\n",
       "      <th>4</th>\n",
       "      <td>AGER_TYP</td>\n",
       "      <td>best-ager typology</td>\n",
       "      <td>3</td>\n",
       "      <td>experience-driven elderly</td>\n",
       "    </tr>\n",
       "  </tbody>\n",
       "</table>\n",
       "</div>"
      ],
      "text/plain": [
       "  Attribute         Description Value                     Meaning\n",
       "0  AGER_TYP  best-ager typology    -1                     unknown\n",
       "1  AGER_TYP  best-ager typology     0  no classification possible\n",
       "2  AGER_TYP  best-ager typology     1             passive elderly\n",
       "3  AGER_TYP  best-ager typology     2            cultural elderly\n",
       "4  AGER_TYP  best-ager typology     3   experience-driven elderly"
      ]
     },
     "execution_count": 27,
     "metadata": {},
     "output_type": "execute_result"
    }
   ],
   "source": [
    "feature_values.head()"
   ]
  },
  {
   "cell_type": "markdown",
   "metadata": {},
   "source": [
    "Now the main data frames ('customers' or 'azdias') will be inspected to see if there are categorical columns."
   ]
  },
  {
   "cell_type": "code",
   "execution_count": 28,
   "metadata": {},
   "outputs": [
    {
     "data": {
      "text/html": [
       "<div>\n",
       "<style scoped>\n",
       "    .dataframe tbody tr th:only-of-type {\n",
       "        vertical-align: middle;\n",
       "    }\n",
       "\n",
       "    .dataframe tbody tr th {\n",
       "        vertical-align: top;\n",
       "    }\n",
       "\n",
       "    .dataframe thead th {\n",
       "        text-align: right;\n",
       "    }\n",
       "</style>\n",
       "<table border=\"1\" class=\"dataframe\">\n",
       "  <thead>\n",
       "    <tr style=\"text-align: right;\">\n",
       "      <th></th>\n",
       "      <th>CAMEO_DEU_2015</th>\n",
       "      <th>CAMEO_DEUG_2015</th>\n",
       "      <th>CAMEO_INTL_2015</th>\n",
       "      <th>D19_LETZTER_KAUF_BRANCHE</th>\n",
       "      <th>EINGEFUEGT_AM</th>\n",
       "      <th>OST_WEST_KZ</th>\n",
       "    </tr>\n",
       "  </thead>\n",
       "  <tbody>\n",
       "    <tr>\n",
       "      <th>103003</th>\n",
       "      <td>NaN</td>\n",
       "      <td>NaN</td>\n",
       "      <td>NaN</td>\n",
       "      <td>NaN</td>\n",
       "      <td>NaN</td>\n",
       "      <td>NaN</td>\n",
       "    </tr>\n",
       "    <tr>\n",
       "      <th>182995</th>\n",
       "      <td>NaN</td>\n",
       "      <td>NaN</td>\n",
       "      <td>NaN</td>\n",
       "      <td>NaN</td>\n",
       "      <td>NaN</td>\n",
       "      <td>NaN</td>\n",
       "    </tr>\n",
       "    <tr>\n",
       "      <th>97780</th>\n",
       "      <td>NaN</td>\n",
       "      <td>NaN</td>\n",
       "      <td>NaN</td>\n",
       "      <td>D19_SCHUHE</td>\n",
       "      <td>NaN</td>\n",
       "      <td>NaN</td>\n",
       "    </tr>\n",
       "    <tr>\n",
       "      <th>174298</th>\n",
       "      <td>NaN</td>\n",
       "      <td>NaN</td>\n",
       "      <td>NaN</td>\n",
       "      <td>NaN</td>\n",
       "      <td>NaN</td>\n",
       "      <td>NaN</td>\n",
       "    </tr>\n",
       "    <tr>\n",
       "      <th>176468</th>\n",
       "      <td>2C</td>\n",
       "      <td>2</td>\n",
       "      <td>14</td>\n",
       "      <td>D19_UNBEKANNT</td>\n",
       "      <td>1992-02-10 00:00:00</td>\n",
       "      <td>W</td>\n",
       "    </tr>\n",
       "  </tbody>\n",
       "</table>\n",
       "</div>"
      ],
      "text/plain": [
       "       CAMEO_DEU_2015 CAMEO_DEUG_2015 CAMEO_INTL_2015  \\\n",
       "103003            NaN             NaN             NaN   \n",
       "182995            NaN             NaN             NaN   \n",
       "97780             NaN             NaN             NaN   \n",
       "174298            NaN             NaN             NaN   \n",
       "176468             2C               2              14   \n",
       "\n",
       "       D19_LETZTER_KAUF_BRANCHE        EINGEFUEGT_AM OST_WEST_KZ  \n",
       "103003                      NaN                  NaN         NaN  \n",
       "182995                      NaN                  NaN         NaN  \n",
       "97780                D19_SCHUHE                  NaN         NaN  \n",
       "174298                      NaN                  NaN         NaN  \n",
       "176468            D19_UNBEKANNT  1992-02-10 00:00:00           W  "
      ]
     },
     "execution_count": 28,
     "metadata": {},
     "output_type": "execute_result"
    }
   ],
   "source": [
    "cat_cols = customers.select_dtypes(include=['object'])\n",
    "cat_cols.head()"
   ]
  },
  {
   "cell_type": "markdown",
   "metadata": {},
   "source": [
    "So, now it seems that there are 6 columns of categorical data. "
   ]
  },
  {
   "cell_type": "markdown",
   "metadata": {},
   "source": [
    "And using the 'feature_values' frame to find out what they represent yields:"
   ]
  },
  {
   "cell_type": "code",
   "execution_count": 29,
   "metadata": {},
   "outputs": [
    {
     "data": {
      "text/html": [
       "<div>\n",
       "<style scoped>\n",
       "    .dataframe tbody tr th:only-of-type {\n",
       "        vertical-align: middle;\n",
       "    }\n",
       "\n",
       "    .dataframe tbody tr th {\n",
       "        vertical-align: top;\n",
       "    }\n",
       "\n",
       "    .dataframe thead th {\n",
       "        text-align: right;\n",
       "    }\n",
       "</style>\n",
       "<table border=\"1\" class=\"dataframe\">\n",
       "  <thead>\n",
       "    <tr style=\"text-align: right;\">\n",
       "      <th></th>\n",
       "      <th>Attribute</th>\n",
       "      <th>Description</th>\n",
       "      <th>Value</th>\n",
       "      <th>Meaning</th>\n",
       "    </tr>\n",
       "  </thead>\n",
       "  <tbody>\n",
       "    <tr>\n",
       "      <th>51</th>\n",
       "      <td>CAMEO_DEUG_2015</td>\n",
       "      <td>CAMEO classification 2015 - Uppergroup</td>\n",
       "      <td>-1</td>\n",
       "      <td>unknown</td>\n",
       "    </tr>\n",
       "    <tr>\n",
       "      <th>52</th>\n",
       "      <td>CAMEO_DEUG_2015</td>\n",
       "      <td>CAMEO classification 2015 - Uppergroup</td>\n",
       "      <td>1</td>\n",
       "      <td>upper class</td>\n",
       "    </tr>\n",
       "    <tr>\n",
       "      <th>53</th>\n",
       "      <td>CAMEO_DEUG_2015</td>\n",
       "      <td>CAMEO classification 2015 - Uppergroup</td>\n",
       "      <td>2</td>\n",
       "      <td>upper middleclass</td>\n",
       "    </tr>\n",
       "    <tr>\n",
       "      <th>54</th>\n",
       "      <td>CAMEO_DEUG_2015</td>\n",
       "      <td>CAMEO classification 2015 - Uppergroup</td>\n",
       "      <td>3</td>\n",
       "      <td>established middleclasse</td>\n",
       "    </tr>\n",
       "    <tr>\n",
       "      <th>55</th>\n",
       "      <td>CAMEO_DEUG_2015</td>\n",
       "      <td>CAMEO classification 2015 - Uppergroup</td>\n",
       "      <td>4</td>\n",
       "      <td>consumption-oriented middleclass</td>\n",
       "    </tr>\n",
       "    <tr>\n",
       "      <th>56</th>\n",
       "      <td>CAMEO_DEUG_2015</td>\n",
       "      <td>CAMEO classification 2015 - Uppergroup</td>\n",
       "      <td>5</td>\n",
       "      <td>active middleclass</td>\n",
       "    </tr>\n",
       "    <tr>\n",
       "      <th>57</th>\n",
       "      <td>CAMEO_DEUG_2015</td>\n",
       "      <td>CAMEO classification 2015 - Uppergroup</td>\n",
       "      <td>6</td>\n",
       "      <td>low-consumption middleclass</td>\n",
       "    </tr>\n",
       "    <tr>\n",
       "      <th>58</th>\n",
       "      <td>CAMEO_DEUG_2015</td>\n",
       "      <td>CAMEO classification 2015 - Uppergroup</td>\n",
       "      <td>7</td>\n",
       "      <td>lower middleclass</td>\n",
       "    </tr>\n",
       "    <tr>\n",
       "      <th>59</th>\n",
       "      <td>CAMEO_DEUG_2015</td>\n",
       "      <td>CAMEO classification 2015 - Uppergroup</td>\n",
       "      <td>8</td>\n",
       "      <td>working class</td>\n",
       "    </tr>\n",
       "    <tr>\n",
       "      <th>60</th>\n",
       "      <td>CAMEO_DEUG_2015</td>\n",
       "      <td>CAMEO classification 2015 - Uppergroup</td>\n",
       "      <td>9</td>\n",
       "      <td>urban working class</td>\n",
       "    </tr>\n",
       "  </tbody>\n",
       "</table>\n",
       "</div>"
      ],
      "text/plain": [
       "          Attribute                             Description Value  \\\n",
       "51  CAMEO_DEUG_2015  CAMEO classification 2015 - Uppergroup    -1   \n",
       "52  CAMEO_DEUG_2015  CAMEO classification 2015 - Uppergroup     1   \n",
       "53  CAMEO_DEUG_2015  CAMEO classification 2015 - Uppergroup     2   \n",
       "54  CAMEO_DEUG_2015  CAMEO classification 2015 - Uppergroup     3   \n",
       "55  CAMEO_DEUG_2015  CAMEO classification 2015 - Uppergroup     4   \n",
       "56  CAMEO_DEUG_2015  CAMEO classification 2015 - Uppergroup     5   \n",
       "57  CAMEO_DEUG_2015  CAMEO classification 2015 - Uppergroup     6   \n",
       "58  CAMEO_DEUG_2015  CAMEO classification 2015 - Uppergroup     7   \n",
       "59  CAMEO_DEUG_2015  CAMEO classification 2015 - Uppergroup     8   \n",
       "60  CAMEO_DEUG_2015  CAMEO classification 2015 - Uppergroup     9   \n",
       "\n",
       "                              Meaning  \n",
       "51                            unknown  \n",
       "52                        upper class  \n",
       "53                  upper middleclass  \n",
       "54           established middleclasse  \n",
       "55  consumption-oriented middleclass   \n",
       "56                active middleclass   \n",
       "57        low-consumption middleclass  \n",
       "58                  lower middleclass  \n",
       "59                      working class  \n",
       "60                urban working class  "
      ]
     },
     "execution_count": 29,
     "metadata": {},
     "output_type": "execute_result"
    }
   ],
   "source": [
    "feature_values[feature_values['Attribute'] == 'CAMEO_DEUG_2015']"
   ]
  },
  {
   "cell_type": "markdown",
   "metadata": {},
   "source": [
    "So it looks like 'CAMEO_DEUG_2015' tells the economic class of someone. They are divided into 9 economic classes so given a categorical value of 1-9, and if it is unknown that person is given a -1. "
   ]
  },
  {
   "cell_type": "code",
   "execution_count": 30,
   "metadata": {},
   "outputs": [
    {
     "data": {
      "text/html": [
       "<div>\n",
       "<style scoped>\n",
       "    .dataframe tbody tr th:only-of-type {\n",
       "        vertical-align: middle;\n",
       "    }\n",
       "\n",
       "    .dataframe tbody tr th {\n",
       "        vertical-align: top;\n",
       "    }\n",
       "\n",
       "    .dataframe thead th {\n",
       "        text-align: right;\n",
       "    }\n",
       "</style>\n",
       "<table border=\"1\" class=\"dataframe\">\n",
       "  <thead>\n",
       "    <tr style=\"text-align: right;\">\n",
       "      <th></th>\n",
       "      <th>Attribute</th>\n",
       "      <th>Description</th>\n",
       "      <th>Value</th>\n",
       "      <th>Meaning</th>\n",
       "    </tr>\n",
       "  </thead>\n",
       "  <tbody>\n",
       "    <tr>\n",
       "      <th>61</th>\n",
       "      <td>CAMEO_DEU_2015</td>\n",
       "      <td>CAMEO classification 2015 - detailled classifi...</td>\n",
       "      <td>1A</td>\n",
       "      <td>Work-Life-Balance</td>\n",
       "    </tr>\n",
       "    <tr>\n",
       "      <th>62</th>\n",
       "      <td>CAMEO_DEU_2015</td>\n",
       "      <td>CAMEO classification 2015 - detailled classifi...</td>\n",
       "      <td>1B</td>\n",
       "      <td>Wealthy Best Ager</td>\n",
       "    </tr>\n",
       "    <tr>\n",
       "      <th>63</th>\n",
       "      <td>CAMEO_DEU_2015</td>\n",
       "      <td>CAMEO classification 2015 - detailled classifi...</td>\n",
       "      <td>1C</td>\n",
       "      <td>Successful Songwriter</td>\n",
       "    </tr>\n",
       "    <tr>\n",
       "      <th>64</th>\n",
       "      <td>CAMEO_DEU_2015</td>\n",
       "      <td>CAMEO classification 2015 - detailled classifi...</td>\n",
       "      <td>1D</td>\n",
       "      <td>Old Nobility</td>\n",
       "    </tr>\n",
       "    <tr>\n",
       "      <th>65</th>\n",
       "      <td>CAMEO_DEU_2015</td>\n",
       "      <td>CAMEO classification 2015 - detailled classifi...</td>\n",
       "      <td>1E</td>\n",
       "      <td>City Nobility</td>\n",
       "    </tr>\n",
       "  </tbody>\n",
       "</table>\n",
       "</div>"
      ],
      "text/plain": [
       "         Attribute                                        Description Value  \\\n",
       "61  CAMEO_DEU_2015  CAMEO classification 2015 - detailled classifi...    1A   \n",
       "62  CAMEO_DEU_2015  CAMEO classification 2015 - detailled classifi...    1B   \n",
       "63  CAMEO_DEU_2015  CAMEO classification 2015 - detailled classifi...    1C   \n",
       "64  CAMEO_DEU_2015  CAMEO classification 2015 - detailled classifi...    1D   \n",
       "65  CAMEO_DEU_2015  CAMEO classification 2015 - detailled classifi...    1E   \n",
       "\n",
       "                  Meaning  \n",
       "61      Work-Life-Balance  \n",
       "62      Wealthy Best Ager  \n",
       "63  Successful Songwriter  \n",
       "64           Old Nobility  \n",
       "65          City Nobility  "
      ]
     },
     "execution_count": 30,
     "metadata": {},
     "output_type": "execute_result"
    }
   ],
   "source": [
    "feature_values[feature_values['Attribute'] == 'CAMEO_DEU_2015'].head()"
   ]
  },
  {
   "cell_type": "markdown",
   "metadata": {},
   "source": [
    "The columns 'CAMEO_DEU_2015' refers to some classification of the person such as retiree, gardener, etc. "
   ]
  },
  {
   "cell_type": "code",
   "execution_count": 31,
   "metadata": {},
   "outputs": [
    {
     "data": {
      "text/html": [
       "<div>\n",
       "<style scoped>\n",
       "    .dataframe tbody tr th:only-of-type {\n",
       "        vertical-align: middle;\n",
       "    }\n",
       "\n",
       "    .dataframe tbody tr th {\n",
       "        vertical-align: top;\n",
       "    }\n",
       "\n",
       "    .dataframe thead th {\n",
       "        text-align: right;\n",
       "    }\n",
       "</style>\n",
       "<table border=\"1\" class=\"dataframe\">\n",
       "  <thead>\n",
       "    <tr style=\"text-align: right;\">\n",
       "      <th></th>\n",
       "      <th>Attribute</th>\n",
       "      <th>Description</th>\n",
       "      <th>Value</th>\n",
       "      <th>Meaning</th>\n",
       "    </tr>\n",
       "  </thead>\n",
       "  <tbody>\n",
       "    <tr>\n",
       "      <th>2013</th>\n",
       "      <td>OST_WEST_KZ</td>\n",
       "      <td>flag indicating the former GDR/FRG</td>\n",
       "      <td>-1</td>\n",
       "      <td>unknown</td>\n",
       "    </tr>\n",
       "    <tr>\n",
       "      <th>2014</th>\n",
       "      <td>OST_WEST_KZ</td>\n",
       "      <td>flag indicating the former GDR/FRG</td>\n",
       "      <td>O</td>\n",
       "      <td>East (GDR)</td>\n",
       "    </tr>\n",
       "    <tr>\n",
       "      <th>2015</th>\n",
       "      <td>OST_WEST_KZ</td>\n",
       "      <td>flag indicating the former GDR/FRG</td>\n",
       "      <td>W</td>\n",
       "      <td>West (FRG)</td>\n",
       "    </tr>\n",
       "  </tbody>\n",
       "</table>\n",
       "</div>"
      ],
      "text/plain": [
       "        Attribute                         Description Value     Meaning\n",
       "2013  OST_WEST_KZ  flag indicating the former GDR/FRG    -1     unknown\n",
       "2014  OST_WEST_KZ  flag indicating the former GDR/FRG     O  East (GDR)\n",
       "2015  OST_WEST_KZ  flag indicating the former GDR/FRG     W  West (FRG)"
      ]
     },
     "execution_count": 31,
     "metadata": {},
     "output_type": "execute_result"
    }
   ],
   "source": [
    "feature_values[feature_values['Attribute'] == 'OST_WEST_KZ']"
   ]
  },
  {
   "cell_type": "markdown",
   "metadata": {},
   "source": [
    "And 'OST_WEST_KZ' is some kind of geographic indicator, also contains unknown values"
   ]
  },
  {
   "cell_type": "markdown",
   "metadata": {},
   "source": [
    "Next check for the 'CAMEO_INTL_2015' category:"
   ]
  },
  {
   "cell_type": "code",
   "execution_count": 32,
   "metadata": {},
   "outputs": [
    {
     "data": {
      "text/html": [
       "<div>\n",
       "<style scoped>\n",
       "    .dataframe tbody tr th:only-of-type {\n",
       "        vertical-align: middle;\n",
       "    }\n",
       "\n",
       "    .dataframe tbody tr th {\n",
       "        vertical-align: top;\n",
       "    }\n",
       "\n",
       "    .dataframe thead th {\n",
       "        text-align: right;\n",
       "    }\n",
       "</style>\n",
       "<table border=\"1\" class=\"dataframe\">\n",
       "  <thead>\n",
       "    <tr style=\"text-align: right;\">\n",
       "      <th></th>\n",
       "      <th>Attribute</th>\n",
       "      <th>Description</th>\n",
       "      <th>Value</th>\n",
       "      <th>Meaning</th>\n",
       "    </tr>\n",
       "  </thead>\n",
       "  <tbody>\n",
       "  </tbody>\n",
       "</table>\n",
       "</div>"
      ],
      "text/plain": [
       "Empty DataFrame\n",
       "Columns: [Attribute, Description, Value, Meaning]\n",
       "Index: []"
      ]
     },
     "execution_count": 32,
     "metadata": {},
     "output_type": "execute_result"
    }
   ],
   "source": [
    "feature_values[feature_values['Attribute'] == 'CAMEO_INTL_2015']"
   ]
  },
  {
   "cell_type": "markdown",
   "metadata": {},
   "source": [
    "There is no description available for the CAMEO_INTL_2015 column. However, the keen observer may have noticed that in the 'feature_values' datatframe there is an attribute called 'CAMEO_DEUINTL_2015' and its possible that there was a typing mistake here but, its unclear. But, most likely the column is some type of classification based on the level of affluency of the family and if there are children in the household, based on the descriptions in the 'feature_values' dataframe. Moreover, looking at the unique values of 'CAMEO_INTL_2015' shows there are mixed values of strings and floats. This will need to be fixed. "
   ]
  },
  {
   "cell_type": "code",
   "execution_count": 34,
   "metadata": {},
   "outputs": [
    {
     "data": {
      "text/plain": [
       "array(['54', '14', 24.0, '34', '24', 44.0, '41', '25', '44', 23.0, '15',\n",
       "       43.0, '22', 45.0, '43', '33', 13.0, 14.0, '51', 22.0, nan, '52',\n",
       "       35.0, 25.0, 33.0, '45', 51.0, '23', '55', 52.0, 31.0, 55.0, 12.0,\n",
       "       41.0, 54.0, 'XX', '12', '13', '31', 32.0, '32', '35', 15.0, 34.0], dtype=object)"
      ]
     },
     "execution_count": 34,
     "metadata": {},
     "output_type": "execute_result"
    }
   ],
   "source": [
    "azdias['CAMEO_INTL_2015'].unique()"
   ]
  },
  {
   "cell_type": "code",
   "execution_count": 35,
   "metadata": {},
   "outputs": [
    {
     "data": {
      "text/html": [
       "<div>\n",
       "<style scoped>\n",
       "    .dataframe tbody tr th:only-of-type {\n",
       "        vertical-align: middle;\n",
       "    }\n",
       "\n",
       "    .dataframe tbody tr th {\n",
       "        vertical-align: top;\n",
       "    }\n",
       "\n",
       "    .dataframe thead th {\n",
       "        text-align: right;\n",
       "    }\n",
       "</style>\n",
       "<table border=\"1\" class=\"dataframe\">\n",
       "  <thead>\n",
       "    <tr style=\"text-align: right;\">\n",
       "      <th></th>\n",
       "      <th>Attribute</th>\n",
       "      <th>Description</th>\n",
       "      <th>Value</th>\n",
       "      <th>Meaning</th>\n",
       "    </tr>\n",
       "  </thead>\n",
       "  <tbody>\n",
       "  </tbody>\n",
       "</table>\n",
       "</div>"
      ],
      "text/plain": [
       "Empty DataFrame\n",
       "Columns: [Attribute, Description, Value, Meaning]\n",
       "Index: []"
      ]
     },
     "execution_count": 35,
     "metadata": {},
     "output_type": "execute_result"
    }
   ],
   "source": [
    "feature_values[feature_values['Attribute'] == 'D19_LETZTER_KAUF_BRANCHE']"
   ]
  },
  {
   "cell_type": "markdown",
   "metadata": {},
   "source": [
    "Again, no description os available for the D19_LETZTER_KAUF_BRANCHE column either. But from translation of the words it means \"Last Purchase Sector\". "
   ]
  },
  {
   "cell_type": "code",
   "execution_count": 36,
   "metadata": {},
   "outputs": [],
   "source": [
    "unique_classes = []\n",
    "for j in (cat_cols):\n",
    "    unique_classes.append(cat_cols[j].unique())"
   ]
  },
  {
   "cell_type": "markdown",
   "metadata": {},
   "source": [
    "Now it can be seen what the unique classes are for each categorical category:"
   ]
  },
  {
   "cell_type": "code",
   "execution_count": 37,
   "metadata": {},
   "outputs": [
    {
     "name": "stdout",
     "output_type": "stream",
     "text": [
      "('CAMEO_DEU_2015', array([nan, '2C', '2A', '7A', '5A', '8D', '6B', '2D', '6E', '1C', '5D',\n",
      "       '4E', '3C', '1E', '4D', '8C', '4A', '9D', '3D', '5F', '2B', '7E',\n",
      "       '5B', '6A', '3A', '1B', '9A', '1D', '5C', '6C', '7D', '4C', '9C',\n",
      "       '6F', '7C', '1A', '8A', '8B', '5E', '7B', '6D', '3B', '9B', '4B',\n",
      "       '9E', 'XX'], dtype=object))\n",
      "('CAMEO_DEUG_2015', array([nan, '2', '7', '5', '8', '6', 2.0, 7.0, '1', 4.0, '3', '4', 8.0,\n",
      "       5.0, 9.0, 3.0, '9', 6.0, 1.0, 'X'], dtype=object))\n",
      "('CAMEO_INTL_2015', array([nan, '14', '12', '41', '31', '55', '43', 14.0, 41.0, '45', '34',\n",
      "       25.0, '24', '15', 54.0, '22', 31.0, 51.0, '25', '35', 13.0, '54',\n",
      "       '32', 23.0, '23', '52', 24.0, '13', 33.0, 22.0, '44', '51', 45.0,\n",
      "       15.0, 43.0, 12.0, '33', 34.0, 52.0, 'XX', 44.0, 35.0, 32.0, 55.0], dtype=object))\n",
      "('D19_LETZTER_KAUF_BRANCHE', array([nan, 'D19_SCHUHE', 'D19_UNBEKANNT', 'D19_BUCH_CD', 'D19_REISEN',\n",
      "       'D19_VOLLSORTIMENT', 'D19_VERSAND_REST', 'D19_BEKLEIDUNG_GEH',\n",
      "       'D19_BANKEN_DIREKT', 'D19_VERSICHERUNGEN', 'D19_KINDERARTIKEL',\n",
      "       'D19_DROGERIEARTIKEL', 'D19_SONSTIGE', 'D19_FREIZEIT',\n",
      "       'D19_LEBENSMITTEL', 'D19_NAHRUNGSERGAENZUNG', 'D19_SAMMELARTIKEL',\n",
      "       'D19_TELKO_MOBILE', 'D19_ENERGIE', 'D19_RATGEBER', 'D19_HAUS_DEKO',\n",
      "       'D19_BEKLEIDUNG_REST', 'D19_TECHNIK', 'D19_HANDWERK',\n",
      "       'D19_BANKEN_REST', 'D19_BILDUNG', 'D19_TELKO_REST',\n",
      "       'D19_WEIN_FEINKOST', 'D19_KOSMETIK', 'D19_TIERARTIKEL',\n",
      "       'D19_GARTEN', 'D19_BANKEN_LOKAL', 'D19_BIO_OEKO',\n",
      "       'D19_BANKEN_GROSS', 'D19_DIGIT_SERV', 'D19_LOTTO'], dtype=object))\n",
      "('EINGEFUEGT_AM', array([nan, '1992-02-10 00:00:00', '1995-02-07 00:00:00', ...,\n",
      "       '2013-12-02 00:00:00', '2002-05-03 00:00:00', '1994-03-16 00:00:00'], dtype=object))\n",
      "('OST_WEST_KZ', array([nan, 'W', 'O'], dtype=object))\n"
     ]
    }
   ],
   "source": [
    "cat_col_names = cat_cols.columns\n",
    "for i in zip(cat_col_names, unique_classes):\n",
    "    print(i)"
   ]
  },
  {
   "cell_type": "markdown",
   "metadata": {},
   "source": [
    "## Visualizing and Cleaning the Data\n",
    "\n",
    "Before the data can be analyzed and predictions about the customers made the data needs to be looked at as closely as possible to see if there are chunks of it missing, if there are inconsistencies, etc. that need to be dealt with first. This step is the most intenstive and time consuming part of the project as it requires inspection of about 366 columns of data and it is evident that there are many steps to organize the data in a reasonable fashion. "
   ]
  },
  {
   "cell_type": "markdown",
   "metadata": {},
   "source": [
    "The column with the dates ['EINGEFUEGT_AM'], would be a good place to start.\n",
    "So, to simply the column with the dates \"customers['EINGEFUEGT_AM']\", just take the year and the month and place them in new columns, then drop the original, and then repeat for the 'azdias' dataframe!"
   ]
  },
  {
   "cell_type": "markdown",
   "metadata": {},
   "source": [
    "Repeat the above steps for the azdias and customers data frames. "
   ]
  },
  {
   "cell_type": "code",
   "execution_count": 38,
   "metadata": {},
   "outputs": [],
   "source": [
    "customers['year'] = pd.DatetimeIndex(customers['EINGEFUEGT_AM']).year"
   ]
  },
  {
   "cell_type": "code",
   "execution_count": 39,
   "metadata": {},
   "outputs": [
    {
     "data": {
      "text/html": [
       "<div>\n",
       "<style scoped>\n",
       "    .dataframe tbody tr th:only-of-type {\n",
       "        vertical-align: middle;\n",
       "    }\n",
       "\n",
       "    .dataframe tbody tr th {\n",
       "        vertical-align: top;\n",
       "    }\n",
       "\n",
       "    .dataframe thead th {\n",
       "        text-align: right;\n",
       "    }\n",
       "</style>\n",
       "<table border=\"1\" class=\"dataframe\">\n",
       "  <thead>\n",
       "    <tr style=\"text-align: right;\">\n",
       "      <th></th>\n",
       "      <th>LNR</th>\n",
       "      <th>AGER_TYP</th>\n",
       "      <th>AKT_DAT_KL</th>\n",
       "      <th>ALTER_HH</th>\n",
       "      <th>ALTER_KIND1</th>\n",
       "      <th>ALTER_KIND2</th>\n",
       "      <th>ALTER_KIND3</th>\n",
       "      <th>ALTER_KIND4</th>\n",
       "      <th>ALTERSKATEGORIE_FEIN</th>\n",
       "      <th>ANZ_HAUSHALTE_AKTIV</th>\n",
       "      <th>...</th>\n",
       "      <th>VK_DHT4A</th>\n",
       "      <th>VK_DISTANZ</th>\n",
       "      <th>VK_ZG11</th>\n",
       "      <th>W_KEIT_KIND_HH</th>\n",
       "      <th>WOHNDAUER_2008</th>\n",
       "      <th>WOHNLAGE</th>\n",
       "      <th>ZABEOTYP</th>\n",
       "      <th>ANREDE_KZ</th>\n",
       "      <th>ALTERSKATEGORIE_GROB</th>\n",
       "      <th>year</th>\n",
       "    </tr>\n",
       "  </thead>\n",
       "  <tbody>\n",
       "    <tr>\n",
       "      <th>103003</th>\n",
       "      <td>186482</td>\n",
       "      <td>-1</td>\n",
       "      <td>NaN</td>\n",
       "      <td>NaN</td>\n",
       "      <td>NaN</td>\n",
       "      <td>NaN</td>\n",
       "      <td>NaN</td>\n",
       "      <td>NaN</td>\n",
       "      <td>NaN</td>\n",
       "      <td>NaN</td>\n",
       "      <td>...</td>\n",
       "      <td>NaN</td>\n",
       "      <td>NaN</td>\n",
       "      <td>NaN</td>\n",
       "      <td>NaN</td>\n",
       "      <td>NaN</td>\n",
       "      <td>NaN</td>\n",
       "      <td>3</td>\n",
       "      <td>2</td>\n",
       "      <td>1</td>\n",
       "      <td>NaN</td>\n",
       "    </tr>\n",
       "    <tr>\n",
       "      <th>182995</th>\n",
       "      <td>6040</td>\n",
       "      <td>-1</td>\n",
       "      <td>NaN</td>\n",
       "      <td>NaN</td>\n",
       "      <td>NaN</td>\n",
       "      <td>NaN</td>\n",
       "      <td>NaN</td>\n",
       "      <td>NaN</td>\n",
       "      <td>NaN</td>\n",
       "      <td>NaN</td>\n",
       "      <td>...</td>\n",
       "      <td>NaN</td>\n",
       "      <td>NaN</td>\n",
       "      <td>NaN</td>\n",
       "      <td>NaN</td>\n",
       "      <td>NaN</td>\n",
       "      <td>NaN</td>\n",
       "      <td>3</td>\n",
       "      <td>1</td>\n",
       "      <td>2</td>\n",
       "      <td>NaN</td>\n",
       "    </tr>\n",
       "    <tr>\n",
       "      <th>97780</th>\n",
       "      <td>175399</td>\n",
       "      <td>-1</td>\n",
       "      <td>6.0</td>\n",
       "      <td>21.0</td>\n",
       "      <td>NaN</td>\n",
       "      <td>NaN</td>\n",
       "      <td>NaN</td>\n",
       "      <td>NaN</td>\n",
       "      <td>18.0</td>\n",
       "      <td>NaN</td>\n",
       "      <td>...</td>\n",
       "      <td>3.0</td>\n",
       "      <td>5.0</td>\n",
       "      <td>4.0</td>\n",
       "      <td>2.0</td>\n",
       "      <td>8.0</td>\n",
       "      <td>NaN</td>\n",
       "      <td>5</td>\n",
       "      <td>2</td>\n",
       "      <td>1</td>\n",
       "      <td>NaN</td>\n",
       "    </tr>\n",
       "    <tr>\n",
       "      <th>174298</th>\n",
       "      <td>163948</td>\n",
       "      <td>-1</td>\n",
       "      <td>NaN</td>\n",
       "      <td>NaN</td>\n",
       "      <td>NaN</td>\n",
       "      <td>NaN</td>\n",
       "      <td>NaN</td>\n",
       "      <td>NaN</td>\n",
       "      <td>NaN</td>\n",
       "      <td>NaN</td>\n",
       "      <td>...</td>\n",
       "      <td>NaN</td>\n",
       "      <td>NaN</td>\n",
       "      <td>NaN</td>\n",
       "      <td>NaN</td>\n",
       "      <td>NaN</td>\n",
       "      <td>NaN</td>\n",
       "      <td>3</td>\n",
       "      <td>2</td>\n",
       "      <td>1</td>\n",
       "      <td>NaN</td>\n",
       "    </tr>\n",
       "    <tr>\n",
       "      <th>176468</th>\n",
       "      <td>18237</td>\n",
       "      <td>1</td>\n",
       "      <td>2.0</td>\n",
       "      <td>10.0</td>\n",
       "      <td>NaN</td>\n",
       "      <td>NaN</td>\n",
       "      <td>NaN</td>\n",
       "      <td>NaN</td>\n",
       "      <td>10.0</td>\n",
       "      <td>8.0</td>\n",
       "      <td>...</td>\n",
       "      <td>4.0</td>\n",
       "      <td>2.0</td>\n",
       "      <td>1.0</td>\n",
       "      <td>6.0</td>\n",
       "      <td>9.0</td>\n",
       "      <td>7.0</td>\n",
       "      <td>3</td>\n",
       "      <td>2</td>\n",
       "      <td>4</td>\n",
       "      <td>1992.0</td>\n",
       "    </tr>\n",
       "  </tbody>\n",
       "</table>\n",
       "<p>5 rows × 366 columns</p>\n",
       "</div>"
      ],
      "text/plain": [
       "           LNR  AGER_TYP  AKT_DAT_KL  ALTER_HH  ALTER_KIND1  ALTER_KIND2  \\\n",
       "103003  186482        -1         NaN       NaN          NaN          NaN   \n",
       "182995    6040        -1         NaN       NaN          NaN          NaN   \n",
       "97780   175399        -1         6.0      21.0          NaN          NaN   \n",
       "174298  163948        -1         NaN       NaN          NaN          NaN   \n",
       "176468   18237         1         2.0      10.0          NaN          NaN   \n",
       "\n",
       "        ALTER_KIND3  ALTER_KIND4  ALTERSKATEGORIE_FEIN  ANZ_HAUSHALTE_AKTIV  \\\n",
       "103003          NaN          NaN                   NaN                  NaN   \n",
       "182995          NaN          NaN                   NaN                  NaN   \n",
       "97780           NaN          NaN                  18.0                  NaN   \n",
       "174298          NaN          NaN                   NaN                  NaN   \n",
       "176468          NaN          NaN                  10.0                  8.0   \n",
       "\n",
       "         ...    VK_DHT4A  VK_DISTANZ  VK_ZG11  W_KEIT_KIND_HH  WOHNDAUER_2008  \\\n",
       "103003   ...         NaN         NaN      NaN             NaN             NaN   \n",
       "182995   ...         NaN         NaN      NaN             NaN             NaN   \n",
       "97780    ...         3.0         5.0      4.0             2.0             8.0   \n",
       "174298   ...         NaN         NaN      NaN             NaN             NaN   \n",
       "176468   ...         4.0         2.0      1.0             6.0             9.0   \n",
       "\n",
       "        WOHNLAGE  ZABEOTYP ANREDE_KZ ALTERSKATEGORIE_GROB    year  \n",
       "103003       NaN         3         2                    1     NaN  \n",
       "182995       NaN         3         1                    2     NaN  \n",
       "97780        NaN         5         2                    1     NaN  \n",
       "174298       NaN         3         2                    1     NaN  \n",
       "176468       7.0         3         2                    4  1992.0  \n",
       "\n",
       "[5 rows x 366 columns]"
      ]
     },
     "execution_count": 39,
     "metadata": {},
     "output_type": "execute_result"
    }
   ],
   "source": [
    "customers = customers.drop(['EINGEFUEGT_AM'], axis=1)\n",
    "customers = pd.DataFrame(customers)\n",
    "customers.head()"
   ]
  },
  {
   "cell_type": "code",
   "execution_count": 40,
   "metadata": {},
   "outputs": [],
   "source": [
    "azdias['year'] = pd.DatetimeIndex(azdias['EINGEFUEGT_AM']).year"
   ]
  },
  {
   "cell_type": "code",
   "execution_count": 41,
   "metadata": {},
   "outputs": [
    {
     "data": {
      "text/html": [
       "<div>\n",
       "<style scoped>\n",
       "    .dataframe tbody tr th:only-of-type {\n",
       "        vertical-align: middle;\n",
       "    }\n",
       "\n",
       "    .dataframe tbody tr th {\n",
       "        vertical-align: top;\n",
       "    }\n",
       "\n",
       "    .dataframe thead th {\n",
       "        text-align: right;\n",
       "    }\n",
       "</style>\n",
       "<table border=\"1\" class=\"dataframe\">\n",
       "  <thead>\n",
       "    <tr style=\"text-align: right;\">\n",
       "      <th></th>\n",
       "      <th>LNR</th>\n",
       "      <th>AGER_TYP</th>\n",
       "      <th>AKT_DAT_KL</th>\n",
       "      <th>ALTER_HH</th>\n",
       "      <th>ALTER_KIND1</th>\n",
       "      <th>ALTER_KIND2</th>\n",
       "      <th>ALTER_KIND3</th>\n",
       "      <th>ALTER_KIND4</th>\n",
       "      <th>ALTERSKATEGORIE_FEIN</th>\n",
       "      <th>ANZ_HAUSHALTE_AKTIV</th>\n",
       "      <th>...</th>\n",
       "      <th>VK_DHT4A</th>\n",
       "      <th>VK_DISTANZ</th>\n",
       "      <th>VK_ZG11</th>\n",
       "      <th>W_KEIT_KIND_HH</th>\n",
       "      <th>WOHNDAUER_2008</th>\n",
       "      <th>WOHNLAGE</th>\n",
       "      <th>ZABEOTYP</th>\n",
       "      <th>ANREDE_KZ</th>\n",
       "      <th>ALTERSKATEGORIE_GROB</th>\n",
       "      <th>year</th>\n",
       "    </tr>\n",
       "  </thead>\n",
       "  <tbody>\n",
       "    <tr>\n",
       "      <th>437149</th>\n",
       "      <td>477810</td>\n",
       "      <td>2</td>\n",
       "      <td>9.0</td>\n",
       "      <td>13.0</td>\n",
       "      <td>NaN</td>\n",
       "      <td>NaN</td>\n",
       "      <td>NaN</td>\n",
       "      <td>NaN</td>\n",
       "      <td>13.0</td>\n",
       "      <td>21.0</td>\n",
       "      <td>...</td>\n",
       "      <td>10.0</td>\n",
       "      <td>10.0</td>\n",
       "      <td>7.0</td>\n",
       "      <td>4.0</td>\n",
       "      <td>8.0</td>\n",
       "      <td>4.0</td>\n",
       "      <td>3</td>\n",
       "      <td>1</td>\n",
       "      <td>4</td>\n",
       "      <td>1992.0</td>\n",
       "    </tr>\n",
       "    <tr>\n",
       "      <th>676423</th>\n",
       "      <td>599286</td>\n",
       "      <td>-1</td>\n",
       "      <td>9.0</td>\n",
       "      <td>13.0</td>\n",
       "      <td>NaN</td>\n",
       "      <td>NaN</td>\n",
       "      <td>NaN</td>\n",
       "      <td>NaN</td>\n",
       "      <td>NaN</td>\n",
       "      <td>1.0</td>\n",
       "      <td>...</td>\n",
       "      <td>3.0</td>\n",
       "      <td>6.0</td>\n",
       "      <td>5.0</td>\n",
       "      <td>3.0</td>\n",
       "      <td>9.0</td>\n",
       "      <td>7.0</td>\n",
       "      <td>1</td>\n",
       "      <td>2</td>\n",
       "      <td>3</td>\n",
       "      <td>1992.0</td>\n",
       "    </tr>\n",
       "    <tr>\n",
       "      <th>470322</th>\n",
       "      <td>961811</td>\n",
       "      <td>-1</td>\n",
       "      <td>1.0</td>\n",
       "      <td>18.0</td>\n",
       "      <td>NaN</td>\n",
       "      <td>NaN</td>\n",
       "      <td>NaN</td>\n",
       "      <td>NaN</td>\n",
       "      <td>18.0</td>\n",
       "      <td>1.0</td>\n",
       "      <td>...</td>\n",
       "      <td>8.0</td>\n",
       "      <td>11.0</td>\n",
       "      <td>9.0</td>\n",
       "      <td>3.0</td>\n",
       "      <td>8.0</td>\n",
       "      <td>7.0</td>\n",
       "      <td>4</td>\n",
       "      <td>2</td>\n",
       "      <td>2</td>\n",
       "      <td>1992.0</td>\n",
       "    </tr>\n",
       "    <tr>\n",
       "      <th>113791</th>\n",
       "      <td>354340</td>\n",
       "      <td>-1</td>\n",
       "      <td>9.0</td>\n",
       "      <td>19.0</td>\n",
       "      <td>NaN</td>\n",
       "      <td>NaN</td>\n",
       "      <td>NaN</td>\n",
       "      <td>NaN</td>\n",
       "      <td>19.0</td>\n",
       "      <td>1.0</td>\n",
       "      <td>...</td>\n",
       "      <td>3.0</td>\n",
       "      <td>4.0</td>\n",
       "      <td>2.0</td>\n",
       "      <td>2.0</td>\n",
       "      <td>9.0</td>\n",
       "      <td>2.0</td>\n",
       "      <td>2</td>\n",
       "      <td>2</td>\n",
       "      <td>1</td>\n",
       "      <td>1992.0</td>\n",
       "    </tr>\n",
       "    <tr>\n",
       "      <th>219237</th>\n",
       "      <td>582436</td>\n",
       "      <td>-1</td>\n",
       "      <td>9.0</td>\n",
       "      <td>13.0</td>\n",
       "      <td>NaN</td>\n",
       "      <td>NaN</td>\n",
       "      <td>NaN</td>\n",
       "      <td>NaN</td>\n",
       "      <td>NaN</td>\n",
       "      <td>64.0</td>\n",
       "      <td>...</td>\n",
       "      <td>5.0</td>\n",
       "      <td>7.0</td>\n",
       "      <td>4.0</td>\n",
       "      <td>2.0</td>\n",
       "      <td>9.0</td>\n",
       "      <td>5.0</td>\n",
       "      <td>2</td>\n",
       "      <td>2</td>\n",
       "      <td>2</td>\n",
       "      <td>1992.0</td>\n",
       "    </tr>\n",
       "  </tbody>\n",
       "</table>\n",
       "<p>5 rows × 366 columns</p>\n",
       "</div>"
      ],
      "text/plain": [
       "           LNR  AGER_TYP  AKT_DAT_KL  ALTER_HH  ALTER_KIND1  ALTER_KIND2  \\\n",
       "437149  477810         2         9.0      13.0          NaN          NaN   \n",
       "676423  599286        -1         9.0      13.0          NaN          NaN   \n",
       "470322  961811        -1         1.0      18.0          NaN          NaN   \n",
       "113791  354340        -1         9.0      19.0          NaN          NaN   \n",
       "219237  582436        -1         9.0      13.0          NaN          NaN   \n",
       "\n",
       "        ALTER_KIND3  ALTER_KIND4  ALTERSKATEGORIE_FEIN  ANZ_HAUSHALTE_AKTIV  \\\n",
       "437149          NaN          NaN                  13.0                 21.0   \n",
       "676423          NaN          NaN                   NaN                  1.0   \n",
       "470322          NaN          NaN                  18.0                  1.0   \n",
       "113791          NaN          NaN                  19.0                  1.0   \n",
       "219237          NaN          NaN                   NaN                 64.0   \n",
       "\n",
       "         ...    VK_DHT4A  VK_DISTANZ  VK_ZG11  W_KEIT_KIND_HH  WOHNDAUER_2008  \\\n",
       "437149   ...        10.0        10.0      7.0             4.0             8.0   \n",
       "676423   ...         3.0         6.0      5.0             3.0             9.0   \n",
       "470322   ...         8.0        11.0      9.0             3.0             8.0   \n",
       "113791   ...         3.0         4.0      2.0             2.0             9.0   \n",
       "219237   ...         5.0         7.0      4.0             2.0             9.0   \n",
       "\n",
       "        WOHNLAGE  ZABEOTYP ANREDE_KZ ALTERSKATEGORIE_GROB    year  \n",
       "437149       4.0         3         1                    4  1992.0  \n",
       "676423       7.0         1         2                    3  1992.0  \n",
       "470322       7.0         4         2                    2  1992.0  \n",
       "113791       2.0         2         2                    1  1992.0  \n",
       "219237       5.0         2         2                    2  1992.0  \n",
       "\n",
       "[5 rows x 366 columns]"
      ]
     },
     "execution_count": 41,
     "metadata": {},
     "output_type": "execute_result"
    }
   ],
   "source": [
    "azdias = azdias.drop(['EINGEFUEGT_AM'], axis=1)\n",
    "azdias.head()"
   ]
  },
  {
   "cell_type": "markdown",
   "metadata": {},
   "source": [
    "When the data frames were first uploaded there were some warning messages \"Columns (18,19) have mixed types. Specify dtype option on import or set low_memory=False.\" Therefore these columns and their missing data should be dealt with. "
   ]
  },
  {
   "cell_type": "code",
   "execution_count": 42,
   "metadata": {},
   "outputs": [
    {
     "data": {
      "text/plain": [
       "Index(['CAMEO_DEUG_2015', 'CAMEO_INTL_2015'], dtype='object')"
      ]
     },
     "execution_count": 42,
     "metadata": {},
     "output_type": "execute_result"
    }
   ],
   "source": [
    "azdias.columns[18:20]"
   ]
  },
  {
   "cell_type": "code",
   "execution_count": 43,
   "metadata": {},
   "outputs": [
    {
     "data": {
      "text/plain": [
       "array(['8', '2', 4.0, '5', '3', 6.0, '4', '6', 3.0, '1', 2.0, '7', '9',\n",
       "       nan, 5.0, 1.0, 8.0, 9.0, 'X', 7.0], dtype=object)"
      ]
     },
     "execution_count": 43,
     "metadata": {},
     "output_type": "execute_result"
    }
   ],
   "source": [
    "azdias['CAMEO_DEUG_2015'].unique()"
   ]
  },
  {
   "cell_type": "code",
   "execution_count": 44,
   "metadata": {},
   "outputs": [
    {
     "data": {
      "text/plain": [
       "array(['54', '14', 24.0, '34', '24', 44.0, '41', '25', '44', 23.0, '15',\n",
       "       43.0, '22', 45.0, '43', '33', 13.0, 14.0, '51', 22.0, nan, '52',\n",
       "       35.0, 25.0, 33.0, '45', 51.0, '23', '55', 52.0, 31.0, 55.0, 12.0,\n",
       "       41.0, 54.0, 'XX', '12', '13', '31', 32.0, '32', '35', 15.0, 34.0], dtype=object)"
      ]
     },
     "execution_count": 44,
     "metadata": {},
     "output_type": "execute_result"
    }
   ],
   "source": [
    "azdias['CAMEO_INTL_2015'].unique()"
   ]
  },
  {
   "cell_type": "markdown",
   "metadata": {},
   "source": [
    "There are values of 'X' and 'XX' given in these columns and they don't confer with the other values. They will be replaced with NaN's "
   ]
  },
  {
   "cell_type": "code",
   "execution_count": 45,
   "metadata": {},
   "outputs": [],
   "source": [
    "def convert_X(df):\n",
    "    \"\"\"\n",
    "    Replaces values of 'X' and 'XX' with NaN and converts all values in the column to a float\n",
    "\n",
    "    \"\"\"\n",
    "    cols = [\"CAMEO_DEUG_2015\", \"CAMEO_INTL_2015\"]\n",
    "    \n",
    "    df[cols] = df[cols].replace({\"X\": np.NaN, \"XX\": np.NaN})\n",
    "    df[cols] = df[cols].astype(float)\n",
    "    \n",
    "    return df"
   ]
  },
  {
   "cell_type": "code",
   "execution_count": 46,
   "metadata": {},
   "outputs": [
    {
     "data": {
      "text/html": [
       "<div>\n",
       "<style scoped>\n",
       "    .dataframe tbody tr th:only-of-type {\n",
       "        vertical-align: middle;\n",
       "    }\n",
       "\n",
       "    .dataframe tbody tr th {\n",
       "        vertical-align: top;\n",
       "    }\n",
       "\n",
       "    .dataframe thead th {\n",
       "        text-align: right;\n",
       "    }\n",
       "</style>\n",
       "<table border=\"1\" class=\"dataframe\">\n",
       "  <thead>\n",
       "    <tr style=\"text-align: right;\">\n",
       "      <th></th>\n",
       "      <th>LNR</th>\n",
       "      <th>AGER_TYP</th>\n",
       "      <th>AKT_DAT_KL</th>\n",
       "      <th>ALTER_HH</th>\n",
       "      <th>ALTER_KIND1</th>\n",
       "      <th>ALTER_KIND2</th>\n",
       "      <th>ALTER_KIND3</th>\n",
       "      <th>ALTER_KIND4</th>\n",
       "      <th>ALTERSKATEGORIE_FEIN</th>\n",
       "      <th>ANZ_HAUSHALTE_AKTIV</th>\n",
       "      <th>...</th>\n",
       "      <th>VK_DHT4A</th>\n",
       "      <th>VK_DISTANZ</th>\n",
       "      <th>VK_ZG11</th>\n",
       "      <th>W_KEIT_KIND_HH</th>\n",
       "      <th>WOHNDAUER_2008</th>\n",
       "      <th>WOHNLAGE</th>\n",
       "      <th>ZABEOTYP</th>\n",
       "      <th>ANREDE_KZ</th>\n",
       "      <th>ALTERSKATEGORIE_GROB</th>\n",
       "      <th>year</th>\n",
       "    </tr>\n",
       "  </thead>\n",
       "  <tbody>\n",
       "    <tr>\n",
       "      <th>103003</th>\n",
       "      <td>186482</td>\n",
       "      <td>-1</td>\n",
       "      <td>NaN</td>\n",
       "      <td>NaN</td>\n",
       "      <td>NaN</td>\n",
       "      <td>NaN</td>\n",
       "      <td>NaN</td>\n",
       "      <td>NaN</td>\n",
       "      <td>NaN</td>\n",
       "      <td>NaN</td>\n",
       "      <td>...</td>\n",
       "      <td>NaN</td>\n",
       "      <td>NaN</td>\n",
       "      <td>NaN</td>\n",
       "      <td>NaN</td>\n",
       "      <td>NaN</td>\n",
       "      <td>NaN</td>\n",
       "      <td>3</td>\n",
       "      <td>2</td>\n",
       "      <td>1</td>\n",
       "      <td>NaN</td>\n",
       "    </tr>\n",
       "    <tr>\n",
       "      <th>182995</th>\n",
       "      <td>6040</td>\n",
       "      <td>-1</td>\n",
       "      <td>NaN</td>\n",
       "      <td>NaN</td>\n",
       "      <td>NaN</td>\n",
       "      <td>NaN</td>\n",
       "      <td>NaN</td>\n",
       "      <td>NaN</td>\n",
       "      <td>NaN</td>\n",
       "      <td>NaN</td>\n",
       "      <td>...</td>\n",
       "      <td>NaN</td>\n",
       "      <td>NaN</td>\n",
       "      <td>NaN</td>\n",
       "      <td>NaN</td>\n",
       "      <td>NaN</td>\n",
       "      <td>NaN</td>\n",
       "      <td>3</td>\n",
       "      <td>1</td>\n",
       "      <td>2</td>\n",
       "      <td>NaN</td>\n",
       "    </tr>\n",
       "    <tr>\n",
       "      <th>97780</th>\n",
       "      <td>175399</td>\n",
       "      <td>-1</td>\n",
       "      <td>6.0</td>\n",
       "      <td>21.0</td>\n",
       "      <td>NaN</td>\n",
       "      <td>NaN</td>\n",
       "      <td>NaN</td>\n",
       "      <td>NaN</td>\n",
       "      <td>18.0</td>\n",
       "      <td>NaN</td>\n",
       "      <td>...</td>\n",
       "      <td>3.0</td>\n",
       "      <td>5.0</td>\n",
       "      <td>4.0</td>\n",
       "      <td>2.0</td>\n",
       "      <td>8.0</td>\n",
       "      <td>NaN</td>\n",
       "      <td>5</td>\n",
       "      <td>2</td>\n",
       "      <td>1</td>\n",
       "      <td>NaN</td>\n",
       "    </tr>\n",
       "    <tr>\n",
       "      <th>174298</th>\n",
       "      <td>163948</td>\n",
       "      <td>-1</td>\n",
       "      <td>NaN</td>\n",
       "      <td>NaN</td>\n",
       "      <td>NaN</td>\n",
       "      <td>NaN</td>\n",
       "      <td>NaN</td>\n",
       "      <td>NaN</td>\n",
       "      <td>NaN</td>\n",
       "      <td>NaN</td>\n",
       "      <td>...</td>\n",
       "      <td>NaN</td>\n",
       "      <td>NaN</td>\n",
       "      <td>NaN</td>\n",
       "      <td>NaN</td>\n",
       "      <td>NaN</td>\n",
       "      <td>NaN</td>\n",
       "      <td>3</td>\n",
       "      <td>2</td>\n",
       "      <td>1</td>\n",
       "      <td>NaN</td>\n",
       "    </tr>\n",
       "    <tr>\n",
       "      <th>176468</th>\n",
       "      <td>18237</td>\n",
       "      <td>1</td>\n",
       "      <td>2.0</td>\n",
       "      <td>10.0</td>\n",
       "      <td>NaN</td>\n",
       "      <td>NaN</td>\n",
       "      <td>NaN</td>\n",
       "      <td>NaN</td>\n",
       "      <td>10.0</td>\n",
       "      <td>8.0</td>\n",
       "      <td>...</td>\n",
       "      <td>4.0</td>\n",
       "      <td>2.0</td>\n",
       "      <td>1.0</td>\n",
       "      <td>6.0</td>\n",
       "      <td>9.0</td>\n",
       "      <td>7.0</td>\n",
       "      <td>3</td>\n",
       "      <td>2</td>\n",
       "      <td>4</td>\n",
       "      <td>1992.0</td>\n",
       "    </tr>\n",
       "  </tbody>\n",
       "</table>\n",
       "<p>5 rows × 366 columns</p>\n",
       "</div>"
      ],
      "text/plain": [
       "           LNR  AGER_TYP  AKT_DAT_KL  ALTER_HH  ALTER_KIND1  ALTER_KIND2  \\\n",
       "103003  186482        -1         NaN       NaN          NaN          NaN   \n",
       "182995    6040        -1         NaN       NaN          NaN          NaN   \n",
       "97780   175399        -1         6.0      21.0          NaN          NaN   \n",
       "174298  163948        -1         NaN       NaN          NaN          NaN   \n",
       "176468   18237         1         2.0      10.0          NaN          NaN   \n",
       "\n",
       "        ALTER_KIND3  ALTER_KIND4  ALTERSKATEGORIE_FEIN  ANZ_HAUSHALTE_AKTIV  \\\n",
       "103003          NaN          NaN                   NaN                  NaN   \n",
       "182995          NaN          NaN                   NaN                  NaN   \n",
       "97780           NaN          NaN                  18.0                  NaN   \n",
       "174298          NaN          NaN                   NaN                  NaN   \n",
       "176468          NaN          NaN                  10.0                  8.0   \n",
       "\n",
       "         ...    VK_DHT4A  VK_DISTANZ  VK_ZG11  W_KEIT_KIND_HH  WOHNDAUER_2008  \\\n",
       "103003   ...         NaN         NaN      NaN             NaN             NaN   \n",
       "182995   ...         NaN         NaN      NaN             NaN             NaN   \n",
       "97780    ...         3.0         5.0      4.0             2.0             8.0   \n",
       "174298   ...         NaN         NaN      NaN             NaN             NaN   \n",
       "176468   ...         4.0         2.0      1.0             6.0             9.0   \n",
       "\n",
       "        WOHNLAGE  ZABEOTYP ANREDE_KZ  ALTERSKATEGORIE_GROB    year  \n",
       "103003       NaN         3         2                     1     NaN  \n",
       "182995       NaN         3         1                     2     NaN  \n",
       "97780        NaN         5         2                     1     NaN  \n",
       "174298       NaN         3         2                     1     NaN  \n",
       "176468       7.0         3         2                     4  1992.0  \n",
       "\n",
       "[5 rows x 366 columns]"
      ]
     },
     "execution_count": 46,
     "metadata": {},
     "output_type": "execute_result"
    }
   ],
   "source": [
    "convert_X(customers)\n",
    "customers.head()"
   ]
  },
  {
   "cell_type": "code",
   "execution_count": 47,
   "metadata": {},
   "outputs": [
    {
     "data": {
      "text/html": [
       "<div>\n",
       "<style scoped>\n",
       "    .dataframe tbody tr th:only-of-type {\n",
       "        vertical-align: middle;\n",
       "    }\n",
       "\n",
       "    .dataframe tbody tr th {\n",
       "        vertical-align: top;\n",
       "    }\n",
       "\n",
       "    .dataframe thead th {\n",
       "        text-align: right;\n",
       "    }\n",
       "</style>\n",
       "<table border=\"1\" class=\"dataframe\">\n",
       "  <thead>\n",
       "    <tr style=\"text-align: right;\">\n",
       "      <th></th>\n",
       "      <th>LNR</th>\n",
       "      <th>AGER_TYP</th>\n",
       "      <th>AKT_DAT_KL</th>\n",
       "      <th>ALTER_HH</th>\n",
       "      <th>ALTER_KIND1</th>\n",
       "      <th>ALTER_KIND2</th>\n",
       "      <th>ALTER_KIND3</th>\n",
       "      <th>ALTER_KIND4</th>\n",
       "      <th>ALTERSKATEGORIE_FEIN</th>\n",
       "      <th>ANZ_HAUSHALTE_AKTIV</th>\n",
       "      <th>...</th>\n",
       "      <th>VK_DHT4A</th>\n",
       "      <th>VK_DISTANZ</th>\n",
       "      <th>VK_ZG11</th>\n",
       "      <th>W_KEIT_KIND_HH</th>\n",
       "      <th>WOHNDAUER_2008</th>\n",
       "      <th>WOHNLAGE</th>\n",
       "      <th>ZABEOTYP</th>\n",
       "      <th>ANREDE_KZ</th>\n",
       "      <th>ALTERSKATEGORIE_GROB</th>\n",
       "      <th>year</th>\n",
       "    </tr>\n",
       "  </thead>\n",
       "  <tbody>\n",
       "    <tr>\n",
       "      <th>437149</th>\n",
       "      <td>477810</td>\n",
       "      <td>2</td>\n",
       "      <td>9.0</td>\n",
       "      <td>13.0</td>\n",
       "      <td>NaN</td>\n",
       "      <td>NaN</td>\n",
       "      <td>NaN</td>\n",
       "      <td>NaN</td>\n",
       "      <td>13.0</td>\n",
       "      <td>21.0</td>\n",
       "      <td>...</td>\n",
       "      <td>10.0</td>\n",
       "      <td>10.0</td>\n",
       "      <td>7.0</td>\n",
       "      <td>4.0</td>\n",
       "      <td>8.0</td>\n",
       "      <td>4.0</td>\n",
       "      <td>3</td>\n",
       "      <td>1</td>\n",
       "      <td>4</td>\n",
       "      <td>1992.0</td>\n",
       "    </tr>\n",
       "    <tr>\n",
       "      <th>676423</th>\n",
       "      <td>599286</td>\n",
       "      <td>-1</td>\n",
       "      <td>9.0</td>\n",
       "      <td>13.0</td>\n",
       "      <td>NaN</td>\n",
       "      <td>NaN</td>\n",
       "      <td>NaN</td>\n",
       "      <td>NaN</td>\n",
       "      <td>NaN</td>\n",
       "      <td>1.0</td>\n",
       "      <td>...</td>\n",
       "      <td>3.0</td>\n",
       "      <td>6.0</td>\n",
       "      <td>5.0</td>\n",
       "      <td>3.0</td>\n",
       "      <td>9.0</td>\n",
       "      <td>7.0</td>\n",
       "      <td>1</td>\n",
       "      <td>2</td>\n",
       "      <td>3</td>\n",
       "      <td>1992.0</td>\n",
       "    </tr>\n",
       "    <tr>\n",
       "      <th>470322</th>\n",
       "      <td>961811</td>\n",
       "      <td>-1</td>\n",
       "      <td>1.0</td>\n",
       "      <td>18.0</td>\n",
       "      <td>NaN</td>\n",
       "      <td>NaN</td>\n",
       "      <td>NaN</td>\n",
       "      <td>NaN</td>\n",
       "      <td>18.0</td>\n",
       "      <td>1.0</td>\n",
       "      <td>...</td>\n",
       "      <td>8.0</td>\n",
       "      <td>11.0</td>\n",
       "      <td>9.0</td>\n",
       "      <td>3.0</td>\n",
       "      <td>8.0</td>\n",
       "      <td>7.0</td>\n",
       "      <td>4</td>\n",
       "      <td>2</td>\n",
       "      <td>2</td>\n",
       "      <td>1992.0</td>\n",
       "    </tr>\n",
       "    <tr>\n",
       "      <th>113791</th>\n",
       "      <td>354340</td>\n",
       "      <td>-1</td>\n",
       "      <td>9.0</td>\n",
       "      <td>19.0</td>\n",
       "      <td>NaN</td>\n",
       "      <td>NaN</td>\n",
       "      <td>NaN</td>\n",
       "      <td>NaN</td>\n",
       "      <td>19.0</td>\n",
       "      <td>1.0</td>\n",
       "      <td>...</td>\n",
       "      <td>3.0</td>\n",
       "      <td>4.0</td>\n",
       "      <td>2.0</td>\n",
       "      <td>2.0</td>\n",
       "      <td>9.0</td>\n",
       "      <td>2.0</td>\n",
       "      <td>2</td>\n",
       "      <td>2</td>\n",
       "      <td>1</td>\n",
       "      <td>1992.0</td>\n",
       "    </tr>\n",
       "    <tr>\n",
       "      <th>219237</th>\n",
       "      <td>582436</td>\n",
       "      <td>-1</td>\n",
       "      <td>9.0</td>\n",
       "      <td>13.0</td>\n",
       "      <td>NaN</td>\n",
       "      <td>NaN</td>\n",
       "      <td>NaN</td>\n",
       "      <td>NaN</td>\n",
       "      <td>NaN</td>\n",
       "      <td>64.0</td>\n",
       "      <td>...</td>\n",
       "      <td>5.0</td>\n",
       "      <td>7.0</td>\n",
       "      <td>4.0</td>\n",
       "      <td>2.0</td>\n",
       "      <td>9.0</td>\n",
       "      <td>5.0</td>\n",
       "      <td>2</td>\n",
       "      <td>2</td>\n",
       "      <td>2</td>\n",
       "      <td>1992.0</td>\n",
       "    </tr>\n",
       "  </tbody>\n",
       "</table>\n",
       "<p>5 rows × 366 columns</p>\n",
       "</div>"
      ],
      "text/plain": [
       "           LNR  AGER_TYP  AKT_DAT_KL  ALTER_HH  ALTER_KIND1  ALTER_KIND2  \\\n",
       "437149  477810         2         9.0      13.0          NaN          NaN   \n",
       "676423  599286        -1         9.0      13.0          NaN          NaN   \n",
       "470322  961811        -1         1.0      18.0          NaN          NaN   \n",
       "113791  354340        -1         9.0      19.0          NaN          NaN   \n",
       "219237  582436        -1         9.0      13.0          NaN          NaN   \n",
       "\n",
       "        ALTER_KIND3  ALTER_KIND4  ALTERSKATEGORIE_FEIN  ANZ_HAUSHALTE_AKTIV  \\\n",
       "437149          NaN          NaN                  13.0                 21.0   \n",
       "676423          NaN          NaN                   NaN                  1.0   \n",
       "470322          NaN          NaN                  18.0                  1.0   \n",
       "113791          NaN          NaN                  19.0                  1.0   \n",
       "219237          NaN          NaN                   NaN                 64.0   \n",
       "\n",
       "         ...    VK_DHT4A  VK_DISTANZ  VK_ZG11  W_KEIT_KIND_HH  WOHNDAUER_2008  \\\n",
       "437149   ...        10.0        10.0      7.0             4.0             8.0   \n",
       "676423   ...         3.0         6.0      5.0             3.0             9.0   \n",
       "470322   ...         8.0        11.0      9.0             3.0             8.0   \n",
       "113791   ...         3.0         4.0      2.0             2.0             9.0   \n",
       "219237   ...         5.0         7.0      4.0             2.0             9.0   \n",
       "\n",
       "        WOHNLAGE  ZABEOTYP ANREDE_KZ  ALTERSKATEGORIE_GROB    year  \n",
       "437149       4.0         3         1                     4  1992.0  \n",
       "676423       7.0         1         2                     3  1992.0  \n",
       "470322       7.0         4         2                     2  1992.0  \n",
       "113791       2.0         2         2                     1  1992.0  \n",
       "219237       5.0         2         2                     2  1992.0  \n",
       "\n",
       "[5 rows x 366 columns]"
      ]
     },
     "execution_count": 47,
     "metadata": {},
     "output_type": "execute_result"
    }
   ],
   "source": [
    "convert_X(azdias)\n",
    "azdias.head()"
   ]
  },
  {
   "cell_type": "markdown",
   "metadata": {},
   "source": [
    "Next, double check to make sure it worked. "
   ]
  },
  {
   "cell_type": "code",
   "execution_count": 48,
   "metadata": {},
   "outputs": [
    {
     "data": {
      "text/plain": [
       "array([  8.,   2.,   4.,   5.,   3.,   6.,   1.,   7.,   9.,  nan])"
      ]
     },
     "execution_count": 48,
     "metadata": {},
     "output_type": "execute_result"
    }
   ],
   "source": [
    "azdias['CAMEO_DEUG_2015'].unique()"
   ]
  },
  {
   "cell_type": "code",
   "execution_count": 49,
   "metadata": {},
   "outputs": [
    {
     "data": {
      "text/plain": [
       "array([ 54.,  14.,  24.,  34.,  44.,  41.,  25.,  23.,  15.,  43.,  22.,\n",
       "        45.,  33.,  13.,  51.,  nan,  52.,  35.,  55.,  31.,  12.,  32.])"
      ]
     },
     "execution_count": 49,
     "metadata": {},
     "output_type": "execute_result"
    }
   ],
   "source": [
    "azdias['CAMEO_INTL_2015'].unique()"
   ]
  },
  {
   "cell_type": "code",
   "execution_count": 50,
   "metadata": {},
   "outputs": [
    {
     "data": {
      "text/plain": [
       "array([ nan,   2.,   7.,   5.,   8.,   6.,   1.,   4.,   3.,   9.])"
      ]
     },
     "execution_count": 50,
     "metadata": {},
     "output_type": "execute_result"
    }
   ],
   "source": [
    "customers['CAMEO_DEUG_2015'].unique()"
   ]
  },
  {
   "cell_type": "code",
   "execution_count": 52,
   "metadata": {},
   "outputs": [
    {
     "data": {
      "text/plain": [
       "array([ nan,  14.,  12.,  41.,  31.,  55.,  43.,  45.,  34.,  25.,  24.,\n",
       "        15.,  54.,  22.,  51.,  35.,  13.,  32.,  23.,  52.,  33.,  44.])"
      ]
     },
     "execution_count": 52,
     "metadata": {},
     "output_type": "execute_result"
    }
   ],
   "source": [
    "customers['CAMEO_INTL_2015'].unique()"
   ]
  },
  {
   "cell_type": "markdown",
   "metadata": {},
   "source": [
    "This all checks out fine. "
   ]
  },
  {
   "cell_type": "markdown",
   "metadata": {},
   "source": [
    "Next, it looks like the dataframes have a lot of unknown values, represented by 0, -1, or nan. This will be handled by converting all unknowns to nan's. "
   ]
  },
  {
   "cell_type": "code",
   "execution_count": 53,
   "metadata": {},
   "outputs": [
    {
     "data": {
      "text/html": [
       "<div>\n",
       "<style scoped>\n",
       "    .dataframe tbody tr th:only-of-type {\n",
       "        vertical-align: middle;\n",
       "    }\n",
       "\n",
       "    .dataframe tbody tr th {\n",
       "        vertical-align: top;\n",
       "    }\n",
       "\n",
       "    .dataframe thead th {\n",
       "        text-align: right;\n",
       "    }\n",
       "</style>\n",
       "<table border=\"1\" class=\"dataframe\">\n",
       "  <thead>\n",
       "    <tr style=\"text-align: right;\">\n",
       "      <th></th>\n",
       "      <th>Attribute</th>\n",
       "      <th>Description</th>\n",
       "      <th>Value</th>\n",
       "      <th>Meaning</th>\n",
       "    </tr>\n",
       "  </thead>\n",
       "  <tbody>\n",
       "    <tr>\n",
       "      <th>0</th>\n",
       "      <td>AGER_TYP</td>\n",
       "      <td>best-ager typology</td>\n",
       "      <td>-1</td>\n",
       "      <td>unknown</td>\n",
       "    </tr>\n",
       "    <tr>\n",
       "      <th>5</th>\n",
       "      <td>ALTERSKATEGORIE_GROB</td>\n",
       "      <td>age classification through prename analysis</td>\n",
       "      <td>-1, 0</td>\n",
       "      <td>unknown</td>\n",
       "    </tr>\n",
       "    <tr>\n",
       "      <th>33</th>\n",
       "      <td>ANREDE_KZ</td>\n",
       "      <td>gender</td>\n",
       "      <td>-1, 0</td>\n",
       "      <td>unknown</td>\n",
       "    </tr>\n",
       "    <tr>\n",
       "      <th>40</th>\n",
       "      <td>BALLRAUM</td>\n",
       "      <td>distance to next urban centre</td>\n",
       "      <td>-1</td>\n",
       "      <td>unknown</td>\n",
       "    </tr>\n",
       "    <tr>\n",
       "      <th>51</th>\n",
       "      <td>CAMEO_DEUG_2015</td>\n",
       "      <td>CAMEO classification 2015 - Uppergroup</td>\n",
       "      <td>-1</td>\n",
       "      <td>unknown</td>\n",
       "    </tr>\n",
       "  </tbody>\n",
       "</table>\n",
       "</div>"
      ],
      "text/plain": [
       "               Attribute                                   Description  Value  \\\n",
       "0               AGER_TYP                            best-ager typology     -1   \n",
       "5   ALTERSKATEGORIE_GROB  age classification through prename analysis   -1, 0   \n",
       "33             ANREDE_KZ                                        gender  -1, 0   \n",
       "40              BALLRAUM                distance to next urban centre      -1   \n",
       "51       CAMEO_DEUG_2015        CAMEO classification 2015 - Uppergroup     -1   \n",
       "\n",
       "    Meaning  \n",
       "0   unknown  \n",
       "5   unknown  \n",
       "33  unknown  \n",
       "40  unknown  \n",
       "51  unknown  "
      ]
     },
     "execution_count": 53,
     "metadata": {},
     "output_type": "execute_result"
    }
   ],
   "source": [
    "unknown_df = feature_values[feature_values['Meaning']=='unknown']\n",
    "unknown_df.head()"
   ]
  },
  {
   "cell_type": "code",
   "execution_count": 54,
   "metadata": {},
   "outputs": [
    {
     "data": {
      "text/plain": [
       "Attribute\n",
       "ALTERSKATEGORIE_GROB    -1, 0\n",
       "ANREDE_KZ               -1, 0\n",
       "BALLRAUM                   -1\n",
       "CAMEO_DEUG_2015            -1\n",
       "CJT_GESAMTTYP               0\n",
       "EWDICHTE                   -1\n",
       "FINANZTYP                  -1\n",
       "FINANZ_ANLEGER             -1\n",
       "FINANZ_HAUSBAUER           -1\n",
       "dtype: object"
      ]
     },
     "execution_count": 54,
     "metadata": {},
     "output_type": "execute_result"
    }
   ],
   "source": [
    "unknown = pd.Series(unknown_df['Value'].values, index=unknown_df['Attribute'])\n",
    "unknown[1:10]"
   ]
  },
  {
   "cell_type": "markdown",
   "metadata": {},
   "source": [
    "Get a list of columns of the dataframe where the unknown values are = -1. "
   ]
  },
  {
   "cell_type": "code",
   "execution_count": 55,
   "metadata": {},
   "outputs": [
    {
     "data": {
      "text/plain": [
       "['BALLRAUM',\n",
       " 'CAMEO_DEUG_2015',\n",
       " 'EWDICHTE',\n",
       " 'FINANZTYP',\n",
       " 'FINANZ_ANLEGER',\n",
       " 'FINANZ_HAUSBAUER',\n",
       " 'FINANZ_MINIMALIST',\n",
       " 'FINANZ_SPARER',\n",
       " 'FINANZ_UNAUFFAELLIGER']"
      ]
     },
     "execution_count": 55,
     "metadata": {},
     "output_type": "execute_result"
    }
   ],
   "source": [
    "neg_one_columns = unknown_df[unknown_df['Value']==-1].Attribute\n",
    "neg_one_columns = list(neg_one_columns)\n",
    "neg_one_columns[1:10]"
   ]
  },
  {
   "cell_type": "markdown",
   "metadata": {},
   "source": [
    "Next, get the unknown columns that have unknown values of '-1, 0'."
   ]
  },
  {
   "cell_type": "code",
   "execution_count": 56,
   "metadata": {},
   "outputs": [
    {
     "data": {
      "text/plain": [
       "['ALTERSKATEGORIE_GROB',\n",
       " 'ANREDE_KZ',\n",
       " 'GEBAEUDETYP',\n",
       " 'HH_EINKOMMEN_SCORE',\n",
       " 'KBA05_BAUMAX',\n",
       " 'KBA05_GBZ',\n",
       " 'KKK',\n",
       " 'NATIONALITAET_KZ',\n",
       " 'PRAEGENDE_JUGENDJAHRE',\n",
       " 'REGIOTYP',\n",
       " 'TITEL_KZ',\n",
       " 'WOHNDAUER_2008',\n",
       " 'W_KEIT_KIND_HH']"
      ]
     },
     "execution_count": 56,
     "metadata": {},
     "output_type": "execute_result"
    }
   ],
   "source": [
    "neg_one_and_zero_columns = unknown_df[unknown_df['Value'] == '-1, 0'].Attribute\n",
    "neg_one_and_zero_columns = list(neg_one_and_zero_columns)\n",
    "neg_one_and_zero_columns"
   ]
  },
  {
   "cell_type": "markdown",
   "metadata": {},
   "source": [
    "Next, get the columns that have '-1, 9' as an unknown value"
   ]
  },
  {
   "cell_type": "code",
   "execution_count": 57,
   "metadata": {},
   "outputs": [
    {
     "data": {
      "text/plain": [
       "['KBA05_ALTER2',\n",
       " 'KBA05_ALTER3',\n",
       " 'KBA05_ALTER4',\n",
       " 'KBA05_ANHANG',\n",
       " 'KBA05_AUTOQUOT',\n",
       " 'KBA05_CCM1',\n",
       " 'KBA05_CCM2',\n",
       " 'KBA05_CCM3',\n",
       " 'KBA05_CCM4',\n",
       " 'KBA05_DIESEL',\n",
       " 'KBA05_FRAU',\n",
       " 'KBA05_HERST1',\n",
       " 'KBA05_HERST2',\n",
       " 'KBA05_HERST3']"
      ]
     },
     "execution_count": 57,
     "metadata": {},
     "output_type": "execute_result"
    }
   ],
   "source": [
    "neg_one_and_nine_columns = unknown_df[unknown_df['Value'] == '-1, 9'].Attribute\n",
    "neg_one_and_nine_columns = list(neg_one_and_nine_columns)\n",
    "neg_one_and_nine_columns[1:15]"
   ]
  },
  {
   "cell_type": "markdown",
   "metadata": {},
   "source": [
    "And the last set of unknown columns is those that have '0' as an unknown value."
   ]
  },
  {
   "cell_type": "code",
   "execution_count": 58,
   "metadata": {},
   "outputs": [
    {
     "data": {
      "text/plain": [
       "['CJT_GESAMTTYP', 'RETOURTYP_BK_S']"
      ]
     },
     "execution_count": 58,
     "metadata": {},
     "output_type": "execute_result"
    }
   ],
   "source": [
    "zero_columns = unknown_df[unknown_df['Value'] == 0].Attribute\n",
    "zero_columns = list(zero_columns)\n",
    "zero_columns"
   ]
  },
  {
   "cell_type": "markdown",
   "metadata": {},
   "source": [
    "In this step, four different functions are written that will replace the four different kinds of unknown values that are in the 'azdias' and 'customers' dataframes. "
   ]
  },
  {
   "cell_type": "code",
   "execution_count": 7,
   "metadata": {},
   "outputs": [],
   "source": [
    "def convert_neg_ones_and_zeroes(df):\n",
    "    \"\"\"\n",
    "    Replaces values of '-1, 0' with NaN\n",
    "    \n",
    "    INPUT:\n",
    "    -df: A dataframe\n",
    "    \n",
    "    OUTPUT:\n",
    "    -df: A dataframe with columns that have been cleaned\n",
    "\n",
    "    \"\"\"\n",
    "    cols = ['ALTERSKATEGORIE_GROB','ANREDE_KZ','GEBAEUDETYP','HH_EINKOMMEN_SCORE','KBA05_BAUMAX','KBA05_GBZ','KKK',\n",
    "            'NATIONALITAET_KZ','PRAEGENDE_JUGENDJAHRE','REGIOTYP','TITEL_KZ','WOHNDAUER_2008','W_KEIT_KIND_HH']\n",
    "\n",
    "    df[cols] = df[cols].replace({'-1, 0': np.NaN})\n",
    "    \n",
    "    return df"
   ]
  },
  {
   "cell_type": "code",
   "execution_count": 57,
   "metadata": {},
   "outputs": [
    {
     "data": {
      "text/plain": [
       "array([  6.,   4.,  nan,   3.,   2.,   1.,   0.,   5.])"
      ]
     },
     "execution_count": 57,
     "metadata": {},
     "output_type": "execute_result"
    }
   ],
   "source": [
    "mailout_train['W_KEIT_KIND_HH'].unique()"
   ]
  },
  {
   "cell_type": "code",
   "execution_count": 60,
   "metadata": {},
   "outputs": [],
   "source": [
    "def convert_neg_ones(df):\n",
    "    \"\"\"\n",
    "    Replaces values of '-1' with NaN \n",
    "    \n",
    "    INPUT:\n",
    "    -df: A dataframe\n",
    "    \n",
    "    OUTPUT:\n",
    "    -df: A dataframe with columns that have been cleaned\n",
    "\n",
    "    \"\"\"\n",
    "    cols = neg_one_columns\n",
    "    \n",
    "    df[cols] = df[cols].replace({'-1': np.NaN})\n",
    "    \n",
    "    return df"
   ]
  },
  {
   "cell_type": "code",
   "execution_count": 61,
   "metadata": {},
   "outputs": [],
   "source": [
    "def convert_neg_ones_and_nines(df):\n",
    "    \"\"\"\n",
    "    Replaces values of '-1, 9' with NaN\n",
    "    \n",
    "    INPUT:\n",
    "    -df: A dataframe\n",
    "    \n",
    "    OUTPUT:\n",
    "    -df: A dataframe with columns that have been cleaned\n",
    "\n",
    "    \"\"\"\n",
    "    cols = neg_one_and_nine_columns\n",
    "    \n",
    "    df[cols] = df[cols].astype(str)\n",
    "    \n",
    "    df[cols] = df[cols].replace({'-1, 9': np.NaN})\n",
    "    \n",
    "    return df"
   ]
  },
  {
   "cell_type": "code",
   "execution_count": 8,
   "metadata": {},
   "outputs": [],
   "source": [
    "def convert_zeros(df):\n",
    "    \"\"\"\n",
    "    Replaces values of '0' with NaN\n",
    "    \n",
    "    INPUT:\n",
    "    -df: A dataframe\n",
    "    \n",
    "    OUTPUT:\n",
    "    -df: A dataframe with columns that have been cleaned\n",
    "\n",
    "    \"\"\"\n",
    "    cols = zero_columns\n",
    "    \n",
    "    #df[cols] = df[cols].astype(str)\n",
    "    \n",
    "    df[cols] = df[cols].replace({0: np.NaN})\n",
    "    \n",
    "    return df"
   ]
  },
  {
   "cell_type": "markdown",
   "metadata": {},
   "source": [
    "Now that the necessary functions have been created, convert the unknown values to 'nan' values in both the 'customers' and then the 'azdias' dataframes."
   ]
  },
  {
   "cell_type": "code",
   "execution_count": 63,
   "metadata": {},
   "outputs": [
    {
     "data": {
      "text/html": [
       "<div>\n",
       "<style scoped>\n",
       "    .dataframe tbody tr th:only-of-type {\n",
       "        vertical-align: middle;\n",
       "    }\n",
       "\n",
       "    .dataframe tbody tr th {\n",
       "        vertical-align: top;\n",
       "    }\n",
       "\n",
       "    .dataframe thead th {\n",
       "        text-align: right;\n",
       "    }\n",
       "</style>\n",
       "<table border=\"1\" class=\"dataframe\">\n",
       "  <thead>\n",
       "    <tr style=\"text-align: right;\">\n",
       "      <th></th>\n",
       "      <th>LNR</th>\n",
       "      <th>AGER_TYP</th>\n",
       "      <th>AKT_DAT_KL</th>\n",
       "      <th>ALTER_HH</th>\n",
       "      <th>ALTER_KIND1</th>\n",
       "      <th>ALTER_KIND2</th>\n",
       "      <th>ALTER_KIND3</th>\n",
       "      <th>ALTER_KIND4</th>\n",
       "      <th>ALTERSKATEGORIE_FEIN</th>\n",
       "      <th>ANZ_HAUSHALTE_AKTIV</th>\n",
       "      <th>...</th>\n",
       "      <th>VK_DHT4A</th>\n",
       "      <th>VK_DISTANZ</th>\n",
       "      <th>VK_ZG11</th>\n",
       "      <th>W_KEIT_KIND_HH</th>\n",
       "      <th>WOHNDAUER_2008</th>\n",
       "      <th>WOHNLAGE</th>\n",
       "      <th>ZABEOTYP</th>\n",
       "      <th>ANREDE_KZ</th>\n",
       "      <th>ALTERSKATEGORIE_GROB</th>\n",
       "      <th>year</th>\n",
       "    </tr>\n",
       "  </thead>\n",
       "  <tbody>\n",
       "    <tr>\n",
       "      <th>103003</th>\n",
       "      <td>186482</td>\n",
       "      <td>-1</td>\n",
       "      <td>NaN</td>\n",
       "      <td>NaN</td>\n",
       "      <td>NaN</td>\n",
       "      <td>NaN</td>\n",
       "      <td>NaN</td>\n",
       "      <td>NaN</td>\n",
       "      <td>NaN</td>\n",
       "      <td>NaN</td>\n",
       "      <td>...</td>\n",
       "      <td>NaN</td>\n",
       "      <td>NaN</td>\n",
       "      <td>NaN</td>\n",
       "      <td>NaN</td>\n",
       "      <td>NaN</td>\n",
       "      <td>NaN</td>\n",
       "      <td>3</td>\n",
       "      <td>2</td>\n",
       "      <td>1</td>\n",
       "      <td>NaN</td>\n",
       "    </tr>\n",
       "    <tr>\n",
       "      <th>182995</th>\n",
       "      <td>6040</td>\n",
       "      <td>-1</td>\n",
       "      <td>NaN</td>\n",
       "      <td>NaN</td>\n",
       "      <td>NaN</td>\n",
       "      <td>NaN</td>\n",
       "      <td>NaN</td>\n",
       "      <td>NaN</td>\n",
       "      <td>NaN</td>\n",
       "      <td>NaN</td>\n",
       "      <td>...</td>\n",
       "      <td>NaN</td>\n",
       "      <td>NaN</td>\n",
       "      <td>NaN</td>\n",
       "      <td>NaN</td>\n",
       "      <td>NaN</td>\n",
       "      <td>NaN</td>\n",
       "      <td>3</td>\n",
       "      <td>1</td>\n",
       "      <td>2</td>\n",
       "      <td>NaN</td>\n",
       "    </tr>\n",
       "    <tr>\n",
       "      <th>97780</th>\n",
       "      <td>175399</td>\n",
       "      <td>-1</td>\n",
       "      <td>6.0</td>\n",
       "      <td>21.0</td>\n",
       "      <td>NaN</td>\n",
       "      <td>NaN</td>\n",
       "      <td>NaN</td>\n",
       "      <td>NaN</td>\n",
       "      <td>18.0</td>\n",
       "      <td>NaN</td>\n",
       "      <td>...</td>\n",
       "      <td>3.0</td>\n",
       "      <td>5.0</td>\n",
       "      <td>4.0</td>\n",
       "      <td>2.0</td>\n",
       "      <td>8.0</td>\n",
       "      <td>NaN</td>\n",
       "      <td>5</td>\n",
       "      <td>2</td>\n",
       "      <td>1</td>\n",
       "      <td>NaN</td>\n",
       "    </tr>\n",
       "    <tr>\n",
       "      <th>174298</th>\n",
       "      <td>163948</td>\n",
       "      <td>-1</td>\n",
       "      <td>NaN</td>\n",
       "      <td>NaN</td>\n",
       "      <td>NaN</td>\n",
       "      <td>NaN</td>\n",
       "      <td>NaN</td>\n",
       "      <td>NaN</td>\n",
       "      <td>NaN</td>\n",
       "      <td>NaN</td>\n",
       "      <td>...</td>\n",
       "      <td>NaN</td>\n",
       "      <td>NaN</td>\n",
       "      <td>NaN</td>\n",
       "      <td>NaN</td>\n",
       "      <td>NaN</td>\n",
       "      <td>NaN</td>\n",
       "      <td>3</td>\n",
       "      <td>2</td>\n",
       "      <td>1</td>\n",
       "      <td>NaN</td>\n",
       "    </tr>\n",
       "    <tr>\n",
       "      <th>176468</th>\n",
       "      <td>18237</td>\n",
       "      <td>1</td>\n",
       "      <td>2.0</td>\n",
       "      <td>10.0</td>\n",
       "      <td>NaN</td>\n",
       "      <td>NaN</td>\n",
       "      <td>NaN</td>\n",
       "      <td>NaN</td>\n",
       "      <td>10.0</td>\n",
       "      <td>8.0</td>\n",
       "      <td>...</td>\n",
       "      <td>4.0</td>\n",
       "      <td>2.0</td>\n",
       "      <td>1.0</td>\n",
       "      <td>6.0</td>\n",
       "      <td>9.0</td>\n",
       "      <td>7.0</td>\n",
       "      <td>3</td>\n",
       "      <td>2</td>\n",
       "      <td>4</td>\n",
       "      <td>1992.0</td>\n",
       "    </tr>\n",
       "  </tbody>\n",
       "</table>\n",
       "<p>5 rows × 366 columns</p>\n",
       "</div>"
      ],
      "text/plain": [
       "           LNR  AGER_TYP  AKT_DAT_KL  ALTER_HH  ALTER_KIND1  ALTER_KIND2  \\\n",
       "103003  186482        -1         NaN       NaN          NaN          NaN   \n",
       "182995    6040        -1         NaN       NaN          NaN          NaN   \n",
       "97780   175399        -1         6.0      21.0          NaN          NaN   \n",
       "174298  163948        -1         NaN       NaN          NaN          NaN   \n",
       "176468   18237         1         2.0      10.0          NaN          NaN   \n",
       "\n",
       "        ALTER_KIND3  ALTER_KIND4  ALTERSKATEGORIE_FEIN  ANZ_HAUSHALTE_AKTIV  \\\n",
       "103003          NaN          NaN                   NaN                  NaN   \n",
       "182995          NaN          NaN                   NaN                  NaN   \n",
       "97780           NaN          NaN                  18.0                  NaN   \n",
       "174298          NaN          NaN                   NaN                  NaN   \n",
       "176468          NaN          NaN                  10.0                  8.0   \n",
       "\n",
       "         ...    VK_DHT4A  VK_DISTANZ  VK_ZG11  W_KEIT_KIND_HH  WOHNDAUER_2008  \\\n",
       "103003   ...         NaN         NaN      NaN             NaN             NaN   \n",
       "182995   ...         NaN         NaN      NaN             NaN             NaN   \n",
       "97780    ...         3.0         5.0      4.0             2.0             8.0   \n",
       "174298   ...         NaN         NaN      NaN             NaN             NaN   \n",
       "176468   ...         4.0         2.0      1.0             6.0             9.0   \n",
       "\n",
       "        WOHNLAGE  ZABEOTYP ANREDE_KZ  ALTERSKATEGORIE_GROB    year  \n",
       "103003       NaN         3         2                     1     NaN  \n",
       "182995       NaN         3         1                     2     NaN  \n",
       "97780        NaN         5         2                     1     NaN  \n",
       "174298       NaN         3         2                     1     NaN  \n",
       "176468       7.0         3         2                     4  1992.0  \n",
       "\n",
       "[5 rows x 366 columns]"
      ]
     },
     "execution_count": 63,
     "metadata": {},
     "output_type": "execute_result"
    }
   ],
   "source": [
    "convert_neg_ones_and_zeroes(customers)\n",
    "customers.head()"
   ]
  },
  {
   "cell_type": "code",
   "execution_count": 64,
   "metadata": {},
   "outputs": [
    {
     "data": {
      "text/html": [
       "<div>\n",
       "<style scoped>\n",
       "    .dataframe tbody tr th:only-of-type {\n",
       "        vertical-align: middle;\n",
       "    }\n",
       "\n",
       "    .dataframe tbody tr th {\n",
       "        vertical-align: top;\n",
       "    }\n",
       "\n",
       "    .dataframe thead th {\n",
       "        text-align: right;\n",
       "    }\n",
       "</style>\n",
       "<table border=\"1\" class=\"dataframe\">\n",
       "  <thead>\n",
       "    <tr style=\"text-align: right;\">\n",
       "      <th></th>\n",
       "      <th>LNR</th>\n",
       "      <th>AGER_TYP</th>\n",
       "      <th>AKT_DAT_KL</th>\n",
       "      <th>ALTER_HH</th>\n",
       "      <th>ALTER_KIND1</th>\n",
       "      <th>ALTER_KIND2</th>\n",
       "      <th>ALTER_KIND3</th>\n",
       "      <th>ALTER_KIND4</th>\n",
       "      <th>ALTERSKATEGORIE_FEIN</th>\n",
       "      <th>ANZ_HAUSHALTE_AKTIV</th>\n",
       "      <th>...</th>\n",
       "      <th>VK_DHT4A</th>\n",
       "      <th>VK_DISTANZ</th>\n",
       "      <th>VK_ZG11</th>\n",
       "      <th>W_KEIT_KIND_HH</th>\n",
       "      <th>WOHNDAUER_2008</th>\n",
       "      <th>WOHNLAGE</th>\n",
       "      <th>ZABEOTYP</th>\n",
       "      <th>ANREDE_KZ</th>\n",
       "      <th>ALTERSKATEGORIE_GROB</th>\n",
       "      <th>year</th>\n",
       "    </tr>\n",
       "  </thead>\n",
       "  <tbody>\n",
       "    <tr>\n",
       "      <th>437149</th>\n",
       "      <td>477810</td>\n",
       "      <td>2</td>\n",
       "      <td>9.0</td>\n",
       "      <td>13.0</td>\n",
       "      <td>NaN</td>\n",
       "      <td>NaN</td>\n",
       "      <td>NaN</td>\n",
       "      <td>NaN</td>\n",
       "      <td>13.0</td>\n",
       "      <td>21.0</td>\n",
       "      <td>...</td>\n",
       "      <td>10.0</td>\n",
       "      <td>10.0</td>\n",
       "      <td>7.0</td>\n",
       "      <td>4.0</td>\n",
       "      <td>8.0</td>\n",
       "      <td>4.0</td>\n",
       "      <td>3</td>\n",
       "      <td>1</td>\n",
       "      <td>4</td>\n",
       "      <td>1992.0</td>\n",
       "    </tr>\n",
       "    <tr>\n",
       "      <th>676423</th>\n",
       "      <td>599286</td>\n",
       "      <td>-1</td>\n",
       "      <td>9.0</td>\n",
       "      <td>13.0</td>\n",
       "      <td>NaN</td>\n",
       "      <td>NaN</td>\n",
       "      <td>NaN</td>\n",
       "      <td>NaN</td>\n",
       "      <td>NaN</td>\n",
       "      <td>1.0</td>\n",
       "      <td>...</td>\n",
       "      <td>3.0</td>\n",
       "      <td>6.0</td>\n",
       "      <td>5.0</td>\n",
       "      <td>3.0</td>\n",
       "      <td>9.0</td>\n",
       "      <td>7.0</td>\n",
       "      <td>1</td>\n",
       "      <td>2</td>\n",
       "      <td>3</td>\n",
       "      <td>1992.0</td>\n",
       "    </tr>\n",
       "    <tr>\n",
       "      <th>470322</th>\n",
       "      <td>961811</td>\n",
       "      <td>-1</td>\n",
       "      <td>1.0</td>\n",
       "      <td>18.0</td>\n",
       "      <td>NaN</td>\n",
       "      <td>NaN</td>\n",
       "      <td>NaN</td>\n",
       "      <td>NaN</td>\n",
       "      <td>18.0</td>\n",
       "      <td>1.0</td>\n",
       "      <td>...</td>\n",
       "      <td>8.0</td>\n",
       "      <td>11.0</td>\n",
       "      <td>9.0</td>\n",
       "      <td>3.0</td>\n",
       "      <td>8.0</td>\n",
       "      <td>7.0</td>\n",
       "      <td>4</td>\n",
       "      <td>2</td>\n",
       "      <td>2</td>\n",
       "      <td>1992.0</td>\n",
       "    </tr>\n",
       "    <tr>\n",
       "      <th>113791</th>\n",
       "      <td>354340</td>\n",
       "      <td>-1</td>\n",
       "      <td>9.0</td>\n",
       "      <td>19.0</td>\n",
       "      <td>NaN</td>\n",
       "      <td>NaN</td>\n",
       "      <td>NaN</td>\n",
       "      <td>NaN</td>\n",
       "      <td>19.0</td>\n",
       "      <td>1.0</td>\n",
       "      <td>...</td>\n",
       "      <td>3.0</td>\n",
       "      <td>4.0</td>\n",
       "      <td>2.0</td>\n",
       "      <td>2.0</td>\n",
       "      <td>9.0</td>\n",
       "      <td>2.0</td>\n",
       "      <td>2</td>\n",
       "      <td>2</td>\n",
       "      <td>1</td>\n",
       "      <td>1992.0</td>\n",
       "    </tr>\n",
       "    <tr>\n",
       "      <th>219237</th>\n",
       "      <td>582436</td>\n",
       "      <td>-1</td>\n",
       "      <td>9.0</td>\n",
       "      <td>13.0</td>\n",
       "      <td>NaN</td>\n",
       "      <td>NaN</td>\n",
       "      <td>NaN</td>\n",
       "      <td>NaN</td>\n",
       "      <td>NaN</td>\n",
       "      <td>64.0</td>\n",
       "      <td>...</td>\n",
       "      <td>5.0</td>\n",
       "      <td>7.0</td>\n",
       "      <td>4.0</td>\n",
       "      <td>2.0</td>\n",
       "      <td>9.0</td>\n",
       "      <td>5.0</td>\n",
       "      <td>2</td>\n",
       "      <td>2</td>\n",
       "      <td>2</td>\n",
       "      <td>1992.0</td>\n",
       "    </tr>\n",
       "  </tbody>\n",
       "</table>\n",
       "<p>5 rows × 366 columns</p>\n",
       "</div>"
      ],
      "text/plain": [
       "           LNR  AGER_TYP  AKT_DAT_KL  ALTER_HH  ALTER_KIND1  ALTER_KIND2  \\\n",
       "437149  477810         2         9.0      13.0          NaN          NaN   \n",
       "676423  599286        -1         9.0      13.0          NaN          NaN   \n",
       "470322  961811        -1         1.0      18.0          NaN          NaN   \n",
       "113791  354340        -1         9.0      19.0          NaN          NaN   \n",
       "219237  582436        -1         9.0      13.0          NaN          NaN   \n",
       "\n",
       "        ALTER_KIND3  ALTER_KIND4  ALTERSKATEGORIE_FEIN  ANZ_HAUSHALTE_AKTIV  \\\n",
       "437149          NaN          NaN                  13.0                 21.0   \n",
       "676423          NaN          NaN                   NaN                  1.0   \n",
       "470322          NaN          NaN                  18.0                  1.0   \n",
       "113791          NaN          NaN                  19.0                  1.0   \n",
       "219237          NaN          NaN                   NaN                 64.0   \n",
       "\n",
       "         ...    VK_DHT4A  VK_DISTANZ  VK_ZG11  W_KEIT_KIND_HH  WOHNDAUER_2008  \\\n",
       "437149   ...        10.0        10.0      7.0             4.0             8.0   \n",
       "676423   ...         3.0         6.0      5.0             3.0             9.0   \n",
       "470322   ...         8.0        11.0      9.0             3.0             8.0   \n",
       "113791   ...         3.0         4.0      2.0             2.0             9.0   \n",
       "219237   ...         5.0         7.0      4.0             2.0             9.0   \n",
       "\n",
       "        WOHNLAGE  ZABEOTYP ANREDE_KZ  ALTERSKATEGORIE_GROB    year  \n",
       "437149       4.0         3         1                     4  1992.0  \n",
       "676423       7.0         1         2                     3  1992.0  \n",
       "470322       7.0         4         2                     2  1992.0  \n",
       "113791       2.0         2         2                     1  1992.0  \n",
       "219237       5.0         2         2                     2  1992.0  \n",
       "\n",
       "[5 rows x 366 columns]"
      ]
     },
     "execution_count": 64,
     "metadata": {},
     "output_type": "execute_result"
    }
   ],
   "source": [
    "convert_neg_ones_and_zeroes(azdias)\n",
    "azdias.head()"
   ]
  },
  {
   "cell_type": "code",
   "execution_count": 65,
   "metadata": {},
   "outputs": [
    {
     "data": {
      "text/html": [
       "<div>\n",
       "<style scoped>\n",
       "    .dataframe tbody tr th:only-of-type {\n",
       "        vertical-align: middle;\n",
       "    }\n",
       "\n",
       "    .dataframe tbody tr th {\n",
       "        vertical-align: top;\n",
       "    }\n",
       "\n",
       "    .dataframe thead th {\n",
       "        text-align: right;\n",
       "    }\n",
       "</style>\n",
       "<table border=\"1\" class=\"dataframe\">\n",
       "  <thead>\n",
       "    <tr style=\"text-align: right;\">\n",
       "      <th></th>\n",
       "      <th>LNR</th>\n",
       "      <th>AGER_TYP</th>\n",
       "      <th>AKT_DAT_KL</th>\n",
       "      <th>ALTER_HH</th>\n",
       "      <th>ALTER_KIND1</th>\n",
       "      <th>ALTER_KIND2</th>\n",
       "      <th>ALTER_KIND3</th>\n",
       "      <th>ALTER_KIND4</th>\n",
       "      <th>ALTERSKATEGORIE_FEIN</th>\n",
       "      <th>ANZ_HAUSHALTE_AKTIV</th>\n",
       "      <th>...</th>\n",
       "      <th>VK_DHT4A</th>\n",
       "      <th>VK_DISTANZ</th>\n",
       "      <th>VK_ZG11</th>\n",
       "      <th>W_KEIT_KIND_HH</th>\n",
       "      <th>WOHNDAUER_2008</th>\n",
       "      <th>WOHNLAGE</th>\n",
       "      <th>ZABEOTYP</th>\n",
       "      <th>ANREDE_KZ</th>\n",
       "      <th>ALTERSKATEGORIE_GROB</th>\n",
       "      <th>year</th>\n",
       "    </tr>\n",
       "  </thead>\n",
       "  <tbody>\n",
       "    <tr>\n",
       "      <th>103003</th>\n",
       "      <td>186482</td>\n",
       "      <td>-1</td>\n",
       "      <td>NaN</td>\n",
       "      <td>NaN</td>\n",
       "      <td>NaN</td>\n",
       "      <td>NaN</td>\n",
       "      <td>NaN</td>\n",
       "      <td>NaN</td>\n",
       "      <td>NaN</td>\n",
       "      <td>NaN</td>\n",
       "      <td>...</td>\n",
       "      <td>NaN</td>\n",
       "      <td>NaN</td>\n",
       "      <td>NaN</td>\n",
       "      <td>NaN</td>\n",
       "      <td>NaN</td>\n",
       "      <td>NaN</td>\n",
       "      <td>3</td>\n",
       "      <td>2</td>\n",
       "      <td>1</td>\n",
       "      <td>NaN</td>\n",
       "    </tr>\n",
       "    <tr>\n",
       "      <th>182995</th>\n",
       "      <td>6040</td>\n",
       "      <td>-1</td>\n",
       "      <td>NaN</td>\n",
       "      <td>NaN</td>\n",
       "      <td>NaN</td>\n",
       "      <td>NaN</td>\n",
       "      <td>NaN</td>\n",
       "      <td>NaN</td>\n",
       "      <td>NaN</td>\n",
       "      <td>NaN</td>\n",
       "      <td>...</td>\n",
       "      <td>NaN</td>\n",
       "      <td>NaN</td>\n",
       "      <td>NaN</td>\n",
       "      <td>NaN</td>\n",
       "      <td>NaN</td>\n",
       "      <td>NaN</td>\n",
       "      <td>3</td>\n",
       "      <td>1</td>\n",
       "      <td>2</td>\n",
       "      <td>NaN</td>\n",
       "    </tr>\n",
       "    <tr>\n",
       "      <th>97780</th>\n",
       "      <td>175399</td>\n",
       "      <td>-1</td>\n",
       "      <td>6.0</td>\n",
       "      <td>21.0</td>\n",
       "      <td>NaN</td>\n",
       "      <td>NaN</td>\n",
       "      <td>NaN</td>\n",
       "      <td>NaN</td>\n",
       "      <td>18.0</td>\n",
       "      <td>NaN</td>\n",
       "      <td>...</td>\n",
       "      <td>3.0</td>\n",
       "      <td>5.0</td>\n",
       "      <td>4.0</td>\n",
       "      <td>2.0</td>\n",
       "      <td>8.0</td>\n",
       "      <td>NaN</td>\n",
       "      <td>5</td>\n",
       "      <td>2</td>\n",
       "      <td>1</td>\n",
       "      <td>NaN</td>\n",
       "    </tr>\n",
       "    <tr>\n",
       "      <th>174298</th>\n",
       "      <td>163948</td>\n",
       "      <td>-1</td>\n",
       "      <td>NaN</td>\n",
       "      <td>NaN</td>\n",
       "      <td>NaN</td>\n",
       "      <td>NaN</td>\n",
       "      <td>NaN</td>\n",
       "      <td>NaN</td>\n",
       "      <td>NaN</td>\n",
       "      <td>NaN</td>\n",
       "      <td>...</td>\n",
       "      <td>NaN</td>\n",
       "      <td>NaN</td>\n",
       "      <td>NaN</td>\n",
       "      <td>NaN</td>\n",
       "      <td>NaN</td>\n",
       "      <td>NaN</td>\n",
       "      <td>3</td>\n",
       "      <td>2</td>\n",
       "      <td>1</td>\n",
       "      <td>NaN</td>\n",
       "    </tr>\n",
       "    <tr>\n",
       "      <th>176468</th>\n",
       "      <td>18237</td>\n",
       "      <td>1</td>\n",
       "      <td>2.0</td>\n",
       "      <td>10.0</td>\n",
       "      <td>NaN</td>\n",
       "      <td>NaN</td>\n",
       "      <td>NaN</td>\n",
       "      <td>NaN</td>\n",
       "      <td>10.0</td>\n",
       "      <td>8.0</td>\n",
       "      <td>...</td>\n",
       "      <td>4.0</td>\n",
       "      <td>2.0</td>\n",
       "      <td>1.0</td>\n",
       "      <td>6.0</td>\n",
       "      <td>9.0</td>\n",
       "      <td>7.0</td>\n",
       "      <td>3</td>\n",
       "      <td>2</td>\n",
       "      <td>4</td>\n",
       "      <td>1992.0</td>\n",
       "    </tr>\n",
       "  </tbody>\n",
       "</table>\n",
       "<p>5 rows × 366 columns</p>\n",
       "</div>"
      ],
      "text/plain": [
       "           LNR  AGER_TYP  AKT_DAT_KL  ALTER_HH  ALTER_KIND1  ALTER_KIND2  \\\n",
       "103003  186482        -1         NaN       NaN          NaN          NaN   \n",
       "182995    6040        -1         NaN       NaN          NaN          NaN   \n",
       "97780   175399        -1         6.0      21.0          NaN          NaN   \n",
       "174298  163948        -1         NaN       NaN          NaN          NaN   \n",
       "176468   18237         1         2.0      10.0          NaN          NaN   \n",
       "\n",
       "        ALTER_KIND3  ALTER_KIND4  ALTERSKATEGORIE_FEIN  ANZ_HAUSHALTE_AKTIV  \\\n",
       "103003          NaN          NaN                   NaN                  NaN   \n",
       "182995          NaN          NaN                   NaN                  NaN   \n",
       "97780           NaN          NaN                  18.0                  NaN   \n",
       "174298          NaN          NaN                   NaN                  NaN   \n",
       "176468          NaN          NaN                  10.0                  8.0   \n",
       "\n",
       "         ...    VK_DHT4A  VK_DISTANZ  VK_ZG11  W_KEIT_KIND_HH  WOHNDAUER_2008  \\\n",
       "103003   ...         NaN         NaN      NaN             NaN             NaN   \n",
       "182995   ...         NaN         NaN      NaN             NaN             NaN   \n",
       "97780    ...         3.0         5.0      4.0             2.0             8.0   \n",
       "174298   ...         NaN         NaN      NaN             NaN             NaN   \n",
       "176468   ...         4.0         2.0      1.0             6.0             9.0   \n",
       "\n",
       "        WOHNLAGE  ZABEOTYP ANREDE_KZ  ALTERSKATEGORIE_GROB    year  \n",
       "103003       NaN         3         2                     1     NaN  \n",
       "182995       NaN         3         1                     2     NaN  \n",
       "97780        NaN         5         2                     1     NaN  \n",
       "174298       NaN         3         2                     1     NaN  \n",
       "176468       7.0         3         2                     4  1992.0  \n",
       "\n",
       "[5 rows x 366 columns]"
      ]
     },
     "execution_count": 65,
     "metadata": {},
     "output_type": "execute_result"
    }
   ],
   "source": [
    "convert_neg_ones(customers)\n",
    "customers.head()"
   ]
  },
  {
   "cell_type": "code",
   "execution_count": 66,
   "metadata": {},
   "outputs": [
    {
     "data": {
      "text/html": [
       "<div>\n",
       "<style scoped>\n",
       "    .dataframe tbody tr th:only-of-type {\n",
       "        vertical-align: middle;\n",
       "    }\n",
       "\n",
       "    .dataframe tbody tr th {\n",
       "        vertical-align: top;\n",
       "    }\n",
       "\n",
       "    .dataframe thead th {\n",
       "        text-align: right;\n",
       "    }\n",
       "</style>\n",
       "<table border=\"1\" class=\"dataframe\">\n",
       "  <thead>\n",
       "    <tr style=\"text-align: right;\">\n",
       "      <th></th>\n",
       "      <th>LNR</th>\n",
       "      <th>AGER_TYP</th>\n",
       "      <th>AKT_DAT_KL</th>\n",
       "      <th>ALTER_HH</th>\n",
       "      <th>ALTER_KIND1</th>\n",
       "      <th>ALTER_KIND2</th>\n",
       "      <th>ALTER_KIND3</th>\n",
       "      <th>ALTER_KIND4</th>\n",
       "      <th>ALTERSKATEGORIE_FEIN</th>\n",
       "      <th>ANZ_HAUSHALTE_AKTIV</th>\n",
       "      <th>...</th>\n",
       "      <th>VK_DHT4A</th>\n",
       "      <th>VK_DISTANZ</th>\n",
       "      <th>VK_ZG11</th>\n",
       "      <th>W_KEIT_KIND_HH</th>\n",
       "      <th>WOHNDAUER_2008</th>\n",
       "      <th>WOHNLAGE</th>\n",
       "      <th>ZABEOTYP</th>\n",
       "      <th>ANREDE_KZ</th>\n",
       "      <th>ALTERSKATEGORIE_GROB</th>\n",
       "      <th>year</th>\n",
       "    </tr>\n",
       "  </thead>\n",
       "  <tbody>\n",
       "    <tr>\n",
       "      <th>437149</th>\n",
       "      <td>477810</td>\n",
       "      <td>2</td>\n",
       "      <td>9.0</td>\n",
       "      <td>13.0</td>\n",
       "      <td>NaN</td>\n",
       "      <td>NaN</td>\n",
       "      <td>NaN</td>\n",
       "      <td>NaN</td>\n",
       "      <td>13.0</td>\n",
       "      <td>21.0</td>\n",
       "      <td>...</td>\n",
       "      <td>10.0</td>\n",
       "      <td>10.0</td>\n",
       "      <td>7.0</td>\n",
       "      <td>4.0</td>\n",
       "      <td>8.0</td>\n",
       "      <td>4.0</td>\n",
       "      <td>3</td>\n",
       "      <td>1</td>\n",
       "      <td>4</td>\n",
       "      <td>1992.0</td>\n",
       "    </tr>\n",
       "    <tr>\n",
       "      <th>676423</th>\n",
       "      <td>599286</td>\n",
       "      <td>-1</td>\n",
       "      <td>9.0</td>\n",
       "      <td>13.0</td>\n",
       "      <td>NaN</td>\n",
       "      <td>NaN</td>\n",
       "      <td>NaN</td>\n",
       "      <td>NaN</td>\n",
       "      <td>NaN</td>\n",
       "      <td>1.0</td>\n",
       "      <td>...</td>\n",
       "      <td>3.0</td>\n",
       "      <td>6.0</td>\n",
       "      <td>5.0</td>\n",
       "      <td>3.0</td>\n",
       "      <td>9.0</td>\n",
       "      <td>7.0</td>\n",
       "      <td>1</td>\n",
       "      <td>2</td>\n",
       "      <td>3</td>\n",
       "      <td>1992.0</td>\n",
       "    </tr>\n",
       "    <tr>\n",
       "      <th>470322</th>\n",
       "      <td>961811</td>\n",
       "      <td>-1</td>\n",
       "      <td>1.0</td>\n",
       "      <td>18.0</td>\n",
       "      <td>NaN</td>\n",
       "      <td>NaN</td>\n",
       "      <td>NaN</td>\n",
       "      <td>NaN</td>\n",
       "      <td>18.0</td>\n",
       "      <td>1.0</td>\n",
       "      <td>...</td>\n",
       "      <td>8.0</td>\n",
       "      <td>11.0</td>\n",
       "      <td>9.0</td>\n",
       "      <td>3.0</td>\n",
       "      <td>8.0</td>\n",
       "      <td>7.0</td>\n",
       "      <td>4</td>\n",
       "      <td>2</td>\n",
       "      <td>2</td>\n",
       "      <td>1992.0</td>\n",
       "    </tr>\n",
       "    <tr>\n",
       "      <th>113791</th>\n",
       "      <td>354340</td>\n",
       "      <td>-1</td>\n",
       "      <td>9.0</td>\n",
       "      <td>19.0</td>\n",
       "      <td>NaN</td>\n",
       "      <td>NaN</td>\n",
       "      <td>NaN</td>\n",
       "      <td>NaN</td>\n",
       "      <td>19.0</td>\n",
       "      <td>1.0</td>\n",
       "      <td>...</td>\n",
       "      <td>3.0</td>\n",
       "      <td>4.0</td>\n",
       "      <td>2.0</td>\n",
       "      <td>2.0</td>\n",
       "      <td>9.0</td>\n",
       "      <td>2.0</td>\n",
       "      <td>2</td>\n",
       "      <td>2</td>\n",
       "      <td>1</td>\n",
       "      <td>1992.0</td>\n",
       "    </tr>\n",
       "    <tr>\n",
       "      <th>219237</th>\n",
       "      <td>582436</td>\n",
       "      <td>-1</td>\n",
       "      <td>9.0</td>\n",
       "      <td>13.0</td>\n",
       "      <td>NaN</td>\n",
       "      <td>NaN</td>\n",
       "      <td>NaN</td>\n",
       "      <td>NaN</td>\n",
       "      <td>NaN</td>\n",
       "      <td>64.0</td>\n",
       "      <td>...</td>\n",
       "      <td>5.0</td>\n",
       "      <td>7.0</td>\n",
       "      <td>4.0</td>\n",
       "      <td>2.0</td>\n",
       "      <td>9.0</td>\n",
       "      <td>5.0</td>\n",
       "      <td>2</td>\n",
       "      <td>2</td>\n",
       "      <td>2</td>\n",
       "      <td>1992.0</td>\n",
       "    </tr>\n",
       "  </tbody>\n",
       "</table>\n",
       "<p>5 rows × 366 columns</p>\n",
       "</div>"
      ],
      "text/plain": [
       "           LNR  AGER_TYP  AKT_DAT_KL  ALTER_HH  ALTER_KIND1  ALTER_KIND2  \\\n",
       "437149  477810         2         9.0      13.0          NaN          NaN   \n",
       "676423  599286        -1         9.0      13.0          NaN          NaN   \n",
       "470322  961811        -1         1.0      18.0          NaN          NaN   \n",
       "113791  354340        -1         9.0      19.0          NaN          NaN   \n",
       "219237  582436        -1         9.0      13.0          NaN          NaN   \n",
       "\n",
       "        ALTER_KIND3  ALTER_KIND4  ALTERSKATEGORIE_FEIN  ANZ_HAUSHALTE_AKTIV  \\\n",
       "437149          NaN          NaN                  13.0                 21.0   \n",
       "676423          NaN          NaN                   NaN                  1.0   \n",
       "470322          NaN          NaN                  18.0                  1.0   \n",
       "113791          NaN          NaN                  19.0                  1.0   \n",
       "219237          NaN          NaN                   NaN                 64.0   \n",
       "\n",
       "         ...    VK_DHT4A  VK_DISTANZ  VK_ZG11  W_KEIT_KIND_HH  WOHNDAUER_2008  \\\n",
       "437149   ...        10.0        10.0      7.0             4.0             8.0   \n",
       "676423   ...         3.0         6.0      5.0             3.0             9.0   \n",
       "470322   ...         8.0        11.0      9.0             3.0             8.0   \n",
       "113791   ...         3.0         4.0      2.0             2.0             9.0   \n",
       "219237   ...         5.0         7.0      4.0             2.0             9.0   \n",
       "\n",
       "        WOHNLAGE  ZABEOTYP ANREDE_KZ  ALTERSKATEGORIE_GROB    year  \n",
       "437149       4.0         3         1                     4  1992.0  \n",
       "676423       7.0         1         2                     3  1992.0  \n",
       "470322       7.0         4         2                     2  1992.0  \n",
       "113791       2.0         2         2                     1  1992.0  \n",
       "219237       5.0         2         2                     2  1992.0  \n",
       "\n",
       "[5 rows x 366 columns]"
      ]
     },
     "execution_count": 66,
     "metadata": {},
     "output_type": "execute_result"
    }
   ],
   "source": [
    "convert_neg_ones(azdias)\n",
    "azdias.head()"
   ]
  },
  {
   "cell_type": "code",
   "execution_count": 67,
   "metadata": {},
   "outputs": [
    {
     "data": {
      "text/html": [
       "<div>\n",
       "<style scoped>\n",
       "    .dataframe tbody tr th:only-of-type {\n",
       "        vertical-align: middle;\n",
       "    }\n",
       "\n",
       "    .dataframe tbody tr th {\n",
       "        vertical-align: top;\n",
       "    }\n",
       "\n",
       "    .dataframe thead th {\n",
       "        text-align: right;\n",
       "    }\n",
       "</style>\n",
       "<table border=\"1\" class=\"dataframe\">\n",
       "  <thead>\n",
       "    <tr style=\"text-align: right;\">\n",
       "      <th></th>\n",
       "      <th>LNR</th>\n",
       "      <th>AGER_TYP</th>\n",
       "      <th>AKT_DAT_KL</th>\n",
       "      <th>ALTER_HH</th>\n",
       "      <th>ALTER_KIND1</th>\n",
       "      <th>ALTER_KIND2</th>\n",
       "      <th>ALTER_KIND3</th>\n",
       "      <th>ALTER_KIND4</th>\n",
       "      <th>ALTERSKATEGORIE_FEIN</th>\n",
       "      <th>ANZ_HAUSHALTE_AKTIV</th>\n",
       "      <th>...</th>\n",
       "      <th>VK_DHT4A</th>\n",
       "      <th>VK_DISTANZ</th>\n",
       "      <th>VK_ZG11</th>\n",
       "      <th>W_KEIT_KIND_HH</th>\n",
       "      <th>WOHNDAUER_2008</th>\n",
       "      <th>WOHNLAGE</th>\n",
       "      <th>ZABEOTYP</th>\n",
       "      <th>ANREDE_KZ</th>\n",
       "      <th>ALTERSKATEGORIE_GROB</th>\n",
       "      <th>year</th>\n",
       "    </tr>\n",
       "  </thead>\n",
       "  <tbody>\n",
       "    <tr>\n",
       "      <th>103003</th>\n",
       "      <td>186482</td>\n",
       "      <td>-1</td>\n",
       "      <td>NaN</td>\n",
       "      <td>NaN</td>\n",
       "      <td>NaN</td>\n",
       "      <td>NaN</td>\n",
       "      <td>NaN</td>\n",
       "      <td>NaN</td>\n",
       "      <td>NaN</td>\n",
       "      <td>NaN</td>\n",
       "      <td>...</td>\n",
       "      <td>NaN</td>\n",
       "      <td>NaN</td>\n",
       "      <td>NaN</td>\n",
       "      <td>NaN</td>\n",
       "      <td>NaN</td>\n",
       "      <td>NaN</td>\n",
       "      <td>3</td>\n",
       "      <td>2</td>\n",
       "      <td>1</td>\n",
       "      <td>NaN</td>\n",
       "    </tr>\n",
       "    <tr>\n",
       "      <th>182995</th>\n",
       "      <td>6040</td>\n",
       "      <td>-1</td>\n",
       "      <td>NaN</td>\n",
       "      <td>NaN</td>\n",
       "      <td>NaN</td>\n",
       "      <td>NaN</td>\n",
       "      <td>NaN</td>\n",
       "      <td>NaN</td>\n",
       "      <td>NaN</td>\n",
       "      <td>NaN</td>\n",
       "      <td>...</td>\n",
       "      <td>NaN</td>\n",
       "      <td>NaN</td>\n",
       "      <td>NaN</td>\n",
       "      <td>NaN</td>\n",
       "      <td>NaN</td>\n",
       "      <td>NaN</td>\n",
       "      <td>3</td>\n",
       "      <td>1</td>\n",
       "      <td>2</td>\n",
       "      <td>NaN</td>\n",
       "    </tr>\n",
       "    <tr>\n",
       "      <th>97780</th>\n",
       "      <td>175399</td>\n",
       "      <td>-1</td>\n",
       "      <td>6.0</td>\n",
       "      <td>21.0</td>\n",
       "      <td>NaN</td>\n",
       "      <td>NaN</td>\n",
       "      <td>NaN</td>\n",
       "      <td>NaN</td>\n",
       "      <td>18.0</td>\n",
       "      <td>NaN</td>\n",
       "      <td>...</td>\n",
       "      <td>3.0</td>\n",
       "      <td>5.0</td>\n",
       "      <td>4.0</td>\n",
       "      <td>2.0</td>\n",
       "      <td>8.0</td>\n",
       "      <td>NaN</td>\n",
       "      <td>5</td>\n",
       "      <td>2</td>\n",
       "      <td>1</td>\n",
       "      <td>NaN</td>\n",
       "    </tr>\n",
       "    <tr>\n",
       "      <th>174298</th>\n",
       "      <td>163948</td>\n",
       "      <td>-1</td>\n",
       "      <td>NaN</td>\n",
       "      <td>NaN</td>\n",
       "      <td>NaN</td>\n",
       "      <td>NaN</td>\n",
       "      <td>NaN</td>\n",
       "      <td>NaN</td>\n",
       "      <td>NaN</td>\n",
       "      <td>NaN</td>\n",
       "      <td>...</td>\n",
       "      <td>NaN</td>\n",
       "      <td>NaN</td>\n",
       "      <td>NaN</td>\n",
       "      <td>NaN</td>\n",
       "      <td>NaN</td>\n",
       "      <td>NaN</td>\n",
       "      <td>3</td>\n",
       "      <td>2</td>\n",
       "      <td>1</td>\n",
       "      <td>NaN</td>\n",
       "    </tr>\n",
       "    <tr>\n",
       "      <th>176468</th>\n",
       "      <td>18237</td>\n",
       "      <td>1</td>\n",
       "      <td>2.0</td>\n",
       "      <td>10.0</td>\n",
       "      <td>NaN</td>\n",
       "      <td>NaN</td>\n",
       "      <td>NaN</td>\n",
       "      <td>NaN</td>\n",
       "      <td>10.0</td>\n",
       "      <td>8.0</td>\n",
       "      <td>...</td>\n",
       "      <td>4.0</td>\n",
       "      <td>2.0</td>\n",
       "      <td>1.0</td>\n",
       "      <td>6.0</td>\n",
       "      <td>9.0</td>\n",
       "      <td>7.0</td>\n",
       "      <td>3</td>\n",
       "      <td>2</td>\n",
       "      <td>4</td>\n",
       "      <td>1992.0</td>\n",
       "    </tr>\n",
       "  </tbody>\n",
       "</table>\n",
       "<p>5 rows × 366 columns</p>\n",
       "</div>"
      ],
      "text/plain": [
       "           LNR  AGER_TYP  AKT_DAT_KL  ALTER_HH  ALTER_KIND1  ALTER_KIND2  \\\n",
       "103003  186482        -1         NaN       NaN          NaN          NaN   \n",
       "182995    6040        -1         NaN       NaN          NaN          NaN   \n",
       "97780   175399        -1         6.0      21.0          NaN          NaN   \n",
       "174298  163948        -1         NaN       NaN          NaN          NaN   \n",
       "176468   18237         1         2.0      10.0          NaN          NaN   \n",
       "\n",
       "        ALTER_KIND3  ALTER_KIND4  ALTERSKATEGORIE_FEIN  ANZ_HAUSHALTE_AKTIV  \\\n",
       "103003          NaN          NaN                   NaN                  NaN   \n",
       "182995          NaN          NaN                   NaN                  NaN   \n",
       "97780           NaN          NaN                  18.0                  NaN   \n",
       "174298          NaN          NaN                   NaN                  NaN   \n",
       "176468          NaN          NaN                  10.0                  8.0   \n",
       "\n",
       "         ...    VK_DHT4A  VK_DISTANZ  VK_ZG11  W_KEIT_KIND_HH  WOHNDAUER_2008  \\\n",
       "103003   ...         NaN         NaN      NaN             NaN             NaN   \n",
       "182995   ...         NaN         NaN      NaN             NaN             NaN   \n",
       "97780    ...         3.0         5.0      4.0             2.0             8.0   \n",
       "174298   ...         NaN         NaN      NaN             NaN             NaN   \n",
       "176468   ...         4.0         2.0      1.0             6.0             9.0   \n",
       "\n",
       "        WOHNLAGE  ZABEOTYP ANREDE_KZ  ALTERSKATEGORIE_GROB    year  \n",
       "103003       NaN         3         2                     1     NaN  \n",
       "182995       NaN         3         1                     2     NaN  \n",
       "97780        NaN         5         2                     1     NaN  \n",
       "174298       NaN         3         2                     1     NaN  \n",
       "176468       7.0         3         2                     4  1992.0  \n",
       "\n",
       "[5 rows x 366 columns]"
      ]
     },
     "execution_count": 67,
     "metadata": {},
     "output_type": "execute_result"
    }
   ],
   "source": [
    "convert_neg_ones_and_nines(customers)\n",
    "customers.head()"
   ]
  },
  {
   "cell_type": "code",
   "execution_count": 68,
   "metadata": {},
   "outputs": [
    {
     "data": {
      "text/html": [
       "<div>\n",
       "<style scoped>\n",
       "    .dataframe tbody tr th:only-of-type {\n",
       "        vertical-align: middle;\n",
       "    }\n",
       "\n",
       "    .dataframe tbody tr th {\n",
       "        vertical-align: top;\n",
       "    }\n",
       "\n",
       "    .dataframe thead th {\n",
       "        text-align: right;\n",
       "    }\n",
       "</style>\n",
       "<table border=\"1\" class=\"dataframe\">\n",
       "  <thead>\n",
       "    <tr style=\"text-align: right;\">\n",
       "      <th></th>\n",
       "      <th>LNR</th>\n",
       "      <th>AGER_TYP</th>\n",
       "      <th>AKT_DAT_KL</th>\n",
       "      <th>ALTER_HH</th>\n",
       "      <th>ALTER_KIND1</th>\n",
       "      <th>ALTER_KIND2</th>\n",
       "      <th>ALTER_KIND3</th>\n",
       "      <th>ALTER_KIND4</th>\n",
       "      <th>ALTERSKATEGORIE_FEIN</th>\n",
       "      <th>ANZ_HAUSHALTE_AKTIV</th>\n",
       "      <th>...</th>\n",
       "      <th>VK_DHT4A</th>\n",
       "      <th>VK_DISTANZ</th>\n",
       "      <th>VK_ZG11</th>\n",
       "      <th>W_KEIT_KIND_HH</th>\n",
       "      <th>WOHNDAUER_2008</th>\n",
       "      <th>WOHNLAGE</th>\n",
       "      <th>ZABEOTYP</th>\n",
       "      <th>ANREDE_KZ</th>\n",
       "      <th>ALTERSKATEGORIE_GROB</th>\n",
       "      <th>year</th>\n",
       "    </tr>\n",
       "  </thead>\n",
       "  <tbody>\n",
       "    <tr>\n",
       "      <th>437149</th>\n",
       "      <td>477810</td>\n",
       "      <td>2</td>\n",
       "      <td>9.0</td>\n",
       "      <td>13.0</td>\n",
       "      <td>NaN</td>\n",
       "      <td>NaN</td>\n",
       "      <td>NaN</td>\n",
       "      <td>NaN</td>\n",
       "      <td>13.0</td>\n",
       "      <td>21.0</td>\n",
       "      <td>...</td>\n",
       "      <td>10.0</td>\n",
       "      <td>10.0</td>\n",
       "      <td>7.0</td>\n",
       "      <td>4.0</td>\n",
       "      <td>8.0</td>\n",
       "      <td>4.0</td>\n",
       "      <td>3</td>\n",
       "      <td>1</td>\n",
       "      <td>4</td>\n",
       "      <td>1992.0</td>\n",
       "    </tr>\n",
       "    <tr>\n",
       "      <th>676423</th>\n",
       "      <td>599286</td>\n",
       "      <td>-1</td>\n",
       "      <td>9.0</td>\n",
       "      <td>13.0</td>\n",
       "      <td>NaN</td>\n",
       "      <td>NaN</td>\n",
       "      <td>NaN</td>\n",
       "      <td>NaN</td>\n",
       "      <td>NaN</td>\n",
       "      <td>1.0</td>\n",
       "      <td>...</td>\n",
       "      <td>3.0</td>\n",
       "      <td>6.0</td>\n",
       "      <td>5.0</td>\n",
       "      <td>3.0</td>\n",
       "      <td>9.0</td>\n",
       "      <td>7.0</td>\n",
       "      <td>1</td>\n",
       "      <td>2</td>\n",
       "      <td>3</td>\n",
       "      <td>1992.0</td>\n",
       "    </tr>\n",
       "    <tr>\n",
       "      <th>470322</th>\n",
       "      <td>961811</td>\n",
       "      <td>-1</td>\n",
       "      <td>1.0</td>\n",
       "      <td>18.0</td>\n",
       "      <td>NaN</td>\n",
       "      <td>NaN</td>\n",
       "      <td>NaN</td>\n",
       "      <td>NaN</td>\n",
       "      <td>18.0</td>\n",
       "      <td>1.0</td>\n",
       "      <td>...</td>\n",
       "      <td>8.0</td>\n",
       "      <td>11.0</td>\n",
       "      <td>9.0</td>\n",
       "      <td>3.0</td>\n",
       "      <td>8.0</td>\n",
       "      <td>7.0</td>\n",
       "      <td>4</td>\n",
       "      <td>2</td>\n",
       "      <td>2</td>\n",
       "      <td>1992.0</td>\n",
       "    </tr>\n",
       "    <tr>\n",
       "      <th>113791</th>\n",
       "      <td>354340</td>\n",
       "      <td>-1</td>\n",
       "      <td>9.0</td>\n",
       "      <td>19.0</td>\n",
       "      <td>NaN</td>\n",
       "      <td>NaN</td>\n",
       "      <td>NaN</td>\n",
       "      <td>NaN</td>\n",
       "      <td>19.0</td>\n",
       "      <td>1.0</td>\n",
       "      <td>...</td>\n",
       "      <td>3.0</td>\n",
       "      <td>4.0</td>\n",
       "      <td>2.0</td>\n",
       "      <td>2.0</td>\n",
       "      <td>9.0</td>\n",
       "      <td>2.0</td>\n",
       "      <td>2</td>\n",
       "      <td>2</td>\n",
       "      <td>1</td>\n",
       "      <td>1992.0</td>\n",
       "    </tr>\n",
       "    <tr>\n",
       "      <th>219237</th>\n",
       "      <td>582436</td>\n",
       "      <td>-1</td>\n",
       "      <td>9.0</td>\n",
       "      <td>13.0</td>\n",
       "      <td>NaN</td>\n",
       "      <td>NaN</td>\n",
       "      <td>NaN</td>\n",
       "      <td>NaN</td>\n",
       "      <td>NaN</td>\n",
       "      <td>64.0</td>\n",
       "      <td>...</td>\n",
       "      <td>5.0</td>\n",
       "      <td>7.0</td>\n",
       "      <td>4.0</td>\n",
       "      <td>2.0</td>\n",
       "      <td>9.0</td>\n",
       "      <td>5.0</td>\n",
       "      <td>2</td>\n",
       "      <td>2</td>\n",
       "      <td>2</td>\n",
       "      <td>1992.0</td>\n",
       "    </tr>\n",
       "  </tbody>\n",
       "</table>\n",
       "<p>5 rows × 366 columns</p>\n",
       "</div>"
      ],
      "text/plain": [
       "           LNR  AGER_TYP  AKT_DAT_KL  ALTER_HH  ALTER_KIND1  ALTER_KIND2  \\\n",
       "437149  477810         2         9.0      13.0          NaN          NaN   \n",
       "676423  599286        -1         9.0      13.0          NaN          NaN   \n",
       "470322  961811        -1         1.0      18.0          NaN          NaN   \n",
       "113791  354340        -1         9.0      19.0          NaN          NaN   \n",
       "219237  582436        -1         9.0      13.0          NaN          NaN   \n",
       "\n",
       "        ALTER_KIND3  ALTER_KIND4  ALTERSKATEGORIE_FEIN  ANZ_HAUSHALTE_AKTIV  \\\n",
       "437149          NaN          NaN                  13.0                 21.0   \n",
       "676423          NaN          NaN                   NaN                  1.0   \n",
       "470322          NaN          NaN                  18.0                  1.0   \n",
       "113791          NaN          NaN                  19.0                  1.0   \n",
       "219237          NaN          NaN                   NaN                 64.0   \n",
       "\n",
       "         ...    VK_DHT4A  VK_DISTANZ  VK_ZG11  W_KEIT_KIND_HH  WOHNDAUER_2008  \\\n",
       "437149   ...        10.0        10.0      7.0             4.0             8.0   \n",
       "676423   ...         3.0         6.0      5.0             3.0             9.0   \n",
       "470322   ...         8.0        11.0      9.0             3.0             8.0   \n",
       "113791   ...         3.0         4.0      2.0             2.0             9.0   \n",
       "219237   ...         5.0         7.0      4.0             2.0             9.0   \n",
       "\n",
       "        WOHNLAGE  ZABEOTYP ANREDE_KZ  ALTERSKATEGORIE_GROB    year  \n",
       "437149       4.0         3         1                     4  1992.0  \n",
       "676423       7.0         1         2                     3  1992.0  \n",
       "470322       7.0         4         2                     2  1992.0  \n",
       "113791       2.0         2         2                     1  1992.0  \n",
       "219237       5.0         2         2                     2  1992.0  \n",
       "\n",
       "[5 rows x 366 columns]"
      ]
     },
     "execution_count": 68,
     "metadata": {},
     "output_type": "execute_result"
    }
   ],
   "source": [
    "convert_neg_ones_and_nines(azdias)\n",
    "azdias.head()"
   ]
  },
  {
   "cell_type": "code",
   "execution_count": 69,
   "metadata": {},
   "outputs": [
    {
     "data": {
      "text/html": [
       "<div>\n",
       "<style scoped>\n",
       "    .dataframe tbody tr th:only-of-type {\n",
       "        vertical-align: middle;\n",
       "    }\n",
       "\n",
       "    .dataframe tbody tr th {\n",
       "        vertical-align: top;\n",
       "    }\n",
       "\n",
       "    .dataframe thead th {\n",
       "        text-align: right;\n",
       "    }\n",
       "</style>\n",
       "<table border=\"1\" class=\"dataframe\">\n",
       "  <thead>\n",
       "    <tr style=\"text-align: right;\">\n",
       "      <th></th>\n",
       "      <th>LNR</th>\n",
       "      <th>AGER_TYP</th>\n",
       "      <th>AKT_DAT_KL</th>\n",
       "      <th>ALTER_HH</th>\n",
       "      <th>ALTER_KIND1</th>\n",
       "      <th>ALTER_KIND2</th>\n",
       "      <th>ALTER_KIND3</th>\n",
       "      <th>ALTER_KIND4</th>\n",
       "      <th>ALTERSKATEGORIE_FEIN</th>\n",
       "      <th>ANZ_HAUSHALTE_AKTIV</th>\n",
       "      <th>...</th>\n",
       "      <th>VK_DHT4A</th>\n",
       "      <th>VK_DISTANZ</th>\n",
       "      <th>VK_ZG11</th>\n",
       "      <th>W_KEIT_KIND_HH</th>\n",
       "      <th>WOHNDAUER_2008</th>\n",
       "      <th>WOHNLAGE</th>\n",
       "      <th>ZABEOTYP</th>\n",
       "      <th>ANREDE_KZ</th>\n",
       "      <th>ALTERSKATEGORIE_GROB</th>\n",
       "      <th>year</th>\n",
       "    </tr>\n",
       "  </thead>\n",
       "  <tbody>\n",
       "    <tr>\n",
       "      <th>103003</th>\n",
       "      <td>186482</td>\n",
       "      <td>-1</td>\n",
       "      <td>NaN</td>\n",
       "      <td>NaN</td>\n",
       "      <td>NaN</td>\n",
       "      <td>NaN</td>\n",
       "      <td>NaN</td>\n",
       "      <td>NaN</td>\n",
       "      <td>NaN</td>\n",
       "      <td>NaN</td>\n",
       "      <td>...</td>\n",
       "      <td>NaN</td>\n",
       "      <td>NaN</td>\n",
       "      <td>NaN</td>\n",
       "      <td>NaN</td>\n",
       "      <td>NaN</td>\n",
       "      <td>NaN</td>\n",
       "      <td>3</td>\n",
       "      <td>2</td>\n",
       "      <td>1</td>\n",
       "      <td>NaN</td>\n",
       "    </tr>\n",
       "    <tr>\n",
       "      <th>182995</th>\n",
       "      <td>6040</td>\n",
       "      <td>-1</td>\n",
       "      <td>NaN</td>\n",
       "      <td>NaN</td>\n",
       "      <td>NaN</td>\n",
       "      <td>NaN</td>\n",
       "      <td>NaN</td>\n",
       "      <td>NaN</td>\n",
       "      <td>NaN</td>\n",
       "      <td>NaN</td>\n",
       "      <td>...</td>\n",
       "      <td>NaN</td>\n",
       "      <td>NaN</td>\n",
       "      <td>NaN</td>\n",
       "      <td>NaN</td>\n",
       "      <td>NaN</td>\n",
       "      <td>NaN</td>\n",
       "      <td>3</td>\n",
       "      <td>1</td>\n",
       "      <td>2</td>\n",
       "      <td>NaN</td>\n",
       "    </tr>\n",
       "    <tr>\n",
       "      <th>97780</th>\n",
       "      <td>175399</td>\n",
       "      <td>-1</td>\n",
       "      <td>6.0</td>\n",
       "      <td>21.0</td>\n",
       "      <td>NaN</td>\n",
       "      <td>NaN</td>\n",
       "      <td>NaN</td>\n",
       "      <td>NaN</td>\n",
       "      <td>18.0</td>\n",
       "      <td>NaN</td>\n",
       "      <td>...</td>\n",
       "      <td>3.0</td>\n",
       "      <td>5.0</td>\n",
       "      <td>4.0</td>\n",
       "      <td>2.0</td>\n",
       "      <td>8.0</td>\n",
       "      <td>NaN</td>\n",
       "      <td>5</td>\n",
       "      <td>2</td>\n",
       "      <td>1</td>\n",
       "      <td>NaN</td>\n",
       "    </tr>\n",
       "    <tr>\n",
       "      <th>174298</th>\n",
       "      <td>163948</td>\n",
       "      <td>-1</td>\n",
       "      <td>NaN</td>\n",
       "      <td>NaN</td>\n",
       "      <td>NaN</td>\n",
       "      <td>NaN</td>\n",
       "      <td>NaN</td>\n",
       "      <td>NaN</td>\n",
       "      <td>NaN</td>\n",
       "      <td>NaN</td>\n",
       "      <td>...</td>\n",
       "      <td>NaN</td>\n",
       "      <td>NaN</td>\n",
       "      <td>NaN</td>\n",
       "      <td>NaN</td>\n",
       "      <td>NaN</td>\n",
       "      <td>NaN</td>\n",
       "      <td>3</td>\n",
       "      <td>2</td>\n",
       "      <td>1</td>\n",
       "      <td>NaN</td>\n",
       "    </tr>\n",
       "    <tr>\n",
       "      <th>176468</th>\n",
       "      <td>18237</td>\n",
       "      <td>1</td>\n",
       "      <td>2.0</td>\n",
       "      <td>10.0</td>\n",
       "      <td>NaN</td>\n",
       "      <td>NaN</td>\n",
       "      <td>NaN</td>\n",
       "      <td>NaN</td>\n",
       "      <td>10.0</td>\n",
       "      <td>8.0</td>\n",
       "      <td>...</td>\n",
       "      <td>4.0</td>\n",
       "      <td>2.0</td>\n",
       "      <td>1.0</td>\n",
       "      <td>6.0</td>\n",
       "      <td>9.0</td>\n",
       "      <td>7.0</td>\n",
       "      <td>3</td>\n",
       "      <td>2</td>\n",
       "      <td>4</td>\n",
       "      <td>1992.0</td>\n",
       "    </tr>\n",
       "  </tbody>\n",
       "</table>\n",
       "<p>5 rows × 366 columns</p>\n",
       "</div>"
      ],
      "text/plain": [
       "           LNR  AGER_TYP  AKT_DAT_KL  ALTER_HH  ALTER_KIND1  ALTER_KIND2  \\\n",
       "103003  186482        -1         NaN       NaN          NaN          NaN   \n",
       "182995    6040        -1         NaN       NaN          NaN          NaN   \n",
       "97780   175399        -1         6.0      21.0          NaN          NaN   \n",
       "174298  163948        -1         NaN       NaN          NaN          NaN   \n",
       "176468   18237         1         2.0      10.0          NaN          NaN   \n",
       "\n",
       "        ALTER_KIND3  ALTER_KIND4  ALTERSKATEGORIE_FEIN  ANZ_HAUSHALTE_AKTIV  \\\n",
       "103003          NaN          NaN                   NaN                  NaN   \n",
       "182995          NaN          NaN                   NaN                  NaN   \n",
       "97780           NaN          NaN                  18.0                  NaN   \n",
       "174298          NaN          NaN                   NaN                  NaN   \n",
       "176468          NaN          NaN                  10.0                  8.0   \n",
       "\n",
       "         ...    VK_DHT4A  VK_DISTANZ  VK_ZG11  W_KEIT_KIND_HH  WOHNDAUER_2008  \\\n",
       "103003   ...         NaN         NaN      NaN             NaN             NaN   \n",
       "182995   ...         NaN         NaN      NaN             NaN             NaN   \n",
       "97780    ...         3.0         5.0      4.0             2.0             8.0   \n",
       "174298   ...         NaN         NaN      NaN             NaN             NaN   \n",
       "176468   ...         4.0         2.0      1.0             6.0             9.0   \n",
       "\n",
       "        WOHNLAGE  ZABEOTYP ANREDE_KZ  ALTERSKATEGORIE_GROB    year  \n",
       "103003       NaN         3         2                     1     NaN  \n",
       "182995       NaN         3         1                     2     NaN  \n",
       "97780        NaN         5         2                     1     NaN  \n",
       "174298       NaN         3         2                     1     NaN  \n",
       "176468       7.0         3         2                     4  1992.0  \n",
       "\n",
       "[5 rows x 366 columns]"
      ]
     },
     "execution_count": 69,
     "metadata": {},
     "output_type": "execute_result"
    }
   ],
   "source": [
    "convert_zeros(customers)\n",
    "customers.head()"
   ]
  },
  {
   "cell_type": "code",
   "execution_count": 70,
   "metadata": {},
   "outputs": [
    {
     "data": {
      "text/html": [
       "<div>\n",
       "<style scoped>\n",
       "    .dataframe tbody tr th:only-of-type {\n",
       "        vertical-align: middle;\n",
       "    }\n",
       "\n",
       "    .dataframe tbody tr th {\n",
       "        vertical-align: top;\n",
       "    }\n",
       "\n",
       "    .dataframe thead th {\n",
       "        text-align: right;\n",
       "    }\n",
       "</style>\n",
       "<table border=\"1\" class=\"dataframe\">\n",
       "  <thead>\n",
       "    <tr style=\"text-align: right;\">\n",
       "      <th></th>\n",
       "      <th>LNR</th>\n",
       "      <th>AGER_TYP</th>\n",
       "      <th>AKT_DAT_KL</th>\n",
       "      <th>ALTER_HH</th>\n",
       "      <th>ALTER_KIND1</th>\n",
       "      <th>ALTER_KIND2</th>\n",
       "      <th>ALTER_KIND3</th>\n",
       "      <th>ALTER_KIND4</th>\n",
       "      <th>ALTERSKATEGORIE_FEIN</th>\n",
       "      <th>ANZ_HAUSHALTE_AKTIV</th>\n",
       "      <th>...</th>\n",
       "      <th>VK_DHT4A</th>\n",
       "      <th>VK_DISTANZ</th>\n",
       "      <th>VK_ZG11</th>\n",
       "      <th>W_KEIT_KIND_HH</th>\n",
       "      <th>WOHNDAUER_2008</th>\n",
       "      <th>WOHNLAGE</th>\n",
       "      <th>ZABEOTYP</th>\n",
       "      <th>ANREDE_KZ</th>\n",
       "      <th>ALTERSKATEGORIE_GROB</th>\n",
       "      <th>year</th>\n",
       "    </tr>\n",
       "  </thead>\n",
       "  <tbody>\n",
       "    <tr>\n",
       "      <th>437149</th>\n",
       "      <td>477810</td>\n",
       "      <td>2</td>\n",
       "      <td>9.0</td>\n",
       "      <td>13.0</td>\n",
       "      <td>NaN</td>\n",
       "      <td>NaN</td>\n",
       "      <td>NaN</td>\n",
       "      <td>NaN</td>\n",
       "      <td>13.0</td>\n",
       "      <td>21.0</td>\n",
       "      <td>...</td>\n",
       "      <td>10.0</td>\n",
       "      <td>10.0</td>\n",
       "      <td>7.0</td>\n",
       "      <td>4.0</td>\n",
       "      <td>8.0</td>\n",
       "      <td>4.0</td>\n",
       "      <td>3</td>\n",
       "      <td>1</td>\n",
       "      <td>4</td>\n",
       "      <td>1992.0</td>\n",
       "    </tr>\n",
       "    <tr>\n",
       "      <th>676423</th>\n",
       "      <td>599286</td>\n",
       "      <td>-1</td>\n",
       "      <td>9.0</td>\n",
       "      <td>13.0</td>\n",
       "      <td>NaN</td>\n",
       "      <td>NaN</td>\n",
       "      <td>NaN</td>\n",
       "      <td>NaN</td>\n",
       "      <td>NaN</td>\n",
       "      <td>1.0</td>\n",
       "      <td>...</td>\n",
       "      <td>3.0</td>\n",
       "      <td>6.0</td>\n",
       "      <td>5.0</td>\n",
       "      <td>3.0</td>\n",
       "      <td>9.0</td>\n",
       "      <td>7.0</td>\n",
       "      <td>1</td>\n",
       "      <td>2</td>\n",
       "      <td>3</td>\n",
       "      <td>1992.0</td>\n",
       "    </tr>\n",
       "    <tr>\n",
       "      <th>470322</th>\n",
       "      <td>961811</td>\n",
       "      <td>-1</td>\n",
       "      <td>1.0</td>\n",
       "      <td>18.0</td>\n",
       "      <td>NaN</td>\n",
       "      <td>NaN</td>\n",
       "      <td>NaN</td>\n",
       "      <td>NaN</td>\n",
       "      <td>18.0</td>\n",
       "      <td>1.0</td>\n",
       "      <td>...</td>\n",
       "      <td>8.0</td>\n",
       "      <td>11.0</td>\n",
       "      <td>9.0</td>\n",
       "      <td>3.0</td>\n",
       "      <td>8.0</td>\n",
       "      <td>7.0</td>\n",
       "      <td>4</td>\n",
       "      <td>2</td>\n",
       "      <td>2</td>\n",
       "      <td>1992.0</td>\n",
       "    </tr>\n",
       "    <tr>\n",
       "      <th>113791</th>\n",
       "      <td>354340</td>\n",
       "      <td>-1</td>\n",
       "      <td>9.0</td>\n",
       "      <td>19.0</td>\n",
       "      <td>NaN</td>\n",
       "      <td>NaN</td>\n",
       "      <td>NaN</td>\n",
       "      <td>NaN</td>\n",
       "      <td>19.0</td>\n",
       "      <td>1.0</td>\n",
       "      <td>...</td>\n",
       "      <td>3.0</td>\n",
       "      <td>4.0</td>\n",
       "      <td>2.0</td>\n",
       "      <td>2.0</td>\n",
       "      <td>9.0</td>\n",
       "      <td>2.0</td>\n",
       "      <td>2</td>\n",
       "      <td>2</td>\n",
       "      <td>1</td>\n",
       "      <td>1992.0</td>\n",
       "    </tr>\n",
       "    <tr>\n",
       "      <th>219237</th>\n",
       "      <td>582436</td>\n",
       "      <td>-1</td>\n",
       "      <td>9.0</td>\n",
       "      <td>13.0</td>\n",
       "      <td>NaN</td>\n",
       "      <td>NaN</td>\n",
       "      <td>NaN</td>\n",
       "      <td>NaN</td>\n",
       "      <td>NaN</td>\n",
       "      <td>64.0</td>\n",
       "      <td>...</td>\n",
       "      <td>5.0</td>\n",
       "      <td>7.0</td>\n",
       "      <td>4.0</td>\n",
       "      <td>2.0</td>\n",
       "      <td>9.0</td>\n",
       "      <td>5.0</td>\n",
       "      <td>2</td>\n",
       "      <td>2</td>\n",
       "      <td>2</td>\n",
       "      <td>1992.0</td>\n",
       "    </tr>\n",
       "  </tbody>\n",
       "</table>\n",
       "<p>5 rows × 366 columns</p>\n",
       "</div>"
      ],
      "text/plain": [
       "           LNR  AGER_TYP  AKT_DAT_KL  ALTER_HH  ALTER_KIND1  ALTER_KIND2  \\\n",
       "437149  477810         2         9.0      13.0          NaN          NaN   \n",
       "676423  599286        -1         9.0      13.0          NaN          NaN   \n",
       "470322  961811        -1         1.0      18.0          NaN          NaN   \n",
       "113791  354340        -1         9.0      19.0          NaN          NaN   \n",
       "219237  582436        -1         9.0      13.0          NaN          NaN   \n",
       "\n",
       "        ALTER_KIND3  ALTER_KIND4  ALTERSKATEGORIE_FEIN  ANZ_HAUSHALTE_AKTIV  \\\n",
       "437149          NaN          NaN                  13.0                 21.0   \n",
       "676423          NaN          NaN                   NaN                  1.0   \n",
       "470322          NaN          NaN                  18.0                  1.0   \n",
       "113791          NaN          NaN                  19.0                  1.0   \n",
       "219237          NaN          NaN                   NaN                 64.0   \n",
       "\n",
       "         ...    VK_DHT4A  VK_DISTANZ  VK_ZG11  W_KEIT_KIND_HH  WOHNDAUER_2008  \\\n",
       "437149   ...        10.0        10.0      7.0             4.0             8.0   \n",
       "676423   ...         3.0         6.0      5.0             3.0             9.0   \n",
       "470322   ...         8.0        11.0      9.0             3.0             8.0   \n",
       "113791   ...         3.0         4.0      2.0             2.0             9.0   \n",
       "219237   ...         5.0         7.0      4.0             2.0             9.0   \n",
       "\n",
       "        WOHNLAGE  ZABEOTYP ANREDE_KZ  ALTERSKATEGORIE_GROB    year  \n",
       "437149       4.0         3         1                     4  1992.0  \n",
       "676423       7.0         1         2                     3  1992.0  \n",
       "470322       7.0         4         2                     2  1992.0  \n",
       "113791       2.0         2         2                     1  1992.0  \n",
       "219237       5.0         2         2                     2  1992.0  \n",
       "\n",
       "[5 rows x 366 columns]"
      ]
     },
     "execution_count": 70,
     "metadata": {},
     "output_type": "execute_result"
    }
   ],
   "source": [
    "convert_zeros(azdias)\n",
    "azdias.head()"
   ]
  },
  {
   "cell_type": "code",
   "execution_count": 71,
   "metadata": {},
   "outputs": [
    {
     "data": {
      "text/plain": [
       "(178244, 366)"
      ]
     },
     "execution_count": 71,
     "metadata": {},
     "output_type": "execute_result"
    }
   ],
   "source": [
    "azdias.shape"
   ]
  },
  {
   "cell_type": "markdown",
   "metadata": {},
   "source": [
    "In this step the columns that have index of 'FEIN' and also 'GROB' will be inspected:\n",
    " 'LP_FAMILIE_FEIN',\n",
    " 'LP_FAMILIE_GROB',\n",
    " 'LP_LEBENSPHASE_FEIN',\n",
    " 'LP_LEBENSPHASE_GROB',\n",
    " 'LP_STATUS_FEIN',\n",
    " 'LP_STATUS_GROB'.\n",
    " Additionally, other various columns will be inspected with bar plots to see if anything about them needs to be fixed. "
   ]
  },
  {
   "cell_type": "code",
   "execution_count": 6,
   "metadata": {},
   "outputs": [],
   "source": [
    "def plot_bar(df, col_name):\n",
    "    \"\"\"\n",
    "    INPUT:\n",
    "    - A dataframe\n",
    "    - A column name\n",
    "    \n",
    "    OUTPUT:\n",
    "    - A bar plot of the column's values for a dataframe\n",
    "    \"\"\"\n",
    "    df[col_name].value_counts().plot.bar()"
   ]
  },
  {
   "cell_type": "code",
   "execution_count": 99,
   "metadata": {},
   "outputs": [
    {
     "data": {
      "image/png": "[encoded data removed]",
      "text/plain": [
       "<matplotlib.figure.Figure at 0x7f4cb5119438>"
      ]
     },
     "metadata": {
      "needs_background": "light"
     },
     "output_type": "display_data"
    }
   ],
   "source": [
    "plot_bar(azdias, 'LP_LEBENSPHASE_FEIN')"
   ]
  },
  {
   "cell_type": "code",
   "execution_count": 79,
   "metadata": {},
   "outputs": [
    {
     "data": {
      "image/png": "[encoded data removed]",
      "text/plain": [
       "<matplotlib.figure.Figure at 0x7f4cb5440a58>"
      ]
     },
     "metadata": {
      "needs_background": "light"
     },
     "output_type": "display_data"
    }
   ],
   "source": [
    "plot_bar(azdias, 'LP_LEBENSPHASE_GROB')"
   ]
  },
  {
   "cell_type": "code",
   "execution_count": 80,
   "metadata": {},
   "outputs": [
    {
     "data": {
      "image/png": "[encoded data removed]",
      "text/plain": [
       "<matplotlib.figure.Figure at 0x7f4cb5411a58>"
      ]
     },
     "metadata": {
      "needs_background": "light"
     },
     "output_type": "display_data"
    }
   ],
   "source": [
    "plot_bar(azdias, 'LP_FAMILIE_FEIN')"
   ]
  },
  {
   "cell_type": "code",
   "execution_count": 81,
   "metadata": {},
   "outputs": [
    {
     "data": {
      "image/png": "[encoded data removed]",
      "text/plain": [
       "<matplotlib.figure.Figure at 0x7f4cb5337240>"
      ]
     },
     "metadata": {
      "needs_background": "light"
     },
     "output_type": "display_data"
    }
   ],
   "source": [
    "plot_bar(azdias, 'LP_FAMILIE_GROB')"
   ]
  },
  {
   "cell_type": "code",
   "execution_count": 82,
   "metadata": {},
   "outputs": [
    {
     "data": {
      "image/png": "[encoded data removed]",
      "text/plain": [
       "<matplotlib.figure.Figure at 0x7f4cb5361278>"
      ]
     },
     "metadata": {
      "needs_background": "light"
     },
     "output_type": "display_data"
    }
   ],
   "source": [
    "plot_bar(azdias, 'LP_STATUS_FEIN')"
   ]
  },
  {
   "cell_type": "code",
   "execution_count": 83,
   "metadata": {},
   "outputs": [
    {
     "data": {
      "image/png": "[encoded data removed]",
      "text/plain": [
       "<matplotlib.figure.Figure at 0x7f4cb52b6c50>"
      ]
     },
     "metadata": {
      "needs_background": "light"
     },
     "output_type": "display_data"
    }
   ],
   "source": [
    "plot_bar(azdias, 'LP_STATUS_GROB')"
   ]
  },
  {
   "cell_type": "code",
   "execution_count": 88,
   "metadata": {},
   "outputs": [
    {
     "data": {
      "image/png": "[encoded data removed]",
      "text/plain": [
       "<matplotlib.figure.Figure at 0x7f4cb530deb8>"
      ]
     },
     "metadata": {
      "needs_background": "light"
     },
     "output_type": "display_data"
    }
   ],
   "source": [
    "plot_bar(customers, 'LP_FAMILIE_GROB' )"
   ]
  },
  {
   "cell_type": "code",
   "execution_count": 89,
   "metadata": {},
   "outputs": [
    {
     "data": {
      "image/png": "[encoded data removed]",
      "text/plain": [
       "<matplotlib.figure.Figure at 0x7f4cb5310940>"
      ]
     },
     "metadata": {
      "needs_background": "light"
     },
     "output_type": "display_data"
    }
   ],
   "source": [
    "plot_bar(azdias, 'CAMEO_INTL_2015')"
   ]
  },
  {
   "cell_type": "code",
   "execution_count": 90,
   "metadata": {},
   "outputs": [
    {
     "data": {
      "image/png": "[encoded data removed]",
      "text/plain": [
       "<matplotlib.figure.Figure at 0x7f4cb53352e8>"
      ]
     },
     "metadata": {
      "needs_background": "light"
     },
     "output_type": "display_data"
    }
   ],
   "source": [
    "plot_bar(azdias, 'CAMEO_DEU_2015')"
   ]
  },
  {
   "cell_type": "code",
   "execution_count": 91,
   "metadata": {},
   "outputs": [
    {
     "data": {
      "image/png": "[encoded data removed]",
      "text/plain": [
       "<matplotlib.figure.Figure at 0x7f4cb542df60>"
      ]
     },
     "metadata": {
      "needs_background": "light"
     },
     "output_type": "display_data"
    }
   ],
   "source": [
    "plot_bar(azdias, 'PRAEGENDE_JUGENDJAHRE')"
   ]
  },
  {
   "cell_type": "code",
   "execution_count": 92,
   "metadata": {},
   "outputs": [
    {
     "data": {
      "image/png": "[encoded data removed]",
      "text/plain": [
       "<matplotlib.figure.Figure at 0x7f4cb52f1630>"
      ]
     },
     "metadata": {
      "needs_background": "light"
     },
     "output_type": "display_data"
    }
   ],
   "source": [
    "plot_bar(azdias, 'KBA05_ANHANG')"
   ]
  },
  {
   "cell_type": "code",
   "execution_count": 93,
   "metadata": {},
   "outputs": [
    {
     "data": {
      "image/png": "[encoded data removed]",
      "text/plain": [
       "<matplotlib.figure.Figure at 0x7f4cb52a57b8>"
      ]
     },
     "metadata": {
      "needs_background": "light"
     },
     "output_type": "display_data"
    }
   ],
   "source": [
    "plot_bar(azdias, 'KBA05_DIESEL')"
   ]
  },
  {
   "cell_type": "markdown",
   "metadata": {},
   "source": [
    "As can be seen, the distinction between 'FEIN' and 'GROS' is that the first is more corse than the other. Only the data with the suffix 'GROS' will be kept. There is something funny about these columns as well. Looking at the values on the horizontal axis they are out of order for it to be a linear function. It probably doesn't matter though for either the unsupervised or supervised model of predicting potential customers. Also, 'CAMEO_DEU_2015' looks like the 'fine' version of 'CAMEO_DEUG_2015' so it will be dropped too. "
   ]
  },
  {
   "cell_type": "code",
   "execution_count": 73,
   "metadata": {},
   "outputs": [
    {
     "data": {
      "text/html": [
       "<div>\n",
       "<style scoped>\n",
       "    .dataframe tbody tr th:only-of-type {\n",
       "        vertical-align: middle;\n",
       "    }\n",
       "\n",
       "    .dataframe tbody tr th {\n",
       "        vertical-align: top;\n",
       "    }\n",
       "\n",
       "    .dataframe thead th {\n",
       "        text-align: right;\n",
       "    }\n",
       "</style>\n",
       "<table border=\"1\" class=\"dataframe\">\n",
       "  <thead>\n",
       "    <tr style=\"text-align: right;\">\n",
       "      <th></th>\n",
       "      <th>LNR</th>\n",
       "      <th>AGER_TYP</th>\n",
       "      <th>AKT_DAT_KL</th>\n",
       "      <th>ALTER_HH</th>\n",
       "      <th>ALTER_KIND1</th>\n",
       "      <th>ALTER_KIND2</th>\n",
       "      <th>ALTER_KIND3</th>\n",
       "      <th>ALTER_KIND4</th>\n",
       "      <th>ALTERSKATEGORIE_FEIN</th>\n",
       "      <th>ANZ_HAUSHALTE_AKTIV</th>\n",
       "      <th>...</th>\n",
       "      <th>VK_DHT4A</th>\n",
       "      <th>VK_DISTANZ</th>\n",
       "      <th>VK_ZG11</th>\n",
       "      <th>W_KEIT_KIND_HH</th>\n",
       "      <th>WOHNDAUER_2008</th>\n",
       "      <th>WOHNLAGE</th>\n",
       "      <th>ZABEOTYP</th>\n",
       "      <th>ANREDE_KZ</th>\n",
       "      <th>ALTERSKATEGORIE_GROB</th>\n",
       "      <th>year</th>\n",
       "    </tr>\n",
       "  </thead>\n",
       "  <tbody>\n",
       "    <tr>\n",
       "      <th>437149</th>\n",
       "      <td>477810</td>\n",
       "      <td>2</td>\n",
       "      <td>9.0</td>\n",
       "      <td>13.0</td>\n",
       "      <td>NaN</td>\n",
       "      <td>NaN</td>\n",
       "      <td>NaN</td>\n",
       "      <td>NaN</td>\n",
       "      <td>13.0</td>\n",
       "      <td>21.0</td>\n",
       "      <td>...</td>\n",
       "      <td>10.0</td>\n",
       "      <td>10.0</td>\n",
       "      <td>7.0</td>\n",
       "      <td>4.0</td>\n",
       "      <td>8.0</td>\n",
       "      <td>4.0</td>\n",
       "      <td>3</td>\n",
       "      <td>1</td>\n",
       "      <td>4</td>\n",
       "      <td>1992.0</td>\n",
       "    </tr>\n",
       "    <tr>\n",
       "      <th>676423</th>\n",
       "      <td>599286</td>\n",
       "      <td>-1</td>\n",
       "      <td>9.0</td>\n",
       "      <td>13.0</td>\n",
       "      <td>NaN</td>\n",
       "      <td>NaN</td>\n",
       "      <td>NaN</td>\n",
       "      <td>NaN</td>\n",
       "      <td>NaN</td>\n",
       "      <td>1.0</td>\n",
       "      <td>...</td>\n",
       "      <td>3.0</td>\n",
       "      <td>6.0</td>\n",
       "      <td>5.0</td>\n",
       "      <td>3.0</td>\n",
       "      <td>9.0</td>\n",
       "      <td>7.0</td>\n",
       "      <td>1</td>\n",
       "      <td>2</td>\n",
       "      <td>3</td>\n",
       "      <td>1992.0</td>\n",
       "    </tr>\n",
       "    <tr>\n",
       "      <th>470322</th>\n",
       "      <td>961811</td>\n",
       "      <td>-1</td>\n",
       "      <td>1.0</td>\n",
       "      <td>18.0</td>\n",
       "      <td>NaN</td>\n",
       "      <td>NaN</td>\n",
       "      <td>NaN</td>\n",
       "      <td>NaN</td>\n",
       "      <td>18.0</td>\n",
       "      <td>1.0</td>\n",
       "      <td>...</td>\n",
       "      <td>8.0</td>\n",
       "      <td>11.0</td>\n",
       "      <td>9.0</td>\n",
       "      <td>3.0</td>\n",
       "      <td>8.0</td>\n",
       "      <td>7.0</td>\n",
       "      <td>4</td>\n",
       "      <td>2</td>\n",
       "      <td>2</td>\n",
       "      <td>1992.0</td>\n",
       "    </tr>\n",
       "    <tr>\n",
       "      <th>113791</th>\n",
       "      <td>354340</td>\n",
       "      <td>-1</td>\n",
       "      <td>9.0</td>\n",
       "      <td>19.0</td>\n",
       "      <td>NaN</td>\n",
       "      <td>NaN</td>\n",
       "      <td>NaN</td>\n",
       "      <td>NaN</td>\n",
       "      <td>19.0</td>\n",
       "      <td>1.0</td>\n",
       "      <td>...</td>\n",
       "      <td>3.0</td>\n",
       "      <td>4.0</td>\n",
       "      <td>2.0</td>\n",
       "      <td>2.0</td>\n",
       "      <td>9.0</td>\n",
       "      <td>2.0</td>\n",
       "      <td>2</td>\n",
       "      <td>2</td>\n",
       "      <td>1</td>\n",
       "      <td>1992.0</td>\n",
       "    </tr>\n",
       "    <tr>\n",
       "      <th>219237</th>\n",
       "      <td>582436</td>\n",
       "      <td>-1</td>\n",
       "      <td>9.0</td>\n",
       "      <td>13.0</td>\n",
       "      <td>NaN</td>\n",
       "      <td>NaN</td>\n",
       "      <td>NaN</td>\n",
       "      <td>NaN</td>\n",
       "      <td>NaN</td>\n",
       "      <td>64.0</td>\n",
       "      <td>...</td>\n",
       "      <td>5.0</td>\n",
       "      <td>7.0</td>\n",
       "      <td>4.0</td>\n",
       "      <td>2.0</td>\n",
       "      <td>9.0</td>\n",
       "      <td>5.0</td>\n",
       "      <td>2</td>\n",
       "      <td>2</td>\n",
       "      <td>2</td>\n",
       "      <td>1992.0</td>\n",
       "    </tr>\n",
       "  </tbody>\n",
       "</table>\n",
       "<p>5 rows × 362 columns</p>\n",
       "</div>"
      ],
      "text/plain": [
       "           LNR  AGER_TYP  AKT_DAT_KL  ALTER_HH  ALTER_KIND1  ALTER_KIND2  \\\n",
       "437149  477810         2         9.0      13.0          NaN          NaN   \n",
       "676423  599286        -1         9.0      13.0          NaN          NaN   \n",
       "470322  961811        -1         1.0      18.0          NaN          NaN   \n",
       "113791  354340        -1         9.0      19.0          NaN          NaN   \n",
       "219237  582436        -1         9.0      13.0          NaN          NaN   \n",
       "\n",
       "        ALTER_KIND3  ALTER_KIND4  ALTERSKATEGORIE_FEIN  ANZ_HAUSHALTE_AKTIV  \\\n",
       "437149          NaN          NaN                  13.0                 21.0   \n",
       "676423          NaN          NaN                   NaN                  1.0   \n",
       "470322          NaN          NaN                  18.0                  1.0   \n",
       "113791          NaN          NaN                  19.0                  1.0   \n",
       "219237          NaN          NaN                   NaN                 64.0   \n",
       "\n",
       "         ...    VK_DHT4A  VK_DISTANZ  VK_ZG11  W_KEIT_KIND_HH  WOHNDAUER_2008  \\\n",
       "437149   ...        10.0        10.0      7.0             4.0             8.0   \n",
       "676423   ...         3.0         6.0      5.0             3.0             9.0   \n",
       "470322   ...         8.0        11.0      9.0             3.0             8.0   \n",
       "113791   ...         3.0         4.0      2.0             2.0             9.0   \n",
       "219237   ...         5.0         7.0      4.0             2.0             9.0   \n",
       "\n",
       "        WOHNLAGE  ZABEOTYP  ANREDE_KZ  ALTERSKATEGORIE_GROB    year  \n",
       "437149       4.0         3          1                     4  1992.0  \n",
       "676423       7.0         1          2                     3  1992.0  \n",
       "470322       7.0         4          2                     2  1992.0  \n",
       "113791       2.0         2          2                     1  1992.0  \n",
       "219237       5.0         2          2                     2  1992.0  \n",
       "\n",
       "[5 rows x 362 columns]"
      ]
     },
     "execution_count": 73,
     "metadata": {},
     "output_type": "execute_result"
    }
   ],
   "source": [
    "customers = customers.drop(['LP_STATUS_FEIN','LP_FAMILIE_FEIN','LP_LEBENSPHASE_FEIN', 'CAMEO_DEU_2015'], axis = 1)\n",
    "azdias = azdias.drop(['LP_STATUS_FEIN','LP_FAMILIE_FEIN','LP_LEBENSPHASE_FEIN', 'CAMEO_DEU_2015'], axis = 1)\n",
    "azdias.head()"
   ]
  },
  {
   "cell_type": "markdown",
   "metadata": {},
   "source": [
    "One other column will be looked at. 'OST_WEST_KZ'. It is a categorical variable based on the earlier inspection of categorical variables. These categorical values 'W' and 'O' will be converted to binary.  "
   ]
  },
  {
   "cell_type": "code",
   "execution_count": 81,
   "metadata": {},
   "outputs": [
    {
     "data": {
      "image/png": "[encoded data removed]",
      "text/plain": [
       "<matplotlib.figure.Figure at 0x7fd3134983c8>"
      ]
     },
     "metadata": {
      "needs_background": "light"
     },
     "output_type": "display_data"
    }
   ],
   "source": [
    "plot_bar(azdias, 'OST_WEST_KZ')"
   ]
  },
  {
   "cell_type": "code",
   "execution_count": 10,
   "metadata": {},
   "outputs": [],
   "source": [
    "def convert_mixed(df, col_name):\n",
    "    \"\"\"\n",
    "    Converts a dataframe's columns with mixed values and converts the values all to float\n",
    "    \n",
    "    INPUT:\n",
    "    - df: A dataframe\n",
    "    - col_name: The name of the column in the dataframe\n",
    "    \n",
    "    OUTPUT:\n",
    "    - df_col: An organized column whose values are more consistent and of the same data type. \n",
    "    \"\"\"\n",
    "    df_col = df[col_name]\n",
    "    values = df_col.value_counts(ascending = False)\n",
    "    df_col = pd.DataFrame(df_col)\n",
    "    prior_values = values.index\n",
    "    prior_values = list(prior_values)\n",
    "    new_values =  list(range(len(prior_values)))\n",
    "    df_col = df_col.replace(prior_values, new_values)   \n",
    "    return df_col"
   ]
  },
  {
   "cell_type": "code",
   "execution_count": 79,
   "metadata": {},
   "outputs": [
    {
     "data": {
      "image/png": "[encoded data removed]",
      "text/plain": [
       "<matplotlib.figure.Figure at 0x7fd313526320>"
      ]
     },
     "metadata": {
      "needs_background": "light"
     },
     "output_type": "display_data"
    }
   ],
   "source": [
    "customers['OST_WEST_KZ'] = convert_mixed(customers, 'OST_WEST_KZ')\n",
    "plot_bar(customers, 'OST_WEST_KZ')"
   ]
  },
  {
   "cell_type": "code",
   "execution_count": 82,
   "metadata": {},
   "outputs": [
    {
     "data": {
      "image/png": "[encoded data removed]",
      "text/plain": [
       "<matplotlib.figure.Figure at 0x7fd3134fda90>"
      ]
     },
     "metadata": {
      "needs_background": "light"
     },
     "output_type": "display_data"
    }
   ],
   "source": [
    "azdias['OST_WEST_KZ'] = convert_mixed(customers, 'OST_WEST_KZ')\n",
    "plot_bar(azdias, 'OST_WEST_KZ')"
   ]
  },
  {
   "cell_type": "markdown",
   "metadata": {},
   "source": [
    "Prior to re-sorting all of the columns, which could take a lot of time it would be wise to handle missing data first such as dropping columns and rows with too much missing data or replacing them with data in some way. The two functions below \"fraction_missing\" and also \"percent_missing\" provide some insight into this.  "
   ]
  },
  {
   "cell_type": "code",
   "execution_count": 11,
   "metadata": {},
   "outputs": [],
   "source": [
    "def percent_missing(df):\n",
    "    \"\"\"\n",
    "    Calulates the fraction of missing data for each column in a dataframe\n",
    "    \n",
    "    INPUT:\n",
    "    - df: A dataframe\n",
    "    \n",
    "    OUTPUT:\n",
    "    - df_missing: A series that includes the name of a column and the fraction of data it is missing.\n",
    "    \n",
    "    \"\"\"\n",
    "    df_missing = df.isnull().mean()\n",
    "    df_missing = df_missing.sort_values(ascending = False)\n",
    "    return df_missing"
   ]
  },
  {
   "cell_type": "code",
   "execution_count": 12,
   "metadata": {},
   "outputs": [],
   "source": [
    "def fraction_missing(df):\n",
    "    \"\"\"\n",
    "    A bar plot that shows the fraction of data missing on the horizontal axis and the number of columns that \n",
    "    are missing that fraction of data on the vertical axis\n",
    "    \n",
    "    INPUT:\n",
    "    - df: A dataframe\n",
    "    \n",
    "    OUTPUT:\n",
    "    - A bar plot showing the number of columns missing a giving fraction of data. \n",
    "    \n",
    "    \"\"\"\n",
    "    df_missing = df.isnull().mean()\n",
    "    plt.hist(df_missing, bins=40)\n",
    "    plt.xlabel('Fraction of Data Missing in Azdias Dataframe')\n",
    "    # naming the y axis\n",
    "    plt.ylabel('Number of Columns')"
   ]
  },
  {
   "cell_type": "code",
   "execution_count": 84,
   "metadata": {},
   "outputs": [
    {
     "data": {
      "image/png": "[encoded data removed]",
      "text/plain": [
       "<matplotlib.figure.Figure at 0x7fd383d32f60>"
      ]
     },
     "metadata": {
      "needs_background": "light"
     },
     "output_type": "display_data"
    }
   ],
   "source": [
    "fraction_missing(customers)"
   ]
  },
  {
   "cell_type": "code",
   "execution_count": 85,
   "metadata": {},
   "outputs": [
    {
     "data": {
      "image/png": "[encoded data removed]",
      "text/plain": [
       "<matplotlib.figure.Figure at 0x7fd3134545f8>"
      ]
     },
     "metadata": {
      "needs_background": "light"
     },
     "output_type": "display_data"
    }
   ],
   "source": [
    "fraction_missing(azdias)"
   ]
  },
  {
   "cell_type": "code",
   "execution_count": 108,
   "metadata": {},
   "outputs": [
    {
     "data": {
      "text/plain": [
       "ALTER_KIND3                    0.992796\n",
       "ALTER_KIND2                    0.966501\n",
       "OST_WEST_KZ                    0.918785\n",
       "ALTER_KIND1                    0.908737\n",
       "EXTSEL992                      0.733596\n",
       "KK_KUNDENTYP                   0.655366\n",
       "ALTERSKATEGORIE_FEIN           0.294394\n",
       "D19_GESAMT_ONLINE_QUOTE_12     0.289126\n",
       "D19_KONSUMTYP                  0.289126\n",
       "D19_LETZTER_KAUF_BRANCHE       0.289126\n",
       "D19_LOTTO                      0.289126\n",
       "D19_SOZIALES                   0.289126\n",
       "D19_TELKO_ONLINE_QUOTE_12      0.289126\n",
       "D19_BANKEN_ONLINE_QUOTE_12     0.289126\n",
       "D19_VERSAND_ONLINE_QUOTE_12    0.289126\n",
       "D19_VERSI_ONLINE_QUOTE_12      0.289126\n",
       "MOBI_REGIO                     0.148156\n",
       "KBA05_GBZ                      0.148156\n",
       "KBA05_BAUMAX                   0.148156\n",
       "dtype: float64"
      ]
     },
     "execution_count": 108,
     "metadata": {},
     "output_type": "execute_result"
    }
   ],
   "source": [
    "percent_missing(azdias)[1:20]"
   ]
  },
  {
   "cell_type": "code",
   "execution_count": 109,
   "metadata": {},
   "outputs": [
    {
     "data": {
      "text/plain": [
       "ALTER_KIND3       0.993593\n",
       "ALTER_KIND2       0.973462\n",
       "ALTER_KIND1       0.938983\n",
       "KK_KUNDENTYP      0.585186\n",
       "EXTSEL992         0.444514\n",
       "KBA05_ANTG1       0.290954\n",
       "KBA05_ANTG2       0.290954\n",
       "KBA05_BAUMAX      0.290954\n",
       "KBA05_ANTG4       0.290954\n",
       "KBA05_ANTG3       0.290954\n",
       "KBA05_GBZ         0.290954\n",
       "MOBI_REGIO        0.290954\n",
       "KKK               0.281990\n",
       "REGIOTYP          0.281990\n",
       "VHN               0.281990\n",
       "W_KEIT_KIND_HH    0.278703\n",
       "HH_DELTA_FLAG     0.278703\n",
       "PLZ8_HHZ          0.274299\n",
       "PLZ8_GBZ          0.274299\n",
       "dtype: float64"
      ]
     },
     "execution_count": 109,
     "metadata": {},
     "output_type": "execute_result"
    }
   ],
   "source": [
    "percent_missing(customers)[1:20]"
   ]
  },
  {
   "cell_type": "markdown",
   "metadata": {},
   "source": [
    "There is another column of customer information called 'GEBURTSJAHR'. It is the birthyear of the customer. It is categorical although not identified as being such in the earlier steps. A bar plot shows the distribution."
   ]
  },
  {
   "cell_type": "code",
   "execution_count": 113,
   "metadata": {},
   "outputs": [
    {
     "data": {
      "image/png": "[encoded data removed]",
      "text/plain": [
       "<matplotlib.figure.Figure at 0x7fd3133af2e8>"
      ]
     },
     "metadata": {
      "needs_background": "light"
     },
     "output_type": "display_data"
    }
   ],
   "source": [
    "plt.figure(figsize=(25, 10))\n",
    "plot_bar(azdias, 'GEBURTSJAHR')"
   ]
  },
  {
   "cell_type": "code",
   "execution_count": 115,
   "metadata": {},
   "outputs": [
    {
     "data": {
      "image/png": "[encoded data removed]",
      "text/plain": [
       "<matplotlib.figure.Figure at 0x7fd2ff2d8f98>"
      ]
     },
     "metadata": {
      "needs_background": "light"
     },
     "output_type": "display_data"
    }
   ],
   "source": [
    "plt.figure(figsize=(25, 10))\n",
    "azdias['GEBURTSJAHR'] = convert_mixed(customers, 'GEBURTSJAHR')\n",
    "plot_bar(azdias, 'GEBURTSJAHR')"
   ]
  },
  {
   "cell_type": "markdown",
   "metadata": {},
   "source": [
    "This columns looks to be dominated by the value of 0, which means 89% of the rows are missing this value. For this reason, drop it from the 'data sets'! "
   ]
  },
  {
   "cell_type": "code",
   "execution_count": 117,
   "metadata": {},
   "outputs": [
    {
     "data": {
      "text/plain": [
       "0.89133996095240231"
      ]
     },
     "execution_count": 117,
     "metadata": {},
     "output_type": "execute_result"
    }
   ],
   "source": [
    "azdias['GEBURTSJAHR'].isnull().mean()"
   ]
  },
  {
   "cell_type": "code",
   "execution_count": 118,
   "metadata": {},
   "outputs": [],
   "source": [
    "azdias = azdias.drop(['GEBURTSJAHR'], axis =1)\n",
    "customers = customers.drop(['GEBURTSJAHR'], axis =1)"
   ]
  },
  {
   "cell_type": "code",
   "execution_count": 103,
   "metadata": {},
   "outputs": [],
   "source": [
    "list1 = list(percent_missing(customers)[1:10].index)"
   ]
  },
  {
   "cell_type": "code",
   "execution_count": 104,
   "metadata": {},
   "outputs": [
    {
     "data": {
      "text/plain": [
       "['ALTER_KIND3',\n",
       " 'ALTER_KIND2',\n",
       " 'ALTER_KIND1',\n",
       " 'KK_KUNDENTYP',\n",
       " 'EXTSEL992',\n",
       " 'KBA05_ANTG1',\n",
       " 'KBA05_BAUMAX',\n",
       " 'KBA05_ANTG4',\n",
       " 'KBA05_ANTG3']"
      ]
     },
     "execution_count": 104,
     "metadata": {},
     "output_type": "execute_result"
    }
   ],
   "source": [
    "list1"
   ]
  },
  {
   "cell_type": "markdown",
   "metadata": {},
   "source": [
    "The columns with the most missing dat will be inspected now."
   ]
  },
  {
   "cell_type": "code",
   "execution_count": 110,
   "metadata": {},
   "outputs": [
    {
     "data": {
      "image/png": "[encoded data removed]",
      "text/plain": [
       "<matplotlib.figure.Figure at 0x7f522c475a20>"
      ]
     },
     "metadata": {
      "needs_background": "light"
     },
     "output_type": "display_data"
    }
   ],
   "source": [
    "plot_bar(customers, 'ALTER_KIND3')"
   ]
  },
  {
   "cell_type": "code",
   "execution_count": 111,
   "metadata": {},
   "outputs": [
    {
     "data": {
      "image/png": "[encoded data removed]",
      "text/plain": [
       "<matplotlib.figure.Figure at 0x7f522580b198>"
      ]
     },
     "metadata": {
      "needs_background": "light"
     },
     "output_type": "display_data"
    }
   ],
   "source": [
    "plot_bar(customers, 'ALTER_KIND1')"
   ]
  },
  {
   "cell_type": "code",
   "execution_count": 112,
   "metadata": {},
   "outputs": [
    {
     "data": {
      "image/png": "[encoded data removed]",
      "text/plain": [
       "<matplotlib.figure.Figure at 0x7f522578f4a8>"
      ]
     },
     "metadata": {
      "needs_background": "light"
     },
     "output_type": "display_data"
    }
   ],
   "source": [
    "plot_bar(customers, 'KK_KUNDENTYP')"
   ]
  },
  {
   "cell_type": "code",
   "execution_count": 113,
   "metadata": {},
   "outputs": [
    {
     "data": {
      "image/png": "[encoded data removed]",
      "text/plain": [
       "<matplotlib.figure.Figure at 0x7f5225796ba8>"
      ]
     },
     "metadata": {
      "needs_background": "light"
     },
     "output_type": "display_data"
    }
   ],
   "source": [
    "plot_bar(azdias, 'EXTSEL992')"
   ]
  },
  {
   "cell_type": "code",
   "execution_count": 114,
   "metadata": {},
   "outputs": [
    {
     "data": {
      "image/png": "[encoded data removed]",
      "text/plain": [
       "<matplotlib.figure.Figure at 0x7f522d8b9d30>"
      ]
     },
     "metadata": {
      "needs_background": "light"
     },
     "output_type": "display_data"
    }
   ],
   "source": [
    "plot_bar(customers, 'KBA05_ANTG1')"
   ]
  },
  {
   "cell_type": "markdown",
   "metadata": {},
   "source": [
    "The data for these columns 'ALTER_KIND', 'KK_KUDENTYPE', and 'EXTSEL992' look linear more or less but they have a lot of their data missing. It is probably better to just delete them from the dataframes."
   ]
  },
  {
   "cell_type": "code",
   "execution_count": 111,
   "metadata": {},
   "outputs": [
    {
     "data": {
      "text/html": [
       "<div>\n",
       "<style scoped>\n",
       "    .dataframe tbody tr th:only-of-type {\n",
       "        vertical-align: middle;\n",
       "    }\n",
       "\n",
       "    .dataframe tbody tr th {\n",
       "        vertical-align: top;\n",
       "    }\n",
       "\n",
       "    .dataframe thead th {\n",
       "        text-align: right;\n",
       "    }\n",
       "</style>\n",
       "<table border=\"1\" class=\"dataframe\">\n",
       "  <thead>\n",
       "    <tr style=\"text-align: right;\">\n",
       "      <th></th>\n",
       "      <th>LNR</th>\n",
       "      <th>AGER_TYP</th>\n",
       "      <th>AKT_DAT_KL</th>\n",
       "      <th>ALTER_HH</th>\n",
       "      <th>ALTERSKATEGORIE_FEIN</th>\n",
       "      <th>ANZ_HAUSHALTE_AKTIV</th>\n",
       "      <th>ANZ_HH_TITEL</th>\n",
       "      <th>ANZ_KINDER</th>\n",
       "      <th>ANZ_PERSONEN</th>\n",
       "      <th>ANZ_STATISTISCHE_HAUSHALTE</th>\n",
       "      <th>...</th>\n",
       "      <th>VK_DHT4A</th>\n",
       "      <th>VK_DISTANZ</th>\n",
       "      <th>VK_ZG11</th>\n",
       "      <th>W_KEIT_KIND_HH</th>\n",
       "      <th>WOHNDAUER_2008</th>\n",
       "      <th>WOHNLAGE</th>\n",
       "      <th>ZABEOTYP</th>\n",
       "      <th>ANREDE_KZ</th>\n",
       "      <th>ALTERSKATEGORIE_GROB</th>\n",
       "      <th>year</th>\n",
       "    </tr>\n",
       "  </thead>\n",
       "  <tbody>\n",
       "    <tr>\n",
       "      <th>103003</th>\n",
       "      <td>186482</td>\n",
       "      <td>-1</td>\n",
       "      <td>NaN</td>\n",
       "      <td>NaN</td>\n",
       "      <td>NaN</td>\n",
       "      <td>NaN</td>\n",
       "      <td>NaN</td>\n",
       "      <td>NaN</td>\n",
       "      <td>NaN</td>\n",
       "      <td>NaN</td>\n",
       "      <td>...</td>\n",
       "      <td>NaN</td>\n",
       "      <td>NaN</td>\n",
       "      <td>NaN</td>\n",
       "      <td>NaN</td>\n",
       "      <td>NaN</td>\n",
       "      <td>NaN</td>\n",
       "      <td>3</td>\n",
       "      <td>2</td>\n",
       "      <td>1</td>\n",
       "      <td>NaN</td>\n",
       "    </tr>\n",
       "    <tr>\n",
       "      <th>182995</th>\n",
       "      <td>6040</td>\n",
       "      <td>-1</td>\n",
       "      <td>NaN</td>\n",
       "      <td>NaN</td>\n",
       "      <td>NaN</td>\n",
       "      <td>NaN</td>\n",
       "      <td>NaN</td>\n",
       "      <td>NaN</td>\n",
       "      <td>NaN</td>\n",
       "      <td>NaN</td>\n",
       "      <td>...</td>\n",
       "      <td>NaN</td>\n",
       "      <td>NaN</td>\n",
       "      <td>NaN</td>\n",
       "      <td>NaN</td>\n",
       "      <td>NaN</td>\n",
       "      <td>NaN</td>\n",
       "      <td>3</td>\n",
       "      <td>1</td>\n",
       "      <td>2</td>\n",
       "      <td>NaN</td>\n",
       "    </tr>\n",
       "    <tr>\n",
       "      <th>97780</th>\n",
       "      <td>175399</td>\n",
       "      <td>-1</td>\n",
       "      <td>6.0</td>\n",
       "      <td>21.0</td>\n",
       "      <td>18.0</td>\n",
       "      <td>NaN</td>\n",
       "      <td>NaN</td>\n",
       "      <td>0.0</td>\n",
       "      <td>4.0</td>\n",
       "      <td>NaN</td>\n",
       "      <td>...</td>\n",
       "      <td>3.0</td>\n",
       "      <td>5.0</td>\n",
       "      <td>4.0</td>\n",
       "      <td>2.0</td>\n",
       "      <td>8.0</td>\n",
       "      <td>NaN</td>\n",
       "      <td>5</td>\n",
       "      <td>2</td>\n",
       "      <td>1</td>\n",
       "      <td>NaN</td>\n",
       "    </tr>\n",
       "    <tr>\n",
       "      <th>174298</th>\n",
       "      <td>163948</td>\n",
       "      <td>-1</td>\n",
       "      <td>NaN</td>\n",
       "      <td>NaN</td>\n",
       "      <td>NaN</td>\n",
       "      <td>NaN</td>\n",
       "      <td>NaN</td>\n",
       "      <td>NaN</td>\n",
       "      <td>NaN</td>\n",
       "      <td>NaN</td>\n",
       "      <td>...</td>\n",
       "      <td>NaN</td>\n",
       "      <td>NaN</td>\n",
       "      <td>NaN</td>\n",
       "      <td>NaN</td>\n",
       "      <td>NaN</td>\n",
       "      <td>NaN</td>\n",
       "      <td>3</td>\n",
       "      <td>2</td>\n",
       "      <td>1</td>\n",
       "      <td>NaN</td>\n",
       "    </tr>\n",
       "    <tr>\n",
       "      <th>176468</th>\n",
       "      <td>18237</td>\n",
       "      <td>1</td>\n",
       "      <td>2.0</td>\n",
       "      <td>10.0</td>\n",
       "      <td>10.0</td>\n",
       "      <td>8.0</td>\n",
       "      <td>1.0</td>\n",
       "      <td>0.0</td>\n",
       "      <td>2.0</td>\n",
       "      <td>10.0</td>\n",
       "      <td>...</td>\n",
       "      <td>4.0</td>\n",
       "      <td>2.0</td>\n",
       "      <td>1.0</td>\n",
       "      <td>6.0</td>\n",
       "      <td>9.0</td>\n",
       "      <td>7.0</td>\n",
       "      <td>3</td>\n",
       "      <td>2</td>\n",
       "      <td>4</td>\n",
       "      <td>1992.0</td>\n",
       "    </tr>\n",
       "  </tbody>\n",
       "</table>\n",
       "<p>5 rows × 356 columns</p>\n",
       "</div>"
      ],
      "text/plain": [
       "           LNR  AGER_TYP  AKT_DAT_KL  ALTER_HH  ALTERSKATEGORIE_FEIN  \\\n",
       "103003  186482        -1         NaN       NaN                   NaN   \n",
       "182995    6040        -1         NaN       NaN                   NaN   \n",
       "97780   175399        -1         6.0      21.0                  18.0   \n",
       "174298  163948        -1         NaN       NaN                   NaN   \n",
       "176468   18237         1         2.0      10.0                  10.0   \n",
       "\n",
       "        ANZ_HAUSHALTE_AKTIV  ANZ_HH_TITEL  ANZ_KINDER  ANZ_PERSONEN  \\\n",
       "103003                  NaN           NaN         NaN           NaN   \n",
       "182995                  NaN           NaN         NaN           NaN   \n",
       "97780                   NaN           NaN         0.0           4.0   \n",
       "174298                  NaN           NaN         NaN           NaN   \n",
       "176468                  8.0           1.0         0.0           2.0   \n",
       "\n",
       "        ANZ_STATISTISCHE_HAUSHALTE   ...    VK_DHT4A  VK_DISTANZ  VK_ZG11  \\\n",
       "103003                         NaN   ...         NaN         NaN      NaN   \n",
       "182995                         NaN   ...         NaN         NaN      NaN   \n",
       "97780                          NaN   ...         3.0         5.0      4.0   \n",
       "174298                         NaN   ...         NaN         NaN      NaN   \n",
       "176468                        10.0   ...         4.0         2.0      1.0   \n",
       "\n",
       "        W_KEIT_KIND_HH  WOHNDAUER_2008  WOHNLAGE  ZABEOTYP  ANREDE_KZ  \\\n",
       "103003             NaN             NaN       NaN         3          2   \n",
       "182995             NaN             NaN       NaN         3          1   \n",
       "97780              2.0             8.0       NaN         5          2   \n",
       "174298             NaN             NaN       NaN         3          2   \n",
       "176468             6.0             9.0       7.0         3          2   \n",
       "\n",
       "        ALTERSKATEGORIE_GROB    year  \n",
       "103003                     1     NaN  \n",
       "182995                     2     NaN  \n",
       "97780                      1     NaN  \n",
       "174298                     1     NaN  \n",
       "176468                     4  1992.0  \n",
       "\n",
       "[5 rows x 356 columns]"
      ]
     },
     "execution_count": 111,
     "metadata": {},
     "output_type": "execute_result"
    }
   ],
   "source": [
    "customers = customers.drop(['ALTER_KIND1','ALTER_KIND2','ALTER_KIND3','ALTER_KIND4', 'EXTSEL992', 'KK_KUNDENTYP'], axis = 1)\n",
    "azdias = azdias.drop(['ALTER_KIND1','ALTER_KIND2','ALTER_KIND3', 'ALTER_KIND4', 'EXTSEL992','KK_KUNDENTYP'], axis = 1)\n",
    "customers.head()"
   ]
  },
  {
   "cell_type": "markdown",
   "metadata": {},
   "source": [
    "So, both data frames are missing a lot of data with the 'KBA05' prefix. 15% for 'azdias' and 29.4% for 'customers'. The 'azdias' frame is also missing a lot of data with the 'D19' prefix. For each data frame a subset of all the data missing for 'KBA05' will be dropped and that will reduce the dataframes by the amount they have missing, 15% and 29.4%"
   ]
  },
  {
   "cell_type": "code",
   "execution_count": 119,
   "metadata": {},
   "outputs": [],
   "source": [
    "customers = customers.dropna(subset=['KBA05_GBZ'])\n",
    "azdias = azdias.dropna(subset=['KBA05_GBZ']) "
   ]
  },
  {
   "cell_type": "code",
   "execution_count": 120,
   "metadata": {},
   "outputs": [
    {
     "data": {
      "text/plain": [
       "HH_DELTA_FLAG           0.048583\n",
       "W_KEIT_KIND_HH          0.048583\n",
       "ALTERSKATEGORIE_FEIN    0.033630\n",
       "RT_UEBERGROESSE         0.023077\n",
       "LP_STATUS_GROB          0.022960\n",
       "RT_SCHNAEPPCHEN         0.022960\n",
       "CJT_GESAMTTYP           0.022960\n",
       "CJT_TYP_2               0.022960\n",
       "ONLINE_AFFINITAET       0.022960\n",
       "CJT_TYP_3               0.022960\n",
       "LP_LEBENSPHASE_GROB     0.022960\n",
       "CJT_TYP_4               0.022960\n",
       "CJT_TYP_5               0.022960\n",
       "LP_FAMILIE_GROB         0.022960\n",
       "CJT_TYP_6               0.022960\n",
       "CJT_KATALOGNUTZER       0.022960\n",
       "RT_KEIN_ANREIZ          0.022960\n",
       "CJT_TYP_1               0.022960\n",
       "RETOURTYP_BK_S          0.022960\n",
       "GFK_URLAUBERTYP         0.022960\n",
       "dtype: float64"
      ]
     },
     "execution_count": 120,
     "metadata": {},
     "output_type": "execute_result"
    }
   ],
   "source": [
    "percent_missing(customers)[0:20]"
   ]
  },
  {
   "cell_type": "code",
   "execution_count": 122,
   "metadata": {},
   "outputs": [
    {
     "data": {
      "text/plain": [
       "OST_WEST_KZ                    0.918689\n",
       "ALTERSKATEGORIE_FEIN           0.232863\n",
       "D19_SOZIALES                   0.230472\n",
       "D19_BANKEN_ONLINE_QUOTE_12     0.230472\n",
       "D19_GESAMT_ONLINE_QUOTE_12     0.230472\n",
       "D19_LETZTER_KAUF_BRANCHE       0.230472\n",
       "D19_LOTTO                      0.230472\n",
       "D19_KONSUMTYP                  0.230472\n",
       "D19_TELKO_ONLINE_QUOTE_12      0.230472\n",
       "D19_VERSAND_ONLINE_QUOTE_12    0.230472\n",
       "D19_VERSI_ONLINE_QUOTE_12      0.230472\n",
       "HH_DELTA_FLAG                  0.042500\n",
       "W_KEIT_KIND_HH                 0.042500\n",
       "PLZ8_BAUMAX                    0.012230\n",
       "PLZ8_ANTG2                     0.012230\n",
       "PLZ8_ANTG1                     0.012230\n",
       "PLZ8_ANTG3                     0.012230\n",
       "PLZ8_ANTG4                     0.012230\n",
       "PLZ8_HHZ                       0.012230\n",
       "PLZ8_GBZ                       0.012230\n",
       "dtype: float64"
      ]
     },
     "execution_count": 122,
     "metadata": {},
     "output_type": "execute_result"
    }
   ],
   "source": [
    "percent_missing(azdias)[0:20]"
   ]
  },
  {
   "cell_type": "markdown",
   "metadata": {},
   "source": [
    "So at this point, there is not much missing data in the 'customers' frame and that can be dealt with easily ussing 'ffil' and 'bfil' which are 'built-ins' that just replace the missing data with that of the row ahead or behind it. But there is still alot missing in 'azdias' such as 'ALTERSKATEGORIE_FEIN', 'OST_WEST_KZ' and a few columns with prefix 'D19'. This will be dealt with by dropping the 'ALTERSKATEGORIE_FEIN', and 'OST_WEST_KZ' categories from both dataframes and dropping the rows that are missing data from 'D19_VERSAND_ONLINE_QUOTE_12'. "
   ]
  },
  {
   "cell_type": "code",
   "execution_count": 216,
   "metadata": {},
   "outputs": [
    {
     "data": {
      "image/png": "[encoded data removed]",
      "text/plain": [
       "<matplotlib.figure.Figure at 0x7f522d5124e0>"
      ]
     },
     "metadata": {
      "needs_background": "light"
     },
     "output_type": "display_data"
    }
   ],
   "source": [
    "plot_bar(azdias, \"D19_LETZTER_KAUF_BRANCHE\")"
   ]
  },
  {
   "cell_type": "code",
   "execution_count": 178,
   "metadata": {},
   "outputs": [],
   "source": [
    "azdias = azdias.dropna(subset=['D19_VERSAND_ONLINE_QUOTE_12']) \n",
    "customers = customers.dropna(subset=['D19_VERSAND_ONLINE_QUOTE_12']) "
   ]
  },
  {
   "cell_type": "code",
   "execution_count": 180,
   "metadata": {},
   "outputs": [
    {
     "data": {
      "text/html": [
       "<div>\n",
       "<style scoped>\n",
       "    .dataframe tbody tr th:only-of-type {\n",
       "        vertical-align: middle;\n",
       "    }\n",
       "\n",
       "    .dataframe tbody tr th {\n",
       "        vertical-align: top;\n",
       "    }\n",
       "\n",
       "    .dataframe thead th {\n",
       "        text-align: right;\n",
       "    }\n",
       "</style>\n",
       "<table border=\"1\" class=\"dataframe\">\n",
       "  <thead>\n",
       "    <tr style=\"text-align: right;\">\n",
       "      <th></th>\n",
       "      <th>LNR</th>\n",
       "      <th>AGER_TYP</th>\n",
       "      <th>AKT_DAT_KL</th>\n",
       "      <th>ALTER_HH</th>\n",
       "      <th>ANZ_HAUSHALTE_AKTIV</th>\n",
       "      <th>ANZ_HH_TITEL</th>\n",
       "      <th>ANZ_KINDER</th>\n",
       "      <th>ANZ_PERSONEN</th>\n",
       "      <th>ANZ_STATISTISCHE_HAUSHALTE</th>\n",
       "      <th>ANZ_TITEL</th>\n",
       "      <th>...</th>\n",
       "      <th>VK_DHT4A</th>\n",
       "      <th>VK_DISTANZ</th>\n",
       "      <th>VK_ZG11</th>\n",
       "      <th>W_KEIT_KIND_HH</th>\n",
       "      <th>WOHNDAUER_2008</th>\n",
       "      <th>WOHNLAGE</th>\n",
       "      <th>ZABEOTYP</th>\n",
       "      <th>ANREDE_KZ</th>\n",
       "      <th>ALTERSKATEGORIE_GROB</th>\n",
       "      <th>year</th>\n",
       "    </tr>\n",
       "  </thead>\n",
       "  <tbody>\n",
       "    <tr>\n",
       "      <th>176468</th>\n",
       "      <td>18237</td>\n",
       "      <td>1</td>\n",
       "      <td>2.0</td>\n",
       "      <td>10.0</td>\n",
       "      <td>8.0</td>\n",
       "      <td>1.0</td>\n",
       "      <td>0.0</td>\n",
       "      <td>2.0</td>\n",
       "      <td>10.0</td>\n",
       "      <td>0.0</td>\n",
       "      <td>...</td>\n",
       "      <td>4.0</td>\n",
       "      <td>2.0</td>\n",
       "      <td>1.0</td>\n",
       "      <td>6.0</td>\n",
       "      <td>9.0</td>\n",
       "      <td>7.0</td>\n",
       "      <td>3</td>\n",
       "      <td>2</td>\n",
       "      <td>4</td>\n",
       "      <td>1992.0</td>\n",
       "    </tr>\n",
       "    <tr>\n",
       "      <th>15080</th>\n",
       "      <td>168081</td>\n",
       "      <td>-1</td>\n",
       "      <td>1.0</td>\n",
       "      <td>21.0</td>\n",
       "      <td>2.0</td>\n",
       "      <td>0.0</td>\n",
       "      <td>0.0</td>\n",
       "      <td>4.0</td>\n",
       "      <td>1.0</td>\n",
       "      <td>0.0</td>\n",
       "      <td>...</td>\n",
       "      <td>2.0</td>\n",
       "      <td>3.0</td>\n",
       "      <td>3.0</td>\n",
       "      <td>3.0</td>\n",
       "      <td>9.0</td>\n",
       "      <td>3.0</td>\n",
       "      <td>1</td>\n",
       "      <td>2</td>\n",
       "      <td>3</td>\n",
       "      <td>1992.0</td>\n",
       "    </tr>\n",
       "    <tr>\n",
       "      <th>154566</th>\n",
       "      <td>96011</td>\n",
       "      <td>-1</td>\n",
       "      <td>1.0</td>\n",
       "      <td>16.0</td>\n",
       "      <td>16.0</td>\n",
       "      <td>0.0</td>\n",
       "      <td>3.0</td>\n",
       "      <td>3.0</td>\n",
       "      <td>13.0</td>\n",
       "      <td>0.0</td>\n",
       "      <td>...</td>\n",
       "      <td>3.0</td>\n",
       "      <td>5.0</td>\n",
       "      <td>4.0</td>\n",
       "      <td>1.0</td>\n",
       "      <td>9.0</td>\n",
       "      <td>5.0</td>\n",
       "      <td>4</td>\n",
       "      <td>1</td>\n",
       "      <td>3</td>\n",
       "      <td>1992.0</td>\n",
       "    </tr>\n",
       "    <tr>\n",
       "      <th>84279</th>\n",
       "      <td>114179</td>\n",
       "      <td>-1</td>\n",
       "      <td>1.0</td>\n",
       "      <td>14.0</td>\n",
       "      <td>2.0</td>\n",
       "      <td>0.0</td>\n",
       "      <td>0.0</td>\n",
       "      <td>1.0</td>\n",
       "      <td>2.0</td>\n",
       "      <td>0.0</td>\n",
       "      <td>...</td>\n",
       "      <td>1.0</td>\n",
       "      <td>1.0</td>\n",
       "      <td>1.0</td>\n",
       "      <td>4.0</td>\n",
       "      <td>9.0</td>\n",
       "      <td>3.0</td>\n",
       "      <td>3</td>\n",
       "      <td>1</td>\n",
       "      <td>3</td>\n",
       "      <td>1992.0</td>\n",
       "    </tr>\n",
       "    <tr>\n",
       "      <th>34108</th>\n",
       "      <td>179202</td>\n",
       "      <td>2</td>\n",
       "      <td>1.0</td>\n",
       "      <td>10.0</td>\n",
       "      <td>6.0</td>\n",
       "      <td>0.0</td>\n",
       "      <td>0.0</td>\n",
       "      <td>2.0</td>\n",
       "      <td>6.0</td>\n",
       "      <td>0.0</td>\n",
       "      <td>...</td>\n",
       "      <td>1.0</td>\n",
       "      <td>2.0</td>\n",
       "      <td>1.0</td>\n",
       "      <td>6.0</td>\n",
       "      <td>9.0</td>\n",
       "      <td>3.0</td>\n",
       "      <td>3</td>\n",
       "      <td>2</td>\n",
       "      <td>4</td>\n",
       "      <td>1995.0</td>\n",
       "    </tr>\n",
       "  </tbody>\n",
       "</table>\n",
       "<p>5 rows × 353 columns</p>\n",
       "</div>"
      ],
      "text/plain": [
       "           LNR  AGER_TYP  AKT_DAT_KL  ALTER_HH  ANZ_HAUSHALTE_AKTIV  \\\n",
       "176468   18237         1         2.0      10.0                  8.0   \n",
       "15080   168081        -1         1.0      21.0                  2.0   \n",
       "154566   96011        -1         1.0      16.0                 16.0   \n",
       "84279   114179        -1         1.0      14.0                  2.0   \n",
       "34108   179202         2         1.0      10.0                  6.0   \n",
       "\n",
       "        ANZ_HH_TITEL  ANZ_KINDER  ANZ_PERSONEN  ANZ_STATISTISCHE_HAUSHALTE  \\\n",
       "176468           1.0         0.0           2.0                        10.0   \n",
       "15080            0.0         0.0           4.0                         1.0   \n",
       "154566           0.0         3.0           3.0                        13.0   \n",
       "84279            0.0         0.0           1.0                         2.0   \n",
       "34108            0.0         0.0           2.0                         6.0   \n",
       "\n",
       "        ANZ_TITEL   ...    VK_DHT4A  VK_DISTANZ  VK_ZG11  W_KEIT_KIND_HH  \\\n",
       "176468        0.0   ...         4.0         2.0      1.0             6.0   \n",
       "15080         0.0   ...         2.0         3.0      3.0             3.0   \n",
       "154566        0.0   ...         3.0         5.0      4.0             1.0   \n",
       "84279         0.0   ...         1.0         1.0      1.0             4.0   \n",
       "34108         0.0   ...         1.0         2.0      1.0             6.0   \n",
       "\n",
       "        WOHNDAUER_2008  WOHNLAGE  ZABEOTYP  ANREDE_KZ  ALTERSKATEGORIE_GROB  \\\n",
       "176468             9.0       7.0         3          2                     4   \n",
       "15080              9.0       3.0         1          2                     3   \n",
       "154566             9.0       5.0         4          1                     3   \n",
       "84279              9.0       3.0         3          1                     3   \n",
       "34108              9.0       3.0         3          2                     4   \n",
       "\n",
       "          year  \n",
       "176468  1992.0  \n",
       "15080   1992.0  \n",
       "154566  1992.0  \n",
       "84279   1992.0  \n",
       "34108   1995.0  \n",
       "\n",
       "[5 rows x 353 columns]"
      ]
     },
     "execution_count": 180,
     "metadata": {},
     "output_type": "execute_result"
    }
   ],
   "source": [
    "customers = customers.drop(['ALTERSKATEGORIE_FEIN','OST_WEST_KZ'], axis = 1)\n",
    "azdias = azdias.drop(['ALTERSKATEGORIE_FEIN', 'OST_WEST_KZ'], axis = 1)\n",
    "customers.head()"
   ]
  },
  {
   "cell_type": "code",
   "execution_count": 125,
   "metadata": {},
   "outputs": [
    {
     "data": {
      "text/plain": [
       "W_KEIT_KIND_HH          0.037170\n",
       "VHN                     0.010861\n",
       "KKK                     0.010861\n",
       "REGIOTYP                0.010861\n",
       "PLZ8_ANTG2              0.009791\n",
       "PLZ8_GBZ                0.009791\n",
       "PLZ8_BAUMAX             0.009791\n",
       "PLZ8_ANTG4              0.009791\n",
       "PLZ8_HHZ                0.009791\n",
       "PLZ8_ANTG3              0.009791\n",
       "PLZ8_ANTG1              0.009791\n",
       "RT_UEBERGROESSE         0.006684\n",
       "KBA13_HERST_AUDI_VW     0.006325\n",
       "KBA13_KMH_0_140         0.006325\n",
       "KBA13_HHZ               0.006325\n",
       "KBA13_HERST_SONST       0.006325\n",
       "KBA13_HERST_EUROPA      0.006325\n",
       "KBA13_HERST_BMW_BENZ    0.006325\n",
       "KBA13_HERST_ASIEN       0.006325\n",
       "dtype: float64"
      ]
     },
     "execution_count": 125,
     "metadata": {},
     "output_type": "execute_result"
    }
   ],
   "source": [
    "percent_missing(azdias)[1:20]"
   ]
  },
  {
   "cell_type": "code",
   "execution_count": 126,
   "metadata": {},
   "outputs": [
    {
     "data": {
      "text/plain": [
       "W_KEIT_KIND_HH         0.047251\n",
       "RT_UEBERGROESSE        0.022721\n",
       "RT_SCHNAEPPCHEN        0.022617\n",
       "ONLINE_AFFINITAET      0.022617\n",
       "RETOURTYP_BK_S         0.022617\n",
       "CJT_TYP_6              0.022617\n",
       "CJT_TYP_5              0.022617\n",
       "CJT_TYP_4              0.022617\n",
       "CJT_TYP_3              0.022617\n",
       "CJT_TYP_2              0.022617\n",
       "CJT_TYP_1              0.022617\n",
       "CJT_KATALOGNUTZER      0.022617\n",
       "CJT_GESAMTTYP          0.022617\n",
       "RT_KEIN_ANREIZ         0.022617\n",
       "LP_LEBENSPHASE_GROB    0.022617\n",
       "LP_STATUS_GROB         0.022617\n",
       "GFK_URLAUBERTYP        0.022617\n",
       "LP_FAMILIE_GROB        0.022617\n",
       "ANZ_HH_TITEL           0.014608\n",
       "dtype: float64"
      ]
     },
     "execution_count": 126,
     "metadata": {},
     "output_type": "execute_result"
    }
   ],
   "source": [
    "percent_missing(customers)[1:20]"
   ]
  },
  {
   "cell_type": "markdown",
   "metadata": {},
   "source": [
    "So, that fixed the problem of most of the missing data. In the next step the remainder will be filled in using 'ffill' and 'bfill'"
   ]
  },
  {
   "cell_type": "code",
   "execution_count": 127,
   "metadata": {},
   "outputs": [
    {
     "data": {
      "text/plain": [
       "(116842, 353)"
      ]
     },
     "execution_count": 127,
     "metadata": {},
     "output_type": "execute_result"
    }
   ],
   "source": [
    "azdias.shape"
   ]
  },
  {
   "cell_type": "code",
   "execution_count": 128,
   "metadata": {},
   "outputs": [
    {
     "data": {
      "text/plain": [
       "(67427, 353)"
      ]
     },
     "execution_count": 128,
     "metadata": {},
     "output_type": "execute_result"
    }
   ],
   "source": [
    "customers.shape"
   ]
  },
  {
   "cell_type": "code",
   "execution_count": 14,
   "metadata": {},
   "outputs": [],
   "source": [
    "columns = list(azdias.columns)\n",
    "def fill_in_missing(df):\n",
    "    \"\"\"\n",
    "    Fills in missing data with the value in the next row and if there is still missing data it fills it in with the \n",
    "    value in the previous one. \n",
    "    \n",
    "    INPUT:\n",
    "    - df: A dataframe\n",
    "    \n",
    "    OUTPUT:\n",
    "    - df: A dataframe that is now cleaned of any missing data\n",
    "    \n",
    "    \"\"\"\n",
    "    for column in columns:\n",
    "        df[column].fillna(method='ffill', inplace=True)\n",
    "        df[column].fillna(method='bfill', inplace=True)"
   ]
  },
  {
   "cell_type": "code",
   "execution_count": 229,
   "metadata": {},
   "outputs": [],
   "source": [
    "fill_in_missing(customers)"
   ]
  },
  {
   "cell_type": "code",
   "execution_count": 224,
   "metadata": {},
   "outputs": [],
   "source": [
    "fill_in_missing(azdias)"
   ]
  },
  {
   "cell_type": "code",
   "execution_count": 181,
   "metadata": {},
   "outputs": [
    {
     "data": {
      "text/plain": [
       "year                    0.0\n",
       "KBA13_ALTERHALTER_30    0.0\n",
       "KBA05_ALTER2            0.0\n",
       "KBA05_ALTER3            0.0\n",
       "KBA05_ALTER4            0.0\n",
       "dtype: float64"
      ]
     },
     "execution_count": 181,
     "metadata": {},
     "output_type": "execute_result"
    }
   ],
   "source": [
    "percent_missing(customers)[0:5]"
   ]
  },
  {
   "cell_type": "code",
   "execution_count": 182,
   "metadata": {},
   "outputs": [
    {
     "data": {
      "text/plain": [
       "year                    0.0\n",
       "KBA13_ALTERHALTER_30    0.0\n",
       "KBA05_ALTER2            0.0\n",
       "KBA05_ALTER3            0.0\n",
       "KBA05_ALTER4            0.0\n",
       "dtype: float64"
      ]
     },
     "execution_count": 182,
     "metadata": {},
     "output_type": "execute_result"
    }
   ],
   "source": [
    "percent_missing(azdias)[0:5]"
   ]
  },
  {
   "cell_type": "markdown",
   "metadata": {},
   "source": [
    "So, the missing data has been dealt with now. "
   ]
  },
  {
   "cell_type": "code",
   "execution_count": 237,
   "metadata": {},
   "outputs": [],
   "source": [
    "pickle_out = open(\"customers.pickle\",\"wb\")\n",
    "pickle.dump(customers, pickle_out)\n",
    "pickle_out.close()"
   ]
  },
  {
   "cell_type": "code",
   "execution_count": 238,
   "metadata": {},
   "outputs": [],
   "source": [
    "pickle_out = open(\"azdias.pickle\",\"wb\")\n",
    "pickle.dump(azdias, pickle_out)\n",
    "pickle_out.close()"
   ]
  },
  {
   "cell_type": "code",
   "execution_count": 5,
   "metadata": {},
   "outputs": [],
   "source": [
    "pickle_in = open(\"customers.pickle\",\"rb\")\n",
    "customers = pickle.load(pickle_in)"
   ]
  },
  {
   "cell_type": "code",
   "execution_count": 4,
   "metadata": {},
   "outputs": [],
   "source": [
    "pickle_in = open(\"azdias.pickle\",\"rb\")\n",
    "azdias = pickle.load(pickle_in)"
   ]
  },
  {
   "cell_type": "markdown",
   "metadata": {},
   "source": [
    "The next course of action is to split the two data frames into categorical and numerical, then scale the data, then finally to perform principle component analysis to reduce the size of the matrix by getting only the columns that contain the vast majority of useful information such that having more columns won't increase the accuracy of a supervised learning model. "
   ]
  },
  {
   "cell_type": "code",
   "execution_count": 5,
   "metadata": {},
   "outputs": [],
   "source": [
    "azdias_cat_df = azdias.select_dtypes(include=['object'])"
   ]
  },
  {
   "cell_type": "code",
   "execution_count": 10,
   "metadata": {},
   "outputs": [],
   "source": [
    "customer_cat_df = customers.select_dtypes(include=['object'])"
   ]
  },
  {
   "cell_type": "code",
   "execution_count": 11,
   "metadata": {},
   "outputs": [
    {
     "data": {
      "text/html": [
       "<div>\n",
       "<style scoped>\n",
       "    .dataframe tbody tr th:only-of-type {\n",
       "        vertical-align: middle;\n",
       "    }\n",
       "\n",
       "    .dataframe tbody tr th {\n",
       "        vertical-align: top;\n",
       "    }\n",
       "\n",
       "    .dataframe thead th {\n",
       "        text-align: right;\n",
       "    }\n",
       "</style>\n",
       "<table border=\"1\" class=\"dataframe\">\n",
       "  <thead>\n",
       "    <tr style=\"text-align: right;\">\n",
       "      <th></th>\n",
       "    </tr>\n",
       "  </thead>\n",
       "  <tbody>\n",
       "    <tr>\n",
       "      <th>176468</th>\n",
       "    </tr>\n",
       "    <tr>\n",
       "      <th>15080</th>\n",
       "    </tr>\n",
       "    <tr>\n",
       "      <th>154566</th>\n",
       "    </tr>\n",
       "    <tr>\n",
       "      <th>84279</th>\n",
       "    </tr>\n",
       "    <tr>\n",
       "      <th>34108</th>\n",
       "    </tr>\n",
       "  </tbody>\n",
       "</table>\n",
       "</div>"
      ],
      "text/plain": [
       "Empty DataFrame\n",
       "Columns: []\n",
       "Index: [176468, 15080, 154566, 84279, 34108]"
      ]
     },
     "execution_count": 11,
     "metadata": {},
     "output_type": "execute_result"
    }
   ],
   "source": [
    "customer_cat_df.head()"
   ]
  },
  {
   "cell_type": "markdown",
   "metadata": {},
   "source": [
    "Note: Although at this moment there are no categorical columns before this step output 76 categorical columns when although at the beginning of the data processing there were only a few. This was encountered a few days earlier for some unknown reason, and now again. Upon inspection it appears that all the data is actually numerical however. The only column which does not appear to be numberical is 'D19_LETZTER_KAUF_BRANCHE'. It will be converted to numberical using the 'convert_mixed' function. The next steps show what was done to fix this. "
   ]
  },
  {
   "cell_type": "code",
   "execution_count": 202,
   "metadata": {},
   "outputs": [
    {
     "data": {
      "text/html": [
       "<div>\n",
       "<style scoped>\n",
       "    .dataframe tbody tr th:only-of-type {\n",
       "        vertical-align: middle;\n",
       "    }\n",
       "\n",
       "    .dataframe tbody tr th {\n",
       "        vertical-align: top;\n",
       "    }\n",
       "\n",
       "    .dataframe thead th {\n",
       "        text-align: right;\n",
       "    }\n",
       "</style>\n",
       "<table border=\"1\" class=\"dataframe\">\n",
       "  <thead>\n",
       "    <tr style=\"text-align: right;\">\n",
       "      <th></th>\n",
       "      <th>SEMIO_RAT</th>\n",
       "      <th>SEMIO_REL</th>\n",
       "      <th>SEMIO_SOZ</th>\n",
       "      <th>SEMIO_TRADV</th>\n",
       "      <th>SEMIO_VERT</th>\n",
       "      <th>ZABEOTYP</th>\n",
       "    </tr>\n",
       "  </thead>\n",
       "  <tbody>\n",
       "    <tr>\n",
       "      <th>176468</th>\n",
       "      <td>3</td>\n",
       "      <td>1</td>\n",
       "      <td>1</td>\n",
       "      <td>3</td>\n",
       "      <td>2</td>\n",
       "      <td>3</td>\n",
       "    </tr>\n",
       "    <tr>\n",
       "      <th>15080</th>\n",
       "      <td>4</td>\n",
       "      <td>3</td>\n",
       "      <td>5</td>\n",
       "      <td>2</td>\n",
       "      <td>3</td>\n",
       "      <td>1</td>\n",
       "    </tr>\n",
       "    <tr>\n",
       "      <th>154566</th>\n",
       "      <td>2</td>\n",
       "      <td>4</td>\n",
       "      <td>6</td>\n",
       "      <td>2</td>\n",
       "      <td>5</td>\n",
       "      <td>4</td>\n",
       "    </tr>\n",
       "    <tr>\n",
       "      <th>84279</th>\n",
       "      <td>2</td>\n",
       "      <td>4</td>\n",
       "      <td>6</td>\n",
       "      <td>2</td>\n",
       "      <td>5</td>\n",
       "      <td>3</td>\n",
       "    </tr>\n",
       "    <tr>\n",
       "      <th>34108</th>\n",
       "      <td>3</td>\n",
       "      <td>2</td>\n",
       "      <td>3</td>\n",
       "      <td>1</td>\n",
       "      <td>3</td>\n",
       "      <td>3</td>\n",
       "    </tr>\n",
       "    <tr>\n",
       "      <th>129480</th>\n",
       "      <td>5</td>\n",
       "      <td>7</td>\n",
       "      <td>7</td>\n",
       "      <td>5</td>\n",
       "      <td>6</td>\n",
       "      <td>1</td>\n",
       "    </tr>\n",
       "    <tr>\n",
       "      <th>57081</th>\n",
       "      <td>4</td>\n",
       "      <td>6</td>\n",
       "      <td>7</td>\n",
       "      <td>5</td>\n",
       "      <td>6</td>\n",
       "      <td>1</td>\n",
       "    </tr>\n",
       "    <tr>\n",
       "      <th>189526</th>\n",
       "      <td>3</td>\n",
       "      <td>3</td>\n",
       "      <td>6</td>\n",
       "      <td>4</td>\n",
       "      <td>7</td>\n",
       "      <td>1</td>\n",
       "    </tr>\n",
       "    <tr>\n",
       "      <th>7559</th>\n",
       "      <td>2</td>\n",
       "      <td>4</td>\n",
       "      <td>6</td>\n",
       "      <td>2</td>\n",
       "      <td>5</td>\n",
       "      <td>3</td>\n",
       "    </tr>\n",
       "    <tr>\n",
       "      <th>97436</th>\n",
       "      <td>2</td>\n",
       "      <td>2</td>\n",
       "      <td>4</td>\n",
       "      <td>3</td>\n",
       "      <td>4</td>\n",
       "      <td>1</td>\n",
       "    </tr>\n",
       "  </tbody>\n",
       "</table>\n",
       "</div>"
      ],
      "text/plain": [
       "       SEMIO_RAT SEMIO_REL SEMIO_SOZ SEMIO_TRADV SEMIO_VERT ZABEOTYP\n",
       "176468         3         1         1           3          2        3\n",
       "15080          4         3         5           2          3        1\n",
       "154566         2         4         6           2          5        4\n",
       "84279          2         4         6           2          5        3\n",
       "34108          3         2         3           1          3        3\n",
       "129480         5         7         7           5          6        1\n",
       "57081          4         6         7           5          6        1\n",
       "189526         3         3         6           4          7        1\n",
       "7559           2         4         6           2          5        3\n",
       "97436          2         2         4           3          4        1"
      ]
     },
     "execution_count": 202,
     "metadata": {},
     "output_type": "execute_result"
    }
   ],
   "source": [
    "customer_cat_df.iloc[0:10, 70:80]"
   ]
  },
  {
   "cell_type": "code",
   "execution_count": 193,
   "metadata": {},
   "outputs": [
    {
     "data": {
      "image/png": "[encoded data removed]",
      "text/plain": [
       "<matplotlib.figure.Figure at 0x7fd2ff20d6a0>"
      ]
     },
     "metadata": {
      "needs_background": "light"
     },
     "output_type": "display_data"
    }
   ],
   "source": [
    "plot_bar(customers,'D19_LETZTER_KAUF_BRANCHE' )"
   ]
  },
  {
   "cell_type": "code",
   "execution_count": 206,
   "metadata": {},
   "outputs": [
    {
     "name": "stderr",
     "output_type": "stream",
     "text": [
      "/opt/conda/lib/python3.6/site-packages/ipykernel_launcher.py:1: SettingWithCopyWarning: \n",
      "A value is trying to be set on a copy of a slice from a DataFrame.\n",
      "Try using .loc[row_indexer,col_indexer] = value instead\n",
      "\n",
      "See the caveats in the documentation: http://pandas.pydata.org/pandas-docs/stable/indexing.html#indexing-view-versus-copy\n",
      "  \"\"\"Entry point for launching an IPython kernel.\n"
     ]
    },
    {
     "data": {
      "image/png": "[encoded data removed]",
      "text/plain": [
       "<matplotlib.figure.Figure at 0x7fd29771da58>"
      ]
     },
     "metadata": {
      "needs_background": "light"
     },
     "output_type": "display_data"
    }
   ],
   "source": [
    "customer_cat_df['D19_LETZTER_KAUF_BRANCHE'] = convert_mixed(customer_cat_df,'D19_LETZTER_KAUF_BRANCHE' )\n",
    "plot_bar(customer_cat_df,'D19_LETZTER_KAUF_BRANCHE')"
   ]
  },
  {
   "cell_type": "code",
   "execution_count": 207,
   "metadata": {},
   "outputs": [
    {
     "name": "stderr",
     "output_type": "stream",
     "text": [
      "/opt/conda/lib/python3.6/site-packages/ipykernel_launcher.py:2: SettingWithCopyWarning: \n",
      "A value is trying to be set on a copy of a slice from a DataFrame.\n",
      "Try using .loc[row_indexer,col_indexer] = value instead\n",
      "\n",
      "See the caveats in the documentation: http://pandas.pydata.org/pandas-docs/stable/indexing.html#indexing-view-versus-copy\n",
      "  \n"
     ]
    }
   ],
   "source": [
    "for col in customer_cat_df.columns:\n",
    "    customer_cat_df[col] = pd.to_numeric(customer_cat_df[col],errors = 'coerce')"
   ]
  },
  {
   "cell_type": "code",
   "execution_count": 208,
   "metadata": {},
   "outputs": [
    {
     "data": {
      "text/html": [
       "<div>\n",
       "<style scoped>\n",
       "    .dataframe tbody tr th:only-of-type {\n",
       "        vertical-align: middle;\n",
       "    }\n",
       "\n",
       "    .dataframe tbody tr th {\n",
       "        vertical-align: top;\n",
       "    }\n",
       "\n",
       "    .dataframe thead th {\n",
       "        text-align: right;\n",
       "    }\n",
       "</style>\n",
       "<table border=\"1\" class=\"dataframe\">\n",
       "  <thead>\n",
       "    <tr style=\"text-align: right;\">\n",
       "      <th></th>\n",
       "      <th>D19_LETZTER_KAUF_BRANCHE</th>\n",
       "      <th>KBA05_ALTER1</th>\n",
       "      <th>KBA05_ALTER2</th>\n",
       "      <th>KBA05_ALTER3</th>\n",
       "      <th>KBA05_ALTER4</th>\n",
       "      <th>KBA05_ANHANG</th>\n",
       "      <th>KBA05_AUTOQUOT</th>\n",
       "      <th>KBA05_CCM1</th>\n",
       "      <th>KBA05_CCM2</th>\n",
       "      <th>KBA05_CCM3</th>\n",
       "      <th>...</th>\n",
       "      <th>SEMIO_KULT</th>\n",
       "      <th>SEMIO_LUST</th>\n",
       "      <th>SEMIO_MAT</th>\n",
       "      <th>SEMIO_PFLICHT</th>\n",
       "      <th>SEMIO_RAT</th>\n",
       "      <th>SEMIO_REL</th>\n",
       "      <th>SEMIO_SOZ</th>\n",
       "      <th>SEMIO_TRADV</th>\n",
       "      <th>SEMIO_VERT</th>\n",
       "      <th>ZABEOTYP</th>\n",
       "    </tr>\n",
       "  </thead>\n",
       "  <tbody>\n",
       "    <tr>\n",
       "      <th>176468</th>\n",
       "      <td>0</td>\n",
       "      <td>3.0</td>\n",
       "      <td>4.0</td>\n",
       "      <td>3.0</td>\n",
       "      <td>2.0</td>\n",
       "      <td>0.0</td>\n",
       "      <td>3.0</td>\n",
       "      <td>3.0</td>\n",
       "      <td>1.0</td>\n",
       "      <td>5.0</td>\n",
       "      <td>...</td>\n",
       "      <td>1</td>\n",
       "      <td>7</td>\n",
       "      <td>1</td>\n",
       "      <td>2</td>\n",
       "      <td>3</td>\n",
       "      <td>1</td>\n",
       "      <td>1</td>\n",
       "      <td>3</td>\n",
       "      <td>2</td>\n",
       "      <td>3</td>\n",
       "    </tr>\n",
       "    <tr>\n",
       "      <th>15080</th>\n",
       "      <td>3</td>\n",
       "      <td>2.0</td>\n",
       "      <td>3.0</td>\n",
       "      <td>3.0</td>\n",
       "      <td>3.0</td>\n",
       "      <td>3.0</td>\n",
       "      <td>3.0</td>\n",
       "      <td>2.0</td>\n",
       "      <td>3.0</td>\n",
       "      <td>3.0</td>\n",
       "      <td>...</td>\n",
       "      <td>3</td>\n",
       "      <td>4</td>\n",
       "      <td>3</td>\n",
       "      <td>4</td>\n",
       "      <td>4</td>\n",
       "      <td>3</td>\n",
       "      <td>5</td>\n",
       "      <td>2</td>\n",
       "      <td>3</td>\n",
       "      <td>1</td>\n",
       "    </tr>\n",
       "    <tr>\n",
       "      <th>154566</th>\n",
       "      <td>27</td>\n",
       "      <td>3.0</td>\n",
       "      <td>4.0</td>\n",
       "      <td>2.0</td>\n",
       "      <td>1.0</td>\n",
       "      <td>1.0</td>\n",
       "      <td>2.0</td>\n",
       "      <td>4.0</td>\n",
       "      <td>3.0</td>\n",
       "      <td>2.0</td>\n",
       "      <td>...</td>\n",
       "      <td>5</td>\n",
       "      <td>6</td>\n",
       "      <td>4</td>\n",
       "      <td>5</td>\n",
       "      <td>2</td>\n",
       "      <td>4</td>\n",
       "      <td>6</td>\n",
       "      <td>2</td>\n",
       "      <td>5</td>\n",
       "      <td>4</td>\n",
       "    </tr>\n",
       "    <tr>\n",
       "      <th>84279</th>\n",
       "      <td>0</td>\n",
       "      <td>3.0</td>\n",
       "      <td>4.0</td>\n",
       "      <td>2.0</td>\n",
       "      <td>2.0</td>\n",
       "      <td>1.0</td>\n",
       "      <td>3.0</td>\n",
       "      <td>3.0</td>\n",
       "      <td>2.0</td>\n",
       "      <td>4.0</td>\n",
       "      <td>...</td>\n",
       "      <td>5</td>\n",
       "      <td>4</td>\n",
       "      <td>2</td>\n",
       "      <td>4</td>\n",
       "      <td>2</td>\n",
       "      <td>4</td>\n",
       "      <td>6</td>\n",
       "      <td>2</td>\n",
       "      <td>5</td>\n",
       "      <td>3</td>\n",
       "    </tr>\n",
       "    <tr>\n",
       "      <th>34108</th>\n",
       "      <td>4</td>\n",
       "      <td>3.0</td>\n",
       "      <td>2.0</td>\n",
       "      <td>3.0</td>\n",
       "      <td>4.0</td>\n",
       "      <td>1.0</td>\n",
       "      <td>4.0</td>\n",
       "      <td>4.0</td>\n",
       "      <td>3.0</td>\n",
       "      <td>2.0</td>\n",
       "      <td>...</td>\n",
       "      <td>1</td>\n",
       "      <td>7</td>\n",
       "      <td>3</td>\n",
       "      <td>4</td>\n",
       "      <td>3</td>\n",
       "      <td>2</td>\n",
       "      <td>3</td>\n",
       "      <td>1</td>\n",
       "      <td>3</td>\n",
       "      <td>3</td>\n",
       "    </tr>\n",
       "  </tbody>\n",
       "</table>\n",
       "<p>5 rows × 76 columns</p>\n",
       "</div>"
      ],
      "text/plain": [
       "        D19_LETZTER_KAUF_BRANCHE  KBA05_ALTER1  KBA05_ALTER2  KBA05_ALTER3  \\\n",
       "176468                         0           3.0           4.0           3.0   \n",
       "15080                          3           2.0           3.0           3.0   \n",
       "154566                        27           3.0           4.0           2.0   \n",
       "84279                          0           3.0           4.0           2.0   \n",
       "34108                          4           3.0           2.0           3.0   \n",
       "\n",
       "        KBA05_ALTER4  KBA05_ANHANG  KBA05_AUTOQUOT  KBA05_CCM1  KBA05_CCM2  \\\n",
       "176468           2.0           0.0             3.0         3.0         1.0   \n",
       "15080            3.0           3.0             3.0         2.0         3.0   \n",
       "154566           1.0           1.0             2.0         4.0         3.0   \n",
       "84279            2.0           1.0             3.0         3.0         2.0   \n",
       "34108            4.0           1.0             4.0         4.0         3.0   \n",
       "\n",
       "        KBA05_CCM3    ...     SEMIO_KULT  SEMIO_LUST  SEMIO_MAT  \\\n",
       "176468         5.0    ...              1           7          1   \n",
       "15080          3.0    ...              3           4          3   \n",
       "154566         2.0    ...              5           6          4   \n",
       "84279          4.0    ...              5           4          2   \n",
       "34108          2.0    ...              1           7          3   \n",
       "\n",
       "        SEMIO_PFLICHT  SEMIO_RAT  SEMIO_REL  SEMIO_SOZ  SEMIO_TRADV  \\\n",
       "176468              2          3          1          1            3   \n",
       "15080               4          4          3          5            2   \n",
       "154566              5          2          4          6            2   \n",
       "84279               4          2          4          6            2   \n",
       "34108               4          3          2          3            1   \n",
       "\n",
       "        SEMIO_VERT  ZABEOTYP  \n",
       "176468           2         3  \n",
       "15080            3         1  \n",
       "154566           5         4  \n",
       "84279            5         3  \n",
       "34108            3         3  \n",
       "\n",
       "[5 rows x 76 columns]"
      ]
     },
     "execution_count": 208,
     "metadata": {},
     "output_type": "execute_result"
    }
   ],
   "source": [
    "customer_cat_df.head()"
   ]
  },
  {
   "cell_type": "code",
   "execution_count": 211,
   "metadata": {},
   "outputs": [
    {
     "data": {
      "text/plain": [
       "(67427, 0)"
      ]
     },
     "execution_count": 211,
     "metadata": {},
     "output_type": "execute_result"
    }
   ],
   "source": [
    "customer_cat_df.select_dtypes(include=['object']).shape"
   ]
  },
  {
   "cell_type": "markdown",
   "metadata": {},
   "source": [
    "Okay, so that annoying step seems to be working now. It will done for the original 'customers' and 'azdias' data frames as well so that all the data is numerical."
   ]
  },
  {
   "cell_type": "code",
   "execution_count": 212,
   "metadata": {},
   "outputs": [],
   "source": [
    "customers['D19_LETZTER_KAUF_BRANCHE'] = convert_mixed(customers,'D19_LETZTER_KAUF_BRANCHE')\n",
    "azdias['D19_LETZTER_KAUF_BRANCHE'] = convert_mixed(azdias,'D19_LETZTER_KAUF_BRANCHE' )"
   ]
  },
  {
   "cell_type": "code",
   "execution_count": 213,
   "metadata": {},
   "outputs": [],
   "source": [
    "for col in customer_cat_df.columns:\n",
    "    customers[col] = pd.to_numeric(customers[col],errors = 'coerce')"
   ]
  },
  {
   "cell_type": "code",
   "execution_count": 214,
   "metadata": {},
   "outputs": [],
   "source": [
    "for col in customer_cat_df.columns:\n",
    "    azdias[col] = pd.to_numeric(azdias[col],errors = 'coerce')"
   ]
  },
  {
   "cell_type": "code",
   "execution_count": 215,
   "metadata": {},
   "outputs": [],
   "source": [
    "numerical_df = azdias.select_dtypes(exclude=['object'])"
   ]
  },
  {
   "cell_type": "code",
   "execution_count": 216,
   "metadata": {},
   "outputs": [
    {
     "data": {
      "text/plain": [
       "(116842, 353)"
      ]
     },
     "execution_count": 216,
     "metadata": {},
     "output_type": "execute_result"
    }
   ],
   "source": [
    "numerical_df.shape"
   ]
  },
  {
   "cell_type": "code",
   "execution_count": 217,
   "metadata": {},
   "outputs": [
    {
     "data": {
      "text/plain": [
       "(116842, 353)"
      ]
     },
     "execution_count": 217,
     "metadata": {},
     "output_type": "execute_result"
    }
   ],
   "source": [
    "azdias.shape"
   ]
  },
  {
   "cell_type": "code",
   "execution_count": 6,
   "metadata": {},
   "outputs": [
    {
     "data": {
      "text/plain": [
       "(67427, 353)"
      ]
     },
     "execution_count": 6,
     "metadata": {},
     "output_type": "execute_result"
    }
   ],
   "source": [
    "customers.shape"
   ]
  },
  {
   "cell_type": "code",
   "execution_count": 9,
   "metadata": {},
   "outputs": [
    {
     "data": {
      "text/plain": [
       "year                    0.0\n",
       "KBA13_ALTERHALTER_30    0.0\n",
       "KBA05_ALTER2            0.0\n",
       "KBA05_ALTER3            0.0\n",
       "KBA05_ALTER4            0.0\n",
       "dtype: float64"
      ]
     },
     "execution_count": 9,
     "metadata": {},
     "output_type": "execute_result"
    }
   ],
   "source": [
    "percent_missing(customers)[0:5]"
   ]
  },
  {
   "cell_type": "code",
   "execution_count": 226,
   "metadata": {},
   "outputs": [
    {
     "data": {
      "text/plain": [
       "year                    0.0\n",
       "KBA13_ALTERHALTER_30    0.0\n",
       "KBA05_ALTER2            0.0\n",
       "KBA05_ALTER3            0.0\n",
       "KBA05_ALTER4            0.0\n",
       "dtype: float64"
      ]
     },
     "execution_count": 226,
     "metadata": {},
     "output_type": "execute_result"
    }
   ],
   "source": [
    "percent_missing(azdias)[0:5]"
   ]
  },
  {
   "cell_type": "markdown",
   "metadata": {},
   "source": [
    "So, at last the data pre-processing looks to be complete. All of the data is numerical as well. "
   ]
  },
  {
   "cell_type": "markdown",
   "metadata": {},
   "source": [
    "## EVALUATION I. UNSUPERVISED MODEL (Clustering)"
   ]
  },
  {
   "cell_type": "markdown",
   "metadata": {},
   "source": [
    "Now that the data in the dataframes has been pre-processed it can evaluated in order to achieve the desired result of segmenting the customers into clusters and then determining which of the cluster(s) contain data the yield likely customers for the company. After the clustering is complete a classification model will be chosen based on how well predicts if an indidual will become a customer for the company  by testing the performance on the 'training data set'. Lastly the classification model will be used on a 'test set' of data and the results will be submitted to a Kaggle competition. "
   ]
  },
  {
   "cell_type": "markdown",
   "metadata": {},
   "source": [
    "Firstly the dataframes are 'normalized' to get two dataframes 'azdias_normalized', and 'customers_normalized'. Next, the columns with the highest variance are selected using PCA (Principal Component Analysis) and the dataframes are reduced in size based on the desired total variance. 88.9% was the target for total variance, this means 88.9% of the mathematical information is retained. After that the reduced in size dataframes will be used for cluster analysis. "
   ]
  },
  {
   "cell_type": "code",
   "execution_count": 9,
   "metadata": {},
   "outputs": [],
   "source": [
    "x = azdias.values\n",
    "x = StandardScaler().fit_transform(x) # normalizing the features"
   ]
  },
  {
   "cell_type": "code",
   "execution_count": 13,
   "metadata": {},
   "outputs": [],
   "source": [
    "x2 = customers.values\n",
    "x2 = StandardScaler().fit_transform(x2) # normalizing the features"
   ]
  },
  {
   "cell_type": "code",
   "execution_count": 14,
   "metadata": {},
   "outputs": [],
   "source": [
    "all_columns = customers.columns"
   ]
  },
  {
   "cell_type": "code",
   "execution_count": 12,
   "metadata": {},
   "outputs": [],
   "source": [
    "azdias_normalized = pd.DataFrame(x, columns= all_columns)"
   ]
  },
  {
   "cell_type": "code",
   "execution_count": 15,
   "metadata": {},
   "outputs": [],
   "source": [
    "customers_normalized = pd.DataFrame(x2, columns= all_columns)"
   ]
  },
  {
   "cell_type": "code",
   "execution_count": 13,
   "metadata": {},
   "outputs": [
    {
     "data": {
      "text/html": [
       "<div>\n",
       "<style scoped>\n",
       "    .dataframe tbody tr th:only-of-type {\n",
       "        vertical-align: middle;\n",
       "    }\n",
       "\n",
       "    .dataframe tbody tr th {\n",
       "        vertical-align: top;\n",
       "    }\n",
       "\n",
       "    .dataframe thead th {\n",
       "        text-align: right;\n",
       "    }\n",
       "</style>\n",
       "<table border=\"1\" class=\"dataframe\">\n",
       "  <thead>\n",
       "    <tr style=\"text-align: right;\">\n",
       "      <th></th>\n",
       "      <th>LNR</th>\n",
       "      <th>AGER_TYP</th>\n",
       "      <th>AKT_DAT_KL</th>\n",
       "      <th>ALTER_HH</th>\n",
       "      <th>ANZ_HAUSHALTE_AKTIV</th>\n",
       "      <th>ANZ_HH_TITEL</th>\n",
       "      <th>ANZ_KINDER</th>\n",
       "      <th>ANZ_PERSONEN</th>\n",
       "      <th>ANZ_STATISTISCHE_HAUSHALTE</th>\n",
       "      <th>ANZ_TITEL</th>\n",
       "      <th>...</th>\n",
       "      <th>VK_DHT4A</th>\n",
       "      <th>VK_DISTANZ</th>\n",
       "      <th>VK_ZG11</th>\n",
       "      <th>W_KEIT_KIND_HH</th>\n",
       "      <th>WOHNDAUER_2008</th>\n",
       "      <th>WOHNLAGE</th>\n",
       "      <th>ZABEOTYP</th>\n",
       "      <th>ANREDE_KZ</th>\n",
       "      <th>ALTERSKATEGORIE_GROB</th>\n",
       "      <th>year</th>\n",
       "    </tr>\n",
       "  </thead>\n",
       "  <tbody>\n",
       "    <tr>\n",
       "      <th>0</th>\n",
       "      <td>-0.138169</td>\n",
       "      <td>-0.634278</td>\n",
       "      <td>1.612190</td>\n",
       "      <td>0.124516</td>\n",
       "      <td>-0.454398</td>\n",
       "      <td>-0.127258</td>\n",
       "      <td>-0.330142</td>\n",
       "      <td>0.913062</td>\n",
       "      <td>-0.442106</td>\n",
       "      <td>-0.063102</td>\n",
       "      <td>...</td>\n",
       "      <td>-0.840250</td>\n",
       "      <td>-0.227521</td>\n",
       "      <td>-0.122798</td>\n",
       "      <td>-0.503264</td>\n",
       "      <td>0.582918</td>\n",
       "      <td>1.513658</td>\n",
       "      <td>-1.598442</td>\n",
       "      <td>0.960173</td>\n",
       "      <td>0.149187</td>\n",
       "      <td>-0.434109</td>\n",
       "    </tr>\n",
       "    <tr>\n",
       "      <th>1</th>\n",
       "      <td>1.271886</td>\n",
       "      <td>-0.634278</td>\n",
       "      <td>-0.772678</td>\n",
       "      <td>0.830378</td>\n",
       "      <td>-0.454398</td>\n",
       "      <td>-0.127258</td>\n",
       "      <td>-0.330142</td>\n",
       "      <td>0.091417</td>\n",
       "      <td>-0.442106</td>\n",
       "      <td>-0.063102</td>\n",
       "      <td>...</td>\n",
       "      <td>1.006241</td>\n",
       "      <td>1.381428</td>\n",
       "      <td>1.339600</td>\n",
       "      <td>-0.503264</td>\n",
       "      <td>0.080963</td>\n",
       "      <td>1.513658</td>\n",
       "      <td>0.508003</td>\n",
       "      <td>0.960173</td>\n",
       "      <td>-0.777666</td>\n",
       "      <td>-0.434109</td>\n",
       "    </tr>\n",
       "    <tr>\n",
       "      <th>2</th>\n",
       "      <td>-1.090896</td>\n",
       "      <td>-0.634278</td>\n",
       "      <td>1.612190</td>\n",
       "      <td>0.971550</td>\n",
       "      <td>-0.454398</td>\n",
       "      <td>-0.127258</td>\n",
       "      <td>-0.330142</td>\n",
       "      <td>0.913062</td>\n",
       "      <td>-0.442106</td>\n",
       "      <td>-0.063102</td>\n",
       "      <td>...</td>\n",
       "      <td>-0.840250</td>\n",
       "      <td>-0.871101</td>\n",
       "      <td>-1.219597</td>\n",
       "      <td>-1.029506</td>\n",
       "      <td>0.582918</td>\n",
       "      <td>-1.067658</td>\n",
       "      <td>-0.896294</td>\n",
       "      <td>0.960173</td>\n",
       "      <td>-1.704520</td>\n",
       "      <td>-0.434109</td>\n",
       "    </tr>\n",
       "    <tr>\n",
       "      <th>3</th>\n",
       "      <td>-0.203708</td>\n",
       "      <td>-0.634278</td>\n",
       "      <td>1.612190</td>\n",
       "      <td>0.124516</td>\n",
       "      <td>3.855139</td>\n",
       "      <td>-0.127258</td>\n",
       "      <td>-0.330142</td>\n",
       "      <td>0.913062</td>\n",
       "      <td>3.983685</td>\n",
       "      <td>-0.063102</td>\n",
       "      <td>...</td>\n",
       "      <td>-0.101653</td>\n",
       "      <td>0.094269</td>\n",
       "      <td>-0.488397</td>\n",
       "      <td>-1.029506</td>\n",
       "      <td>0.582918</td>\n",
       "      <td>0.481132</td>\n",
       "      <td>-0.896294</td>\n",
       "      <td>0.960173</td>\n",
       "      <td>-0.777666</td>\n",
       "      <td>-0.434109</td>\n",
       "    </tr>\n",
       "    <tr>\n",
       "      <th>4</th>\n",
       "      <td>1.524150</td>\n",
       "      <td>-0.634278</td>\n",
       "      <td>1.612190</td>\n",
       "      <td>-1.710726</td>\n",
       "      <td>-0.317588</td>\n",
       "      <td>-0.127258</td>\n",
       "      <td>-0.330142</td>\n",
       "      <td>0.091417</td>\n",
       "      <td>-0.294579</td>\n",
       "      <td>-0.063102</td>\n",
       "      <td>...</td>\n",
       "      <td>0.636943</td>\n",
       "      <td>1.059638</td>\n",
       "      <td>0.974001</td>\n",
       "      <td>0.022979</td>\n",
       "      <td>0.080963</td>\n",
       "      <td>-0.551394</td>\n",
       "      <td>1.210152</td>\n",
       "      <td>0.960173</td>\n",
       "      <td>-0.777666</td>\n",
       "      <td>-0.434109</td>\n",
       "    </tr>\n",
       "  </tbody>\n",
       "</table>\n",
       "<p>5 rows × 353 columns</p>\n",
       "</div>"
      ],
      "text/plain": [
       "        LNR  AGER_TYP  AKT_DAT_KL  ALTER_HH  ANZ_HAUSHALTE_AKTIV  \\\n",
       "0 -0.138169 -0.634278    1.612190  0.124516            -0.454398   \n",
       "1  1.271886 -0.634278   -0.772678  0.830378            -0.454398   \n",
       "2 -1.090896 -0.634278    1.612190  0.971550            -0.454398   \n",
       "3 -0.203708 -0.634278    1.612190  0.124516             3.855139   \n",
       "4  1.524150 -0.634278    1.612190 -1.710726            -0.317588   \n",
       "\n",
       "   ANZ_HH_TITEL  ANZ_KINDER  ANZ_PERSONEN  ANZ_STATISTISCHE_HAUSHALTE  \\\n",
       "0     -0.127258   -0.330142      0.913062                   -0.442106   \n",
       "1     -0.127258   -0.330142      0.091417                   -0.442106   \n",
       "2     -0.127258   -0.330142      0.913062                   -0.442106   \n",
       "3     -0.127258   -0.330142      0.913062                    3.983685   \n",
       "4     -0.127258   -0.330142      0.091417                   -0.294579   \n",
       "\n",
       "   ANZ_TITEL    ...     VK_DHT4A  VK_DISTANZ   VK_ZG11  W_KEIT_KIND_HH  \\\n",
       "0  -0.063102    ...    -0.840250   -0.227521 -0.122798       -0.503264   \n",
       "1  -0.063102    ...     1.006241    1.381428  1.339600       -0.503264   \n",
       "2  -0.063102    ...    -0.840250   -0.871101 -1.219597       -1.029506   \n",
       "3  -0.063102    ...    -0.101653    0.094269 -0.488397       -1.029506   \n",
       "4  -0.063102    ...     0.636943    1.059638  0.974001        0.022979   \n",
       "\n",
       "   WOHNDAUER_2008  WOHNLAGE  ZABEOTYP  ANREDE_KZ  ALTERSKATEGORIE_GROB  \\\n",
       "0        0.582918  1.513658 -1.598442   0.960173              0.149187   \n",
       "1        0.080963  1.513658  0.508003   0.960173             -0.777666   \n",
       "2        0.582918 -1.067658 -0.896294   0.960173             -1.704520   \n",
       "3        0.582918  0.481132 -0.896294   0.960173             -0.777666   \n",
       "4        0.080963 -0.551394  1.210152   0.960173             -0.777666   \n",
       "\n",
       "       year  \n",
       "0 -0.434109  \n",
       "1 -0.434109  \n",
       "2 -0.434109  \n",
       "3 -0.434109  \n",
       "4 -0.434109  \n",
       "\n",
       "[5 rows x 353 columns]"
      ]
     },
     "execution_count": 13,
     "metadata": {},
     "output_type": "execute_result"
    }
   ],
   "source": [
    "azdias_normalized.head()"
   ]
  },
  {
   "cell_type": "code",
   "execution_count": 16,
   "metadata": {},
   "outputs": [
    {
     "data": {
      "text/html": [
       "<div>\n",
       "<style scoped>\n",
       "    .dataframe tbody tr th:only-of-type {\n",
       "        vertical-align: middle;\n",
       "    }\n",
       "\n",
       "    .dataframe tbody tr th {\n",
       "        vertical-align: top;\n",
       "    }\n",
       "\n",
       "    .dataframe thead th {\n",
       "        text-align: right;\n",
       "    }\n",
       "</style>\n",
       "<table border=\"1\" class=\"dataframe\">\n",
       "  <thead>\n",
       "    <tr style=\"text-align: right;\">\n",
       "      <th></th>\n",
       "      <th>LNR</th>\n",
       "      <th>AGER_TYP</th>\n",
       "      <th>AKT_DAT_KL</th>\n",
       "      <th>ALTER_HH</th>\n",
       "      <th>ANZ_HAUSHALTE_AKTIV</th>\n",
       "      <th>ANZ_HH_TITEL</th>\n",
       "      <th>ANZ_KINDER</th>\n",
       "      <th>ANZ_PERSONEN</th>\n",
       "      <th>ANZ_STATISTISCHE_HAUSHALTE</th>\n",
       "      <th>ANZ_TITEL</th>\n",
       "      <th>...</th>\n",
       "      <th>VK_DHT4A</th>\n",
       "      <th>VK_DISTANZ</th>\n",
       "      <th>VK_ZG11</th>\n",
       "      <th>W_KEIT_KIND_HH</th>\n",
       "      <th>WOHNDAUER_2008</th>\n",
       "      <th>WOHNLAGE</th>\n",
       "      <th>ZABEOTYP</th>\n",
       "      <th>ANREDE_KZ</th>\n",
       "      <th>ALTERSKATEGORIE_GROB</th>\n",
       "      <th>year</th>\n",
       "    </tr>\n",
       "  </thead>\n",
       "  <tbody>\n",
       "    <tr>\n",
       "      <th>0</th>\n",
       "      <td>-1.398813</td>\n",
       "      <td>0.150243</td>\n",
       "      <td>0.152401</td>\n",
       "      <td>-0.217100</td>\n",
       "      <td>0.206088</td>\n",
       "      <td>1.599743</td>\n",
       "      <td>-0.265503</td>\n",
       "      <td>-0.205659</td>\n",
       "      <td>0.366030</td>\n",
       "      <td>-0.135308</td>\n",
       "      <td>...</td>\n",
       "      <td>-0.121070</td>\n",
       "      <td>-0.872354</td>\n",
       "      <td>-0.953821</td>\n",
       "      <td>0.911879</td>\n",
       "      <td>0.279003</td>\n",
       "      <td>1.591615</td>\n",
       "      <td>0.459448</td>\n",
       "      <td>1.422830</td>\n",
       "      <td>0.653078</td>\n",
       "      <td>-0.389360</td>\n",
       "    </tr>\n",
       "    <tr>\n",
       "      <th>1</th>\n",
       "      <td>1.305752</td>\n",
       "      <td>-1.367429</td>\n",
       "      <td>-0.368797</td>\n",
       "      <td>1.546580</td>\n",
       "      <td>-0.204912</td>\n",
       "      <td>-0.123326</td>\n",
       "      <td>-0.265503</td>\n",
       "      <td>1.234016</td>\n",
       "      <td>-0.257786</td>\n",
       "      <td>-0.135308</td>\n",
       "      <td>...</td>\n",
       "      <td>-0.805284</td>\n",
       "      <td>-0.524079</td>\n",
       "      <td>-0.047144</td>\n",
       "      <td>-0.667366</td>\n",
       "      <td>0.279003</td>\n",
       "      <td>-0.348393</td>\n",
       "      <td>-1.076572</td>\n",
       "      <td>1.422830</td>\n",
       "      <td>-0.674480</td>\n",
       "      <td>-0.389360</td>\n",
       "    </tr>\n",
       "    <tr>\n",
       "      <th>2</th>\n",
       "      <td>0.004946</td>\n",
       "      <td>-1.367429</td>\n",
       "      <td>-0.368797</td>\n",
       "      <td>0.744907</td>\n",
       "      <td>0.754089</td>\n",
       "      <td>-0.123326</td>\n",
       "      <td>6.139522</td>\n",
       "      <td>0.514179</td>\n",
       "      <td>0.573969</td>\n",
       "      <td>-0.135308</td>\n",
       "      <td>...</td>\n",
       "      <td>-0.463177</td>\n",
       "      <td>0.172472</td>\n",
       "      <td>0.406194</td>\n",
       "      <td>-1.720195</td>\n",
       "      <td>0.279003</td>\n",
       "      <td>0.621611</td>\n",
       "      <td>1.227459</td>\n",
       "      <td>-0.702825</td>\n",
       "      <td>-0.674480</td>\n",
       "      <td>-0.389360</td>\n",
       "    </tr>\n",
       "    <tr>\n",
       "      <th>3</th>\n",
       "      <td>0.332864</td>\n",
       "      <td>-1.367429</td>\n",
       "      <td>-0.368797</td>\n",
       "      <td>0.424238</td>\n",
       "      <td>-0.204912</td>\n",
       "      <td>-0.123326</td>\n",
       "      <td>-0.265503</td>\n",
       "      <td>-0.925496</td>\n",
       "      <td>-0.188473</td>\n",
       "      <td>-0.135308</td>\n",
       "      <td>...</td>\n",
       "      <td>-1.147391</td>\n",
       "      <td>-1.220630</td>\n",
       "      <td>-0.953821</td>\n",
       "      <td>-0.140951</td>\n",
       "      <td>0.279003</td>\n",
       "      <td>-0.348393</td>\n",
       "      <td>0.459448</td>\n",
       "      <td>-0.702825</td>\n",
       "      <td>-0.674480</td>\n",
       "      <td>-0.389360</td>\n",
       "    </tr>\n",
       "    <tr>\n",
       "      <th>4</th>\n",
       "      <td>1.506477</td>\n",
       "      <td>0.909080</td>\n",
       "      <td>-0.368797</td>\n",
       "      <td>-0.217100</td>\n",
       "      <td>0.069088</td>\n",
       "      <td>-0.123326</td>\n",
       "      <td>-0.265503</td>\n",
       "      <td>-0.205659</td>\n",
       "      <td>0.088779</td>\n",
       "      <td>-0.135308</td>\n",
       "      <td>...</td>\n",
       "      <td>-1.147391</td>\n",
       "      <td>-0.872354</td>\n",
       "      <td>-0.953821</td>\n",
       "      <td>0.911879</td>\n",
       "      <td>0.279003</td>\n",
       "      <td>-0.348393</td>\n",
       "      <td>0.459448</td>\n",
       "      <td>1.422830</td>\n",
       "      <td>0.653078</td>\n",
       "      <td>0.879818</td>\n",
       "    </tr>\n",
       "  </tbody>\n",
       "</table>\n",
       "<p>5 rows × 353 columns</p>\n",
       "</div>"
      ],
      "text/plain": [
       "        LNR  AGER_TYP  AKT_DAT_KL  ALTER_HH  ANZ_HAUSHALTE_AKTIV  \\\n",
       "0 -1.398813  0.150243    0.152401 -0.217100             0.206088   \n",
       "1  1.305752 -1.367429   -0.368797  1.546580            -0.204912   \n",
       "2  0.004946 -1.367429   -0.368797  0.744907             0.754089   \n",
       "3  0.332864 -1.367429   -0.368797  0.424238            -0.204912   \n",
       "4  1.506477  0.909080   -0.368797 -0.217100             0.069088   \n",
       "\n",
       "   ANZ_HH_TITEL  ANZ_KINDER  ANZ_PERSONEN  ANZ_STATISTISCHE_HAUSHALTE  \\\n",
       "0      1.599743   -0.265503     -0.205659                    0.366030   \n",
       "1     -0.123326   -0.265503      1.234016                   -0.257786   \n",
       "2     -0.123326    6.139522      0.514179                    0.573969   \n",
       "3     -0.123326   -0.265503     -0.925496                   -0.188473   \n",
       "4     -0.123326   -0.265503     -0.205659                    0.088779   \n",
       "\n",
       "   ANZ_TITEL    ...     VK_DHT4A  VK_DISTANZ   VK_ZG11  W_KEIT_KIND_HH  \\\n",
       "0  -0.135308    ...    -0.121070   -0.872354 -0.953821        0.911879   \n",
       "1  -0.135308    ...    -0.805284   -0.524079 -0.047144       -0.667366   \n",
       "2  -0.135308    ...    -0.463177    0.172472  0.406194       -1.720195   \n",
       "3  -0.135308    ...    -1.147391   -1.220630 -0.953821       -0.140951   \n",
       "4  -0.135308    ...    -1.147391   -0.872354 -0.953821        0.911879   \n",
       "\n",
       "   WOHNDAUER_2008  WOHNLAGE  ZABEOTYP  ANREDE_KZ  ALTERSKATEGORIE_GROB  \\\n",
       "0        0.279003  1.591615  0.459448   1.422830              0.653078   \n",
       "1        0.279003 -0.348393 -1.076572   1.422830             -0.674480   \n",
       "2        0.279003  0.621611  1.227459  -0.702825             -0.674480   \n",
       "3        0.279003 -0.348393  0.459448  -0.702825             -0.674480   \n",
       "4        0.279003 -0.348393  0.459448   1.422830              0.653078   \n",
       "\n",
       "       year  \n",
       "0 -0.389360  \n",
       "1 -0.389360  \n",
       "2 -0.389360  \n",
       "3 -0.389360  \n",
       "4  0.879818  \n",
       "\n",
       "[5 rows x 353 columns]"
      ]
     },
     "execution_count": 16,
     "metadata": {},
     "output_type": "execute_result"
    }
   ],
   "source": [
    "customers_normalized.head()"
   ]
  },
  {
   "cell_type": "code",
   "execution_count": 267,
   "metadata": {},
   "outputs": [],
   "source": [
    "pickle_out = open(\"azdias_normalized.pickle\",\"wb\")\n",
    "pickle.dump(azdias_normalized, pickle_out)\n",
    "pickle_out.close()"
   ]
  },
  {
   "cell_type": "code",
   "execution_count": 17,
   "metadata": {},
   "outputs": [],
   "source": [
    "pickle_out = open(\"customers_normalized.pickle\",\"wb\")\n",
    "pickle.dump(customers_normalized, pickle_out)\n",
    "pickle_out.close()"
   ]
  },
  {
   "cell_type": "code",
   "execution_count": 2,
   "metadata": {},
   "outputs": [],
   "source": [
    "pickle_in = open(\"azdias_normalized.pickle\",\"rb\")\n",
    "customers_normalized = pickle.load(pickle_in)"
   ]
  },
  {
   "cell_type": "code",
   "execution_count": 3,
   "metadata": {},
   "outputs": [],
   "source": [
    "pickle_in = open(\"customers_normalized.pickle\",\"rb\")\n",
    "customers_normalized = pickle.load(pickle_in)"
   ]
  },
  {
   "cell_type": "code",
   "execution_count": null,
   "metadata": {},
   "outputs": [],
   "source": [
    "In this step the dataframe will be "
   ]
  },
  {
   "cell_type": "code",
   "execution_count": 90,
   "metadata": {},
   "outputs": [],
   "source": [
    "from sklearn.decomposition import PCA\n",
    "pca_azdias = PCA(n_components = 160)\n",
    "principalComponents_azdias = pca_azdias.fit_transform(azdias_normalized)"
   ]
  },
  {
   "cell_type": "code",
   "execution_count": 136,
   "metadata": {},
   "outputs": [],
   "source": [
    "principalComponents_customers = pca_azdias.fit_transform(customers_normalized)"
   ]
  },
  {
   "cell_type": "code",
   "execution_count": 33,
   "metadata": {},
   "outputs": [],
   "source": [
    "#principalComponents_azdias"
   ]
  },
  {
   "cell_type": "code",
   "execution_count": 91,
   "metadata": {},
   "outputs": [],
   "source": [
    "feat_cols = ['P.C. '+str(i) for i in range(160)]"
   ]
  },
  {
   "cell_type": "code",
   "execution_count": 92,
   "metadata": {},
   "outputs": [],
   "source": [
    "principal_azdias_Df = pd.DataFrame(data = principalComponents_azdias, columns = feat_cols)"
   ]
  },
  {
   "cell_type": "code",
   "execution_count": 137,
   "metadata": {},
   "outputs": [],
   "source": [
    "principal_customers_Df = pd.DataFrame(data = principalComponents_customers, columns = feat_cols)"
   ]
  },
  {
   "cell_type": "code",
   "execution_count": 278,
   "metadata": {},
   "outputs": [],
   "source": [
    "pickle_out = open(\"principal_azdias_Df.pickle\",\"wb\")\n",
    "pickle.dump(principal_azdias_Df, pickle_out)\n",
    "pickle_out.close()"
   ]
  },
  {
   "cell_type": "code",
   "execution_count": 279,
   "metadata": {},
   "outputs": [],
   "source": [
    "pickle_out = open(\"principal_customers_Df.pickle\",\"wb\")\n",
    "pickle.dump(principal_customers_Df, pickle_out)\n",
    "pickle_out.close()"
   ]
  },
  {
   "cell_type": "code",
   "execution_count": 4,
   "metadata": {},
   "outputs": [],
   "source": [
    "pickle_in = open(\"principal_customers_Df.pickle\",\"rb\")\n",
    "principal_customers_Df = pickle.load(pickle_in)"
   ]
  },
  {
   "cell_type": "code",
   "execution_count": 93,
   "metadata": {},
   "outputs": [
    {
     "data": {
      "text/html": [
       "<div>\n",
       "<style scoped>\n",
       "    .dataframe tbody tr th:only-of-type {\n",
       "        vertical-align: middle;\n",
       "    }\n",
       "\n",
       "    .dataframe tbody tr th {\n",
       "        vertical-align: top;\n",
       "    }\n",
       "\n",
       "    .dataframe thead th {\n",
       "        text-align: right;\n",
       "    }\n",
       "</style>\n",
       "<table border=\"1\" class=\"dataframe\">\n",
       "  <thead>\n",
       "    <tr style=\"text-align: right;\">\n",
       "      <th></th>\n",
       "      <th>P.C. 0</th>\n",
       "      <th>P.C. 1</th>\n",
       "      <th>P.C. 2</th>\n",
       "      <th>P.C. 3</th>\n",
       "      <th>P.C. 4</th>\n",
       "      <th>P.C. 5</th>\n",
       "      <th>P.C. 6</th>\n",
       "      <th>P.C. 7</th>\n",
       "      <th>P.C. 8</th>\n",
       "      <th>P.C. 9</th>\n",
       "      <th>...</th>\n",
       "      <th>P.C. 150</th>\n",
       "      <th>P.C. 151</th>\n",
       "      <th>P.C. 152</th>\n",
       "      <th>P.C. 153</th>\n",
       "      <th>P.C. 154</th>\n",
       "      <th>P.C. 155</th>\n",
       "      <th>P.C. 156</th>\n",
       "      <th>P.C. 157</th>\n",
       "      <th>P.C. 158</th>\n",
       "      <th>P.C. 159</th>\n",
       "    </tr>\n",
       "  </thead>\n",
       "  <tbody>\n",
       "    <tr>\n",
       "      <th>0</th>\n",
       "      <td>-7.156659</td>\n",
       "      <td>-2.407992</td>\n",
       "      <td>0.086537</td>\n",
       "      <td>0.655078</td>\n",
       "      <td>1.122570</td>\n",
       "      <td>-2.892410</td>\n",
       "      <td>-1.315297</td>\n",
       "      <td>-0.414013</td>\n",
       "      <td>-2.085592</td>\n",
       "      <td>1.051141</td>\n",
       "      <td>...</td>\n",
       "      <td>0.524360</td>\n",
       "      <td>-1.683356</td>\n",
       "      <td>-0.299215</td>\n",
       "      <td>-0.648709</td>\n",
       "      <td>-0.118782</td>\n",
       "      <td>-0.216640</td>\n",
       "      <td>1.125278</td>\n",
       "      <td>0.809527</td>\n",
       "      <td>-0.787899</td>\n",
       "      <td>1.878583</td>\n",
       "    </tr>\n",
       "    <tr>\n",
       "      <th>1</th>\n",
       "      <td>-5.389796</td>\n",
       "      <td>-2.699948</td>\n",
       "      <td>3.861047</td>\n",
       "      <td>0.246881</td>\n",
       "      <td>-5.052891</td>\n",
       "      <td>-0.456499</td>\n",
       "      <td>-2.829218</td>\n",
       "      <td>0.597720</td>\n",
       "      <td>0.562909</td>\n",
       "      <td>3.961479</td>\n",
       "      <td>...</td>\n",
       "      <td>0.641833</td>\n",
       "      <td>-0.253757</td>\n",
       "      <td>0.043849</td>\n",
       "      <td>0.464900</td>\n",
       "      <td>0.525287</td>\n",
       "      <td>-0.089047</td>\n",
       "      <td>-0.387615</td>\n",
       "      <td>-0.631802</td>\n",
       "      <td>0.781766</td>\n",
       "      <td>0.884611</td>\n",
       "    </tr>\n",
       "    <tr>\n",
       "      <th>2</th>\n",
       "      <td>-6.245273</td>\n",
       "      <td>-3.105142</td>\n",
       "      <td>4.663261</td>\n",
       "      <td>0.580896</td>\n",
       "      <td>0.414425</td>\n",
       "      <td>0.848765</td>\n",
       "      <td>-3.323330</td>\n",
       "      <td>-2.975408</td>\n",
       "      <td>-1.945384</td>\n",
       "      <td>0.431722</td>\n",
       "      <td>...</td>\n",
       "      <td>1.084474</td>\n",
       "      <td>-0.058234</td>\n",
       "      <td>-1.028193</td>\n",
       "      <td>0.511805</td>\n",
       "      <td>0.456302</td>\n",
       "      <td>0.770181</td>\n",
       "      <td>-0.831798</td>\n",
       "      <td>1.832472</td>\n",
       "      <td>1.391437</td>\n",
       "      <td>-0.604664</td>\n",
       "    </tr>\n",
       "    <tr>\n",
       "      <th>3</th>\n",
       "      <td>9.738569</td>\n",
       "      <td>-1.226810</td>\n",
       "      <td>2.160846</td>\n",
       "      <td>-2.511494</td>\n",
       "      <td>-0.780968</td>\n",
       "      <td>4.093778</td>\n",
       "      <td>-1.804350</td>\n",
       "      <td>4.580834</td>\n",
       "      <td>6.206860</td>\n",
       "      <td>-2.908853</td>\n",
       "      <td>...</td>\n",
       "      <td>-0.604646</td>\n",
       "      <td>-0.047841</td>\n",
       "      <td>0.211838</td>\n",
       "      <td>0.102841</td>\n",
       "      <td>-0.340681</td>\n",
       "      <td>-0.713230</td>\n",
       "      <td>-1.564026</td>\n",
       "      <td>-0.993565</td>\n",
       "      <td>0.955350</td>\n",
       "      <td>0.613095</td>\n",
       "    </tr>\n",
       "    <tr>\n",
       "      <th>4</th>\n",
       "      <td>7.979906</td>\n",
       "      <td>-2.017076</td>\n",
       "      <td>2.443577</td>\n",
       "      <td>-1.080655</td>\n",
       "      <td>-4.630266</td>\n",
       "      <td>-1.499326</td>\n",
       "      <td>-2.611856</td>\n",
       "      <td>-0.447145</td>\n",
       "      <td>3.741798</td>\n",
       "      <td>-0.227067</td>\n",
       "      <td>...</td>\n",
       "      <td>0.907202</td>\n",
       "      <td>0.125205</td>\n",
       "      <td>1.084251</td>\n",
       "      <td>1.469251</td>\n",
       "      <td>-0.146320</td>\n",
       "      <td>-0.845255</td>\n",
       "      <td>-0.374021</td>\n",
       "      <td>-0.446310</td>\n",
       "      <td>0.768352</td>\n",
       "      <td>-0.028590</td>\n",
       "    </tr>\n",
       "  </tbody>\n",
       "</table>\n",
       "<p>5 rows × 160 columns</p>\n",
       "</div>"
      ],
      "text/plain": [
       "     P.C. 0    P.C. 1    P.C. 2    P.C. 3    P.C. 4    P.C. 5    P.C. 6  \\\n",
       "0 -7.156659 -2.407992  0.086537  0.655078  1.122570 -2.892410 -1.315297   \n",
       "1 -5.389796 -2.699948  3.861047  0.246881 -5.052891 -0.456499 -2.829218   \n",
       "2 -6.245273 -3.105142  4.663261  0.580896  0.414425  0.848765 -3.323330   \n",
       "3  9.738569 -1.226810  2.160846 -2.511494 -0.780968  4.093778 -1.804350   \n",
       "4  7.979906 -2.017076  2.443577 -1.080655 -4.630266 -1.499326 -2.611856   \n",
       "\n",
       "     P.C. 7    P.C. 8    P.C. 9    ...     P.C. 150  P.C. 151  P.C. 152  \\\n",
       "0 -0.414013 -2.085592  1.051141    ...     0.524360 -1.683356 -0.299215   \n",
       "1  0.597720  0.562909  3.961479    ...     0.641833 -0.253757  0.043849   \n",
       "2 -2.975408 -1.945384  0.431722    ...     1.084474 -0.058234 -1.028193   \n",
       "3  4.580834  6.206860 -2.908853    ...    -0.604646 -0.047841  0.211838   \n",
       "4 -0.447145  3.741798 -0.227067    ...     0.907202  0.125205  1.084251   \n",
       "\n",
       "   P.C. 153  P.C. 154  P.C. 155  P.C. 156  P.C. 157  P.C. 158  P.C. 159  \n",
       "0 -0.648709 -0.118782 -0.216640  1.125278  0.809527 -0.787899  1.878583  \n",
       "1  0.464900  0.525287 -0.089047 -0.387615 -0.631802  0.781766  0.884611  \n",
       "2  0.511805  0.456302  0.770181 -0.831798  1.832472  1.391437 -0.604664  \n",
       "3  0.102841 -0.340681 -0.713230 -1.564026 -0.993565  0.955350  0.613095  \n",
       "4  1.469251 -0.146320 -0.845255 -0.374021 -0.446310  0.768352 -0.028590  \n",
       "\n",
       "[5 rows x 160 columns]"
      ]
     },
     "execution_count": 93,
     "metadata": {},
     "output_type": "execute_result"
    }
   ],
   "source": [
    "principal_azdias_Df.head()"
   ]
  },
  {
   "cell_type": "code",
   "execution_count": 94,
   "metadata": {},
   "outputs": [
    {
     "data": {
      "text/plain": [
       "(116842, 160)"
      ]
     },
     "execution_count": 94,
     "metadata": {},
     "output_type": "execute_result"
    }
   ],
   "source": [
    "principal_azdias_Df.shape"
   ]
  },
  {
   "cell_type": "code",
   "execution_count": 138,
   "metadata": {},
   "outputs": [
    {
     "data": {
      "text/html": [
       "<div>\n",
       "<style scoped>\n",
       "    .dataframe tbody tr th:only-of-type {\n",
       "        vertical-align: middle;\n",
       "    }\n",
       "\n",
       "    .dataframe tbody tr th {\n",
       "        vertical-align: top;\n",
       "    }\n",
       "\n",
       "    .dataframe thead th {\n",
       "        text-align: right;\n",
       "    }\n",
       "</style>\n",
       "<table border=\"1\" class=\"dataframe\">\n",
       "  <thead>\n",
       "    <tr style=\"text-align: right;\">\n",
       "      <th></th>\n",
       "      <th>P.C. 0</th>\n",
       "      <th>P.C. 1</th>\n",
       "      <th>P.C. 2</th>\n",
       "      <th>P.C. 3</th>\n",
       "      <th>P.C. 4</th>\n",
       "      <th>P.C. 5</th>\n",
       "      <th>P.C. 6</th>\n",
       "      <th>P.C. 7</th>\n",
       "      <th>P.C. 8</th>\n",
       "      <th>P.C. 9</th>\n",
       "      <th>...</th>\n",
       "      <th>P.C. 150</th>\n",
       "      <th>P.C. 151</th>\n",
       "      <th>P.C. 152</th>\n",
       "      <th>P.C. 153</th>\n",
       "      <th>P.C. 154</th>\n",
       "      <th>P.C. 155</th>\n",
       "      <th>P.C. 156</th>\n",
       "      <th>P.C. 157</th>\n",
       "      <th>P.C. 158</th>\n",
       "      <th>P.C. 159</th>\n",
       "    </tr>\n",
       "  </thead>\n",
       "  <tbody>\n",
       "    <tr>\n",
       "      <th>0</th>\n",
       "      <td>1.047147</td>\n",
       "      <td>-1.850227</td>\n",
       "      <td>5.262159</td>\n",
       "      <td>0.310018</td>\n",
       "      <td>3.626452</td>\n",
       "      <td>3.167466</td>\n",
       "      <td>-5.511553</td>\n",
       "      <td>1.659346</td>\n",
       "      <td>-3.860427</td>\n",
       "      <td>0.328238</td>\n",
       "      <td>...</td>\n",
       "      <td>-0.263934</td>\n",
       "      <td>-0.228427</td>\n",
       "      <td>-0.166497</td>\n",
       "      <td>0.102451</td>\n",
       "      <td>-0.183809</td>\n",
       "      <td>-0.119958</td>\n",
       "      <td>0.229428</td>\n",
       "      <td>-0.620367</td>\n",
       "      <td>0.024616</td>\n",
       "      <td>0.769632</td>\n",
       "    </tr>\n",
       "    <tr>\n",
       "      <th>1</th>\n",
       "      <td>-2.611862</td>\n",
       "      <td>3.062793</td>\n",
       "      <td>-4.267347</td>\n",
       "      <td>0.104265</td>\n",
       "      <td>1.015702</td>\n",
       "      <td>1.432957</td>\n",
       "      <td>0.989647</td>\n",
       "      <td>-4.979820</td>\n",
       "      <td>-0.047656</td>\n",
       "      <td>-2.490387</td>\n",
       "      <td>...</td>\n",
       "      <td>1.327517</td>\n",
       "      <td>-0.427220</td>\n",
       "      <td>-0.492411</td>\n",
       "      <td>-0.973279</td>\n",
       "      <td>0.634289</td>\n",
       "      <td>-0.466367</td>\n",
       "      <td>-1.267178</td>\n",
       "      <td>0.533851</td>\n",
       "      <td>-0.286563</td>\n",
       "      <td>-0.226191</td>\n",
       "    </tr>\n",
       "    <tr>\n",
       "      <th>2</th>\n",
       "      <td>6.324143</td>\n",
       "      <td>-6.082975</td>\n",
       "      <td>-7.126766</td>\n",
       "      <td>2.612017</td>\n",
       "      <td>0.499538</td>\n",
       "      <td>2.679932</td>\n",
       "      <td>4.553711</td>\n",
       "      <td>4.408593</td>\n",
       "      <td>0.415256</td>\n",
       "      <td>-2.484744</td>\n",
       "      <td>...</td>\n",
       "      <td>0.368837</td>\n",
       "      <td>0.201199</td>\n",
       "      <td>-0.644498</td>\n",
       "      <td>-1.971307</td>\n",
       "      <td>2.119503</td>\n",
       "      <td>0.039033</td>\n",
       "      <td>-0.074999</td>\n",
       "      <td>-1.396012</td>\n",
       "      <td>-0.332650</td>\n",
       "      <td>0.300418</td>\n",
       "    </tr>\n",
       "    <tr>\n",
       "      <th>3</th>\n",
       "      <td>3.880698</td>\n",
       "      <td>1.655260</td>\n",
       "      <td>-2.063091</td>\n",
       "      <td>-1.026856</td>\n",
       "      <td>3.137785</td>\n",
       "      <td>-2.475529</td>\n",
       "      <td>2.429579</td>\n",
       "      <td>0.499885</td>\n",
       "      <td>-0.735965</td>\n",
       "      <td>-1.480861</td>\n",
       "      <td>...</td>\n",
       "      <td>-0.754512</td>\n",
       "      <td>0.453085</td>\n",
       "      <td>0.473715</td>\n",
       "      <td>0.453077</td>\n",
       "      <td>-0.461094</td>\n",
       "      <td>0.355786</td>\n",
       "      <td>-1.406677</td>\n",
       "      <td>0.212764</td>\n",
       "      <td>-1.068966</td>\n",
       "      <td>0.086141</td>\n",
       "    </tr>\n",
       "    <tr>\n",
       "      <th>4</th>\n",
       "      <td>4.645964</td>\n",
       "      <td>-7.378435</td>\n",
       "      <td>0.683959</td>\n",
       "      <td>-0.175758</td>\n",
       "      <td>-4.403234</td>\n",
       "      <td>7.662837</td>\n",
       "      <td>2.380499</td>\n",
       "      <td>0.008718</td>\n",
       "      <td>-3.845382</td>\n",
       "      <td>1.534478</td>\n",
       "      <td>...</td>\n",
       "      <td>0.098064</td>\n",
       "      <td>-0.130318</td>\n",
       "      <td>1.835960</td>\n",
       "      <td>-0.639352</td>\n",
       "      <td>-1.684089</td>\n",
       "      <td>1.033896</td>\n",
       "      <td>0.346448</td>\n",
       "      <td>0.458967</td>\n",
       "      <td>0.555468</td>\n",
       "      <td>-0.099498</td>\n",
       "    </tr>\n",
       "  </tbody>\n",
       "</table>\n",
       "<p>5 rows × 160 columns</p>\n",
       "</div>"
      ],
      "text/plain": [
       "     P.C. 0    P.C. 1    P.C. 2    P.C. 3    P.C. 4    P.C. 5    P.C. 6  \\\n",
       "0  1.047147 -1.850227  5.262159  0.310018  3.626452  3.167466 -5.511553   \n",
       "1 -2.611862  3.062793 -4.267347  0.104265  1.015702  1.432957  0.989647   \n",
       "2  6.324143 -6.082975 -7.126766  2.612017  0.499538  2.679932  4.553711   \n",
       "3  3.880698  1.655260 -2.063091 -1.026856  3.137785 -2.475529  2.429579   \n",
       "4  4.645964 -7.378435  0.683959 -0.175758 -4.403234  7.662837  2.380499   \n",
       "\n",
       "     P.C. 7    P.C. 8    P.C. 9    ...     P.C. 150  P.C. 151  P.C. 152  \\\n",
       "0  1.659346 -3.860427  0.328238    ...    -0.263934 -0.228427 -0.166497   \n",
       "1 -4.979820 -0.047656 -2.490387    ...     1.327517 -0.427220 -0.492411   \n",
       "2  4.408593  0.415256 -2.484744    ...     0.368837  0.201199 -0.644498   \n",
       "3  0.499885 -0.735965 -1.480861    ...    -0.754512  0.453085  0.473715   \n",
       "4  0.008718 -3.845382  1.534478    ...     0.098064 -0.130318  1.835960   \n",
       "\n",
       "   P.C. 153  P.C. 154  P.C. 155  P.C. 156  P.C. 157  P.C. 158  P.C. 159  \n",
       "0  0.102451 -0.183809 -0.119958  0.229428 -0.620367  0.024616  0.769632  \n",
       "1 -0.973279  0.634289 -0.466367 -1.267178  0.533851 -0.286563 -0.226191  \n",
       "2 -1.971307  2.119503  0.039033 -0.074999 -1.396012 -0.332650  0.300418  \n",
       "3  0.453077 -0.461094  0.355786 -1.406677  0.212764 -1.068966  0.086141  \n",
       "4 -0.639352 -1.684089  1.033896  0.346448  0.458967  0.555468 -0.099498  \n",
       "\n",
       "[5 rows x 160 columns]"
      ]
     },
     "execution_count": 138,
     "metadata": {},
     "output_type": "execute_result"
    }
   ],
   "source": [
    "principal_customers_Df.head()"
   ]
  },
  {
   "cell_type": "markdown",
   "metadata": {},
   "source": [
    "Next order of business is to make a data frame that shows the variance of the PCA. "
   ]
  },
  {
   "cell_type": "code",
   "execution_count": 95,
   "metadata": {},
   "outputs": [],
   "source": [
    "explained_variance = pca_azdias.explained_variance_ratio_"
   ]
  },
  {
   "cell_type": "code",
   "execution_count": 96,
   "metadata": {},
   "outputs": [],
   "source": [
    "cumulative_variance = np.cumsum(np.round(explained_variance, decimals = 3))"
   ]
  },
  {
   "cell_type": "code",
   "execution_count": 97,
   "metadata": {},
   "outputs": [],
   "source": [
    "pca_df = pd.DataFrame(feat_cols, columns = ['PC'])"
   ]
  },
  {
   "cell_type": "code",
   "execution_count": 98,
   "metadata": {},
   "outputs": [],
   "source": [
    "explained_variance_df = pd.DataFrame(explained_variance, columns = ['Explained Variance'])"
   ]
  },
  {
   "cell_type": "code",
   "execution_count": 99,
   "metadata": {},
   "outputs": [],
   "source": [
    "cumulative_variance_df = pd.DataFrame(cumulative_variance, columns = ['Cumulative Variance'])"
   ]
  },
  {
   "cell_type": "code",
   "execution_count": 100,
   "metadata": {},
   "outputs": [],
   "source": [
    "df_explained_variance = pd.concat([pca_df, explained_variance_df, cumulative_variance_df], axis = 1)"
   ]
  },
  {
   "cell_type": "code",
   "execution_count": 101,
   "metadata": {},
   "outputs": [
    {
     "data": {
      "text/html": [
       "<div>\n",
       "<style scoped>\n",
       "    .dataframe tbody tr th:only-of-type {\n",
       "        vertical-align: middle;\n",
       "    }\n",
       "\n",
       "    .dataframe tbody tr th {\n",
       "        vertical-align: top;\n",
       "    }\n",
       "\n",
       "    .dataframe thead th {\n",
       "        text-align: right;\n",
       "    }\n",
       "</style>\n",
       "<table border=\"1\" class=\"dataframe\">\n",
       "  <thead>\n",
       "    <tr style=\"text-align: right;\">\n",
       "      <th></th>\n",
       "      <th>PC</th>\n",
       "      <th>Explained Variance</th>\n",
       "      <th>Cumulative Variance</th>\n",
       "    </tr>\n",
       "  </thead>\n",
       "  <tbody>\n",
       "    <tr>\n",
       "      <th>0</th>\n",
       "      <td>P.C. 0</td>\n",
       "      <td>0.075971</td>\n",
       "      <td>0.076</td>\n",
       "    </tr>\n",
       "    <tr>\n",
       "      <th>1</th>\n",
       "      <td>P.C. 1</td>\n",
       "      <td>0.060274</td>\n",
       "      <td>0.136</td>\n",
       "    </tr>\n",
       "    <tr>\n",
       "      <th>2</th>\n",
       "      <td>P.C. 2</td>\n",
       "      <td>0.051322</td>\n",
       "      <td>0.187</td>\n",
       "    </tr>\n",
       "    <tr>\n",
       "      <th>3</th>\n",
       "      <td>P.C. 3</td>\n",
       "      <td>0.046922</td>\n",
       "      <td>0.234</td>\n",
       "    </tr>\n",
       "    <tr>\n",
       "      <th>4</th>\n",
       "      <td>P.C. 4</td>\n",
       "      <td>0.035446</td>\n",
       "      <td>0.269</td>\n",
       "    </tr>\n",
       "    <tr>\n",
       "      <th>5</th>\n",
       "      <td>P.C. 5</td>\n",
       "      <td>0.022866</td>\n",
       "      <td>0.292</td>\n",
       "    </tr>\n",
       "    <tr>\n",
       "      <th>6</th>\n",
       "      <td>P.C. 6</td>\n",
       "      <td>0.020113</td>\n",
       "      <td>0.312</td>\n",
       "    </tr>\n",
       "    <tr>\n",
       "      <th>7</th>\n",
       "      <td>P.C. 7</td>\n",
       "      <td>0.017299</td>\n",
       "      <td>0.329</td>\n",
       "    </tr>\n",
       "    <tr>\n",
       "      <th>8</th>\n",
       "      <td>P.C. 8</td>\n",
       "      <td>0.015681</td>\n",
       "      <td>0.345</td>\n",
       "    </tr>\n",
       "    <tr>\n",
       "      <th>9</th>\n",
       "      <td>P.C. 9</td>\n",
       "      <td>0.014008</td>\n",
       "      <td>0.359</td>\n",
       "    </tr>\n",
       "    <tr>\n",
       "      <th>10</th>\n",
       "      <td>P.C. 10</td>\n",
       "      <td>0.012667</td>\n",
       "      <td>0.372</td>\n",
       "    </tr>\n",
       "    <tr>\n",
       "      <th>11</th>\n",
       "      <td>P.C. 11</td>\n",
       "      <td>0.012519</td>\n",
       "      <td>0.385</td>\n",
       "    </tr>\n",
       "    <tr>\n",
       "      <th>12</th>\n",
       "      <td>P.C. 12</td>\n",
       "      <td>0.011281</td>\n",
       "      <td>0.396</td>\n",
       "    </tr>\n",
       "    <tr>\n",
       "      <th>13</th>\n",
       "      <td>P.C. 13</td>\n",
       "      <td>0.010549</td>\n",
       "      <td>0.407</td>\n",
       "    </tr>\n",
       "    <tr>\n",
       "      <th>14</th>\n",
       "      <td>P.C. 14</td>\n",
       "      <td>0.010036</td>\n",
       "      <td>0.417</td>\n",
       "    </tr>\n",
       "  </tbody>\n",
       "</table>\n",
       "</div>"
      ],
      "text/plain": [
       "         PC  Explained Variance  Cumulative Variance\n",
       "0    P.C. 0            0.075971                0.076\n",
       "1    P.C. 1            0.060274                0.136\n",
       "2    P.C. 2            0.051322                0.187\n",
       "3    P.C. 3            0.046922                0.234\n",
       "4    P.C. 4            0.035446                0.269\n",
       "5    P.C. 5            0.022866                0.292\n",
       "6    P.C. 6            0.020113                0.312\n",
       "7    P.C. 7            0.017299                0.329\n",
       "8    P.C. 8            0.015681                0.345\n",
       "9    P.C. 9            0.014008                0.359\n",
       "10  P.C. 10            0.012667                0.372\n",
       "11  P.C. 11            0.012519                0.385\n",
       "12  P.C. 12            0.011281                0.396\n",
       "13  P.C. 13            0.010549                0.407\n",
       "14  P.C. 14            0.010036                0.417"
      ]
     },
     "execution_count": 101,
     "metadata": {},
     "output_type": "execute_result"
    }
   ],
   "source": [
    "df_explained_variance.head(15)"
   ]
  },
  {
   "cell_type": "code",
   "execution_count": 102,
   "metadata": {
    "scrolled": true
   },
   "outputs": [
    {
     "data": {
      "text/html": [
       "<div>\n",
       "<style scoped>\n",
       "    .dataframe tbody tr th:only-of-type {\n",
       "        vertical-align: middle;\n",
       "    }\n",
       "\n",
       "    .dataframe tbody tr th {\n",
       "        vertical-align: top;\n",
       "    }\n",
       "\n",
       "    .dataframe thead th {\n",
       "        text-align: right;\n",
       "    }\n",
       "</style>\n",
       "<table border=\"1\" class=\"dataframe\">\n",
       "  <thead>\n",
       "    <tr style=\"text-align: right;\">\n",
       "      <th></th>\n",
       "      <th>PC</th>\n",
       "      <th>Explained Variance</th>\n",
       "      <th>Cumulative Variance</th>\n",
       "    </tr>\n",
       "  </thead>\n",
       "  <tbody>\n",
       "    <tr>\n",
       "      <th>150</th>\n",
       "      <td>P.C. 150</td>\n",
       "      <td>0.001657</td>\n",
       "      <td>0.871</td>\n",
       "    </tr>\n",
       "    <tr>\n",
       "      <th>151</th>\n",
       "      <td>P.C. 151</td>\n",
       "      <td>0.001635</td>\n",
       "      <td>0.873</td>\n",
       "    </tr>\n",
       "    <tr>\n",
       "      <th>152</th>\n",
       "      <td>P.C. 152</td>\n",
       "      <td>0.001624</td>\n",
       "      <td>0.875</td>\n",
       "    </tr>\n",
       "    <tr>\n",
       "      <th>153</th>\n",
       "      <td>P.C. 153</td>\n",
       "      <td>0.001612</td>\n",
       "      <td>0.877</td>\n",
       "    </tr>\n",
       "    <tr>\n",
       "      <th>154</th>\n",
       "      <td>P.C. 154</td>\n",
       "      <td>0.001595</td>\n",
       "      <td>0.879</td>\n",
       "    </tr>\n",
       "    <tr>\n",
       "      <th>155</th>\n",
       "      <td>P.C. 155</td>\n",
       "      <td>0.001579</td>\n",
       "      <td>0.881</td>\n",
       "    </tr>\n",
       "    <tr>\n",
       "      <th>156</th>\n",
       "      <td>P.C. 156</td>\n",
       "      <td>0.001572</td>\n",
       "      <td>0.883</td>\n",
       "    </tr>\n",
       "    <tr>\n",
       "      <th>157</th>\n",
       "      <td>P.C. 157</td>\n",
       "      <td>0.001565</td>\n",
       "      <td>0.885</td>\n",
       "    </tr>\n",
       "    <tr>\n",
       "      <th>158</th>\n",
       "      <td>P.C. 158</td>\n",
       "      <td>0.001553</td>\n",
       "      <td>0.887</td>\n",
       "    </tr>\n",
       "    <tr>\n",
       "      <th>159</th>\n",
       "      <td>P.C. 159</td>\n",
       "      <td>0.001528</td>\n",
       "      <td>0.889</td>\n",
       "    </tr>\n",
       "  </tbody>\n",
       "</table>\n",
       "</div>"
      ],
      "text/plain": [
       "           PC  Explained Variance  Cumulative Variance\n",
       "150  P.C. 150            0.001657                0.871\n",
       "151  P.C. 151            0.001635                0.873\n",
       "152  P.C. 152            0.001624                0.875\n",
       "153  P.C. 153            0.001612                0.877\n",
       "154  P.C. 154            0.001595                0.879\n",
       "155  P.C. 155            0.001579                0.881\n",
       "156  P.C. 156            0.001572                0.883\n",
       "157  P.C. 157            0.001565                0.885\n",
       "158  P.C. 158            0.001553                0.887\n",
       "159  P.C. 159            0.001528                0.889"
      ]
     },
     "execution_count": 102,
     "metadata": {},
     "output_type": "execute_result"
    }
   ],
   "source": [
    "df_explained_variance.tail(10)"
   ]
  },
  {
   "cell_type": "markdown",
   "metadata": {},
   "source": [
    "Next, create visualization of how the variance increases along with the number of PC's! "
   ]
  },
  {
   "cell_type": "code",
   "execution_count": 103,
   "metadata": {},
   "outputs": [],
   "source": [
    "pc_num = []\n",
    "for i in range(160):\n",
    "    pc_num.append(i)"
   ]
  },
  {
   "cell_type": "code",
   "execution_count": 104,
   "metadata": {},
   "outputs": [
    {
     "data": {
      "image/png": "[encoded data removed]",
      "text/plain": [
       "<matplotlib.figure.Figure at 0x7f5ff18f9cc0>"
      ]
     },
     "metadata": {
      "needs_background": "light"
     },
     "output_type": "display_data"
    }
   ],
   "source": [
    "plt.figure(figsize=(15,7))\n",
    "plt.bar(pc_num, cumulative_variance)\n",
    "plt.xticks(np.arange(0, 160, 5))\n",
    "plt.xlabel('PC number')\n",
    "# naming the y axis\n",
    "plt.ylabel('Variance')\n",
    "plt.title(\"Variance vs. # of PC's\")\n",
    "plt.show()"
   ]
  },
  {
   "cell_type": "markdown",
   "metadata": {},
   "source": [
    "So, having 160 PC's retains 88.9% of the variance. It takes a good chunk of time to compute that so increasing the amount of PC's would only increase the amount of computation time. There is a time vs. accuracy balance that has to be acheived while working with massive datasets like this. Hopefully 88.9% is enough to have an accurate enough Supervised Learning model. "
   ]
  },
  {
   "cell_type": "markdown",
   "metadata": {},
   "source": [
    "It would be desirable to know what are the most and least dominating numerical columns of the original data frame for each principle component. This can be ascertained using .components_ method:"
   ]
  },
  {
   "cell_type": "code",
   "execution_count": 105,
   "metadata": {},
   "outputs": [
    {
     "data": {
      "text/plain": [
       "(160, 353)"
      ]
     },
     "execution_count": 105,
     "metadata": {},
     "output_type": "execute_result"
    }
   ],
   "source": [
    "pca_relevance = pca_azdias.components_\n",
    "pca_relevance.shape"
   ]
  },
  {
   "cell_type": "code",
   "execution_count": 106,
   "metadata": {},
   "outputs": [
    {
     "data": {
      "text/plain": [
       "numpy.ndarray"
      ]
     },
     "execution_count": 106,
     "metadata": {},
     "output_type": "execute_result"
    }
   ],
   "source": [
    "type(pca_relevance)"
   ]
  },
  {
   "cell_type": "markdown",
   "metadata": {},
   "source": [
    "So, now the pca_relevance numpy array provides the information as to what the weight is of each numerical column for the respective principal component. Convert the numpy array to a data frame so its easier to work with!"
   ]
  },
  {
   "cell_type": "code",
   "execution_count": 107,
   "metadata": {},
   "outputs": [],
   "source": [
    "all_columns = list(all_columns)"
   ]
  },
  {
   "cell_type": "code",
   "execution_count": 108,
   "metadata": {},
   "outputs": [
    {
     "data": {
      "text/plain": [
       "353"
      ]
     },
     "execution_count": 108,
     "metadata": {},
     "output_type": "execute_result"
    }
   ],
   "source": [
    "len(all_columns)"
   ]
  },
  {
   "cell_type": "code",
   "execution_count": 109,
   "metadata": {},
   "outputs": [],
   "source": [
    "pc_relevance = pd.DataFrame(pca_relevance, columns = all_columns)"
   ]
  },
  {
   "cell_type": "code",
   "execution_count": 110,
   "metadata": {},
   "outputs": [
    {
     "data": {
      "text/html": [
       "<div>\n",
       "<style scoped>\n",
       "    .dataframe tbody tr th:only-of-type {\n",
       "        vertical-align: middle;\n",
       "    }\n",
       "\n",
       "    .dataframe tbody tr th {\n",
       "        vertical-align: top;\n",
       "    }\n",
       "\n",
       "    .dataframe thead th {\n",
       "        text-align: right;\n",
       "    }\n",
       "</style>\n",
       "<table border=\"1\" class=\"dataframe\">\n",
       "  <thead>\n",
       "    <tr style=\"text-align: right;\">\n",
       "      <th></th>\n",
       "      <th>LNR</th>\n",
       "      <th>AGER_TYP</th>\n",
       "      <th>AKT_DAT_KL</th>\n",
       "      <th>ALTER_HH</th>\n",
       "      <th>ANZ_HAUSHALTE_AKTIV</th>\n",
       "      <th>ANZ_HH_TITEL</th>\n",
       "      <th>ANZ_KINDER</th>\n",
       "      <th>ANZ_PERSONEN</th>\n",
       "      <th>ANZ_STATISTISCHE_HAUSHALTE</th>\n",
       "      <th>ANZ_TITEL</th>\n",
       "      <th>...</th>\n",
       "      <th>VK_DHT4A</th>\n",
       "      <th>VK_DISTANZ</th>\n",
       "      <th>VK_ZG11</th>\n",
       "      <th>W_KEIT_KIND_HH</th>\n",
       "      <th>WOHNDAUER_2008</th>\n",
       "      <th>WOHNLAGE</th>\n",
       "      <th>ZABEOTYP</th>\n",
       "      <th>ANREDE_KZ</th>\n",
       "      <th>ALTERSKATEGORIE_GROB</th>\n",
       "      <th>year</th>\n",
       "    </tr>\n",
       "  </thead>\n",
       "  <tbody>\n",
       "    <tr>\n",
       "      <th>0</th>\n",
       "      <td>-0.024511</td>\n",
       "      <td>-0.019095</td>\n",
       "      <td>0.052084</td>\n",
       "      <td>-0.029339</td>\n",
       "      <td>0.082943</td>\n",
       "      <td>0.020996</td>\n",
       "      <td>-0.024939</td>\n",
       "      <td>-0.075290</td>\n",
       "      <td>0.080080</td>\n",
       "      <td>-0.001808</td>\n",
       "      <td>...</td>\n",
       "      <td>0.082291</td>\n",
       "      <td>0.085141</td>\n",
       "      <td>0.077103</td>\n",
       "      <td>0.047752</td>\n",
       "      <td>-0.040077</td>\n",
       "      <td>-0.054334</td>\n",
       "      <td>0.087301</td>\n",
       "      <td>0.004186</td>\n",
       "      <td>-0.029255</td>\n",
       "      <td>-0.030261</td>\n",
       "    </tr>\n",
       "    <tr>\n",
       "      <th>1</th>\n",
       "      <td>0.007599</td>\n",
       "      <td>0.026797</td>\n",
       "      <td>0.010379</td>\n",
       "      <td>-0.036673</td>\n",
       "      <td>0.026902</td>\n",
       "      <td>0.014769</td>\n",
       "      <td>-0.023963</td>\n",
       "      <td>-0.031646</td>\n",
       "      <td>0.031080</td>\n",
       "      <td>0.003338</td>\n",
       "      <td>...</td>\n",
       "      <td>0.051438</td>\n",
       "      <td>0.035857</td>\n",
       "      <td>0.016948</td>\n",
       "      <td>0.038870</td>\n",
       "      <td>0.005038</td>\n",
       "      <td>-0.014734</td>\n",
       "      <td>-0.003785</td>\n",
       "      <td>-0.000138</td>\n",
       "      <td>0.036995</td>\n",
       "      <td>-0.003313</td>\n",
       "    </tr>\n",
       "    <tr>\n",
       "      <th>2</th>\n",
       "      <td>0.003563</td>\n",
       "      <td>-0.110308</td>\n",
       "      <td>0.024628</td>\n",
       "      <td>0.090668</td>\n",
       "      <td>0.016285</td>\n",
       "      <td>-0.001047</td>\n",
       "      <td>0.066665</td>\n",
       "      <td>0.056642</td>\n",
       "      <td>0.014501</td>\n",
       "      <td>-0.002914</td>\n",
       "      <td>...</td>\n",
       "      <td>-0.107864</td>\n",
       "      <td>-0.056133</td>\n",
       "      <td>0.002170</td>\n",
       "      <td>-0.097598</td>\n",
       "      <td>-0.067132</td>\n",
       "      <td>-0.008822</td>\n",
       "      <td>0.036608</td>\n",
       "      <td>0.009762</td>\n",
       "      <td>-0.139947</td>\n",
       "      <td>0.008678</td>\n",
       "    </tr>\n",
       "    <tr>\n",
       "      <th>3</th>\n",
       "      <td>-0.085754</td>\n",
       "      <td>0.000057</td>\n",
       "      <td>-0.003909</td>\n",
       "      <td>0.003905</td>\n",
       "      <td>-0.007238</td>\n",
       "      <td>-0.022746</td>\n",
       "      <td>0.001848</td>\n",
       "      <td>0.008300</td>\n",
       "      <td>-0.005203</td>\n",
       "      <td>-0.011946</td>\n",
       "      <td>...</td>\n",
       "      <td>-0.009247</td>\n",
       "      <td>-0.010240</td>\n",
       "      <td>-0.013266</td>\n",
       "      <td>-0.008162</td>\n",
       "      <td>0.006401</td>\n",
       "      <td>0.085046</td>\n",
       "      <td>0.017779</td>\n",
       "      <td>-0.001883</td>\n",
       "      <td>0.004172</td>\n",
       "      <td>0.033976</td>\n",
       "    </tr>\n",
       "    <tr>\n",
       "      <th>4</th>\n",
       "      <td>-0.041476</td>\n",
       "      <td>0.110738</td>\n",
       "      <td>-0.105753</td>\n",
       "      <td>0.005986</td>\n",
       "      <td>0.031919</td>\n",
       "      <td>0.019047</td>\n",
       "      <td>-0.004608</td>\n",
       "      <td>0.068379</td>\n",
       "      <td>0.032627</td>\n",
       "      <td>0.010735</td>\n",
       "      <td>...</td>\n",
       "      <td>-0.108838</td>\n",
       "      <td>-0.141426</td>\n",
       "      <td>-0.144924</td>\n",
       "      <td>0.009335</td>\n",
       "      <td>0.049923</td>\n",
       "      <td>-0.059129</td>\n",
       "      <td>-0.054318</td>\n",
       "      <td>0.003408</td>\n",
       "      <td>0.114737</td>\n",
       "      <td>-0.015308</td>\n",
       "    </tr>\n",
       "  </tbody>\n",
       "</table>\n",
       "<p>5 rows × 353 columns</p>\n",
       "</div>"
      ],
      "text/plain": [
       "        LNR  AGER_TYP  AKT_DAT_KL  ALTER_HH  ANZ_HAUSHALTE_AKTIV  \\\n",
       "0 -0.024511 -0.019095    0.052084 -0.029339             0.082943   \n",
       "1  0.007599  0.026797    0.010379 -0.036673             0.026902   \n",
       "2  0.003563 -0.110308    0.024628  0.090668             0.016285   \n",
       "3 -0.085754  0.000057   -0.003909  0.003905            -0.007238   \n",
       "4 -0.041476  0.110738   -0.105753  0.005986             0.031919   \n",
       "\n",
       "   ANZ_HH_TITEL  ANZ_KINDER  ANZ_PERSONEN  ANZ_STATISTISCHE_HAUSHALTE  \\\n",
       "0      0.020996   -0.024939     -0.075290                    0.080080   \n",
       "1      0.014769   -0.023963     -0.031646                    0.031080   \n",
       "2     -0.001047    0.066665      0.056642                    0.014501   \n",
       "3     -0.022746    0.001848      0.008300                   -0.005203   \n",
       "4      0.019047   -0.004608      0.068379                    0.032627   \n",
       "\n",
       "   ANZ_TITEL    ...     VK_DHT4A  VK_DISTANZ   VK_ZG11  W_KEIT_KIND_HH  \\\n",
       "0  -0.001808    ...     0.082291    0.085141  0.077103        0.047752   \n",
       "1   0.003338    ...     0.051438    0.035857  0.016948        0.038870   \n",
       "2  -0.002914    ...    -0.107864   -0.056133  0.002170       -0.097598   \n",
       "3  -0.011946    ...    -0.009247   -0.010240 -0.013266       -0.008162   \n",
       "4   0.010735    ...    -0.108838   -0.141426 -0.144924        0.009335   \n",
       "\n",
       "   WOHNDAUER_2008  WOHNLAGE  ZABEOTYP  ANREDE_KZ  ALTERSKATEGORIE_GROB  \\\n",
       "0       -0.040077 -0.054334  0.087301   0.004186             -0.029255   \n",
       "1        0.005038 -0.014734 -0.003785  -0.000138              0.036995   \n",
       "2       -0.067132 -0.008822  0.036608   0.009762             -0.139947   \n",
       "3        0.006401  0.085046  0.017779  -0.001883              0.004172   \n",
       "4        0.049923 -0.059129 -0.054318   0.003408              0.114737   \n",
       "\n",
       "       year  \n",
       "0 -0.030261  \n",
       "1 -0.003313  \n",
       "2  0.008678  \n",
       "3  0.033976  \n",
       "4 -0.015308  \n",
       "\n",
       "[5 rows x 353 columns]"
      ]
     },
     "execution_count": 110,
     "metadata": {},
     "output_type": "execute_result"
    }
   ],
   "source": [
    "pc_relevance.head()"
   ]
  },
  {
   "cell_type": "markdown",
   "metadata": {},
   "source": [
    "So, this looks really good because now the data frame 'pc_relevance' informs what the columns weights are for each principle component. The principle component is the row in this data frame. "
   ]
  },
  {
   "cell_type": "code",
   "execution_count": 280,
   "metadata": {},
   "outputs": [],
   "source": [
    "pickle_out = open(\"pc_relevance\",\"wb\")\n",
    "pickle.dump(pc_relevance, pickle_out)\n",
    "pickle_out.close()"
   ]
  },
  {
   "cell_type": "code",
   "execution_count": 3,
   "metadata": {},
   "outputs": [],
   "source": [
    "pickle_in = open(\"pc_relevance\",\"rb\")\n",
    "pc_relevance = pickle.load(pickle_in)"
   ]
  },
  {
   "cell_type": "code",
   "execution_count": 111,
   "metadata": {},
   "outputs": [
    {
     "data": {
      "text/html": [
       "<div>\n",
       "<style scoped>\n",
       "    .dataframe tbody tr th:only-of-type {\n",
       "        vertical-align: middle;\n",
       "    }\n",
       "\n",
       "    .dataframe tbody tr th {\n",
       "        vertical-align: top;\n",
       "    }\n",
       "\n",
       "    .dataframe thead th {\n",
       "        text-align: right;\n",
       "    }\n",
       "</style>\n",
       "<table border=\"1\" class=\"dataframe\">\n",
       "  <thead>\n",
       "    <tr style=\"text-align: right;\">\n",
       "      <th></th>\n",
       "      <th>LNR</th>\n",
       "      <th>AGER_TYP</th>\n",
       "      <th>AKT_DAT_KL</th>\n",
       "      <th>ALTER_HH</th>\n",
       "      <th>ANZ_HAUSHALTE_AKTIV</th>\n",
       "      <th>ANZ_HH_TITEL</th>\n",
       "      <th>ANZ_KINDER</th>\n",
       "      <th>ANZ_PERSONEN</th>\n",
       "      <th>ANZ_STATISTISCHE_HAUSHALTE</th>\n",
       "      <th>ANZ_TITEL</th>\n",
       "      <th>...</th>\n",
       "      <th>VK_DHT4A</th>\n",
       "      <th>VK_DISTANZ</th>\n",
       "      <th>VK_ZG11</th>\n",
       "      <th>W_KEIT_KIND_HH</th>\n",
       "      <th>WOHNDAUER_2008</th>\n",
       "      <th>WOHNLAGE</th>\n",
       "      <th>ZABEOTYP</th>\n",
       "      <th>ANREDE_KZ</th>\n",
       "      <th>ALTERSKATEGORIE_GROB</th>\n",
       "      <th>year</th>\n",
       "    </tr>\n",
       "  </thead>\n",
       "  <tbody>\n",
       "    <tr>\n",
       "      <th>0</th>\n",
       "      <td>-0.024511</td>\n",
       "      <td>-0.019095</td>\n",
       "      <td>0.052084</td>\n",
       "      <td>-0.029339</td>\n",
       "      <td>0.082943</td>\n",
       "      <td>0.020996</td>\n",
       "      <td>-0.024939</td>\n",
       "      <td>-0.075290</td>\n",
       "      <td>0.080080</td>\n",
       "      <td>-0.001808</td>\n",
       "      <td>...</td>\n",
       "      <td>0.082291</td>\n",
       "      <td>0.085141</td>\n",
       "      <td>0.077103</td>\n",
       "      <td>0.047752</td>\n",
       "      <td>-0.040077</td>\n",
       "      <td>-0.054334</td>\n",
       "      <td>0.087301</td>\n",
       "      <td>0.004186</td>\n",
       "      <td>-0.029255</td>\n",
       "      <td>-0.030261</td>\n",
       "    </tr>\n",
       "    <tr>\n",
       "      <th>1</th>\n",
       "      <td>0.007599</td>\n",
       "      <td>0.026797</td>\n",
       "      <td>0.010379</td>\n",
       "      <td>-0.036673</td>\n",
       "      <td>0.026902</td>\n",
       "      <td>0.014769</td>\n",
       "      <td>-0.023963</td>\n",
       "      <td>-0.031646</td>\n",
       "      <td>0.031080</td>\n",
       "      <td>0.003338</td>\n",
       "      <td>...</td>\n",
       "      <td>0.051438</td>\n",
       "      <td>0.035857</td>\n",
       "      <td>0.016948</td>\n",
       "      <td>0.038870</td>\n",
       "      <td>0.005038</td>\n",
       "      <td>-0.014734</td>\n",
       "      <td>-0.003785</td>\n",
       "      <td>-0.000138</td>\n",
       "      <td>0.036995</td>\n",
       "      <td>-0.003313</td>\n",
       "    </tr>\n",
       "    <tr>\n",
       "      <th>2</th>\n",
       "      <td>0.003563</td>\n",
       "      <td>-0.110308</td>\n",
       "      <td>0.024628</td>\n",
       "      <td>0.090668</td>\n",
       "      <td>0.016285</td>\n",
       "      <td>-0.001047</td>\n",
       "      <td>0.066665</td>\n",
       "      <td>0.056642</td>\n",
       "      <td>0.014501</td>\n",
       "      <td>-0.002914</td>\n",
       "      <td>...</td>\n",
       "      <td>-0.107864</td>\n",
       "      <td>-0.056133</td>\n",
       "      <td>0.002170</td>\n",
       "      <td>-0.097598</td>\n",
       "      <td>-0.067132</td>\n",
       "      <td>-0.008822</td>\n",
       "      <td>0.036608</td>\n",
       "      <td>0.009762</td>\n",
       "      <td>-0.139947</td>\n",
       "      <td>0.008678</td>\n",
       "    </tr>\n",
       "    <tr>\n",
       "      <th>3</th>\n",
       "      <td>-0.085754</td>\n",
       "      <td>0.000057</td>\n",
       "      <td>-0.003909</td>\n",
       "      <td>0.003905</td>\n",
       "      <td>-0.007238</td>\n",
       "      <td>-0.022746</td>\n",
       "      <td>0.001848</td>\n",
       "      <td>0.008300</td>\n",
       "      <td>-0.005203</td>\n",
       "      <td>-0.011946</td>\n",
       "      <td>...</td>\n",
       "      <td>-0.009247</td>\n",
       "      <td>-0.010240</td>\n",
       "      <td>-0.013266</td>\n",
       "      <td>-0.008162</td>\n",
       "      <td>0.006401</td>\n",
       "      <td>0.085046</td>\n",
       "      <td>0.017779</td>\n",
       "      <td>-0.001883</td>\n",
       "      <td>0.004172</td>\n",
       "      <td>0.033976</td>\n",
       "    </tr>\n",
       "    <tr>\n",
       "      <th>4</th>\n",
       "      <td>-0.041476</td>\n",
       "      <td>0.110738</td>\n",
       "      <td>-0.105753</td>\n",
       "      <td>0.005986</td>\n",
       "      <td>0.031919</td>\n",
       "      <td>0.019047</td>\n",
       "      <td>-0.004608</td>\n",
       "      <td>0.068379</td>\n",
       "      <td>0.032627</td>\n",
       "      <td>0.010735</td>\n",
       "      <td>...</td>\n",
       "      <td>-0.108838</td>\n",
       "      <td>-0.141426</td>\n",
       "      <td>-0.144924</td>\n",
       "      <td>0.009335</td>\n",
       "      <td>0.049923</td>\n",
       "      <td>-0.059129</td>\n",
       "      <td>-0.054318</td>\n",
       "      <td>0.003408</td>\n",
       "      <td>0.114737</td>\n",
       "      <td>-0.015308</td>\n",
       "    </tr>\n",
       "  </tbody>\n",
       "</table>\n",
       "<p>5 rows × 353 columns</p>\n",
       "</div>"
      ],
      "text/plain": [
       "        LNR  AGER_TYP  AKT_DAT_KL  ALTER_HH  ANZ_HAUSHALTE_AKTIV  \\\n",
       "0 -0.024511 -0.019095    0.052084 -0.029339             0.082943   \n",
       "1  0.007599  0.026797    0.010379 -0.036673             0.026902   \n",
       "2  0.003563 -0.110308    0.024628  0.090668             0.016285   \n",
       "3 -0.085754  0.000057   -0.003909  0.003905            -0.007238   \n",
       "4 -0.041476  0.110738   -0.105753  0.005986             0.031919   \n",
       "\n",
       "   ANZ_HH_TITEL  ANZ_KINDER  ANZ_PERSONEN  ANZ_STATISTISCHE_HAUSHALTE  \\\n",
       "0      0.020996   -0.024939     -0.075290                    0.080080   \n",
       "1      0.014769   -0.023963     -0.031646                    0.031080   \n",
       "2     -0.001047    0.066665      0.056642                    0.014501   \n",
       "3     -0.022746    0.001848      0.008300                   -0.005203   \n",
       "4      0.019047   -0.004608      0.068379                    0.032627   \n",
       "\n",
       "   ANZ_TITEL    ...     VK_DHT4A  VK_DISTANZ   VK_ZG11  W_KEIT_KIND_HH  \\\n",
       "0  -0.001808    ...     0.082291    0.085141  0.077103        0.047752   \n",
       "1   0.003338    ...     0.051438    0.035857  0.016948        0.038870   \n",
       "2  -0.002914    ...    -0.107864   -0.056133  0.002170       -0.097598   \n",
       "3  -0.011946    ...    -0.009247   -0.010240 -0.013266       -0.008162   \n",
       "4   0.010735    ...    -0.108838   -0.141426 -0.144924        0.009335   \n",
       "\n",
       "   WOHNDAUER_2008  WOHNLAGE  ZABEOTYP  ANREDE_KZ  ALTERSKATEGORIE_GROB  \\\n",
       "0       -0.040077 -0.054334  0.087301   0.004186             -0.029255   \n",
       "1        0.005038 -0.014734 -0.003785  -0.000138              0.036995   \n",
       "2       -0.067132 -0.008822  0.036608   0.009762             -0.139947   \n",
       "3        0.006401  0.085046  0.017779  -0.001883              0.004172   \n",
       "4        0.049923 -0.059129 -0.054318   0.003408              0.114737   \n",
       "\n",
       "       year  \n",
       "0 -0.030261  \n",
       "1 -0.003313  \n",
       "2  0.008678  \n",
       "3  0.033976  \n",
       "4 -0.015308  \n",
       "\n",
       "[5 rows x 353 columns]"
      ]
     },
     "execution_count": 111,
     "metadata": {},
     "output_type": "execute_result"
    }
   ],
   "source": [
    "pc_relevance.head()"
   ]
  },
  {
   "cell_type": "code",
   "execution_count": 112,
   "metadata": {},
   "outputs": [],
   "source": [
    "comp_0 = pc_relevance.iloc[0]"
   ]
  },
  {
   "cell_type": "code",
   "execution_count": 113,
   "metadata": {},
   "outputs": [
    {
     "data": {
      "text/plain": [
       "AGER_TYP                     -0.019095\n",
       "AKT_DAT_KL                    0.052084\n",
       "ALTER_HH                     -0.029339\n",
       "ANZ_HAUSHALTE_AKTIV           0.082943\n",
       "ANZ_HH_TITEL                  0.020996\n",
       "ANZ_KINDER                   -0.024939\n",
       "ANZ_PERSONEN                 -0.075290\n",
       "ANZ_STATISTISCHE_HAUSHALTE    0.080080\n",
       "ANZ_TITEL                    -0.001808\n",
       "ARBEIT                        0.094367\n",
       "BALLRAUM                     -0.074129\n",
       "CAMEO_DEUG_2015               0.132199\n",
       "CAMEO_INTL_2015               0.129296\n",
       "CJT_GESAMTTYP                 0.001668\n",
       "CJT_KATALOGNUTZER             0.034546\n",
       "CJT_TYP_1                     0.037369\n",
       "CJT_TYP_2                     0.060119\n",
       "CJT_TYP_3                    -0.055433\n",
       "CJT_TYP_4                    -0.025294\n",
       "Name: 0, dtype: float64"
      ]
     },
     "execution_count": 113,
     "metadata": {},
     "output_type": "execute_result"
    }
   ],
   "source": [
    "comp_0[1:20]"
   ]
  },
  {
   "cell_type": "markdown",
   "metadata": {},
   "source": [
    "In the next step a function will be created that gives the most and least relevant columns of a given principle component through a bar graph and explains what each means:"
   ]
  },
  {
   "cell_type": "code",
   "execution_count": 15,
   "metadata": {},
   "outputs": [],
   "source": [
    "def relevant_columns(pc):\n",
    "    \"\"\"\n",
    "    Takes the n'th principle component as an input and outputs information about the customers \n",
    "    including the top five most pertinent and least pertinent columns and their descriptions if one is available\n",
    "    \n",
    "    INPUT:\n",
    "    - pc: The principal component from the PCA step\n",
    "    \n",
    "    OUTPUT:\n",
    "    - component_info: Provides the feature, description of the feature, and variance for that feature for the pc input\n",
    "    \n",
    "    \"\"\"\n",
    "    descriptions = []\n",
    "    descriptions_parsed = []\n",
    "\n",
    "    \n",
    "    pc_info = list(zip(pc_relevance.iloc[pc], all_columns))\n",
    "    pc_info.sort()\n",
    "    most_important = pc_info[-5:]\n",
    "    most_important.sort(reverse = True)\n",
    "    least_important = pc_info[0:5]\n",
    "    least_important.sort(reverse = True)\n",
    "    full_list = most_important + least_important\n",
    "    unzipped_full = list(zip(*full_list))\n",
    "    full_vals = unzipped_full[0]\n",
    "    full_col_names = unzipped_full[1]\n",
    "    plt.figure(figsize=(25,7))\n",
    "    #plt.bar(most_important_col_names, most_important_vals)\n",
    "    s = pd.Series(full_vals, index = full_col_names)\n",
    "    s.plot(kind='bar',rot=0, title = \"PC Variance of a Column vs. Column Name\")\n",
    "    plt.xlabel('Column Name')\n",
    "    plt.ylabel('Variance')\n",
    "    \n",
    "    for name in full_col_names:\n",
    "        description = feature_values[feature_values['Attribute'] == name]['Description'][0:1]\n",
    "        descriptions.append(str(description))\n",
    "    for desc in descriptions:\n",
    "        descriptions2 = desc.split(\"\\nName\")[0][4:]\n",
    "        descriptions_parsed.append(descriptions2)\n",
    "    component_info = {\"Feature\":full_col_names, \"Description\":descriptions_parsed, \"Variance\": full_vals}\n",
    "    component_info = pd.DataFrame(component_info)\n",
    "    component_info\n",
    "    \n",
    "    component_info['Description'].replace('es([], Name: Description, dtype: object)', 'Unknown description', inplace=True)\n",
    "\n",
    "    return component_info"
   ]
  },
  {
   "cell_type": "code",
   "execution_count": 115,
   "metadata": {},
   "outputs": [
    {
     "data": {
      "text/html": [
       "<div>\n",
       "<style scoped>\n",
       "    .dataframe tbody tr th:only-of-type {\n",
       "        vertical-align: middle;\n",
       "    }\n",
       "\n",
       "    .dataframe tbody tr th {\n",
       "        vertical-align: top;\n",
       "    }\n",
       "\n",
       "    .dataframe thead th {\n",
       "        text-align: right;\n",
       "    }\n",
       "</style>\n",
       "<table border=\"1\" class=\"dataframe\">\n",
       "  <thead>\n",
       "    <tr style=\"text-align: right;\">\n",
       "      <th></th>\n",
       "      <th>Feature</th>\n",
       "      <th>Description</th>\n",
       "      <th>Variance</th>\n",
       "    </tr>\n",
       "  </thead>\n",
       "  <tbody>\n",
       "    <tr>\n",
       "      <th>0</th>\n",
       "      <td>PLZ8_ANTG3</td>\n",
       "      <td>number of 6-10 family houses in the PLZ8</td>\n",
       "      <td>0.146041</td>\n",
       "    </tr>\n",
       "    <tr>\n",
       "      <th>1</th>\n",
       "      <td>KBA13_ANTG3</td>\n",
       "      <td>Unknown description</td>\n",
       "      <td>0.145673</td>\n",
       "    </tr>\n",
       "    <tr>\n",
       "      <th>2</th>\n",
       "      <td>KBA13_ANTG4</td>\n",
       "      <td>Unknown description</td>\n",
       "      <td>0.142095</td>\n",
       "    </tr>\n",
       "    <tr>\n",
       "      <th>3</th>\n",
       "      <td>KBA13_BAUMAX</td>\n",
       "      <td>Unknown description</td>\n",
       "      <td>0.141759</td>\n",
       "    </tr>\n",
       "    <tr>\n",
       "      <th>4</th>\n",
       "      <td>PLZ8_ANTG4</td>\n",
       "      <td>number of &gt;10 family houses in the PLZ8</td>\n",
       "      <td>0.140194</td>\n",
       "    </tr>\n",
       "    <tr>\n",
       "      <th>5</th>\n",
       "      <td>MOBI_RASTER</td>\n",
       "      <td>Unknown description</td>\n",
       "      <td>-0.135379</td>\n",
       "    </tr>\n",
       "    <tr>\n",
       "      <th>6</th>\n",
       "      <td>KBA05_ANTG1</td>\n",
       "      <td>number of 1-2 family houses in the cell</td>\n",
       "      <td>-0.136438</td>\n",
       "    </tr>\n",
       "    <tr>\n",
       "      <th>7</th>\n",
       "      <td>KBA13_ANTG1</td>\n",
       "      <td>Unknown description</td>\n",
       "      <td>-0.145414</td>\n",
       "    </tr>\n",
       "    <tr>\n",
       "      <th>8</th>\n",
       "      <td>PLZ8_ANTG1</td>\n",
       "      <td>number of 1-2 family houses in the PLZ8</td>\n",
       "      <td>-0.145616</td>\n",
       "    </tr>\n",
       "    <tr>\n",
       "      <th>9</th>\n",
       "      <td>MOBI_REGIO</td>\n",
       "      <td>moving patterns</td>\n",
       "      <td>-0.148031</td>\n",
       "    </tr>\n",
       "  </tbody>\n",
       "</table>\n",
       "</div>"
      ],
      "text/plain": [
       "        Feature                                   Description  Variance\n",
       "0    PLZ8_ANTG3      number of 6-10 family houses in the PLZ8  0.146041\n",
       "1   KBA13_ANTG3                           Unknown description  0.145673\n",
       "2   KBA13_ANTG4                           Unknown description  0.142095\n",
       "3  KBA13_BAUMAX                           Unknown description  0.141759\n",
       "4    PLZ8_ANTG4       number of >10 family houses in the PLZ8  0.140194\n",
       "5   MOBI_RASTER                           Unknown description -0.135379\n",
       "6   KBA05_ANTG1       number of 1-2 family houses in the cell -0.136438\n",
       "7   KBA13_ANTG1                           Unknown description -0.145414\n",
       "8    PLZ8_ANTG1       number of 1-2 family houses in the PLZ8 -0.145616\n",
       "9    MOBI_REGIO                               moving patterns -0.148031"
      ]
     },
     "execution_count": 115,
     "metadata": {},
     "output_type": "execute_result"
    },
    {
     "data": {
      "image/png": "[encoded data removed]",
      "text/plain": [
       "<matplotlib.figure.Figure at 0x7f5fef7d1e80>"
      ]
     },
     "metadata": {
      "needs_background": "light"
     },
     "output_type": "display_data"
    }
   ],
   "source": [
    "relevant_columns(0)"
   ]
  },
  {
   "cell_type": "code",
   "execution_count": 116,
   "metadata": {},
   "outputs": [
    {
     "data": {
      "text/html": [
       "<div>\n",
       "<style scoped>\n",
       "    .dataframe tbody tr th:only-of-type {\n",
       "        vertical-align: middle;\n",
       "    }\n",
       "\n",
       "    .dataframe tbody tr th {\n",
       "        vertical-align: top;\n",
       "    }\n",
       "\n",
       "    .dataframe thead th {\n",
       "        text-align: right;\n",
       "    }\n",
       "</style>\n",
       "<table border=\"1\" class=\"dataframe\">\n",
       "  <thead>\n",
       "    <tr style=\"text-align: right;\">\n",
       "      <th></th>\n",
       "      <th>Feature</th>\n",
       "      <th>Description</th>\n",
       "      <th>Variance</th>\n",
       "    </tr>\n",
       "  </thead>\n",
       "  <tbody>\n",
       "    <tr>\n",
       "      <th>0</th>\n",
       "      <td>KBA05_SEG6</td>\n",
       "      <td>share of upper class cars (BMW 7er etc.) i...</td>\n",
       "      <td>0.194376</td>\n",
       "    </tr>\n",
       "    <tr>\n",
       "      <th>1</th>\n",
       "      <td>KBA05_KRSOBER</td>\n",
       "      <td>share of upper class cars (referred to the ...</td>\n",
       "      <td>0.169211</td>\n",
       "    </tr>\n",
       "    <tr>\n",
       "      <th>2</th>\n",
       "      <td>KBA05_KRSVAN</td>\n",
       "      <td>share of vans (referred to the county average)</td>\n",
       "      <td>0.165244</td>\n",
       "    </tr>\n",
       "    <tr>\n",
       "      <th>3</th>\n",
       "      <td>KBA05_KRSZUL</td>\n",
       "      <td>share of newbuilt cars (referred to the cou...</td>\n",
       "      <td>0.161820</td>\n",
       "    </tr>\n",
       "    <tr>\n",
       "      <th>4</th>\n",
       "      <td>KBA05_SEG8</td>\n",
       "      <td>share of roadster and convertables in the ...</td>\n",
       "      <td>0.156635</td>\n",
       "    </tr>\n",
       "    <tr>\n",
       "      <th>5</th>\n",
       "      <td>D19_GESAMT_ANZ_12</td>\n",
       "      <td>transaction activity TOTAL POOL in the last...</td>\n",
       "      <td>-0.050236</td>\n",
       "    </tr>\n",
       "    <tr>\n",
       "      <th>6</th>\n",
       "      <td>PRAEGENDE_JUGENDJAHRE</td>\n",
       "      <td>dominating movement in the person's youth ...</td>\n",
       "      <td>-0.051005</td>\n",
       "    </tr>\n",
       "    <tr>\n",
       "      <th>7</th>\n",
       "      <td>FINANZ_ANLEGER</td>\n",
       "      <td>financial typology: investor</td>\n",
       "      <td>-0.052404</td>\n",
       "    </tr>\n",
       "    <tr>\n",
       "      <th>8</th>\n",
       "      <td>D19_GESAMT_ANZ_24</td>\n",
       "      <td>transaction activity TOTAL POOL in the last...</td>\n",
       "      <td>-0.054212</td>\n",
       "    </tr>\n",
       "    <tr>\n",
       "      <th>9</th>\n",
       "      <td>ONLINE_AFFINITAET</td>\n",
       "      <td>online affinity</td>\n",
       "      <td>-0.059658</td>\n",
       "    </tr>\n",
       "  </tbody>\n",
       "</table>\n",
       "</div>"
      ],
      "text/plain": [
       "                 Feature                                        Description  \\\n",
       "0             KBA05_SEG6      share of upper class cars (BMW 7er etc.) i...   \n",
       "1          KBA05_KRSOBER     share of upper class cars (referred to the ...   \n",
       "2           KBA05_KRSVAN     share of vans (referred to the county average)   \n",
       "3           KBA05_KRSZUL     share of newbuilt cars (referred to the cou...   \n",
       "4             KBA05_SEG8      share of roadster and convertables in the ...   \n",
       "5      D19_GESAMT_ANZ_12     transaction activity TOTAL POOL in the last...   \n",
       "6  PRAEGENDE_JUGENDJAHRE      dominating movement in the person's youth ...   \n",
       "7         FINANZ_ANLEGER                       financial typology: investor   \n",
       "8      D19_GESAMT_ANZ_24     transaction activity TOTAL POOL in the last...   \n",
       "9      ONLINE_AFFINITAET                                    online affinity   \n",
       "\n",
       "   Variance  \n",
       "0  0.194376  \n",
       "1  0.169211  \n",
       "2  0.165244  \n",
       "3  0.161820  \n",
       "4  0.156635  \n",
       "5 -0.050236  \n",
       "6 -0.051005  \n",
       "7 -0.052404  \n",
       "8 -0.054212  \n",
       "9 -0.059658  "
      ]
     },
     "execution_count": 116,
     "metadata": {},
     "output_type": "execute_result"
    },
    {
     "data": {
      "image/png": "[encoded data removed]",
      "text/plain": [
       "<matplotlib.figure.Figure at 0x7f5fef7a6208>"
      ]
     },
     "metadata": {
      "needs_background": "light"
     },
     "output_type": "display_data"
    }
   ],
   "source": [
    "relevant_columns(1)"
   ]
  },
  {
   "cell_type": "code",
   "execution_count": 117,
   "metadata": {},
   "outputs": [
    {
     "data": {
      "text/html": [
       "<div>\n",
       "<style scoped>\n",
       "    .dataframe tbody tr th:only-of-type {\n",
       "        vertical-align: middle;\n",
       "    }\n",
       "\n",
       "    .dataframe tbody tr th {\n",
       "        vertical-align: top;\n",
       "    }\n",
       "\n",
       "    .dataframe thead th {\n",
       "        text-align: right;\n",
       "    }\n",
       "</style>\n",
       "<table border=\"1\" class=\"dataframe\">\n",
       "  <thead>\n",
       "    <tr style=\"text-align: right;\">\n",
       "      <th></th>\n",
       "      <th>Feature</th>\n",
       "      <th>Description</th>\n",
       "      <th>Variance</th>\n",
       "    </tr>\n",
       "  </thead>\n",
       "  <tbody>\n",
       "    <tr>\n",
       "      <th>0</th>\n",
       "      <td>PRAEGENDE_JUGENDJAHRE</td>\n",
       "      <td>dominating movement in the person's youth ...</td>\n",
       "      <td>0.167146</td>\n",
       "    </tr>\n",
       "    <tr>\n",
       "      <th>1</th>\n",
       "      <td>CJT_TYP_2</td>\n",
       "      <td>Unknown description</td>\n",
       "      <td>0.164987</td>\n",
       "    </tr>\n",
       "    <tr>\n",
       "      <th>2</th>\n",
       "      <td>CJT_TYP_1</td>\n",
       "      <td>Unknown description</td>\n",
       "      <td>0.162366</td>\n",
       "    </tr>\n",
       "    <tr>\n",
       "      <th>3</th>\n",
       "      <td>ONLINE_AFFINITAET</td>\n",
       "      <td>online affinity</td>\n",
       "      <td>0.161006</td>\n",
       "    </tr>\n",
       "    <tr>\n",
       "      <th>4</th>\n",
       "      <td>FINANZ_SPARER</td>\n",
       "      <td>financial typology: money saver</td>\n",
       "      <td>0.159635</td>\n",
       "    </tr>\n",
       "    <tr>\n",
       "      <th>5</th>\n",
       "      <td>CJT_TYP_6</td>\n",
       "      <td>Unknown description</td>\n",
       "      <td>-0.147708</td>\n",
       "    </tr>\n",
       "    <tr>\n",
       "      <th>6</th>\n",
       "      <td>FINANZ_VORSORGER</td>\n",
       "      <td>financial typology: be prepared</td>\n",
       "      <td>-0.148518</td>\n",
       "    </tr>\n",
       "    <tr>\n",
       "      <th>7</th>\n",
       "      <td>CJT_TYP_4</td>\n",
       "      <td>Unknown description</td>\n",
       "      <td>-0.148671</td>\n",
       "    </tr>\n",
       "    <tr>\n",
       "      <th>8</th>\n",
       "      <td>CJT_TYP_3</td>\n",
       "      <td>Unknown description</td>\n",
       "      <td>-0.149673</td>\n",
       "    </tr>\n",
       "    <tr>\n",
       "      <th>9</th>\n",
       "      <td>CJT_TYP_5</td>\n",
       "      <td>Unknown description</td>\n",
       "      <td>-0.151885</td>\n",
       "    </tr>\n",
       "  </tbody>\n",
       "</table>\n",
       "</div>"
      ],
      "text/plain": [
       "                 Feature                                        Description  \\\n",
       "0  PRAEGENDE_JUGENDJAHRE      dominating movement in the person's youth ...   \n",
       "1              CJT_TYP_2                                Unknown description   \n",
       "2              CJT_TYP_1                                Unknown description   \n",
       "3      ONLINE_AFFINITAET                                    online affinity   \n",
       "4          FINANZ_SPARER                    financial typology: money saver   \n",
       "5              CJT_TYP_6                                Unknown description   \n",
       "6       FINANZ_VORSORGER                    financial typology: be prepared   \n",
       "7              CJT_TYP_4                                Unknown description   \n",
       "8              CJT_TYP_3                                Unknown description   \n",
       "9              CJT_TYP_5                                Unknown description   \n",
       "\n",
       "   Variance  \n",
       "0  0.167146  \n",
       "1  0.164987  \n",
       "2  0.162366  \n",
       "3  0.161006  \n",
       "4  0.159635  \n",
       "5 -0.147708  \n",
       "6 -0.148518  \n",
       "7 -0.148671  \n",
       "8 -0.149673  \n",
       "9 -0.151885  "
      ]
     },
     "execution_count": 117,
     "metadata": {},
     "output_type": "execute_result"
    },
    {
     "data": {
      "image/png": "[encoded data removed]",
      "text/plain": [
       "<matplotlib.figure.Figure at 0x7f5fef5a81d0>"
      ]
     },
     "metadata": {
      "needs_background": "light"
     },
     "output_type": "display_data"
    }
   ],
   "source": [
    "relevant_columns(2)"
   ]
  },
  {
   "cell_type": "code",
   "execution_count": 118,
   "metadata": {},
   "outputs": [
    {
     "data": {
      "text/html": [
       "<div>\n",
       "<style scoped>\n",
       "    .dataframe tbody tr th:only-of-type {\n",
       "        vertical-align: middle;\n",
       "    }\n",
       "\n",
       "    .dataframe tbody tr th {\n",
       "        vertical-align: top;\n",
       "    }\n",
       "\n",
       "    .dataframe thead th {\n",
       "        text-align: right;\n",
       "    }\n",
       "</style>\n",
       "<table border=\"1\" class=\"dataframe\">\n",
       "  <thead>\n",
       "    <tr style=\"text-align: right;\">\n",
       "      <th></th>\n",
       "      <th>Feature</th>\n",
       "      <th>Description</th>\n",
       "      <th>Variance</th>\n",
       "    </tr>\n",
       "  </thead>\n",
       "  <tbody>\n",
       "    <tr>\n",
       "      <th>0</th>\n",
       "      <td>KBA13_SITZE_5</td>\n",
       "      <td>number of cars with 5 seats in the PLZ8</td>\n",
       "      <td>0.157728</td>\n",
       "    </tr>\n",
       "    <tr>\n",
       "      <th>1</th>\n",
       "      <td>KBA13_SEG_KLEINWAGEN</td>\n",
       "      <td>share of small and very small cars (Ford F...</td>\n",
       "      <td>0.139844</td>\n",
       "    </tr>\n",
       "    <tr>\n",
       "      <th>2</th>\n",
       "      <td>KBA13_KMH_140_210</td>\n",
       "      <td>share of cars with max speed between 140 a...</td>\n",
       "      <td>0.138743</td>\n",
       "    </tr>\n",
       "    <tr>\n",
       "      <th>3</th>\n",
       "      <td>KBA13_HALTER_25</td>\n",
       "      <td>share of car owners between 21 and 25 with...</td>\n",
       "      <td>0.130203</td>\n",
       "    </tr>\n",
       "    <tr>\n",
       "      <th>4</th>\n",
       "      <td>KBA13_KMH_180</td>\n",
       "      <td>share of cars with max speed between 110 k...</td>\n",
       "      <td>0.128495</td>\n",
       "    </tr>\n",
       "    <tr>\n",
       "      <th>5</th>\n",
       "      <td>KBA13_SITZE_4</td>\n",
       "      <td>number of cars with less than 5 seats in t...</td>\n",
       "      <td>-0.152220</td>\n",
       "    </tr>\n",
       "    <tr>\n",
       "      <th>6</th>\n",
       "      <td>KBA13_BMW</td>\n",
       "      <td>share of BMW within the PLZ8</td>\n",
       "      <td>-0.159028</td>\n",
       "    </tr>\n",
       "    <tr>\n",
       "      <th>7</th>\n",
       "      <td>KBA13_SEG_OBEREMITTELKLASSE</td>\n",
       "      <td>share of upper middle class cars and upper...</td>\n",
       "      <td>-0.163898</td>\n",
       "    </tr>\n",
       "    <tr>\n",
       "      <th>8</th>\n",
       "      <td>KBA13_MERCEDES</td>\n",
       "      <td>share of MERCEDES within the PLZ8</td>\n",
       "      <td>-0.166242</td>\n",
       "    </tr>\n",
       "    <tr>\n",
       "      <th>9</th>\n",
       "      <td>KBA13_HERST_BMW_BENZ</td>\n",
       "      <td>share of BMW &amp; Mercedes Benz within the PLZ8</td>\n",
       "      <td>-0.191973</td>\n",
       "    </tr>\n",
       "  </tbody>\n",
       "</table>\n",
       "</div>"
      ],
      "text/plain": [
       "                       Feature  \\\n",
       "0                KBA13_SITZE_5   \n",
       "1         KBA13_SEG_KLEINWAGEN   \n",
       "2            KBA13_KMH_140_210   \n",
       "3              KBA13_HALTER_25   \n",
       "4                KBA13_KMH_180   \n",
       "5                KBA13_SITZE_4   \n",
       "6                    KBA13_BMW   \n",
       "7  KBA13_SEG_OBEREMITTELKLASSE   \n",
       "8               KBA13_MERCEDES   \n",
       "9         KBA13_HERST_BMW_BENZ   \n",
       "\n",
       "                                         Description  Variance  \n",
       "0            number of cars with 5 seats in the PLZ8  0.157728  \n",
       "1      share of small and very small cars (Ford F...  0.139844  \n",
       "2      share of cars with max speed between 140 a...  0.138743  \n",
       "3      share of car owners between 21 and 25 with...  0.130203  \n",
       "4      share of cars with max speed between 110 k...  0.128495  \n",
       "5      number of cars with less than 5 seats in t... -0.152220  \n",
       "6                       share of BMW within the PLZ8 -0.159028  \n",
       "7      share of upper middle class cars and upper... -0.163898  \n",
       "8                  share of MERCEDES within the PLZ8 -0.166242  \n",
       "9       share of BMW & Mercedes Benz within the PLZ8 -0.191973  "
      ]
     },
     "execution_count": 118,
     "metadata": {},
     "output_type": "execute_result"
    },
    {
     "data": {
      "image/png": "[encoded data removed]",
      "text/plain": [
       "<matplotlib.figure.Figure at 0x7f5fef682240>"
      ]
     },
     "metadata": {
      "needs_background": "light"
     },
     "output_type": "display_data"
    }
   ],
   "source": [
    "relevant_columns(3)"
   ]
  },
  {
   "cell_type": "code",
   "execution_count": 203,
   "metadata": {},
   "outputs": [],
   "source": [
    "def Kmeans_scores(data, K_start, K_end, step=1):\n",
    "    \n",
    "    \"\"\"\n",
    "    Provides insight into cluster scores for a dataset\n",
    "    \n",
    "    INPUT:\n",
    "    - data: The dataframe that will be organized into a set of clusters\n",
    "    - K_start: The minimum amount of clusters\n",
    "    - K_end: The final amount of clusters\n",
    "    - step: The step count\n",
    "    \n",
    "    OUTPUT:\n",
    "    - score: The calculated cluster score\n",
    "    \n",
    "    \"\"\"\n",
    "    \n",
    "    scores = []\n",
    "    \n",
    "    print(\"K-means clustering initiated\")\n",
    "    print(\"for range min:{}, max:{}, step:{}\".format(K_start, K_end, step))\n",
    "\n",
    "    for n in range(K_start, K_end+1, step):\n",
    "        \n",
    "        print(\"\\nTraining for cluster\", n)\n",
    "        \n",
    "        kmeans = KMeans(n)\n",
    "        model = kmeans.fit(data)\n",
    "        scores.append(abs(model.score(data)))\n",
    "        \n",
    "        print(\"The score for this cluster is: \", scores[-1])        \n",
    "    return scores, range(K_start, K_end+1, step)"
   ]
  },
  {
   "cell_type": "code",
   "execution_count": 204,
   "metadata": {},
   "outputs": [
    {
     "name": "stdout",
     "output_type": "stream",
     "text": [
      "K-means clustering initiated\n",
      "for range min:2, max:20, step:1\n",
      "\n",
      "Training for cluster 2\n",
      "The score for this cluster is:  33982881.2043\n",
      "\n",
      "Training for cluster 3\n",
      "The score for this cluster is:  31724816.8529\n",
      "\n",
      "Training for cluster 4\n",
      "The score for this cluster is:  30664996.6205\n",
      "\n",
      "Training for cluster 5\n",
      "The score for this cluster is:  30037971.5836\n",
      "\n",
      "Training for cluster 6\n",
      "The score for this cluster is:  29465664.733\n",
      "\n",
      "Training for cluster 7\n",
      "The score for this cluster is:  29015393.5004\n",
      "\n",
      "Training for cluster 8\n",
      "The score for this cluster is:  28666787.4871\n",
      "\n",
      "Training for cluster 9\n",
      "The score for this cluster is:  28377739.0773\n",
      "\n",
      "Training for cluster 10\n",
      "The score for this cluster is:  28116590.5233\n",
      "\n",
      "Training for cluster 11\n",
      "The score for this cluster is:  27920257.7565\n",
      "\n",
      "Training for cluster 12\n",
      "The score for this cluster is:  27745793.9459\n",
      "\n",
      "Training for cluster 13\n",
      "The score for this cluster is:  27580023.7031\n",
      "\n",
      "Training for cluster 14\n",
      "The score for this cluster is:  27302610.4997\n",
      "\n",
      "Training for cluster 16\n",
      "The score for this cluster is:  27193200.1101\n",
      "\n",
      "Training for cluster 17\n",
      "The score for this cluster is:  27085482.6665\n",
      "\n",
      "Training for cluster 18\n",
      "The score for this cluster is:  26917800.0201\n",
      "\n",
      "Training for cluster 19\n",
      "The score for this cluster is:  26840015.8784\n",
      "\n",
      "Training for cluster 20\n",
      "The score for this cluster is:  26728292.1349\n"
     ]
    },
    {
     "data": {
      "text/plain": [
       "([33982881.204325929,\n",
       "  31724816.852946427,\n",
       "  30664996.620472208,\n",
       "  30037971.583631352,\n",
       "  29465664.732956439,\n",
       "  29015393.500421897,\n",
       "  28666787.487120897,\n",
       "  28377739.077254619,\n",
       "  28116590.523317799,\n",
       "  27920257.756548479,\n",
       "  27745793.945893832,\n",
       "  27580023.703058168,\n",
       "  27416571.414220888,\n",
       "  27302610.499724377,\n",
       "  27193200.110137958,\n",
       "  27085482.66649168,\n",
       "  26917800.020053986,\n",
       "  26840015.878407951,\n",
       "  26728292.134926222],\n",
       " range(2, 21))"
      ]
     },
     "execution_count": 204,
     "metadata": {},
     "output_type": "execute_result"
    }
   ],
   "source": [
    "Kmeans_scores(principal_azdias_Df,2, 20, 1)"
   ]
  },
  {
   "cell_type": "code",
   "execution_count": 206,
   "metadata": {},
   "outputs": [],
   "source": [
    "scores = [33982881.204325929,\n",
    "  31724816.852946427,\n",
    "  30664996.620472208,\n",
    "  30037971.583631352,\n",
    "  29465664.732956439,\n",
    "  29015393.500421897,\n",
    "  28666787.487120897,\n",
    "  28377739.077254619,\n",
    "  28116590.523317799,\n",
    "  27920257.756548479,\n",
    "  27745793.945893832,\n",
    "  27580023.703058168,\n",
    "  27416571.414220888,\n",
    "  27302610.499724377,\n",
    "  27193200.110137958,\n",
    "  27085482.66649168,\n",
    "  26917800.020053986,\n",
    "  26840015.878407951,\n",
    "  26728292.134926222]"
   ]
  },
  {
   "cell_type": "code",
   "execution_count": 207,
   "metadata": {},
   "outputs": [],
   "source": [
    "from matplotlib import pyplot as plt"
   ]
  },
  {
   "cell_type": "code",
   "execution_count": 208,
   "metadata": {},
   "outputs": [
    {
     "data": {
      "image/png": "[encoded data removed]",
      "text/plain": [
       "<matplotlib.figure.Figure at 0x7f5fef611dd8>"
      ]
     },
     "metadata": {},
     "output_type": "display_data"
    }
   ],
   "source": [
    "plt.plot(scores)\n",
    "plt.xlabel(\"# of Clusters\")\n",
    "plt.ylabel(\"SSE\")\n",
    "plt.title(\"SSE vs. Number of Clusters\")\n",
    "plt.show()"
   ]
  },
  {
   "cell_type": "markdown",
   "metadata": {},
   "source": [
    "The graph above is useful to determine how many clusters should be selected. The 'elbow method' is the industry standard whereupon the number is chosed based on when the curve starts to flatten out. This isn't very clear in the graph above but it appears to do so when the horizontal axis value is around 8-10. The analysis will look at 8 and 9 clusters."
   ]
  },
  {
   "cell_type": "code",
   "execution_count": 139,
   "metadata": {},
   "outputs": [
    {
     "data": {
      "text/plain": [
       "KMeans(algorithm='auto', copy_x=True, init='k-means++', max_iter=300,\n",
       "    n_clusters=8, n_init=10, n_jobs=1, precompute_distances='auto',\n",
       "    random_state=21, tol=0.0001, verbose=0)"
      ]
     },
     "execution_count": 139,
     "metadata": {},
     "output_type": "execute_result"
    }
   ],
   "source": [
    "kmeans = KMeans(8, random_state=21)\n",
    "\n",
    "kmeans.fit(principal_azdias_Df)"
   ]
  },
  {
   "cell_type": "code",
   "execution_count": 140,
   "metadata": {},
   "outputs": [],
   "source": [
    "azdias_clusters = kmeans.predict(principal_azdias_Df)"
   ]
  },
  {
   "cell_type": "code",
   "execution_count": 141,
   "metadata": {},
   "outputs": [],
   "source": [
    "azdias_clusters = pd.Series(azdias_clusters)"
   ]
  },
  {
   "cell_type": "code",
   "execution_count": 142,
   "metadata": {},
   "outputs": [
    {
     "data": {
      "text/plain": [
       "0    21156\n",
       "1    17882\n",
       "2    21375\n",
       "3     9516\n",
       "4    17158\n",
       "5     1440\n",
       "6    11462\n",
       "7    16853\n",
       "dtype: int64"
      ]
     },
     "execution_count": 142,
     "metadata": {},
     "output_type": "execute_result"
    }
   ],
   "source": [
    "azdias_clusters.value_counts().sort_index()"
   ]
  },
  {
   "cell_type": "code",
   "execution_count": 157,
   "metadata": {},
   "outputs": [],
   "source": [
    "azdias_groups = list(azdias_clusters.value_counts().sort_index().values)"
   ]
  },
  {
   "cell_type": "code",
   "execution_count": 158,
   "metadata": {},
   "outputs": [
    {
     "data": {
      "text/plain": [
       "[21156, 17882, 21375, 9516, 17158, 1440, 11462, 16853]"
      ]
     },
     "execution_count": 158,
     "metadata": {},
     "output_type": "execute_result"
    }
   ],
   "source": [
    "azdias_groups"
   ]
  },
  {
   "cell_type": "code",
   "execution_count": 228,
   "metadata": {},
   "outputs": [
    {
     "data": {
      "text/plain": [
       "[18.106502798651171,\n",
       " 15.304428202187569,\n",
       " 18.293935399941802,\n",
       " 8.1443316615600558,\n",
       " 14.684788004313518,\n",
       " 1.2324335427329214,\n",
       " 9.809828657503294,\n",
       " 14.423751733109668]"
      ]
     },
     "execution_count": 228,
     "metadata": {},
     "output_type": "execute_result"
    }
   ],
   "source": [
    "azdias_groups_percentages = list((azdias_groups/sum(azdias_groups))*100)\n",
    "azdias_groups_percentages"
   ]
  },
  {
   "cell_type": "code",
   "execution_count": 143,
   "metadata": {},
   "outputs": [],
   "source": [
    "customers_clusters = kmeans.predict(principal_customers_Df)"
   ]
  },
  {
   "cell_type": "code",
   "execution_count": 144,
   "metadata": {},
   "outputs": [],
   "source": [
    "customers_clusters = pd.Series(customers_clusters)"
   ]
  },
  {
   "cell_type": "code",
   "execution_count": 145,
   "metadata": {},
   "outputs": [
    {
     "data": {
      "text/plain": [
       "0    15518\n",
       "1    12463\n",
       "2    14460\n",
       "3     1474\n",
       "4    10083\n",
       "5        9\n",
       "6     3996\n",
       "7     9424\n",
       "dtype: int64"
      ]
     },
     "execution_count": 145,
     "metadata": {},
     "output_type": "execute_result"
    }
   ],
   "source": [
    "customers_clusters.value_counts().sort_index()"
   ]
  },
  {
   "cell_type": "code",
   "execution_count": 229,
   "metadata": {},
   "outputs": [
    {
     "data": {
      "text/plain": [
       "[15518, 12463, 14460, 1474, 10083, 9, 3996, 9424]"
      ]
     },
     "execution_count": 229,
     "metadata": {},
     "output_type": "execute_result"
    }
   ],
   "source": [
    "customer_groups = list(customers_clusters.value_counts().sort_index().values)\n",
    "customer_groups"
   ]
  },
  {
   "cell_type": "code",
   "execution_count": 230,
   "metadata": {},
   "outputs": [
    {
     "data": {
      "text/plain": [
       "array([  2.30145194e+01,   1.84836935e+01,   2.14454150e+01,\n",
       "         2.18606790e+00,   1.49539502e+01,   1.33477687e-02,\n",
       "         5.92640930e+00,   1.39765969e+01])"
      ]
     },
     "execution_count": 230,
     "metadata": {},
     "output_type": "execute_result"
    }
   ],
   "source": [
    "customer_groups_percentages = (customer_groups/sum(customer_groups))*100\n",
    "customer_groups_percentages"
   ]
  },
  {
   "cell_type": "code",
   "execution_count": 233,
   "metadata": {},
   "outputs": [
    {
     "data": {
      "image/png": "[encoded data removed]",
      "text/plain": [
       "<matplotlib.figure.Figure at 0x7f5fef4d0908>"
      ]
     },
     "metadata": {},
     "output_type": "display_data"
    }
   ],
   "source": [
    "\n",
    "w = 0.4\n",
    "x = list(range(8))\n",
    "x2 = [i + w for i in x] \n",
    "plt.bar(x, azdias_groups_percentages, w, label = \"azdias\")\n",
    "plt.bar(x2, customer_groups_percentages, w, label = \"customers\")\n",
    "plt.xlabel(\"Group\")\n",
    "plt.ylabel(\"Population\")\n",
    "plt.title(\"Population Vs. Group\")\n",
    "plt.xticks(x)\n",
    "plt.legend()\n",
    "plt.show()\n"
   ]
  },
  {
   "cell_type": "markdown",
   "metadata": {},
   "source": [
    "Repeat for 9 clusters:"
   ]
  },
  {
   "cell_type": "code",
   "execution_count": 274,
   "metadata": {},
   "outputs": [
    {
     "data": {
      "text/plain": [
       "KMeans(algorithm='auto', copy_x=True, init='k-means++', max_iter=300,\n",
       "    n_clusters=9, n_init=10, n_jobs=1, precompute_distances='auto',\n",
       "    random_state=21, tol=0.0001, verbose=0)"
      ]
     },
     "execution_count": 274,
     "metadata": {},
     "output_type": "execute_result"
    }
   ],
   "source": [
    "kmeans9 = KMeans(9, random_state=21)\n",
    "\n",
    "kmeans9.fit(principal_azdias_Df)"
   ]
  },
  {
   "cell_type": "code",
   "execution_count": 275,
   "metadata": {},
   "outputs": [],
   "source": [
    "azdias_clusters9 = kmeans9.predict(principal_azdias_Df)"
   ]
  },
  {
   "cell_type": "code",
   "execution_count": 276,
   "metadata": {},
   "outputs": [],
   "source": [
    "azdias_clusters9 = pd.Series(azdias_clusters9)"
   ]
  },
  {
   "cell_type": "code",
   "execution_count": 277,
   "metadata": {},
   "outputs": [
    {
     "data": {
      "text/plain": [
       "0    20396\n",
       "1    20148\n",
       "2    17375\n",
       "3     1440\n",
       "4    10860\n",
       "5     8031\n",
       "6    14782\n",
       "7    15619\n",
       "8     8191\n",
       "dtype: int64"
      ]
     },
     "execution_count": 277,
     "metadata": {},
     "output_type": "execute_result"
    }
   ],
   "source": [
    "azdias_clusters9.value_counts().sort_index()"
   ]
  },
  {
   "cell_type": "code",
   "execution_count": 213,
   "metadata": {},
   "outputs": [
    {
     "data": {
      "text/plain": [
       "[20396, 20148, 17375, 1440, 10860, 8031, 14782, 15619, 8191]"
      ]
     },
     "execution_count": 213,
     "metadata": {},
     "output_type": "execute_result"
    }
   ],
   "source": [
    "azdias_groups9 = list(azdias_clusters9.value_counts().sort_index().values)\n",
    "azdias_groups9"
   ]
  },
  {
   "cell_type": "code",
   "execution_count": 240,
   "metadata": {},
   "outputs": [
    {
     "data": {
      "text/plain": [
       "[17.456051762208794,\n",
       " 17.243799318738127,\n",
       " 14.870508892350355,\n",
       " 1.2324335427329214,\n",
       " 9.294602968110782,\n",
       " 6.8733845706167305,\n",
       " 12.651272658804197,\n",
       " 13.367624655517707,\n",
       " 7.0103216309203882]"
      ]
     },
     "execution_count": 240,
     "metadata": {},
     "output_type": "execute_result"
    }
   ],
   "source": [
    "azdias_groups9_percentages = list((azdias_groups9/sum(azdias_groups))*100)\n",
    "azdias_groups9_percentages"
   ]
  },
  {
   "cell_type": "code",
   "execution_count": 242,
   "metadata": {},
   "outputs": [],
   "source": [
    "customers_clusters9 = kmeans9.predict(principal_customers_Df)"
   ]
  },
  {
   "cell_type": "code",
   "execution_count": 243,
   "metadata": {},
   "outputs": [],
   "source": [
    "customers_clusters9 = pd.Series(customers_clusters9)"
   ]
  },
  {
   "cell_type": "code",
   "execution_count": 244,
   "metadata": {},
   "outputs": [
    {
     "data": {
      "text/plain": [
       "0    15150\n",
       "1    14280\n",
       "2    11939\n",
       "3        8\n",
       "4     3206\n",
       "5     2075\n",
       "6     9501\n",
       "7     9894\n",
       "8     1374\n",
       "dtype: int64"
      ]
     },
     "execution_count": 244,
     "metadata": {},
     "output_type": "execute_result"
    }
   ],
   "source": [
    "customers_clusters9.value_counts().sort_index()"
   ]
  },
  {
   "cell_type": "code",
   "execution_count": 245,
   "metadata": {},
   "outputs": [
    {
     "data": {
      "text/plain": [
       "[15150, 14280, 11939, 8, 3206, 2075, 9501, 9894, 1374]"
      ]
     },
     "execution_count": 245,
     "metadata": {},
     "output_type": "execute_result"
    }
   ],
   "source": [
    "customer_groups9 = list(customers_clusters9.value_counts().sort_index().values)\n",
    "customer_groups9"
   ]
  },
  {
   "cell_type": "code",
   "execution_count": 250,
   "metadata": {},
   "outputs": [
    {
     "data": {
      "text/plain": [
       "[22.46874397496552,\n",
       " 21.178459667492248,\n",
       " 17.70655672060154,\n",
       " 0.011864683287110505,\n",
       " 4.7547718273095345,\n",
       " 3.0774022275942872,\n",
       " 14.090794488854613,\n",
       " 14.673647055333916,\n",
       " 2.0377593545612291]"
      ]
     },
     "execution_count": 250,
     "metadata": {},
     "output_type": "execute_result"
    }
   ],
   "source": [
    "customer_groups9_percentages = (customer_groups9/sum(customer_groups9))*100\n",
    "customer_groups9_percentages = list(customer_groups9_percentages)\n",
    "customer_groups9_percentages"
   ]
  },
  {
   "cell_type": "code",
   "execution_count": 266,
   "metadata": {},
   "outputs": [
    {
     "data": {
      "image/png": "[encoded data removed]",
      "text/plain": [
       "<matplotlib.figure.Figure at 0x7f5fef6916d8>"
      ]
     },
     "metadata": {},
     "output_type": "display_data"
    }
   ],
   "source": [
    "w = 0.4\n",
    "x = list(range(9))\n",
    "x2 = [i + w for i in x] \n",
    "#plt.figure(figsize=(15, 10))\n",
    "plt.bar(x, azdias_groups9_percentages, w, label = \"azdias\")\n",
    "plt.bar(x2, customer_groups9_percentages, w, label = \"customers\")\n",
    "plt.xlabel(\"Group\")\n",
    "plt.ylabel(\"Population\")\n",
    "plt.title(\"Population Vs. Group\")\n",
    "plt.xticks(x)\n",
    "plt.legend()\n",
    "plt.show()\n"
   ]
  },
  {
   "cell_type": "markdown",
   "metadata": {},
   "source": [
    "It looks like customers are nested into clusters 0, 1, and 2 to a high degree and groups 6 and 7 to a moderate degree. Clusters 3, 4, 5, and 8 are not very likely to become customers for this company so they should be eliminated from the mail order list, especially the 8'th cluster. "
   ]
  },
  {
   "cell_type": "markdown",
   "metadata": {},
   "source": [
    "Next, get the indices of the azdias dataframe that belong to a cluster. For example, to find out which customers in the azdias dataframe are in the O'th or the first cluster, the code below can provide this information:"
   ]
  },
  {
   "cell_type": "code",
   "execution_count": 282,
   "metadata": {},
   "outputs": [],
   "source": [
    "cluster_map = pd.DataFrame()\n",
    "cluster_map['data_index'] = principal_azdias_Df.index.values\n",
    "cluster_map['cluster'] = kmeans9.labels_"
   ]
  },
  {
   "cell_type": "code",
   "execution_count": 284,
   "metadata": {},
   "outputs": [
    {
     "data": {
      "text/html": [
       "<div>\n",
       "<style scoped>\n",
       "    .dataframe tbody tr th:only-of-type {\n",
       "        vertical-align: middle;\n",
       "    }\n",
       "\n",
       "    .dataframe tbody tr th {\n",
       "        vertical-align: top;\n",
       "    }\n",
       "\n",
       "    .dataframe thead th {\n",
       "        text-align: right;\n",
       "    }\n",
       "</style>\n",
       "<table border=\"1\" class=\"dataframe\">\n",
       "  <thead>\n",
       "    <tr style=\"text-align: right;\">\n",
       "      <th></th>\n",
       "      <th>data_index</th>\n",
       "      <th>cluster</th>\n",
       "    </tr>\n",
       "  </thead>\n",
       "  <tbody>\n",
       "    <tr>\n",
       "      <th>2</th>\n",
       "      <td>2</td>\n",
       "      <td>0</td>\n",
       "    </tr>\n",
       "    <tr>\n",
       "      <th>9</th>\n",
       "      <td>9</td>\n",
       "      <td>0</td>\n",
       "    </tr>\n",
       "    <tr>\n",
       "      <th>13</th>\n",
       "      <td>13</td>\n",
       "      <td>0</td>\n",
       "    </tr>\n",
       "    <tr>\n",
       "      <th>15</th>\n",
       "      <td>15</td>\n",
       "      <td>0</td>\n",
       "    </tr>\n",
       "    <tr>\n",
       "      <th>19</th>\n",
       "      <td>19</td>\n",
       "      <td>0</td>\n",
       "    </tr>\n",
       "    <tr>\n",
       "      <th>25</th>\n",
       "      <td>25</td>\n",
       "      <td>0</td>\n",
       "    </tr>\n",
       "    <tr>\n",
       "      <th>26</th>\n",
       "      <td>26</td>\n",
       "      <td>0</td>\n",
       "    </tr>\n",
       "    <tr>\n",
       "      <th>30</th>\n",
       "      <td>30</td>\n",
       "      <td>0</td>\n",
       "    </tr>\n",
       "    <tr>\n",
       "      <th>31</th>\n",
       "      <td>31</td>\n",
       "      <td>0</td>\n",
       "    </tr>\n",
       "    <tr>\n",
       "      <th>40</th>\n",
       "      <td>40</td>\n",
       "      <td>0</td>\n",
       "    </tr>\n",
       "    <tr>\n",
       "      <th>43</th>\n",
       "      <td>43</td>\n",
       "      <td>0</td>\n",
       "    </tr>\n",
       "    <tr>\n",
       "      <th>44</th>\n",
       "      <td>44</td>\n",
       "      <td>0</td>\n",
       "    </tr>\n",
       "    <tr>\n",
       "      <th>61</th>\n",
       "      <td>61</td>\n",
       "      <td>0</td>\n",
       "    </tr>\n",
       "    <tr>\n",
       "      <th>65</th>\n",
       "      <td>65</td>\n",
       "      <td>0</td>\n",
       "    </tr>\n",
       "    <tr>\n",
       "      <th>66</th>\n",
       "      <td>66</td>\n",
       "      <td>0</td>\n",
       "    </tr>\n",
       "    <tr>\n",
       "      <th>74</th>\n",
       "      <td>74</td>\n",
       "      <td>0</td>\n",
       "    </tr>\n",
       "    <tr>\n",
       "      <th>78</th>\n",
       "      <td>78</td>\n",
       "      <td>0</td>\n",
       "    </tr>\n",
       "    <tr>\n",
       "      <th>88</th>\n",
       "      <td>88</td>\n",
       "      <td>0</td>\n",
       "    </tr>\n",
       "    <tr>\n",
       "      <th>99</th>\n",
       "      <td>99</td>\n",
       "      <td>0</td>\n",
       "    </tr>\n",
       "  </tbody>\n",
       "</table>\n",
       "</div>"
      ],
      "text/plain": [
       "    data_index  cluster\n",
       "2            2        0\n",
       "9            9        0\n",
       "13          13        0\n",
       "15          15        0\n",
       "19          19        0\n",
       "25          25        0\n",
       "26          26        0\n",
       "30          30        0\n",
       "31          31        0\n",
       "40          40        0\n",
       "43          43        0\n",
       "44          44        0\n",
       "61          61        0\n",
       "65          65        0\n",
       "66          66        0\n",
       "74          74        0\n",
       "78          78        0\n",
       "88          88        0\n",
       "99          99        0"
      ]
     },
     "execution_count": 284,
     "metadata": {},
     "output_type": "execute_result"
    }
   ],
   "source": [
    "cluster_map[cluster_map.cluster == 0][1:20]"
   ]
  },
  {
   "cell_type": "code",
   "execution_count": 285,
   "metadata": {},
   "outputs": [
    {
     "data": {
      "text/html": [
       "<div>\n",
       "<style scoped>\n",
       "    .dataframe tbody tr th:only-of-type {\n",
       "        vertical-align: middle;\n",
       "    }\n",
       "\n",
       "    .dataframe tbody tr th {\n",
       "        vertical-align: top;\n",
       "    }\n",
       "\n",
       "    .dataframe thead th {\n",
       "        text-align: right;\n",
       "    }\n",
       "</style>\n",
       "<table border=\"1\" class=\"dataframe\">\n",
       "  <thead>\n",
       "    <tr style=\"text-align: right;\">\n",
       "      <th></th>\n",
       "      <th>data_index</th>\n",
       "      <th>cluster</th>\n",
       "    </tr>\n",
       "  </thead>\n",
       "  <tbody>\n",
       "    <tr>\n",
       "      <th>14</th>\n",
       "      <td>14</td>\n",
       "      <td>1</td>\n",
       "    </tr>\n",
       "    <tr>\n",
       "      <th>16</th>\n",
       "      <td>16</td>\n",
       "      <td>1</td>\n",
       "    </tr>\n",
       "    <tr>\n",
       "      <th>20</th>\n",
       "      <td>20</td>\n",
       "      <td>1</td>\n",
       "    </tr>\n",
       "    <tr>\n",
       "      <th>33</th>\n",
       "      <td>33</td>\n",
       "      <td>1</td>\n",
       "    </tr>\n",
       "    <tr>\n",
       "      <th>36</th>\n",
       "      <td>36</td>\n",
       "      <td>1</td>\n",
       "    </tr>\n",
       "    <tr>\n",
       "      <th>37</th>\n",
       "      <td>37</td>\n",
       "      <td>1</td>\n",
       "    </tr>\n",
       "    <tr>\n",
       "      <th>41</th>\n",
       "      <td>41</td>\n",
       "      <td>1</td>\n",
       "    </tr>\n",
       "    <tr>\n",
       "      <th>49</th>\n",
       "      <td>49</td>\n",
       "      <td>1</td>\n",
       "    </tr>\n",
       "    <tr>\n",
       "      <th>54</th>\n",
       "      <td>54</td>\n",
       "      <td>1</td>\n",
       "    </tr>\n",
       "    <tr>\n",
       "      <th>58</th>\n",
       "      <td>58</td>\n",
       "      <td>1</td>\n",
       "    </tr>\n",
       "    <tr>\n",
       "      <th>60</th>\n",
       "      <td>60</td>\n",
       "      <td>1</td>\n",
       "    </tr>\n",
       "    <tr>\n",
       "      <th>63</th>\n",
       "      <td>63</td>\n",
       "      <td>1</td>\n",
       "    </tr>\n",
       "    <tr>\n",
       "      <th>67</th>\n",
       "      <td>67</td>\n",
       "      <td>1</td>\n",
       "    </tr>\n",
       "    <tr>\n",
       "      <th>68</th>\n",
       "      <td>68</td>\n",
       "      <td>1</td>\n",
       "    </tr>\n",
       "    <tr>\n",
       "      <th>71</th>\n",
       "      <td>71</td>\n",
       "      <td>1</td>\n",
       "    </tr>\n",
       "    <tr>\n",
       "      <th>72</th>\n",
       "      <td>72</td>\n",
       "      <td>1</td>\n",
       "    </tr>\n",
       "    <tr>\n",
       "      <th>75</th>\n",
       "      <td>75</td>\n",
       "      <td>1</td>\n",
       "    </tr>\n",
       "    <tr>\n",
       "      <th>76</th>\n",
       "      <td>76</td>\n",
       "      <td>1</td>\n",
       "    </tr>\n",
       "    <tr>\n",
       "      <th>83</th>\n",
       "      <td>83</td>\n",
       "      <td>1</td>\n",
       "    </tr>\n",
       "  </tbody>\n",
       "</table>\n",
       "</div>"
      ],
      "text/plain": [
       "    data_index  cluster\n",
       "14          14        1\n",
       "16          16        1\n",
       "20          20        1\n",
       "33          33        1\n",
       "36          36        1\n",
       "37          37        1\n",
       "41          41        1\n",
       "49          49        1\n",
       "54          54        1\n",
       "58          58        1\n",
       "60          60        1\n",
       "63          63        1\n",
       "67          67        1\n",
       "68          68        1\n",
       "71          71        1\n",
       "72          72        1\n",
       "75          75        1\n",
       "76          76        1\n",
       "83          83        1"
      ]
     },
     "execution_count": 285,
     "metadata": {},
     "output_type": "execute_result"
    }
   ],
   "source": [
    "cluster_map[cluster_map.cluster == 1][1:20]"
   ]
  },
  {
   "cell_type": "markdown",
   "metadata": {},
   "source": [
    "More analysis can be done in this Unsupervised Model such as determining what columns have the most variance for a given cluster. But, at this point as long as there is enough information about new customers the model can determine what cluster they belong to and therefore whether they may be a potential customer or not. It should be stated however that the steps of PCA will need to be applied to whatever new set of data is inspected so it is congruent with the clustering model."
   ]
  },
  {
   "cell_type": "markdown",
   "metadata": {},
   "source": [
    "## EVALUATION II: Supervised Learning Model\n",
    "\n",
    "Now that it is more clear which parts of the population are more likely to be customers of the mail-order company, it's time to build a prediction model. Each of the rows in the \"MAILOUT\" data files represents an individual that was targeted for a mailout campaign. Ideally, the demographic information from each individual to decide whether or not it will be worth it to include that person in the campaign.\n",
    "\n",
    "The \"MAILOUT\" data has been split into two approximately equal parts, each with almost 43 000 data rows. In this part, the model will be verified with the \"TRAIN\" partition, which includes a column, \"RESPONSE\", that states whether or not a person became a customer of the company following the campaign. In the next part, a prediction will be created on the \"TEST\" partition, where the \"RESPONSE\" column has been withheld."
   ]
  },
  {
   "cell_type": "code",
   "execution_count": 133,
   "metadata": {},
   "outputs": [
    {
     "name": "stderr",
     "output_type": "stream",
     "text": [
      "/opt/conda/lib/python3.6/site-packages/IPython/core/interactiveshell.py:2785: DtypeWarning: Columns (18,19) have mixed types. Specify dtype option on import or set low_memory=False.\n",
      "  interactivity=interactivity, compiler=compiler, result=result)\n"
     ]
    }
   ],
   "source": [
    "mailout_train = pd.read_csv('../../data/Term2/capstone/arvato_data/Udacity_MAILOUT_052018_TRAIN.csv', sep=';')"
   ]
  },
  {
   "cell_type": "markdown",
   "metadata": {},
   "source": [
    "Now for the Supervised Learning section of the project. In this step the data 'mailout_train' will be cleaned and processed into a 'machine learning' algorithm and used to create a model that can predict if individual(s) in a general population will likely be customers or not. \n",
    "\n",
    "First a function that contains all of the steps to process the 'azdias' and 'customers' dataframes will be created and used to clean the 'mailout_train' dataframe in one full swoop. "
   ]
  },
  {
   "cell_type": "code",
   "execution_count": 30,
   "metadata": {},
   "outputs": [
    {
     "data": {
      "text/plain": [
       "ALTER_KIND3       0.995950\n",
       "ALTER_KIND2       0.982403\n",
       "ALTER_KIND1       0.953727\n",
       "KK_KUNDENTYP      0.589265\n",
       "EXTSEL992         0.371212\n",
       "HH_DELTA_FLAG     0.225269\n",
       "W_KEIT_KIND_HH    0.225269\n",
       "KBA05_KW2         0.201294\n",
       "MOBI_REGIO        0.201294\n",
       "KBA05_KW3         0.201294\n",
       "KBA05_MAXAH       0.201294\n",
       "KBA05_MAXBJ       0.201294\n",
       "KBA05_MAXHERST    0.201294\n",
       "KBA05_MOTRAD      0.201294\n",
       "KBA05_MAXVORB     0.201294\n",
       "KBA05_MOD1        0.201294\n",
       "KBA05_MOD2        0.201294\n",
       "KBA05_MOD3        0.201294\n",
       "KBA05_MOD4        0.201294\n",
       "dtype: float64"
      ]
     },
     "execution_count": 30,
     "metadata": {},
     "output_type": "execute_result"
    }
   ],
   "source": [
    "percent_missing(mailout_train)[1:20]"
   ]
  },
  {
   "cell_type": "code",
   "execution_count": 134,
   "metadata": {},
   "outputs": [],
   "source": [
    "def convert_mixed(df, col_name):\n",
    "    df_col = df[col_name]\n",
    "    values = df_col.value_counts(ascending = False)\n",
    "    df_col = pd.DataFrame(df_col)\n",
    "    prior_values = values.index\n",
    "    prior_values = list(prior_values)\n",
    "    new_values =  list(range(len(prior_values)))\n",
    "    df_col = df_col.replace(prior_values, new_values)   \n",
    "    return df_col\n",
    "\n",
    "def clean_df(df):\n",
    "    \n",
    "\n",
    "    features_list = list(feature_values['Attribute'].unique())\n",
    "    feature_columns_to_drop = [col for col in features_list if col not in df.columns]\n",
    "    rows_to_drop = feature_values[feature_values['Attribute'].isin(feature_columns_to_drop)]\n",
    "    feature_values.drop(rows_to_drop.index, inplace = True)\n",
    "\n",
    "\n",
    "    df['year'] = pd.DatetimeIndex(df['EINGEFUEGT_AM']).year\n",
    "    df = df.drop(['EINGEFUEGT_AM'], axis=1)\n",
    "    df = pd.DataFrame(df)\n",
    "\n",
    "    cols = [\"CAMEO_DEUG_2015\", \"CAMEO_INTL_2015\"]\n",
    "    df[cols] = df[cols].replace({\"X\": np.NaN, \"XX\": np.NaN})\n",
    "    df[cols] = df[cols].astype(float)\n",
    "\n",
    "    unknown_df = feature_values[feature_values['Meaning'] == 'unknown']\n",
    "    unknown = pd.Series(unknown_df['Value'].values, index=unknown_df['Attribute'])\n",
    "    neg_one_columns = unknown_df[unknown_df['Value']== -1].Attribute\n",
    "    neg_one_columns = list(neg_one_columns)\n",
    "    neg_one_and_zero_columns = ['ALTERSKATEGORIE_GROB','ANREDE_KZ','GEBAEUDETYP','HH_EINKOMMEN_SCORE','KBA05_BAUMAX','KBA05_GBZ','KKK',\n",
    "            'NATIONALITAET_KZ','PRAEGENDE_JUGENDJAHRE','REGIOTYP','TITEL_KZ','WOHNDAUER_2008','W_KEIT_KIND_HH']\n",
    "    neg_one_and_nine_columns = unknown_df[unknown_df['Value'] == '-1, 9'].Attribute\n",
    "    neg_one_and_nine_columns = list(neg_one_and_nine_columns)\n",
    "    zero_columns = unknown_df[unknown_df['Value'] == 0].Attribute\n",
    "    zero_columns = list(zero_columns)\n",
    "\n",
    "    #df[neg_one_and_zero_columns] = df[neg_one_and_zero_columns].replace({'-1, 0': np.NaN})\n",
    "    df[neg_one_columns] = df[neg_one_columns].replace({'-1': np.NaN})\n",
    "    df[neg_one_and_nine_columns] = df[neg_one_and_nine_columns].astype(str)\n",
    "    df[neg_one_and_nine_columns] = df[neg_one_and_nine_columns].replace({'-1, 9': np.NaN})\n",
    "    df[zero_columns] = df[zero_columns].replace({0: np.NaN})\n",
    "\n",
    "    df = df.drop(['LP_STATUS_FEIN','LP_FAMILIE_FEIN','LP_LEBENSPHASE_FEIN','CAMEO_DEU_2015', 'GEBURTSJAHR', 'ALTER_KIND1', 'ALTER_KIND2', 'ALTER_KIND3', 'ALTER_KIND4', 'EXTSEL992', 'KK_KUNDENTYP',  'ALTERSKATEGORIE_FEIN', 'OST_WEST_KZ'], axis = 1)\n",
    "    #df['OST_WEST_KZ'] = convert_mixed(df, 'OST_WEST_KZ')\n",
    "    #df = df.dropna(subset=['KBA05_GBZ'])\n",
    "    df['D19_LETZTER_KAUF_BRANCHE'] = convert_mixed(df,'D19_LETZTER_KAUF_BRANCHE')\n",
    "    for col in df.select_dtypes(include=['object']).columns:\n",
    "        df[col] = pd.to_numeric(df[col],errors = 'coerce')\n",
    "    # Still do 'ffill' tasks. \n",
    "    for column in df.columns:\n",
    "        df[column].fillna(method='ffill', inplace=True)\n",
    "        df[column].fillna(method='bfill', inplace=True)\n",
    "    \n",
    "    return df"
   ]
  },
  {
   "cell_type": "code",
   "execution_count": 135,
   "metadata": {},
   "outputs": [
    {
     "data": {
      "text/html": [
       "<div>\n",
       "<style scoped>\n",
       "    .dataframe tbody tr th:only-of-type {\n",
       "        vertical-align: middle;\n",
       "    }\n",
       "\n",
       "    .dataframe tbody tr th {\n",
       "        vertical-align: top;\n",
       "    }\n",
       "\n",
       "    .dataframe thead th {\n",
       "        text-align: right;\n",
       "    }\n",
       "</style>\n",
       "<table border=\"1\" class=\"dataframe\">\n",
       "  <thead>\n",
       "    <tr style=\"text-align: right;\">\n",
       "      <th></th>\n",
       "      <th>LNR</th>\n",
       "      <th>AGER_TYP</th>\n",
       "      <th>AKT_DAT_KL</th>\n",
       "      <th>ALTER_HH</th>\n",
       "      <th>ANZ_HAUSHALTE_AKTIV</th>\n",
       "      <th>ANZ_HH_TITEL</th>\n",
       "      <th>ANZ_KINDER</th>\n",
       "      <th>ANZ_PERSONEN</th>\n",
       "      <th>ANZ_STATISTISCHE_HAUSHALTE</th>\n",
       "      <th>ANZ_TITEL</th>\n",
       "      <th>...</th>\n",
       "      <th>VK_DISTANZ</th>\n",
       "      <th>VK_ZG11</th>\n",
       "      <th>W_KEIT_KIND_HH</th>\n",
       "      <th>WOHNDAUER_2008</th>\n",
       "      <th>WOHNLAGE</th>\n",
       "      <th>ZABEOTYP</th>\n",
       "      <th>RESPONSE</th>\n",
       "      <th>ANREDE_KZ</th>\n",
       "      <th>ALTERSKATEGORIE_GROB</th>\n",
       "      <th>year</th>\n",
       "    </tr>\n",
       "  </thead>\n",
       "  <tbody>\n",
       "    <tr>\n",
       "      <th>0</th>\n",
       "      <td>1763</td>\n",
       "      <td>2</td>\n",
       "      <td>1.0</td>\n",
       "      <td>8.0</td>\n",
       "      <td>15.0</td>\n",
       "      <td>0.0</td>\n",
       "      <td>0.0</td>\n",
       "      <td>1.0</td>\n",
       "      <td>13.0</td>\n",
       "      <td>0.0</td>\n",
       "      <td>...</td>\n",
       "      <td>2.0</td>\n",
       "      <td>1.0</td>\n",
       "      <td>6.0</td>\n",
       "      <td>9.0</td>\n",
       "      <td>3.0</td>\n",
       "      <td>3</td>\n",
       "      <td>0</td>\n",
       "      <td>2</td>\n",
       "      <td>4</td>\n",
       "      <td>1992.0</td>\n",
       "    </tr>\n",
       "    <tr>\n",
       "      <th>1</th>\n",
       "      <td>1771</td>\n",
       "      <td>1</td>\n",
       "      <td>4.0</td>\n",
       "      <td>13.0</td>\n",
       "      <td>1.0</td>\n",
       "      <td>0.0</td>\n",
       "      <td>0.0</td>\n",
       "      <td>2.0</td>\n",
       "      <td>1.0</td>\n",
       "      <td>0.0</td>\n",
       "      <td>...</td>\n",
       "      <td>2.0</td>\n",
       "      <td>1.0</td>\n",
       "      <td>4.0</td>\n",
       "      <td>9.0</td>\n",
       "      <td>7.0</td>\n",
       "      <td>1</td>\n",
       "      <td>0</td>\n",
       "      <td>2</td>\n",
       "      <td>3</td>\n",
       "      <td>1997.0</td>\n",
       "    </tr>\n",
       "    <tr>\n",
       "      <th>2</th>\n",
       "      <td>1776</td>\n",
       "      <td>1</td>\n",
       "      <td>1.0</td>\n",
       "      <td>9.0</td>\n",
       "      <td>0.0</td>\n",
       "      <td>0.0</td>\n",
       "      <td>0.0</td>\n",
       "      <td>0.0</td>\n",
       "      <td>1.0</td>\n",
       "      <td>0.0</td>\n",
       "      <td>...</td>\n",
       "      <td>4.0</td>\n",
       "      <td>2.0</td>\n",
       "      <td>4.0</td>\n",
       "      <td>9.0</td>\n",
       "      <td>2.0</td>\n",
       "      <td>3</td>\n",
       "      <td>0</td>\n",
       "      <td>1</td>\n",
       "      <td>4</td>\n",
       "      <td>1995.0</td>\n",
       "    </tr>\n",
       "    <tr>\n",
       "      <th>3</th>\n",
       "      <td>1460</td>\n",
       "      <td>2</td>\n",
       "      <td>1.0</td>\n",
       "      <td>6.0</td>\n",
       "      <td>4.0</td>\n",
       "      <td>0.0</td>\n",
       "      <td>0.0</td>\n",
       "      <td>2.0</td>\n",
       "      <td>4.0</td>\n",
       "      <td>0.0</td>\n",
       "      <td>...</td>\n",
       "      <td>11.0</td>\n",
       "      <td>11.0</td>\n",
       "      <td>6.0</td>\n",
       "      <td>9.0</td>\n",
       "      <td>1.0</td>\n",
       "      <td>3</td>\n",
       "      <td>0</td>\n",
       "      <td>2</td>\n",
       "      <td>4</td>\n",
       "      <td>1992.0</td>\n",
       "    </tr>\n",
       "    <tr>\n",
       "      <th>4</th>\n",
       "      <td>1783</td>\n",
       "      <td>2</td>\n",
       "      <td>1.0</td>\n",
       "      <td>9.0</td>\n",
       "      <td>53.0</td>\n",
       "      <td>0.0</td>\n",
       "      <td>0.0</td>\n",
       "      <td>1.0</td>\n",
       "      <td>44.0</td>\n",
       "      <td>0.0</td>\n",
       "      <td>...</td>\n",
       "      <td>2.0</td>\n",
       "      <td>1.0</td>\n",
       "      <td>6.0</td>\n",
       "      <td>9.0</td>\n",
       "      <td>3.0</td>\n",
       "      <td>3</td>\n",
       "      <td>0</td>\n",
       "      <td>1</td>\n",
       "      <td>3</td>\n",
       "      <td>1992.0</td>\n",
       "    </tr>\n",
       "  </tbody>\n",
       "</table>\n",
       "<p>5 rows × 354 columns</p>\n",
       "</div>"
      ],
      "text/plain": [
       "    LNR  AGER_TYP  AKT_DAT_KL  ALTER_HH  ANZ_HAUSHALTE_AKTIV  ANZ_HH_TITEL  \\\n",
       "0  1763         2         1.0       8.0                 15.0           0.0   \n",
       "1  1771         1         4.0      13.0                  1.0           0.0   \n",
       "2  1776         1         1.0       9.0                  0.0           0.0   \n",
       "3  1460         2         1.0       6.0                  4.0           0.0   \n",
       "4  1783         2         1.0       9.0                 53.0           0.0   \n",
       "\n",
       "   ANZ_KINDER  ANZ_PERSONEN  ANZ_STATISTISCHE_HAUSHALTE  ANZ_TITEL   ...    \\\n",
       "0         0.0           1.0                        13.0        0.0   ...     \n",
       "1         0.0           2.0                         1.0        0.0   ...     \n",
       "2         0.0           0.0                         1.0        0.0   ...     \n",
       "3         0.0           2.0                         4.0        0.0   ...     \n",
       "4         0.0           1.0                        44.0        0.0   ...     \n",
       "\n",
       "   VK_DISTANZ  VK_ZG11  W_KEIT_KIND_HH  WOHNDAUER_2008  WOHNLAGE  ZABEOTYP  \\\n",
       "0         2.0      1.0             6.0             9.0       3.0         3   \n",
       "1         2.0      1.0             4.0             9.0       7.0         1   \n",
       "2         4.0      2.0             4.0             9.0       2.0         3   \n",
       "3        11.0     11.0             6.0             9.0       1.0         3   \n",
       "4         2.0      1.0             6.0             9.0       3.0         3   \n",
       "\n",
       "   RESPONSE  ANREDE_KZ  ALTERSKATEGORIE_GROB    year  \n",
       "0         0          2                     4  1992.0  \n",
       "1         0          2                     3  1997.0  \n",
       "2         0          1                     4  1995.0  \n",
       "3         0          2                     4  1992.0  \n",
       "4         0          1                     3  1992.0  \n",
       "\n",
       "[5 rows x 354 columns]"
      ]
     },
     "execution_count": 135,
     "metadata": {},
     "output_type": "execute_result"
    }
   ],
   "source": [
    "mailout_train = clean_df(mailout_train)\n",
    "mailout_train.head()"
   ]
  },
  {
   "cell_type": "code",
   "execution_count": 136,
   "metadata": {},
   "outputs": [
    {
     "data": {
      "text/plain": [
       "0    0\n",
       "1    0\n",
       "2    0\n",
       "3    0\n",
       "4    0\n",
       "Name: RESPONSE, dtype: int64"
      ]
     },
     "execution_count": 136,
     "metadata": {},
     "output_type": "execute_result"
    }
   ],
   "source": [
    "response = mailout_train['RESPONSE']\n",
    "response.head()"
   ]
  },
  {
   "cell_type": "markdown",
   "metadata": {},
   "source": [
    "The variable 'response' is the dependent variable. It says whether or not the customer decided to become a customer for the mail order catalog company. "
   ]
  },
  {
   "cell_type": "code",
   "execution_count": 137,
   "metadata": {},
   "outputs": [],
   "source": [
    "x_mail = mailout_train.values\n",
    "x_mail = StandardScaler().fit_transform(x_mail) # normalizing the features"
   ]
  },
  {
   "cell_type": "code",
   "execution_count": 138,
   "metadata": {},
   "outputs": [],
   "source": [
    "mail_columns = mailout_train.columns"
   ]
  },
  {
   "cell_type": "code",
   "execution_count": 139,
   "metadata": {},
   "outputs": [],
   "source": [
    "x_mail =  pd.DataFrame(x_mail, columns= mail_columns)"
   ]
  },
  {
   "cell_type": "code",
   "execution_count": 140,
   "metadata": {},
   "outputs": [
    {
     "data": {
      "text/html": [
       "<div>\n",
       "<style scoped>\n",
       "    .dataframe tbody tr th:only-of-type {\n",
       "        vertical-align: middle;\n",
       "    }\n",
       "\n",
       "    .dataframe tbody tr th {\n",
       "        vertical-align: top;\n",
       "    }\n",
       "\n",
       "    .dataframe thead th {\n",
       "        text-align: right;\n",
       "    }\n",
       "</style>\n",
       "<table border=\"1\" class=\"dataframe\">\n",
       "  <thead>\n",
       "    <tr style=\"text-align: right;\">\n",
       "      <th></th>\n",
       "      <th>LNR</th>\n",
       "      <th>AGER_TYP</th>\n",
       "      <th>AKT_DAT_KL</th>\n",
       "      <th>ALTER_HH</th>\n",
       "      <th>ANZ_HAUSHALTE_AKTIV</th>\n",
       "      <th>ANZ_HH_TITEL</th>\n",
       "      <th>ANZ_KINDER</th>\n",
       "      <th>ANZ_PERSONEN</th>\n",
       "      <th>ANZ_STATISTISCHE_HAUSHALTE</th>\n",
       "      <th>ANZ_TITEL</th>\n",
       "      <th>...</th>\n",
       "      <th>VK_DISTANZ</th>\n",
       "      <th>VK_ZG11</th>\n",
       "      <th>W_KEIT_KIND_HH</th>\n",
       "      <th>WOHNDAUER_2008</th>\n",
       "      <th>WOHNLAGE</th>\n",
       "      <th>ZABEOTYP</th>\n",
       "      <th>RESPONSE</th>\n",
       "      <th>ANREDE_KZ</th>\n",
       "      <th>ALTERSKATEGORIE_GROB</th>\n",
       "      <th>year</th>\n",
       "    </tr>\n",
       "  </thead>\n",
       "  <tbody>\n",
       "    <tr>\n",
       "      <th>0</th>\n",
       "      <td>-1.656309</td>\n",
       "      <td>1.031262</td>\n",
       "      <td>-0.301415</td>\n",
       "      <td>-0.377623</td>\n",
       "      <td>0.545959</td>\n",
       "      <td>-0.126954</td>\n",
       "      <td>-0.225297</td>\n",
       "      <td>-0.751880</td>\n",
       "      <td>0.468783</td>\n",
       "      <td>-0.089829</td>\n",
       "      <td>...</td>\n",
       "      <td>-0.759993</td>\n",
       "      <td>-0.833222</td>\n",
       "      <td>0.798498</td>\n",
       "      <td>0.268135</td>\n",
       "      <td>-0.522850</td>\n",
       "      <td>0.174577</td>\n",
       "      <td>-0.111975</td>\n",
       "      <td>0.824885</td>\n",
       "      <td>0.736410</td>\n",
       "      <td>-0.403378</td>\n",
       "    </tr>\n",
       "    <tr>\n",
       "      <th>1</th>\n",
       "      <td>-1.655987</td>\n",
       "      <td>0.323502</td>\n",
       "      <td>1.420043</td>\n",
       "      <td>0.447032</td>\n",
       "      <td>-0.373362</td>\n",
       "      <td>-0.126954</td>\n",
       "      <td>-0.225297</td>\n",
       "      <td>-0.012393</td>\n",
       "      <td>-0.364844</td>\n",
       "      <td>-0.089829</td>\n",
       "      <td>...</td>\n",
       "      <td>-0.759993</td>\n",
       "      <td>-0.833222</td>\n",
       "      <td>-0.258783</td>\n",
       "      <td>0.268135</td>\n",
       "      <td>1.425725</td>\n",
       "      <td>-1.608634</td>\n",
       "      <td>-0.111975</td>\n",
       "      <td>0.824885</td>\n",
       "      <td>-0.200391</td>\n",
       "      <td>1.185619</td>\n",
       "    </tr>\n",
       "    <tr>\n",
       "      <th>2</th>\n",
       "      <td>-1.655785</td>\n",
       "      <td>0.323502</td>\n",
       "      <td>-0.301415</td>\n",
       "      <td>-0.212692</td>\n",
       "      <td>-0.439028</td>\n",
       "      <td>-0.126954</td>\n",
       "      <td>-0.225297</td>\n",
       "      <td>-1.491367</td>\n",
       "      <td>-0.364844</td>\n",
       "      <td>-0.089829</td>\n",
       "      <td>...</td>\n",
       "      <td>-0.152100</td>\n",
       "      <td>-0.438862</td>\n",
       "      <td>-0.258783</td>\n",
       "      <td>0.268135</td>\n",
       "      <td>-1.009994</td>\n",
       "      <td>0.174577</td>\n",
       "      <td>-0.111975</td>\n",
       "      <td>-1.212290</td>\n",
       "      <td>0.736410</td>\n",
       "      <td>0.550020</td>\n",
       "    </tr>\n",
       "    <tr>\n",
       "      <th>3</th>\n",
       "      <td>-1.668538</td>\n",
       "      <td>1.031262</td>\n",
       "      <td>-0.301415</td>\n",
       "      <td>-0.707486</td>\n",
       "      <td>-0.176365</td>\n",
       "      <td>-0.126954</td>\n",
       "      <td>-0.225297</td>\n",
       "      <td>-0.012393</td>\n",
       "      <td>-0.156437</td>\n",
       "      <td>-0.089829</td>\n",
       "      <td>...</td>\n",
       "      <td>1.975524</td>\n",
       "      <td>3.110384</td>\n",
       "      <td>0.798498</td>\n",
       "      <td>0.268135</td>\n",
       "      <td>-1.497138</td>\n",
       "      <td>0.174577</td>\n",
       "      <td>-0.111975</td>\n",
       "      <td>0.824885</td>\n",
       "      <td>0.736410</td>\n",
       "      <td>-0.403378</td>\n",
       "    </tr>\n",
       "    <tr>\n",
       "      <th>4</th>\n",
       "      <td>-1.655502</td>\n",
       "      <td>1.031262</td>\n",
       "      <td>-0.301415</td>\n",
       "      <td>-0.212692</td>\n",
       "      <td>3.041260</td>\n",
       "      <td>-0.126954</td>\n",
       "      <td>-0.225297</td>\n",
       "      <td>-0.751880</td>\n",
       "      <td>2.622320</td>\n",
       "      <td>-0.089829</td>\n",
       "      <td>...</td>\n",
       "      <td>-0.759993</td>\n",
       "      <td>-0.833222</td>\n",
       "      <td>0.798498</td>\n",
       "      <td>0.268135</td>\n",
       "      <td>-0.522850</td>\n",
       "      <td>0.174577</td>\n",
       "      <td>-0.111975</td>\n",
       "      <td>-1.212290</td>\n",
       "      <td>-0.200391</td>\n",
       "      <td>-0.403378</td>\n",
       "    </tr>\n",
       "  </tbody>\n",
       "</table>\n",
       "<p>5 rows × 354 columns</p>\n",
       "</div>"
      ],
      "text/plain": [
       "        LNR  AGER_TYP  AKT_DAT_KL  ALTER_HH  ANZ_HAUSHALTE_AKTIV  \\\n",
       "0 -1.656309  1.031262   -0.301415 -0.377623             0.545959   \n",
       "1 -1.655987  0.323502    1.420043  0.447032            -0.373362   \n",
       "2 -1.655785  0.323502   -0.301415 -0.212692            -0.439028   \n",
       "3 -1.668538  1.031262   -0.301415 -0.707486            -0.176365   \n",
       "4 -1.655502  1.031262   -0.301415 -0.212692             3.041260   \n",
       "\n",
       "   ANZ_HH_TITEL  ANZ_KINDER  ANZ_PERSONEN  ANZ_STATISTISCHE_HAUSHALTE  \\\n",
       "0     -0.126954   -0.225297     -0.751880                    0.468783   \n",
       "1     -0.126954   -0.225297     -0.012393                   -0.364844   \n",
       "2     -0.126954   -0.225297     -1.491367                   -0.364844   \n",
       "3     -0.126954   -0.225297     -0.012393                   -0.156437   \n",
       "4     -0.126954   -0.225297     -0.751880                    2.622320   \n",
       "\n",
       "   ANZ_TITEL    ...     VK_DISTANZ   VK_ZG11  W_KEIT_KIND_HH  WOHNDAUER_2008  \\\n",
       "0  -0.089829    ...      -0.759993 -0.833222        0.798498        0.268135   \n",
       "1  -0.089829    ...      -0.759993 -0.833222       -0.258783        0.268135   \n",
       "2  -0.089829    ...      -0.152100 -0.438862       -0.258783        0.268135   \n",
       "3  -0.089829    ...       1.975524  3.110384        0.798498        0.268135   \n",
       "4  -0.089829    ...      -0.759993 -0.833222        0.798498        0.268135   \n",
       "\n",
       "   WOHNLAGE  ZABEOTYP  RESPONSE  ANREDE_KZ  ALTERSKATEGORIE_GROB      year  \n",
       "0 -0.522850  0.174577 -0.111975   0.824885              0.736410 -0.403378  \n",
       "1  1.425725 -1.608634 -0.111975   0.824885             -0.200391  1.185619  \n",
       "2 -1.009994  0.174577 -0.111975  -1.212290              0.736410  0.550020  \n",
       "3 -1.497138  0.174577 -0.111975   0.824885              0.736410 -0.403378  \n",
       "4 -0.522850  0.174577 -0.111975  -1.212290             -0.200391 -0.403378  \n",
       "\n",
       "[5 rows x 354 columns]"
      ]
     },
     "execution_count": 140,
     "metadata": {},
     "output_type": "execute_result"
    }
   ],
   "source": [
    "x_mail.head()"
   ]
  },
  {
   "cell_type": "code",
   "execution_count": 141,
   "metadata": {},
   "outputs": [],
   "source": [
    "x_mail = x_mail.drop(['RESPONSE'], axis = 1)"
   ]
  },
  {
   "cell_type": "markdown",
   "metadata": {},
   "source": [
    "In this step machine learning models will evaluate the x_mail data and be scored using the function called \"model_score\". It uses ROC AUC to score the model. The higher ROC AUC score the better the model is at accurately predicting whether a customer falls into one of two classes, 1-They will be customer, 0-They will not be a customer. The max score is 1, a score of 0.5 means the model can only predict the class half the time and that would be a useless model. Additionally the model informs as to what hyperparameter values should be used to fine tune the model and increase performance using GridSearchCV and returning 'grid_best_score_', the hyperparameter values. "
   ]
  },
  {
   "cell_type": "code",
   "execution_count": 142,
   "metadata": {},
   "outputs": [],
   "source": [
    "def model_score(model, param_grid, X_train= x_mail, y_train=response):\n",
    "    \"\"\"\n",
    "    Fits a classifier to its training data and prints its ROC AUC score.\n",
    "    \n",
    "    INPUT:\n",
    "    - model (classifier): classification model to fit\n",
    "    - param_grid (dict): classifier parameters used with GridSearchCV\n",
    "    - X_train (DataFrame): training input\n",
    "    - y_train (DataFrame): training output\n",
    "            \n",
    "    OUTPUT:\n",
    "    - model_score: input classifier fitted to the training data\n",
    "    \"\"\"\n",
    "    \n",
    "    grid = GridSearchCV(estimator=model, param_grid=param_grid, scoring='roc_auc', cv=5)\n",
    "    grid.fit(X_train, y_train)\n",
    "    print(grid.best_score_)\n",
    "    \n",
    "    return grid.best_estimator_"
   ]
  },
  {
   "cell_type": "markdown",
   "metadata": {},
   "source": [
    "When the dependent variable (\"response\" in this case) is a zero or one, this makes it a classification model. In essence from a purely mathematical standpoint this problem is solved through Logistic Regression. The independent variables are the values in each of the columns where one row represents one household, and the the machine learning algorithm must find what coefficients best fit the data to give the correct output for that row be it 0 or 1 where 0 means that the household/individual did not choose to become a customer and 1 means they did. There are other classification models such as Random Forest, Bagging, AdaBoost, and Gradient Boost. They all do the same thing in that they are fitting the data to the predictive outcome. Some may perform better than others, and how they work exactly will not be explored in this project. To know which will perform best try them all out and see which one(s) give the highest performance score. As stated earlier, the ROC AUC score will be the determining criteria for the models. "
   ]
  },
  {
   "cell_type": "code",
   "execution_count": 143,
   "metadata": {},
   "outputs": [
    {
     "name": "stdout",
     "output_type": "stream",
     "text": [
      "0.52964419273\n"
     ]
    },
    {
     "data": {
      "text/plain": [
       "RandomForestClassifier(bootstrap=True, class_weight=None, criterion='gini',\n",
       "            max_depth=None, max_features='auto', max_leaf_nodes=None,\n",
       "            min_impurity_decrease=0.0, min_impurity_split=None,\n",
       "            min_samples_leaf=1, min_samples_split=2,\n",
       "            min_weight_fraction_leaf=0.0, n_estimators=10, n_jobs=1,\n",
       "            oob_score=False, random_state=9, verbose=0, warm_start=False)"
      ]
     },
     "execution_count": 143,
     "metadata": {},
     "output_type": "execute_result"
    }
   ],
   "source": [
    "random_forest = RandomForestClassifier(random_state= 9)\n",
    "model_score(random_forest, {})"
   ]
  },
  {
   "cell_type": "code",
   "execution_count": 153,
   "metadata": {},
   "outputs": [
    {
     "name": "stdout",
     "output_type": "stream",
     "text": [
      "0.647361144905\n"
     ]
    }
   ],
   "source": [
    "log_reg = LogisticRegression(random_state=9)\n",
    "log_reg = model_score(log_reg, {})"
   ]
  },
  {
   "cell_type": "code",
   "execution_count": 145,
   "metadata": {},
   "outputs": [
    {
     "name": "stdout",
     "output_type": "stream",
     "text": [
      "0.575124306044\n"
     ]
    },
    {
     "data": {
      "text/plain": [
       "BaggingClassifier(base_estimator=None, bootstrap=True,\n",
       "         bootstrap_features=False, max_features=1.0, max_samples=1.0,\n",
       "         n_estimators=10, n_jobs=1, oob_score=False, random_state=12,\n",
       "         verbose=0, warm_start=False)"
      ]
     },
     "execution_count": 145,
     "metadata": {},
     "output_type": "execute_result"
    }
   ],
   "source": [
    "bag_class = BaggingClassifier(random_state=12)\n",
    "model_score(bag_class, {})"
   ]
  },
  {
   "cell_type": "code",
   "execution_count": 146,
   "metadata": {},
   "outputs": [
    {
     "name": "stdout",
     "output_type": "stream",
     "text": [
      "0.707222039758\n"
     ]
    }
   ],
   "source": [
    "ada_boost = AdaBoostClassifier(random_state=12)\n",
    "ada_boost_accuracy = model_score(ada_boost, {})\n"
   ]
  },
  {
   "cell_type": "markdown",
   "metadata": {},
   "source": [
    "This is a high score compared to the other classifiers but for some reason the 'model_score' function doesn't produce any suggested hyperparameters for the AdaBoostClassifier. "
   ]
  },
  {
   "cell_type": "code",
   "execution_count": 147,
   "metadata": {},
   "outputs": [
    {
     "name": "stdout",
     "output_type": "stream",
     "text": [
      "0.74723485405\n"
     ]
    },
    {
     "data": {
      "text/plain": [
       "GradientBoostingClassifier(criterion='friedman_mse', init=None,\n",
       "              learning_rate=0.1, loss='deviance', max_depth=3,\n",
       "              max_features=None, max_leaf_nodes=None,\n",
       "              min_impurity_decrease=0.0, min_impurity_split=None,\n",
       "              min_samples_leaf=1, min_samples_split=2,\n",
       "              min_weight_fraction_leaf=0.0, n_estimators=100,\n",
       "              presort='auto', random_state=9, subsample=1.0, verbose=0,\n",
       "              warm_start=False)"
      ]
     },
     "execution_count": 147,
     "metadata": {},
     "output_type": "execute_result"
    }
   ],
   "source": [
    "# GradientBoostingClassifier\n",
    "grad_boost = GradientBoostingClassifier(random_state=9)\n",
    "grad_boost = model_score(grad_boost, {})\n",
    "grad_boost"
   ]
  },
  {
   "cell_type": "markdown",
   "metadata": {},
   "source": [
    "The most successful classifiers are 'AdaBoost' and 'GradientBoost' at 76.5% and 76.7% respectively. The last step is to fine tune some of these classifiers using hyperparameters that are suggested to try to get even better results."
   ]
  },
  {
   "cell_type": "code",
   "execution_count": 148,
   "metadata": {},
   "outputs": [
    {
     "name": "stdout",
     "output_type": "stream",
     "text": [
      "0.752325700244\n"
     ]
    },
    {
     "data": {
      "text/plain": [
       "GradientBoostingClassifier(criterion='friedman_mse', init=None,\n",
       "              learning_rate=0.1, loss='deviance', max_depth=2,\n",
       "              max_features=None, max_leaf_nodes=None,\n",
       "              min_impurity_decrease=0.0, min_impurity_split=None,\n",
       "              min_samples_leaf=1, min_samples_split=2,\n",
       "              min_weight_fraction_leaf=0.0, n_estimators=85,\n",
       "              presort='auto', random_state=9, subsample=1.0, verbose=0,\n",
       "              warm_start=False)"
      ]
     },
     "execution_count": 148,
     "metadata": {},
     "output_type": "execute_result"
    }
   ],
   "source": [
    "grad_boost = GradientBoostingClassifier(random_state=9)\n",
    "param_grid = {'loss': ['deviance', 'exponential'],\n",
    "              'max_depth': [2, 4],\n",
    "              'n_estimators':[85],\n",
    "              'random_state': [9]\n",
    "             }\n",
    "grad_boost_tuned =model_score(grad_boost, param_grid)\n",
    "grad_boost_tuned"
   ]
  },
  {
   "cell_type": "markdown",
   "metadata": {},
   "source": [
    "Although there were no suggested hyperparameter values for the AdaBoostClassifier a few will be chosen anyway to see if that helps the score improve. "
   ]
  },
  {
   "cell_type": "code",
   "execution_count": 66,
   "metadata": {},
   "outputs": [
    {
     "name": "stdout",
     "output_type": "stream",
     "text": [
      "0.774078032206\n"
     ]
    },
    {
     "data": {
      "text/plain": [
       "AdaBoostClassifier(algorithm='SAMME.R', base_estimator=None,\n",
       "          learning_rate=1.0, n_estimators=10, random_state=9)"
      ]
     },
     "execution_count": 66,
     "metadata": {},
     "output_type": "execute_result"
    }
   ],
   "source": [
    "ada_boost = AdaBoostClassifier(random_state=9)\n",
    "param_grid = {\n",
    "              'n_estimators':[10],\n",
    "              'random_state': [9]\n",
    "             }\n",
    "\n",
    "ada_boost_tuned = model_score(ada_boost, param_grid)\n",
    "ada_boost_tuned"
   ]
  },
  {
   "cell_type": "markdown",
   "metadata": {},
   "source": [
    "And it appears that both classifiers after having been fine tuned have improved scores of 77.6% for GradientBoost and 77.4% for AdaBoost. Therefore GradientBoost will be used for the final test data set for the Kaggle competition. "
   ]
  },
  {
   "cell_type": "markdown",
   "metadata": {},
   "source": [
    "The results of the classifier scores will be shown in a bar plot below. "
   ]
  },
  {
   "cell_type": "code",
   "execution_count": 76,
   "metadata": {},
   "outputs": [
    {
     "data": {
      "text/plain": [
       "<Container object of 7 artists>"
      ]
     },
     "execution_count": 76,
     "metadata": {},
     "output_type": "execute_result"
    },
    {
     "data": {
      "image/png": "[encoded data removed]",
      "text/plain": [
       "<matplotlib.figure.Figure at 0x7f39c7c14e10>"
      ]
     },
     "metadata": {
      "needs_background": "light"
     },
     "output_type": "display_data"
    }
   ],
   "source": [
    "scores = [53.8, 67.6, 58.8, 76.5, 76.7, 77.4, 77.6]\n",
    "models = [ 'random_forest', 'logistic_regression', 'bag', 'ada_boost', 'gradient_boost', 'gradient_boost_tuned',\n",
    "         'ada_boost_tuned']\n",
    "plt.figure(figsize=(15,7))\n",
    "plt.xlabel(\"Classifier\")\n",
    "plt.ylabel(\"ROC_AUC Score\")\n",
    "plt.title(\"ROC_AUC Score for Given Classifiers\")\n",
    "plt.bar(models, scores, 0.4)"
   ]
  },
  {
   "cell_type": "markdown",
   "metadata": {},
   "source": [
    "So as for the question, \"Why are the results different?\" Much time could be spent on this question as these classifier algorithms can be very complex but essentially it is because the algorithms are more effective on the ones that perform better. The only way to know is trial by error. The highest performing models were the ones with tuned hyperparameters (grad_boost_tuned and ada_boost_tuned) because they are optimized. "
   ]
  },
  {
   "cell_type": "markdown",
   "metadata": {},
   "source": [
    "It would also certainly be useful for the company to know what feature columns are most relevant for that the GradientBoost classifier model because that way the company would know where to move forward for data collection and customer information. They can save valuable time and resources by focusing on what is important. How to do this is shown below for the top 10 most important columns for an example."
   ]
  },
  {
   "cell_type": "code",
   "execution_count": 56,
   "metadata": {},
   "outputs": [
    {
     "data": {
      "text/html": [
       "<div>\n",
       "<style scoped>\n",
       "    .dataframe tbody tr th:only-of-type {\n",
       "        vertical-align: middle;\n",
       "    }\n",
       "\n",
       "    .dataframe tbody tr th {\n",
       "        vertical-align: top;\n",
       "    }\n",
       "\n",
       "    .dataframe thead th {\n",
       "        text-align: right;\n",
       "    }\n",
       "</style>\n",
       "<table border=\"1\" class=\"dataframe\">\n",
       "  <thead>\n",
       "    <tr style=\"text-align: right;\">\n",
       "      <th></th>\n",
       "      <th>FI</th>\n",
       "    </tr>\n",
       "  </thead>\n",
       "  <tbody>\n",
       "    <tr>\n",
       "      <th>D19_SOZIALES</th>\n",
       "      <td>0.193194</td>\n",
       "    </tr>\n",
       "    <tr>\n",
       "      <th>D19_KONSUMTYP_MAX</th>\n",
       "      <td>0.040368</td>\n",
       "    </tr>\n",
       "    <tr>\n",
       "      <th>LNR</th>\n",
       "      <td>0.036330</td>\n",
       "    </tr>\n",
       "    <tr>\n",
       "      <th>ANZ_TITEL</th>\n",
       "      <td>0.034907</td>\n",
       "    </tr>\n",
       "    <tr>\n",
       "      <th>VERDICHTUNGSRAUM</th>\n",
       "      <td>0.034614</td>\n",
       "    </tr>\n",
       "    <tr>\n",
       "      <th>KBA13_ANZAHL_PKW</th>\n",
       "      <td>0.032047</td>\n",
       "    </tr>\n",
       "    <tr>\n",
       "      <th>D19_BANKEN_LOKAL</th>\n",
       "      <td>0.028569</td>\n",
       "    </tr>\n",
       "    <tr>\n",
       "      <th>EINGEZOGENAM_HH_JAHR</th>\n",
       "      <td>0.027409</td>\n",
       "    </tr>\n",
       "    <tr>\n",
       "      <th>MIN_GEBAEUDEJAHR</th>\n",
       "      <td>0.022757</td>\n",
       "    </tr>\n",
       "    <tr>\n",
       "      <th>GFK_URLAUBERTYP</th>\n",
       "      <td>0.019555</td>\n",
       "    </tr>\n",
       "  </tbody>\n",
       "</table>\n",
       "</div>"
      ],
      "text/plain": [
       "                            FI\n",
       "D19_SOZIALES          0.193194\n",
       "D19_KONSUMTYP_MAX     0.040368\n",
       "LNR                   0.036330\n",
       "ANZ_TITEL             0.034907\n",
       "VERDICHTUNGSRAUM      0.034614\n",
       "KBA13_ANZAHL_PKW      0.032047\n",
       "D19_BANKEN_LOKAL      0.028569\n",
       "EINGEZOGENAM_HH_JAHR  0.027409\n",
       "MIN_GEBAEUDEJAHR      0.022757\n",
       "GFK_URLAUBERTYP       0.019555"
      ]
     },
     "execution_count": 56,
     "metadata": {},
     "output_type": "execute_result"
    }
   ],
   "source": [
    "# analyse the most important features of the model\n",
    "top_features = pd.DataFrame({'FI':grad_boost_tuned.feature_importances_}, index = x_mail.columns)\n",
    "top_features_sorted = top_features.sort_values(by=['FI'], ascending=False)\n",
    "top_features_sorted.head(10)"
   ]
  },
  {
   "cell_type": "markdown",
   "metadata": {},
   "source": [
    "## Part 3: Kaggle Competition\n",
    "\n",
    "Now that you've created a model to predict which individuals are most likely to respond to a mailout campaign, it's time to test that model in competition through Kaggle. If you click on the link [here](http://www.kaggle.com/t/21e6d45d4c574c7fa2d868f0e8c83140), you'll be taken to the competition page where, if you have a Kaggle account, you can enter.\n",
    "\n",
    "Your entry to the competition should be a CSV file with two columns. The first column should be a copy of \"LNR\", which acts as an ID number for each individual in the \"TEST\" partition. The second column, \"RESPONSE\", should be some measure of how likely each individual became a customer – this might not be a straightforward probability. As you should have found in Part 2, there is a large output class imbalance, where most individuals did not respond to the mailout. Thus, predicting individual classes and using accuracy does not seem to be an appropriate performance evaluation method. Instead, the competition will be using AUC to evaluate performance. The exact values of the \"RESPONSE\" column do not matter as much: only that the higher values try to capture as many of the actual customers as possible, early in the ROC curve sweep."
   ]
  },
  {
   "cell_type": "code",
   "execution_count": 122,
   "metadata": {},
   "outputs": [
    {
     "name": "stderr",
     "output_type": "stream",
     "text": [
      "/opt/conda/lib/python3.6/site-packages/IPython/core/interactiveshell.py:2785: DtypeWarning: Columns (18,19) have mixed types. Specify dtype option on import or set low_memory=False.\n",
      "  interactivity=interactivity, compiler=compiler, result=result)\n"
     ]
    }
   ],
   "source": [
    "mailout_test = pd.read_csv('../../data/Term2/capstone/arvato_data/Udacity_MAILOUT_052018_TEST.csv', sep=';')"
   ]
  },
  {
   "cell_type": "code",
   "execution_count": 123,
   "metadata": {},
   "outputs": [
    {
     "data": {
      "text/html": [
       "<div>\n",
       "<style scoped>\n",
       "    .dataframe tbody tr th:only-of-type {\n",
       "        vertical-align: middle;\n",
       "    }\n",
       "\n",
       "    .dataframe tbody tr th {\n",
       "        vertical-align: top;\n",
       "    }\n",
       "\n",
       "    .dataframe thead th {\n",
       "        text-align: right;\n",
       "    }\n",
       "</style>\n",
       "<table border=\"1\" class=\"dataframe\">\n",
       "  <thead>\n",
       "    <tr style=\"text-align: right;\">\n",
       "      <th></th>\n",
       "      <th>LNR</th>\n",
       "      <th>AGER_TYP</th>\n",
       "      <th>AKT_DAT_KL</th>\n",
       "      <th>ALTER_HH</th>\n",
       "      <th>ALTER_KIND1</th>\n",
       "      <th>ALTER_KIND2</th>\n",
       "      <th>ALTER_KIND3</th>\n",
       "      <th>ALTER_KIND4</th>\n",
       "      <th>ALTERSKATEGORIE_FEIN</th>\n",
       "      <th>ANZ_HAUSHALTE_AKTIV</th>\n",
       "      <th>...</th>\n",
       "      <th>VHN</th>\n",
       "      <th>VK_DHT4A</th>\n",
       "      <th>VK_DISTANZ</th>\n",
       "      <th>VK_ZG11</th>\n",
       "      <th>W_KEIT_KIND_HH</th>\n",
       "      <th>WOHNDAUER_2008</th>\n",
       "      <th>WOHNLAGE</th>\n",
       "      <th>ZABEOTYP</th>\n",
       "      <th>ANREDE_KZ</th>\n",
       "      <th>ALTERSKATEGORIE_GROB</th>\n",
       "    </tr>\n",
       "  </thead>\n",
       "  <tbody>\n",
       "    <tr>\n",
       "      <th>0</th>\n",
       "      <td>1754</td>\n",
       "      <td>2</td>\n",
       "      <td>1.0</td>\n",
       "      <td>7.0</td>\n",
       "      <td>NaN</td>\n",
       "      <td>NaN</td>\n",
       "      <td>NaN</td>\n",
       "      <td>NaN</td>\n",
       "      <td>6.0</td>\n",
       "      <td>2.0</td>\n",
       "      <td>...</td>\n",
       "      <td>4.0</td>\n",
       "      <td>5.0</td>\n",
       "      <td>6.0</td>\n",
       "      <td>3.0</td>\n",
       "      <td>6.0</td>\n",
       "      <td>9.0</td>\n",
       "      <td>3.0</td>\n",
       "      <td>3</td>\n",
       "      <td>1</td>\n",
       "      <td>4</td>\n",
       "    </tr>\n",
       "    <tr>\n",
       "      <th>1</th>\n",
       "      <td>1770</td>\n",
       "      <td>-1</td>\n",
       "      <td>1.0</td>\n",
       "      <td>0.0</td>\n",
       "      <td>NaN</td>\n",
       "      <td>NaN</td>\n",
       "      <td>NaN</td>\n",
       "      <td>NaN</td>\n",
       "      <td>0.0</td>\n",
       "      <td>20.0</td>\n",
       "      <td>...</td>\n",
       "      <td>1.0</td>\n",
       "      <td>5.0</td>\n",
       "      <td>2.0</td>\n",
       "      <td>1.0</td>\n",
       "      <td>6.0</td>\n",
       "      <td>9.0</td>\n",
       "      <td>5.0</td>\n",
       "      <td>3</td>\n",
       "      <td>1</td>\n",
       "      <td>4</td>\n",
       "    </tr>\n",
       "    <tr>\n",
       "      <th>2</th>\n",
       "      <td>1465</td>\n",
       "      <td>2</td>\n",
       "      <td>9.0</td>\n",
       "      <td>16.0</td>\n",
       "      <td>NaN</td>\n",
       "      <td>NaN</td>\n",
       "      <td>NaN</td>\n",
       "      <td>NaN</td>\n",
       "      <td>11.0</td>\n",
       "      <td>2.0</td>\n",
       "      <td>...</td>\n",
       "      <td>3.0</td>\n",
       "      <td>9.0</td>\n",
       "      <td>6.0</td>\n",
       "      <td>3.0</td>\n",
       "      <td>2.0</td>\n",
       "      <td>9.0</td>\n",
       "      <td>4.0</td>\n",
       "      <td>3</td>\n",
       "      <td>2</td>\n",
       "      <td>4</td>\n",
       "    </tr>\n",
       "    <tr>\n",
       "      <th>3</th>\n",
       "      <td>1470</td>\n",
       "      <td>-1</td>\n",
       "      <td>7.0</td>\n",
       "      <td>0.0</td>\n",
       "      <td>NaN</td>\n",
       "      <td>NaN</td>\n",
       "      <td>NaN</td>\n",
       "      <td>NaN</td>\n",
       "      <td>0.0</td>\n",
       "      <td>1.0</td>\n",
       "      <td>...</td>\n",
       "      <td>2.0</td>\n",
       "      <td>6.0</td>\n",
       "      <td>6.0</td>\n",
       "      <td>3.0</td>\n",
       "      <td>NaN</td>\n",
       "      <td>9.0</td>\n",
       "      <td>2.0</td>\n",
       "      <td>3</td>\n",
       "      <td>2</td>\n",
       "      <td>4</td>\n",
       "    </tr>\n",
       "    <tr>\n",
       "      <th>4</th>\n",
       "      <td>1478</td>\n",
       "      <td>1</td>\n",
       "      <td>1.0</td>\n",
       "      <td>21.0</td>\n",
       "      <td>NaN</td>\n",
       "      <td>NaN</td>\n",
       "      <td>NaN</td>\n",
       "      <td>NaN</td>\n",
       "      <td>13.0</td>\n",
       "      <td>1.0</td>\n",
       "      <td>...</td>\n",
       "      <td>1.0</td>\n",
       "      <td>2.0</td>\n",
       "      <td>4.0</td>\n",
       "      <td>3.0</td>\n",
       "      <td>3.0</td>\n",
       "      <td>9.0</td>\n",
       "      <td>7.0</td>\n",
       "      <td>4</td>\n",
       "      <td>2</td>\n",
       "      <td>4</td>\n",
       "    </tr>\n",
       "  </tbody>\n",
       "</table>\n",
       "<p>5 rows × 366 columns</p>\n",
       "</div>"
      ],
      "text/plain": [
       "    LNR  AGER_TYP  AKT_DAT_KL  ALTER_HH  ALTER_KIND1  ALTER_KIND2  \\\n",
       "0  1754         2         1.0       7.0          NaN          NaN   \n",
       "1  1770        -1         1.0       0.0          NaN          NaN   \n",
       "2  1465         2         9.0      16.0          NaN          NaN   \n",
       "3  1470        -1         7.0       0.0          NaN          NaN   \n",
       "4  1478         1         1.0      21.0          NaN          NaN   \n",
       "\n",
       "   ALTER_KIND3  ALTER_KIND4  ALTERSKATEGORIE_FEIN  ANZ_HAUSHALTE_AKTIV  \\\n",
       "0          NaN          NaN                   6.0                  2.0   \n",
       "1          NaN          NaN                   0.0                 20.0   \n",
       "2          NaN          NaN                  11.0                  2.0   \n",
       "3          NaN          NaN                   0.0                  1.0   \n",
       "4          NaN          NaN                  13.0                  1.0   \n",
       "\n",
       "          ...           VHN  VK_DHT4A  VK_DISTANZ  VK_ZG11  W_KEIT_KIND_HH  \\\n",
       "0         ...           4.0       5.0         6.0      3.0             6.0   \n",
       "1         ...           1.0       5.0         2.0      1.0             6.0   \n",
       "2         ...           3.0       9.0         6.0      3.0             2.0   \n",
       "3         ...           2.0       6.0         6.0      3.0             NaN   \n",
       "4         ...           1.0       2.0         4.0      3.0             3.0   \n",
       "\n",
       "   WOHNDAUER_2008  WOHNLAGE ZABEOTYP ANREDE_KZ ALTERSKATEGORIE_GROB  \n",
       "0             9.0       3.0        3         1                    4  \n",
       "1             9.0       5.0        3         1                    4  \n",
       "2             9.0       4.0        3         2                    4  \n",
       "3             9.0       2.0        3         2                    4  \n",
       "4             9.0       7.0        4         2                    4  \n",
       "\n",
       "[5 rows x 366 columns]"
      ]
     },
     "execution_count": 123,
     "metadata": {},
     "output_type": "execute_result"
    }
   ],
   "source": [
    "mailout_test.head()"
   ]
  },
  {
   "cell_type": "code",
   "execution_count": 124,
   "metadata": {},
   "outputs": [
    {
     "data": {
      "text/html": [
       "<div>\n",
       "<style scoped>\n",
       "    .dataframe tbody tr th:only-of-type {\n",
       "        vertical-align: middle;\n",
       "    }\n",
       "\n",
       "    .dataframe tbody tr th {\n",
       "        vertical-align: top;\n",
       "    }\n",
       "\n",
       "    .dataframe thead th {\n",
       "        text-align: right;\n",
       "    }\n",
       "</style>\n",
       "<table border=\"1\" class=\"dataframe\">\n",
       "  <thead>\n",
       "    <tr style=\"text-align: right;\">\n",
       "      <th></th>\n",
       "      <th>LNR</th>\n",
       "      <th>AGER_TYP</th>\n",
       "      <th>AKT_DAT_KL</th>\n",
       "      <th>ALTER_HH</th>\n",
       "      <th>ANZ_HAUSHALTE_AKTIV</th>\n",
       "      <th>ANZ_HH_TITEL</th>\n",
       "      <th>ANZ_KINDER</th>\n",
       "      <th>ANZ_PERSONEN</th>\n",
       "      <th>ANZ_STATISTISCHE_HAUSHALTE</th>\n",
       "      <th>ANZ_TITEL</th>\n",
       "      <th>...</th>\n",
       "      <th>VK_DHT4A</th>\n",
       "      <th>VK_DISTANZ</th>\n",
       "      <th>VK_ZG11</th>\n",
       "      <th>W_KEIT_KIND_HH</th>\n",
       "      <th>WOHNDAUER_2008</th>\n",
       "      <th>WOHNLAGE</th>\n",
       "      <th>ZABEOTYP</th>\n",
       "      <th>ANREDE_KZ</th>\n",
       "      <th>ALTERSKATEGORIE_GROB</th>\n",
       "      <th>year</th>\n",
       "    </tr>\n",
       "  </thead>\n",
       "  <tbody>\n",
       "    <tr>\n",
       "      <th>0</th>\n",
       "      <td>1754</td>\n",
       "      <td>2</td>\n",
       "      <td>1.0</td>\n",
       "      <td>7.0</td>\n",
       "      <td>2.0</td>\n",
       "      <td>0.0</td>\n",
       "      <td>0.0</td>\n",
       "      <td>2.0</td>\n",
       "      <td>2.0</td>\n",
       "      <td>0.0</td>\n",
       "      <td>...</td>\n",
       "      <td>5.0</td>\n",
       "      <td>6.0</td>\n",
       "      <td>3.0</td>\n",
       "      <td>6.0</td>\n",
       "      <td>9.0</td>\n",
       "      <td>3.0</td>\n",
       "      <td>3</td>\n",
       "      <td>1</td>\n",
       "      <td>4</td>\n",
       "      <td>1993.0</td>\n",
       "    </tr>\n",
       "    <tr>\n",
       "      <th>1</th>\n",
       "      <td>1770</td>\n",
       "      <td>-1</td>\n",
       "      <td>1.0</td>\n",
       "      <td>0.0</td>\n",
       "      <td>20.0</td>\n",
       "      <td>0.0</td>\n",
       "      <td>0.0</td>\n",
       "      <td>1.0</td>\n",
       "      <td>21.0</td>\n",
       "      <td>0.0</td>\n",
       "      <td>...</td>\n",
       "      <td>5.0</td>\n",
       "      <td>2.0</td>\n",
       "      <td>1.0</td>\n",
       "      <td>6.0</td>\n",
       "      <td>9.0</td>\n",
       "      <td>5.0</td>\n",
       "      <td>3</td>\n",
       "      <td>1</td>\n",
       "      <td>4</td>\n",
       "      <td>1992.0</td>\n",
       "    </tr>\n",
       "    <tr>\n",
       "      <th>2</th>\n",
       "      <td>1465</td>\n",
       "      <td>2</td>\n",
       "      <td>9.0</td>\n",
       "      <td>16.0</td>\n",
       "      <td>2.0</td>\n",
       "      <td>0.0</td>\n",
       "      <td>0.0</td>\n",
       "      <td>4.0</td>\n",
       "      <td>2.0</td>\n",
       "      <td>0.0</td>\n",
       "      <td>...</td>\n",
       "      <td>9.0</td>\n",
       "      <td>6.0</td>\n",
       "      <td>3.0</td>\n",
       "      <td>2.0</td>\n",
       "      <td>9.0</td>\n",
       "      <td>4.0</td>\n",
       "      <td>3</td>\n",
       "      <td>2</td>\n",
       "      <td>4</td>\n",
       "      <td>1992.0</td>\n",
       "    </tr>\n",
       "    <tr>\n",
       "      <th>3</th>\n",
       "      <td>1470</td>\n",
       "      <td>-1</td>\n",
       "      <td>7.0</td>\n",
       "      <td>0.0</td>\n",
       "      <td>1.0</td>\n",
       "      <td>0.0</td>\n",
       "      <td>0.0</td>\n",
       "      <td>0.0</td>\n",
       "      <td>1.0</td>\n",
       "      <td>0.0</td>\n",
       "      <td>...</td>\n",
       "      <td>6.0</td>\n",
       "      <td>6.0</td>\n",
       "      <td>3.0</td>\n",
       "      <td>2.0</td>\n",
       "      <td>9.0</td>\n",
       "      <td>2.0</td>\n",
       "      <td>3</td>\n",
       "      <td>2</td>\n",
       "      <td>4</td>\n",
       "      <td>1992.0</td>\n",
       "    </tr>\n",
       "    <tr>\n",
       "      <th>4</th>\n",
       "      <td>1478</td>\n",
       "      <td>1</td>\n",
       "      <td>1.0</td>\n",
       "      <td>21.0</td>\n",
       "      <td>1.0</td>\n",
       "      <td>0.0</td>\n",
       "      <td>0.0</td>\n",
       "      <td>4.0</td>\n",
       "      <td>1.0</td>\n",
       "      <td>0.0</td>\n",
       "      <td>...</td>\n",
       "      <td>2.0</td>\n",
       "      <td>4.0</td>\n",
       "      <td>3.0</td>\n",
       "      <td>3.0</td>\n",
       "      <td>9.0</td>\n",
       "      <td>7.0</td>\n",
       "      <td>4</td>\n",
       "      <td>2</td>\n",
       "      <td>4</td>\n",
       "      <td>1992.0</td>\n",
       "    </tr>\n",
       "  </tbody>\n",
       "</table>\n",
       "<p>5 rows × 353 columns</p>\n",
       "</div>"
      ],
      "text/plain": [
       "    LNR  AGER_TYP  AKT_DAT_KL  ALTER_HH  ANZ_HAUSHALTE_AKTIV  ANZ_HH_TITEL  \\\n",
       "0  1754         2         1.0       7.0                  2.0           0.0   \n",
       "1  1770        -1         1.0       0.0                 20.0           0.0   \n",
       "2  1465         2         9.0      16.0                  2.0           0.0   \n",
       "3  1470        -1         7.0       0.0                  1.0           0.0   \n",
       "4  1478         1         1.0      21.0                  1.0           0.0   \n",
       "\n",
       "   ANZ_KINDER  ANZ_PERSONEN  ANZ_STATISTISCHE_HAUSHALTE  ANZ_TITEL   ...    \\\n",
       "0         0.0           2.0                         2.0        0.0   ...     \n",
       "1         0.0           1.0                        21.0        0.0   ...     \n",
       "2         0.0           4.0                         2.0        0.0   ...     \n",
       "3         0.0           0.0                         1.0        0.0   ...     \n",
       "4         0.0           4.0                         1.0        0.0   ...     \n",
       "\n",
       "   VK_DHT4A  VK_DISTANZ  VK_ZG11  W_KEIT_KIND_HH  WOHNDAUER_2008  WOHNLAGE  \\\n",
       "0       5.0         6.0      3.0             6.0             9.0       3.0   \n",
       "1       5.0         2.0      1.0             6.0             9.0       5.0   \n",
       "2       9.0         6.0      3.0             2.0             9.0       4.0   \n",
       "3       6.0         6.0      3.0             2.0             9.0       2.0   \n",
       "4       2.0         4.0      3.0             3.0             9.0       7.0   \n",
       "\n",
       "   ZABEOTYP  ANREDE_KZ  ALTERSKATEGORIE_GROB    year  \n",
       "0         3          1                     4  1993.0  \n",
       "1         3          1                     4  1992.0  \n",
       "2         3          2                     4  1992.0  \n",
       "3         3          2                     4  1992.0  \n",
       "4         4          2                     4  1992.0  \n",
       "\n",
       "[5 rows x 353 columns]"
      ]
     },
     "execution_count": 124,
     "metadata": {},
     "output_type": "execute_result"
    }
   ],
   "source": [
    "mailout_test = clean_df(mailout_test)\n",
    "mailout_test.head()"
   ]
  },
  {
   "cell_type": "code",
   "execution_count": 130,
   "metadata": {},
   "outputs": [],
   "source": [
    "lnr = mailout_test.LNR"
   ]
  },
  {
   "cell_type": "code",
   "execution_count": 125,
   "metadata": {},
   "outputs": [],
   "source": [
    "x_mail_test = mailout_test.values\n",
    "x_mail_test = StandardScaler().fit_transform(x_mail_test)"
   ]
  },
  {
   "cell_type": "code",
   "execution_count": 82,
   "metadata": {},
   "outputs": [],
   "source": [
    "mail_columns = mailout_test.columns"
   ]
  },
  {
   "cell_type": "code",
   "execution_count": 126,
   "metadata": {},
   "outputs": [
    {
     "data": {
      "text/html": [
       "<div>\n",
       "<style scoped>\n",
       "    .dataframe tbody tr th:only-of-type {\n",
       "        vertical-align: middle;\n",
       "    }\n",
       "\n",
       "    .dataframe tbody tr th {\n",
       "        vertical-align: top;\n",
       "    }\n",
       "\n",
       "    .dataframe thead th {\n",
       "        text-align: right;\n",
       "    }\n",
       "</style>\n",
       "<table border=\"1\" class=\"dataframe\">\n",
       "  <thead>\n",
       "    <tr style=\"text-align: right;\">\n",
       "      <th></th>\n",
       "      <th>LNR</th>\n",
       "      <th>AGER_TYP</th>\n",
       "      <th>AKT_DAT_KL</th>\n",
       "      <th>ALTER_HH</th>\n",
       "      <th>ANZ_HAUSHALTE_AKTIV</th>\n",
       "      <th>ANZ_HH_TITEL</th>\n",
       "      <th>ANZ_KINDER</th>\n",
       "      <th>ANZ_PERSONEN</th>\n",
       "      <th>ANZ_STATISTISCHE_HAUSHALTE</th>\n",
       "      <th>ANZ_TITEL</th>\n",
       "      <th>...</th>\n",
       "      <th>VK_DHT4A</th>\n",
       "      <th>VK_DISTANZ</th>\n",
       "      <th>VK_ZG11</th>\n",
       "      <th>W_KEIT_KIND_HH</th>\n",
       "      <th>WOHNDAUER_2008</th>\n",
       "      <th>WOHNLAGE</th>\n",
       "      <th>ZABEOTYP</th>\n",
       "      <th>ANREDE_KZ</th>\n",
       "      <th>ALTERSKATEGORIE_GROB</th>\n",
       "      <th>year</th>\n",
       "    </tr>\n",
       "  </thead>\n",
       "  <tbody>\n",
       "    <tr>\n",
       "      <th>0</th>\n",
       "      <td>-1.665871</td>\n",
       "      <td>1.033789</td>\n",
       "      <td>-0.298309</td>\n",
       "      <td>-0.531881</td>\n",
       "      <td>-0.322849</td>\n",
       "      <td>-0.137287</td>\n",
       "      <td>-0.227332</td>\n",
       "      <td>-0.014568</td>\n",
       "      <td>-0.311712</td>\n",
       "      <td>-0.096117</td>\n",
       "      <td>...</td>\n",
       "      <td>0.213270</td>\n",
       "      <td>0.457982</td>\n",
       "      <td>-0.039447</td>\n",
       "      <td>0.799490</td>\n",
       "      <td>0.268221</td>\n",
       "      <td>-0.527577</td>\n",
       "      <td>0.178441</td>\n",
       "      <td>-1.213276</td>\n",
       "      <td>0.728696</td>\n",
       "      <td>-0.090509</td>\n",
       "    </tr>\n",
       "    <tr>\n",
       "      <th>1</th>\n",
       "      <td>-1.665225</td>\n",
       "      <td>-1.086712</td>\n",
       "      <td>-0.298309</td>\n",
       "      <td>-1.680227</td>\n",
       "      <td>0.898926</td>\n",
       "      <td>-0.137287</td>\n",
       "      <td>-0.227332</td>\n",
       "      <td>-0.753869</td>\n",
       "      <td>1.055104</td>\n",
       "      <td>-0.096117</td>\n",
       "      <td>...</td>\n",
       "      <td>0.213270</td>\n",
       "      <td>-0.762989</td>\n",
       "      <td>-0.833639</td>\n",
       "      <td>0.799490</td>\n",
       "      <td>0.268221</td>\n",
       "      <td>0.447281</td>\n",
       "      <td>0.178441</td>\n",
       "      <td>-1.213276</td>\n",
       "      <td>0.728696</td>\n",
       "      <td>-0.406333</td>\n",
       "    </tr>\n",
       "    <tr>\n",
       "      <th>2</th>\n",
       "      <td>-1.677546</td>\n",
       "      <td>1.033789</td>\n",
       "      <td>4.310966</td>\n",
       "      <td>0.944565</td>\n",
       "      <td>-0.322849</td>\n",
       "      <td>-0.137287</td>\n",
       "      <td>-0.227332</td>\n",
       "      <td>1.464036</td>\n",
       "      <td>-0.311712</td>\n",
       "      <td>-0.096117</td>\n",
       "      <td>...</td>\n",
       "      <td>1.475578</td>\n",
       "      <td>0.457982</td>\n",
       "      <td>-0.039447</td>\n",
       "      <td>-1.320161</td>\n",
       "      <td>0.268221</td>\n",
       "      <td>-0.040148</td>\n",
       "      <td>0.178441</td>\n",
       "      <td>0.824215</td>\n",
       "      <td>0.728696</td>\n",
       "      <td>-0.406333</td>\n",
       "    </tr>\n",
       "    <tr>\n",
       "      <th>3</th>\n",
       "      <td>-1.677344</td>\n",
       "      <td>-1.086712</td>\n",
       "      <td>3.158647</td>\n",
       "      <td>-1.680227</td>\n",
       "      <td>-0.390726</td>\n",
       "      <td>-0.137287</td>\n",
       "      <td>-0.227332</td>\n",
       "      <td>-1.493171</td>\n",
       "      <td>-0.383650</td>\n",
       "      <td>-0.096117</td>\n",
       "      <td>...</td>\n",
       "      <td>0.528847</td>\n",
       "      <td>0.457982</td>\n",
       "      <td>-0.039447</td>\n",
       "      <td>-1.320161</td>\n",
       "      <td>0.268221</td>\n",
       "      <td>-1.015006</td>\n",
       "      <td>0.178441</td>\n",
       "      <td>0.824215</td>\n",
       "      <td>0.728696</td>\n",
       "      <td>-0.406333</td>\n",
       "    </tr>\n",
       "    <tr>\n",
       "      <th>4</th>\n",
       "      <td>-1.677021</td>\n",
       "      <td>0.326956</td>\n",
       "      <td>-0.298309</td>\n",
       "      <td>1.764812</td>\n",
       "      <td>-0.390726</td>\n",
       "      <td>-0.137287</td>\n",
       "      <td>-0.227332</td>\n",
       "      <td>1.464036</td>\n",
       "      <td>-0.383650</td>\n",
       "      <td>-0.096117</td>\n",
       "      <td>...</td>\n",
       "      <td>-0.733461</td>\n",
       "      <td>-0.152504</td>\n",
       "      <td>-0.039447</td>\n",
       "      <td>-0.790249</td>\n",
       "      <td>0.268221</td>\n",
       "      <td>1.422139</td>\n",
       "      <td>1.070811</td>\n",
       "      <td>0.824215</td>\n",
       "      <td>0.728696</td>\n",
       "      <td>-0.406333</td>\n",
       "    </tr>\n",
       "  </tbody>\n",
       "</table>\n",
       "<p>5 rows × 353 columns</p>\n",
       "</div>"
      ],
      "text/plain": [
       "        LNR  AGER_TYP  AKT_DAT_KL  ALTER_HH  ANZ_HAUSHALTE_AKTIV  \\\n",
       "0 -1.665871  1.033789   -0.298309 -0.531881            -0.322849   \n",
       "1 -1.665225 -1.086712   -0.298309 -1.680227             0.898926   \n",
       "2 -1.677546  1.033789    4.310966  0.944565            -0.322849   \n",
       "3 -1.677344 -1.086712    3.158647 -1.680227            -0.390726   \n",
       "4 -1.677021  0.326956   -0.298309  1.764812            -0.390726   \n",
       "\n",
       "   ANZ_HH_TITEL  ANZ_KINDER  ANZ_PERSONEN  ANZ_STATISTISCHE_HAUSHALTE  \\\n",
       "0     -0.137287   -0.227332     -0.014568                   -0.311712   \n",
       "1     -0.137287   -0.227332     -0.753869                    1.055104   \n",
       "2     -0.137287   -0.227332      1.464036                   -0.311712   \n",
       "3     -0.137287   -0.227332     -1.493171                   -0.383650   \n",
       "4     -0.137287   -0.227332      1.464036                   -0.383650   \n",
       "\n",
       "   ANZ_TITEL    ...     VK_DHT4A  VK_DISTANZ   VK_ZG11  W_KEIT_KIND_HH  \\\n",
       "0  -0.096117    ...     0.213270    0.457982 -0.039447        0.799490   \n",
       "1  -0.096117    ...     0.213270   -0.762989 -0.833639        0.799490   \n",
       "2  -0.096117    ...     1.475578    0.457982 -0.039447       -1.320161   \n",
       "3  -0.096117    ...     0.528847    0.457982 -0.039447       -1.320161   \n",
       "4  -0.096117    ...    -0.733461   -0.152504 -0.039447       -0.790249   \n",
       "\n",
       "   WOHNDAUER_2008  WOHNLAGE  ZABEOTYP  ANREDE_KZ  ALTERSKATEGORIE_GROB  \\\n",
       "0        0.268221 -0.527577  0.178441  -1.213276              0.728696   \n",
       "1        0.268221  0.447281  0.178441  -1.213276              0.728696   \n",
       "2        0.268221 -0.040148  0.178441   0.824215              0.728696   \n",
       "3        0.268221 -1.015006  0.178441   0.824215              0.728696   \n",
       "4        0.268221  1.422139  1.070811   0.824215              0.728696   \n",
       "\n",
       "       year  \n",
       "0 -0.090509  \n",
       "1 -0.406333  \n",
       "2 -0.406333  \n",
       "3 -0.406333  \n",
       "4 -0.406333  \n",
       "\n",
       "[5 rows x 353 columns]"
      ]
     },
     "execution_count": 126,
     "metadata": {},
     "output_type": "execute_result"
    }
   ],
   "source": [
    "x_mail_test =  pd.DataFrame(x_mail_test, columns= mail_columns)\n",
    "x_mail_test.head()"
   ]
  },
  {
   "cell_type": "code",
   "execution_count": 127,
   "metadata": {},
   "outputs": [
    {
     "data": {
      "text/plain": [
       "(42833, 353)"
      ]
     },
     "execution_count": 127,
     "metadata": {},
     "output_type": "execute_result"
    }
   ],
   "source": [
    "x_mail_test.shape"
   ]
  },
  {
   "cell_type": "code",
   "execution_count": 149,
   "metadata": {},
   "outputs": [
    {
     "data": {
      "text/plain": [
       "array([0, 0, 0, ..., 0, 0, 0])"
      ]
     },
     "execution_count": 149,
     "metadata": {},
     "output_type": "execute_result"
    }
   ],
   "source": [
    "response = grad_boost_tuned.predict(x_mail_test)\n",
    "response"
   ]
  },
  {
   "cell_type": "code",
   "execution_count": 154,
   "metadata": {},
   "outputs": [],
   "source": [
    "response2 = log_reg.predict(x_mail_test)"
   ]
  },
  {
   "cell_type": "code",
   "execution_count": 121,
   "metadata": {},
   "outputs": [
    {
     "data": {
      "text/plain": [
       "(34296, 2)"
      ]
     },
     "execution_count": 121,
     "metadata": {},
     "output_type": "execute_result"
    }
   ],
   "source": [
    "result.shape"
   ]
  },
  {
   "cell_type": "code",
   "execution_count": 150,
   "metadata": {},
   "outputs": [
    {
     "data": {
      "text/html": [
       "<div>\n",
       "<style scoped>\n",
       "    .dataframe tbody tr th:only-of-type {\n",
       "        vertical-align: middle;\n",
       "    }\n",
       "\n",
       "    .dataframe tbody tr th {\n",
       "        vertical-align: top;\n",
       "    }\n",
       "\n",
       "    .dataframe thead th {\n",
       "        text-align: right;\n",
       "    }\n",
       "</style>\n",
       "<table border=\"1\" class=\"dataframe\">\n",
       "  <thead>\n",
       "    <tr style=\"text-align: right;\">\n",
       "      <th></th>\n",
       "      <th>LNR</th>\n",
       "      <th>RESPONSE</th>\n",
       "    </tr>\n",
       "  </thead>\n",
       "  <tbody>\n",
       "    <tr>\n",
       "      <th>0</th>\n",
       "      <td>1754</td>\n",
       "      <td>0</td>\n",
       "    </tr>\n",
       "    <tr>\n",
       "      <th>1</th>\n",
       "      <td>1770</td>\n",
       "      <td>0</td>\n",
       "    </tr>\n",
       "    <tr>\n",
       "      <th>2</th>\n",
       "      <td>1465</td>\n",
       "      <td>0</td>\n",
       "    </tr>\n",
       "    <tr>\n",
       "      <th>3</th>\n",
       "      <td>1470</td>\n",
       "      <td>0</td>\n",
       "    </tr>\n",
       "    <tr>\n",
       "      <th>4</th>\n",
       "      <td>1478</td>\n",
       "      <td>0</td>\n",
       "    </tr>\n",
       "    <tr>\n",
       "      <th>5</th>\n",
       "      <td>1782</td>\n",
       "      <td>0</td>\n",
       "    </tr>\n",
       "    <tr>\n",
       "      <th>6</th>\n",
       "      <td>1485</td>\n",
       "      <td>0</td>\n",
       "    </tr>\n",
       "    <tr>\n",
       "      <th>7</th>\n",
       "      <td>1519</td>\n",
       "      <td>0</td>\n",
       "    </tr>\n",
       "    <tr>\n",
       "      <th>8</th>\n",
       "      <td>1835</td>\n",
       "      <td>0</td>\n",
       "    </tr>\n",
       "    <tr>\n",
       "      <th>9</th>\n",
       "      <td>1522</td>\n",
       "      <td>0</td>\n",
       "    </tr>\n",
       "  </tbody>\n",
       "</table>\n",
       "</div>"
      ],
      "text/plain": [
       "    LNR  RESPONSE\n",
       "0  1754         0\n",
       "1  1770         0\n",
       "2  1465         0\n",
       "3  1470         0\n",
       "4  1478         0\n",
       "5  1782         0\n",
       "6  1485         0\n",
       "7  1519         0\n",
       "8  1835         0\n",
       "9  1522         0"
      ]
     },
     "execution_count": 150,
     "metadata": {},
     "output_type": "execute_result"
    }
   ],
   "source": [
    "result = pd.DataFrame({'LNR':lnr, 'RESPONSE':response})\n",
    "result.to_csv(path_or_buf='./result.csv', index=False)\n",
    "result.head(10)"
   ]
  },
  {
   "cell_type": "code",
   "execution_count": 155,
   "metadata": {},
   "outputs": [
    {
     "data": {
      "text/html": [
       "<div>\n",
       "<style scoped>\n",
       "    .dataframe tbody tr th:only-of-type {\n",
       "        vertical-align: middle;\n",
       "    }\n",
       "\n",
       "    .dataframe tbody tr th {\n",
       "        vertical-align: top;\n",
       "    }\n",
       "\n",
       "    .dataframe thead th {\n",
       "        text-align: right;\n",
       "    }\n",
       "</style>\n",
       "<table border=\"1\" class=\"dataframe\">\n",
       "  <thead>\n",
       "    <tr style=\"text-align: right;\">\n",
       "      <th></th>\n",
       "      <th>LNR</th>\n",
       "      <th>RESPONSE</th>\n",
       "    </tr>\n",
       "  </thead>\n",
       "  <tbody>\n",
       "    <tr>\n",
       "      <th>0</th>\n",
       "      <td>1754</td>\n",
       "      <td>0</td>\n",
       "    </tr>\n",
       "    <tr>\n",
       "      <th>1</th>\n",
       "      <td>1770</td>\n",
       "      <td>0</td>\n",
       "    </tr>\n",
       "    <tr>\n",
       "      <th>2</th>\n",
       "      <td>1465</td>\n",
       "      <td>0</td>\n",
       "    </tr>\n",
       "    <tr>\n",
       "      <th>3</th>\n",
       "      <td>1470</td>\n",
       "      <td>0</td>\n",
       "    </tr>\n",
       "    <tr>\n",
       "      <th>4</th>\n",
       "      <td>1478</td>\n",
       "      <td>0</td>\n",
       "    </tr>\n",
       "    <tr>\n",
       "      <th>5</th>\n",
       "      <td>1782</td>\n",
       "      <td>0</td>\n",
       "    </tr>\n",
       "    <tr>\n",
       "      <th>6</th>\n",
       "      <td>1485</td>\n",
       "      <td>0</td>\n",
       "    </tr>\n",
       "    <tr>\n",
       "      <th>7</th>\n",
       "      <td>1519</td>\n",
       "      <td>0</td>\n",
       "    </tr>\n",
       "    <tr>\n",
       "      <th>8</th>\n",
       "      <td>1835</td>\n",
       "      <td>0</td>\n",
       "    </tr>\n",
       "    <tr>\n",
       "      <th>9</th>\n",
       "      <td>1522</td>\n",
       "      <td>0</td>\n",
       "    </tr>\n",
       "  </tbody>\n",
       "</table>\n",
       "</div>"
      ],
      "text/plain": [
       "    LNR  RESPONSE\n",
       "0  1754         0\n",
       "1  1770         0\n",
       "2  1465         0\n",
       "3  1470         0\n",
       "4  1478         0\n",
       "5  1782         0\n",
       "6  1485         0\n",
       "7  1519         0\n",
       "8  1835         0\n",
       "9  1522         0"
      ]
     },
     "execution_count": 155,
     "metadata": {},
     "output_type": "execute_result"
    }
   ],
   "source": [
    "result2 = pd.DataFrame({'LNR':lnr, 'RESPONSE':response2})\n",
    "result2.to_csv(path_or_buf='./result.csv', index=False)\n",
    "result2.head(10)"
   ]
  },
  {
   "cell_type": "code",
   "execution_count": 156,
   "metadata": {},
   "outputs": [
    {
     "data": {
      "text/html": [
       "<div>\n",
       "<style scoped>\n",
       "    .dataframe tbody tr th:only-of-type {\n",
       "        vertical-align: middle;\n",
       "    }\n",
       "\n",
       "    .dataframe tbody tr th {\n",
       "        vertical-align: top;\n",
       "    }\n",
       "\n",
       "    .dataframe thead th {\n",
       "        text-align: right;\n",
       "    }\n",
       "</style>\n",
       "<table border=\"1\" class=\"dataframe\">\n",
       "  <thead>\n",
       "    <tr style=\"text-align: right;\">\n",
       "      <th></th>\n",
       "      <th>LNR</th>\n",
       "      <th>RESPONSE</th>\n",
       "    </tr>\n",
       "  </thead>\n",
       "  <tbody>\n",
       "  </tbody>\n",
       "</table>\n",
       "</div>"
      ],
      "text/plain": [
       "Empty DataFrame\n",
       "Columns: [LNR, RESPONSE]\n",
       "Index: []"
      ]
     },
     "execution_count": 156,
     "metadata": {},
     "output_type": "execute_result"
    }
   ],
   "source": [
    "result2[result2[\"RESPONSE\"]>0]"
   ]
  },
  {
   "cell_type": "code",
   "execution_count": 157,
   "metadata": {},
   "outputs": [
    {
     "data": {
      "text/html": [
       "<div>\n",
       "<style scoped>\n",
       "    .dataframe tbody tr th:only-of-type {\n",
       "        vertical-align: middle;\n",
       "    }\n",
       "\n",
       "    .dataframe tbody tr th {\n",
       "        vertical-align: top;\n",
       "    }\n",
       "\n",
       "    .dataframe thead th {\n",
       "        text-align: right;\n",
       "    }\n",
       "</style>\n",
       "<table border=\"1\" class=\"dataframe\">\n",
       "  <thead>\n",
       "    <tr style=\"text-align: right;\">\n",
       "      <th></th>\n",
       "      <th>LNR</th>\n",
       "      <th>RESPONSE</th>\n",
       "    </tr>\n",
       "  </thead>\n",
       "  <tbody>\n",
       "    <tr>\n",
       "      <th>13408</th>\n",
       "      <td>84655</td>\n",
       "      <td>1</td>\n",
       "    </tr>\n",
       "    <tr>\n",
       "      <th>21785</th>\n",
       "      <td>48865</td>\n",
       "      <td>1</td>\n",
       "    </tr>\n",
       "  </tbody>\n",
       "</table>\n",
       "</div>"
      ],
      "text/plain": [
       "         LNR  RESPONSE\n",
       "13408  84655         1\n",
       "21785  48865         1"
      ]
     },
     "execution_count": 157,
     "metadata": {},
     "output_type": "execute_result"
    }
   ],
   "source": [
    "result[result[\"RESPONSE\"]>0]"
   ]
  },
  {
   "cell_type": "markdown",
   "metadata": {},
   "source": [
    "Selecting subsets of a DataFrame https://pandas.pydata.org/pandas-docs/stable/getting_started/intro_tutorials/03_subset_data.html"
   ]
  },
  {
   "cell_type": "markdown",
   "metadata": {},
   "source": [
    "PCA article:\n",
    "https://towardsdatascience.com/dimension-reduction-techniques-with-python-f36ca7009e5c"
   ]
  },
  {
   "cell_type": "markdown",
   "metadata": {},
   "source": [
    "optimizing hyperparameters: https://medium.com/analytics-vidhya/optimize-hyperparameters-with-gridsearch-d351b0fd339d"
   ]
  },
  {
   "cell_type": "code",
   "execution_count": null,
   "metadata": {},
   "outputs": [],
   "source": []
  }
 ],
 "metadata": {
  "kernelspec": {
   "display_name": "Python 3",
   "language": "python",
   "name": "python3"
  },
  "language_info": {
   "codemirror_mode": {
    "name": "ipython",
    "version": 3
   },
   "file_extension": ".py",
   "mimetype": "text/x-python",
   "name": "python",
   "nbconvert_exporter": "python",
   "pygments_lexer": "ipython3",
   "version": "3.6.3"
  }
 },
 "nbformat": 4,
 "nbformat_minor": 2
}
